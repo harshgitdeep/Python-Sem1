{
 "cells": [
  {
   "cell_type": "markdown",
   "id": "8d951e00",
   "metadata": {},
   "source": [
    "# Strings"
   ]
  },
  {
   "cell_type": "markdown",
   "id": "b03a55c7",
   "metadata": {},
   "source": [
    "Strings in python are surrounded by either single quotation marks, or double quotation marks.\n",
    "\n",
    "'hello' is the same as \"hello\"."
   ]
  },
  {
   "cell_type": "raw",
   "id": "0988bbe0",
   "metadata": {},
   "source": [
    "Creating strings is as simple as assigning a value to a variable."
   ]
  },
  {
   "cell_type": "code",
   "execution_count": 1,
   "id": "4f252f92",
   "metadata": {},
   "outputs": [],
   "source": [
    "var1 = 'Hello World!'\n",
    "var2 = \"Python Programming\""
   ]
  },
  {
   "cell_type": "code",
   "execution_count": 2,
   "id": "457424dc",
   "metadata": {},
   "outputs": [
    {
     "name": "stdout",
     "output_type": "stream",
     "text": [
      "Hello World!\n",
      "Python Programming\n"
     ]
    }
   ],
   "source": [
    "print(var1)\n",
    "print(var2)"
   ]
  },
  {
   "cell_type": "markdown",
   "id": "3cd5271d",
   "metadata": {},
   "source": [
    "*Multiline Strings*"
   ]
  },
  {
   "cell_type": "markdown",
   "id": "656997d6",
   "metadata": {},
   "source": [
    "You can assign a multiline string to a variable by using three quotes:"
   ]
  },
  {
   "cell_type": "code",
   "execution_count": 10,
   "id": "6339994b",
   "metadata": {},
   "outputs": [
    {
     "name": "stdout",
     "output_type": "stream",
     "text": [
      "Chitkara University is in Punjab state\n",
      "It is good place for study\n",
      "I love this place\n"
     ]
    }
   ],
   "source": [
    "a = \"\"\"Chitkara University is in Punjab state\n",
    "It is good place for study\n",
    "I love this place\"\"\"\n",
    "print(a)"
   ]
  },
  {
   "cell_type": "markdown",
   "id": "37f141cd",
   "metadata": {},
   "source": [
    "# Note"
   ]
  },
  {
   "cell_type": "markdown",
   "id": "1952e9b3",
   "metadata": {},
   "source": [
    "Strings are immutable. This means that elements of a string cannot be changed once they have been assigned."
   ]
  },
  {
   "cell_type": "code",
   "execution_count": 19,
   "id": "bfb7c4cb",
   "metadata": {},
   "outputs": [
    {
     "ename": "TypeError",
     "evalue": "'str' object does not support item assignment",
     "output_type": "error",
     "traceback": [
      "\u001b[1;31m---------------------------------------------------------------------------\u001b[0m",
      "\u001b[1;31mTypeError\u001b[0m                                 Traceback (most recent call last)",
      "\u001b[1;32m~\\AppData\\Local\\Temp/ipykernel_1044/1017302092.py\u001b[0m in \u001b[0;36m<module>\u001b[1;34m\u001b[0m\n\u001b[0;32m      1\u001b[0m \u001b[0mmy_string\u001b[0m \u001b[1;33m=\u001b[0m \u001b[1;34m'Chitkara'\u001b[0m\u001b[1;33m\u001b[0m\u001b[1;33m\u001b[0m\u001b[0m\n\u001b[1;32m----> 2\u001b[1;33m \u001b[0mmy_string\u001b[0m\u001b[1;33m[\u001b[0m\u001b[1;36m2\u001b[0m\u001b[1;33m]\u001b[0m \u001b[1;33m=\u001b[0m \u001b[1;34m'a'\u001b[0m\u001b[1;33m\u001b[0m\u001b[1;33m\u001b[0m\u001b[0m\n\u001b[0m",
      "\u001b[1;31mTypeError\u001b[0m: 'str' object does not support item assignment"
     ]
    }
   ],
   "source": [
    "my_string = 'Chitkara'\n",
    "my_string[2] = 'a'"
   ]
  },
  {
   "cell_type": "markdown",
   "id": "4b23900c",
   "metadata": {},
   "source": [
    "*Accessing Values in Strings*"
   ]
  },
  {
   "cell_type": "markdown",
   "id": "cfd4060b",
   "metadata": {},
   "source": [
    "Python does not support a character type; these are treated as strings of length one, thus also considered a substring.\n",
    "\n",
    "To access substrings, use the square brackets for slicing along with the index or indices to obtain your substring."
   ]
  },
  {
   "cell_type": "code",
   "execution_count": 21,
   "id": "d4034302",
   "metadata": {},
   "outputs": [],
   "source": [
    "var=\"CHITKARA UNIVERSITY\""
   ]
  },
  {
   "cell_type": "code",
   "execution_count": 4,
   "id": "9fa0a160",
   "metadata": {},
   "outputs": [
    {
     "name": "stdout",
     "output_type": "stream",
     "text": [
      "T\n"
     ]
    }
   ],
   "source": [
    "print(var[3])"
   ]
  },
  {
   "cell_type": "code",
   "execution_count": 22,
   "id": "77d692d8",
   "metadata": {},
   "outputs": [
    {
     "name": "stdout",
     "output_type": "stream",
     "text": [
      "R\n"
     ]
    }
   ],
   "source": [
    "print(var[6])"
   ]
  },
  {
   "cell_type": "code",
   "execution_count": 23,
   "id": "8a3ac5d3",
   "metadata": {},
   "outputs": [
    {
     "name": "stdout",
     "output_type": "stream",
     "text": [
      "I\n"
     ]
    }
   ],
   "source": [
    "print(var[-3])"
   ]
  },
  {
   "cell_type": "code",
   "execution_count": 24,
   "id": "5fa95737",
   "metadata": {},
   "outputs": [
    {
     "name": "stdout",
     "output_type": "stream",
     "text": [
      "HITK\n"
     ]
    }
   ],
   "source": [
    "print(var[1:5])"
   ]
  },
  {
   "cell_type": "code",
   "execution_count": 25,
   "id": "9879a76a",
   "metadata": {},
   "outputs": [
    {
     "name": "stdout",
     "output_type": "stream",
     "text": [
      "CHITK\n"
     ]
    }
   ],
   "source": [
    "print(var[:5])"
   ]
  },
  {
   "cell_type": "code",
   "execution_count": 26,
   "id": "0e8d50c2",
   "metadata": {},
   "outputs": [
    {
     "name": "stdout",
     "output_type": "stream",
     "text": [
      "ARA UNIVERSITY\n"
     ]
    }
   ],
   "source": [
    "print(var[5:])"
   ]
  },
  {
   "cell_type": "code",
   "execution_count": 27,
   "id": "12bc7b23",
   "metadata": {},
   "outputs": [
    {
     "name": "stdout",
     "output_type": "stream",
     "text": [
      "CHITKARA UNIVERSITY\n"
     ]
    }
   ],
   "source": [
    "print(var[:])"
   ]
  },
  {
   "cell_type": "code",
   "execution_count": 28,
   "id": "d5f86efb",
   "metadata": {},
   "outputs": [
    {
     "name": "stdout",
     "output_type": "stream",
     "text": [
      "YTISREVINU ARAKTIHC\n"
     ]
    }
   ],
   "source": [
    "print(var[::-1])"
   ]
  },
  {
   "cell_type": "code",
   "execution_count": 8,
   "id": "63d6e84d",
   "metadata": {},
   "outputs": [
    {
     "name": "stdout",
     "output_type": "stream",
     "text": [
      "CHITK\n"
     ]
    }
   ],
   "source": [
    "print(var[:5])"
   ]
  },
  {
   "cell_type": "code",
   "execution_count": 9,
   "id": "a980b876",
   "metadata": {},
   "outputs": [
    {
     "name": "stdout",
     "output_type": "stream",
     "text": [
      "ARA UNIVERSITY\n"
     ]
    }
   ],
   "source": [
    "print(var[5:])"
   ]
  },
  {
   "cell_type": "markdown",
   "id": "b3bbef9c",
   "metadata": {},
   "source": [
    "*Escape Characters*"
   ]
  },
  {
   "cell_type": "raw",
   "id": "518a33bd",
   "metadata": {},
   "source": [
    "\n",
    "\\\\\tBackslash\n",
    "\\'\tSingle quote\n",
    "\\\"\tDouble quote\n",
    "\\a\tBell\n",
    "\\b\tBackspace\n",
    "\\f\tFormfeed\n",
    "\\n\tLinefeed\n",
    "\\r\tCarriage Return\n",
    "\\t\tHorizontal Tab\n",
    "\\v\tVertical Tab\n"
   ]
  },
  {
   "cell_type": "code",
   "execution_count": 29,
   "id": "7cc6cb83",
   "metadata": {},
   "outputs": [],
   "source": [
    "x=\"fdsf\\nrf\""
   ]
  },
  {
   "cell_type": "code",
   "execution_count": 30,
   "id": "5818b031",
   "metadata": {},
   "outputs": [
    {
     "name": "stdout",
     "output_type": "stream",
     "text": [
      "fdsf\n",
      "rf\n"
     ]
    }
   ],
   "source": [
    "print(x)"
   ]
  },
  {
   "cell_type": "code",
   "execution_count": 31,
   "id": "3e8b3068",
   "metadata": {},
   "outputs": [],
   "source": [
    "x=\"fdsf\\newlineff\""
   ]
  },
  {
   "cell_type": "code",
   "execution_count": 32,
   "id": "ec2e9307",
   "metadata": {},
   "outputs": [
    {
     "name": "stdout",
     "output_type": "stream",
     "text": [
      "fdsf\n",
      "ewlineff\n"
     ]
    }
   ],
   "source": [
    "print(x)"
   ]
  },
  {
   "cell_type": "code",
   "execution_count": 35,
   "id": "f11991de",
   "metadata": {},
   "outputs": [
    {
     "name": "stdout",
     "output_type": "stream",
     "text": [
      "My address is a\\n 32 Lucknow\n"
     ]
    }
   ],
   "source": [
    "# My address is a\\n 32 Lucknow\n",
    "print(\"My address is a\\\\n 32 Lucknow\")"
   ]
  },
  {
   "cell_type": "code",
   "execution_count": 37,
   "id": "2571dec3",
   "metadata": {},
   "outputs": [
    {
     "name": "stdout",
     "output_type": "stream",
     "text": [
      "I live in \"Ram Nagar\"\n"
     ]
    }
   ],
   "source": [
    "#I live in \"Ram Nagar\"\n",
    "print(\"I live in \\\"Ram Nagar\\\"\")\n"
   ]
  },
  {
   "cell_type": "code",
   "execution_count": 19,
   "id": "5d25a24b",
   "metadata": {},
   "outputs": [],
   "source": [
    "x=\"fdsf\\\"newl\\\"ineff\""
   ]
  },
  {
   "cell_type": "code",
   "execution_count": 20,
   "id": "295aa3f7",
   "metadata": {},
   "outputs": [
    {
     "name": "stdout",
     "output_type": "stream",
     "text": [
      "fdsf\"newl\"ineff\n"
     ]
    }
   ],
   "source": [
    "print(x)"
   ]
  },
  {
   "cell_type": "code",
   "execution_count": 38,
   "id": "7940aad2",
   "metadata": {},
   "outputs": [
    {
     "name": "stdout",
     "output_type": "stream",
     "text": [
      "fsdfds\tfsdfdsf\n"
     ]
    }
   ],
   "source": [
    "print(\"fsdfds\\tfsdfdsf\")"
   ]
  },
  {
   "cell_type": "raw",
   "id": "10318caa",
   "metadata": {},
   "source": [
    "Built-in String Methods\n",
    "Python includes the following built-in methods to manipulate strings −\n",
    "\n",
    "\n",
    "1\tcapitalize()\n",
    "Capitalizes first letter of string\n",
    "\n",
    "2\tcenter(width, fillchar)\n",
    "Returns a space-padded string with the original string centered to a total of width columns.\n",
    "\n",
    "3\tcount(str, beg= 0,end=len(string))\n",
    "Counts how many times str occurs in string or in a substring of string if starting index beg and ending index end are given.\n",
    "\n",
    "4\tendswith(suffix, beg=0, end=len(string))\n",
    "Determines if string or a substring of string (if starting index beg and ending index end are given) ends with suffix; returns true if so and false otherwise.\n",
    "\n",
    "5\tfind(str, beg=0 end=len(string))\n",
    "Determine if str occurs in string or in a substring of string if starting index beg and ending index end are given returns index if found and -1 otherwise.\n",
    "\n",
    "6\tindex(str, beg=0, end=len(string))\n",
    "Same as find(), but raises an exception if str not found.\n",
    "\n",
    "7\tisalnum()\n",
    "Returns true if string has at least 1 character and all characters are alphanumeric and false otherwise.\n",
    "\n",
    "8\tisalpha()\n",
    "Returns true if string has at least 1 character and all characters are alphabetic and false otherwise.\n",
    "\n",
    "9\tisdigit()\n",
    "Returns true if string contains only digits and false otherwise.\n",
    "\n",
    "10\tislower()\n",
    "Returns true if string has at least 1 cased character and all cased characters are in lowercase and false otherwise.\n",
    "\n",
    "11\tisnumeric()\n",
    "Returns true if a unicode string contains only numeric characters and false otherwise.\n",
    "\n",
    "12\tisspace()\n",
    "Returns true if string contains only whitespace characters and false otherwise.\n",
    "\n",
    "13\tistitle()\n",
    "Returns true if string is properly \"titlecased\" and false otherwise.\n",
    "\n",
    "14\tisupper()\n",
    "Returns true if string has at least one cased character and all cased characters are in uppercase and false otherwise.\n",
    "\n",
    "15\tjoin(seq)\n",
    "Merges (concatenates) the string representations of elements in sequence seq into a string, with separator string.\n",
    "\n",
    "16\tlen(string)\n",
    "Returns the length of the string\n",
    "\n",
    "17\tljust(width[, fillchar])\n",
    "Returns a space-padded string with the original string left-justified to a total of width columns.\n",
    "\n",
    "18\tlower()\n",
    "Converts all uppercase letters in string to lowercase.\n",
    "\n",
    "\n",
    "19\tmax(str)\n",
    "Returns the max alphabetical character from the string str.\n",
    "\n",
    "20\tmin(str)\n",
    "Returns the min alphabetical character from the string str.\n",
    "\n",
    "21\treplace(old, new [, max])\n",
    "Replaces all occurrences of old in string with new or at most max occurrences if max given.\n",
    "\n",
    "\n",
    "22\trjust(width,[, fillchar])\n",
    "Returns a space-padded string with the original string right-justified to a total of width columns.\n",
    "\n",
    "13\trstrip()\n",
    "Removes all trailing whitespace of string.\n",
    "\n",
    "31\tsplit(str=\"\", num=string.count(str))\n",
    "Splits string according to delimiter str (space if not provided) and returns list of substrings; split into at most num substrings if given.\n",
    "\n",
    "24\tsplitlines( num=string.count('\\n'))\n",
    "Splits string at all (or num) NEWLINEs and returns a list of each line with NEWLINEs removed.\n",
    "\n",
    "25\tstartswith(str, beg=0,end=len(string))\n",
    "Determines if string or a substring of string (if starting index beg and ending index end are given) starts with substring str; returns true if so and false otherwise.\n",
    "\n",
    "\n",
    "26\tswapcase()\n",
    "Inverts case for all letters in string.\n",
    "\n",
    "27\ttitle()\n",
    "Returns \"titlecased\" version of string, that is, all words begin with uppercase and the rest are lowercase.\n",
    "\n",
    "\n",
    "28\tupper()\n",
    "Converts lowercase letters in string to uppercase.\n",
    "\n",
    "29\tzfill (width)\n",
    "Returns original string leftpadded with zeros to a total of width characters; intended for numbers, zfill() retains any sign given (less one zero).\n",
    "\n",
    "30\tisdecimal()\n",
    "Returns true if a unicode string contains only decimal characters and false otherwise."
   ]
  },
  {
   "cell_type": "code",
   "execution_count": 10,
   "id": "26bb2112",
   "metadata": {},
   "outputs": [
    {
     "name": "stdout",
     "output_type": "stream",
     "text": [
      "Chitkara University\n"
     ]
    }
   ],
   "source": [
    "x=\"chitkara university\"\n",
    "print(x.title())"
   ]
  },
  {
   "cell_type": "code",
   "execution_count": 39,
   "id": "e4fede4e",
   "metadata": {},
   "outputs": [
    {
     "name": "stdout",
     "output_type": "stream",
     "text": [
      "Fafa\n"
     ]
    }
   ],
   "source": [
    "x=\"fafa\"\n",
    "print(x.capitalize())"
   ]
  },
  {
   "cell_type": "code",
   "execution_count": 14,
   "id": "63523343",
   "metadata": {},
   "outputs": [
    {
     "name": "stdout",
     "output_type": "stream",
     "text": [
      "*****************abc\n"
     ]
    }
   ],
   "source": [
    "x=\"abc\"\n",
    "print(x.rjust(20,\"*\"))"
   ]
  },
  {
   "cell_type": "code",
   "execution_count": 40,
   "id": "0ba67573",
   "metadata": {},
   "outputs": [
    {
     "data": {
      "text/plain": [
       "'%%%%%%%%%%%chitkara%%%%%%%%%%%'"
      ]
     },
     "execution_count": 40,
     "metadata": {},
     "output_type": "execute_result"
    }
   ],
   "source": [
    "x=\"chitkara\"\n",
    "x.center(30,'%')"
   ]
  },
  {
   "cell_type": "code",
   "execution_count": 41,
   "id": "b5166183",
   "metadata": {},
   "outputs": [
    {
     "name": "stdout",
     "output_type": "stream",
     "text": [
      "2\n"
     ]
    }
   ],
   "source": [
    "y=\"elephant\"\n",
    "z=y.count(\"e\")\n",
    "print(z)"
   ]
  },
  {
   "cell_type": "code",
   "execution_count": 55,
   "id": "8fc2f93d",
   "metadata": {},
   "outputs": [
    {
     "name": "stdout",
     "output_type": "stream",
     "text": [
      "4\n"
     ]
    }
   ],
   "source": [
    "y=\"elepeeehaneeeet\"\n",
    "z=y.count(\"e\", 1,9)\n",
    "print(z)"
   ]
  },
  {
   "cell_type": "code",
   "execution_count": 44,
   "id": "6c21692b",
   "metadata": {},
   "outputs": [
    {
     "name": "stdout",
     "output_type": "stream",
     "text": [
      "False\n"
     ]
    }
   ],
   "source": [
    "print(y.endswith(\"anxczct\"))"
   ]
  },
  {
   "cell_type": "code",
   "execution_count": 14,
   "id": "c59f557a",
   "metadata": {},
   "outputs": [
    {
     "name": "stdout",
     "output_type": "stream",
     "text": [
      "9\n"
     ]
    }
   ],
   "source": [
    "z=\"Mohan is good boy\"\n",
    "print(z.find(\"good\"))"
   ]
  },
  {
   "cell_type": "code",
   "execution_count": 45,
   "id": "e7e19448",
   "metadata": {},
   "outputs": [
    {
     "name": "stdout",
     "output_type": "stream",
     "text": [
      "a\n"
     ]
    }
   ],
   "source": [
    "x=\"chitkara\"\n",
    "print(min(x))"
   ]
  },
  {
   "cell_type": "code",
   "execution_count": 46,
   "id": "809b24e7",
   "metadata": {},
   "outputs": [
    {
     "name": "stdout",
     "output_type": "stream",
     "text": [
      "t\n"
     ]
    }
   ],
   "source": [
    "x=\"chitkara\"\n",
    "print(max(x))"
   ]
  },
  {
   "cell_type": "code",
   "execution_count": 47,
   "id": "8ab55956",
   "metadata": {},
   "outputs": [
    {
     "name": "stdout",
     "output_type": "stream",
     "text": [
      "CHITKARA\n"
     ]
    }
   ],
   "source": [
    "print(x.upper())"
   ]
  },
  {
   "cell_type": "code",
   "execution_count": 48,
   "id": "0179e180",
   "metadata": {},
   "outputs": [
    {
     "name": "stdout",
     "output_type": "stream",
     "text": [
      "Chitkara\n"
     ]
    }
   ],
   "source": [
    "print(x.title())"
   ]
  },
  {
   "cell_type": "code",
   "execution_count": null,
   "id": "c7c5233e",
   "metadata": {},
   "outputs": [],
   "source": []
  },
  {
   "cell_type": "markdown",
   "id": "c8c716c6",
   "metadata": {},
   "source": [
    "*Python String split() Method*"
   ]
  },
  {
   "cell_type": "code",
   "execution_count": null,
   "id": "acfb13f5",
   "metadata": {},
   "outputs": [],
   "source": [
    "x=\"chitkara\"\n",
    "print(min(x))"
   ]
  },
  {
   "cell_type": "markdown",
   "id": "90784e69",
   "metadata": {},
   "source": [
    "split() method in Python split a string into a list of strings after breaking the given string by the specified separator."
   ]
  },
  {
   "cell_type": "code",
   "execution_count": 49,
   "id": "32c49db3",
   "metadata": {},
   "outputs": [
    {
     "name": "stdout",
     "output_type": "stream",
     "text": [
      "['welcome', 'to', 'the', 'chitkara', 'university']\n"
     ]
    }
   ],
   "source": [
    "txt = \"welcome to the chitkara university\"\n",
    "\n",
    "x = txt.split()\n",
    "\n",
    "print(x)"
   ]
  },
  {
   "cell_type": "code",
   "execution_count": 50,
   "id": "b9e47970",
   "metadata": {},
   "outputs": [
    {
     "name": "stdout",
     "output_type": "stream",
     "text": [
      "['hello', 'my name is Raj', 'I am 40 years old']\n"
     ]
    }
   ],
   "source": [
    "txt = \"hello, my name is Raj, I am 40 years old\"\n",
    "\n",
    "x = txt.split(\", \")\n",
    "\n",
    "print(x)"
   ]
  },
  {
   "cell_type": "code",
   "execution_count": 51,
   "id": "6e1091d7",
   "metadata": {},
   "outputs": [
    {
     "name": "stdout",
     "output_type": "stream",
     "text": [
      "['apple', 'banana', 'cherry', 'orange']\n"
     ]
    }
   ],
   "source": [
    "txt = \"apple#banana#cherry#orange\"\n",
    "\n",
    "x = txt.split(\"#\")\n",
    "\n",
    "print(x)"
   ]
  },
  {
   "cell_type": "markdown",
   "id": "31ecd19c",
   "metadata": {},
   "source": [
    "Count Vovels, Consonent, digits and Special Characters in a String"
   ]
  },
  {
   "cell_type": "code",
   "execution_count": 52,
   "id": "92869988",
   "metadata": {},
   "outputs": [
    {
     "name": "stdout",
     "output_type": "stream",
     "text": [
      "Input String :dasdsa fafafa a AEESDFD3321 1113#!@!DA\n",
      "Vovels= 10\n",
      "Consonents= 12\n",
      "digits= 8\n",
      "special Characters= 8\n"
     ]
    }
   ],
   "source": [
    "str=input(\"Input String :\")\n",
    "v,c,d,sp=0,0,0,0\n",
    "for ch in str:\n",
    "    if (ch>=\"a\" and ch<=\"z\") or (ch>=\"A\" and ch<=\"Z\"):\n",
    "        if ch in \"aeiouAEIOU\":\n",
    "            v=v+1\n",
    "        else:\n",
    "            c=c+1\n",
    "    elif (ch>=\"0\" and ch<=\"9\"):\n",
    "        d=d+1\n",
    "    else:\n",
    "        sp=sp+1\n",
    "\n",
    "print(\"Vovels=\",v)\n",
    "print(\"Consonents=\",c)\n",
    "print(\"digits=\",d)\n",
    "print(\"special Characters=\",sp)\n",
    "        \n",
    "        \n",
    "    \n"
   ]
  },
  {
   "cell_type": "markdown",
   "id": "b9e0eaf1",
   "metadata": {},
   "source": [
    "Python program to print even length words in a string"
   ]
  },
  {
   "cell_type": "code",
   "execution_count": 53,
   "id": "80c717e0",
   "metadata": {},
   "outputs": [
    {
     "name": "stdout",
     "output_type": "stream",
     "text": [
      "Input String :mY NAME IS sURESH YOU ARE GOOD ONE\n",
      "mY\n",
      "NAME\n",
      "IS\n",
      "sURESH\n",
      "GOOD\n"
     ]
    }
   ],
   "source": [
    "    str=input(\"Input String :\")\n",
    "    s=str.split()\n",
    "    for word in s: \n",
    "          \n",
    "        if len(word)%2==0:\n",
    "            print(word)"
   ]
  },
  {
   "cell_type": "markdown",
   "id": "b4cbd038",
   "metadata": {},
   "source": [
    "The rstrip() method removes any trailing characters (characters at the end a string), space is the default trailing character to remove.\n",
    "\n",
    "The strip() method removes any leading (spaces at the beginning) and trailing (spaces at the end) characters (space is the default leading character to remove)\n",
    "\n",
    "The lstrip() method returns a copy of the string with leading characters removed (based on the string argument passed). "
   ]
  },
  {
   "cell_type": "code",
   "execution_count": 1,
   "id": "76deac31",
   "metadata": {},
   "outputs": [
    {
     "name": "stdout",
     "output_type": "stream",
     "text": [
      "of all fruits      banana is my favorite\n"
     ]
    }
   ],
   "source": [
    "txt = \"     banana     \"\n",
    "\n",
    "x = txt.rstrip()\n",
    "\n",
    "print(\"of all fruits\", x, \"is my favorite\")"
   ]
  },
  {
   "cell_type": "code",
   "execution_count": 2,
   "id": "b123689a",
   "metadata": {},
   "outputs": [
    {
     "name": "stdout",
     "output_type": "stream",
     "text": [
      "of all fruits banana is my favorite\n"
     ]
    }
   ],
   "source": [
    "txt = \"     banana     \"\n",
    "\n",
    "x = txt.strip()\n",
    "\n",
    "print(\"of all fruits\", x, \"is my favorite\")"
   ]
  },
  {
   "cell_type": "code",
   "execution_count": 4,
   "id": "f10a966e",
   "metadata": {},
   "outputs": [
    {
     "name": "stdout",
     "output_type": "stream",
     "text": [
      "of all fruits banana      is my favorite\n"
     ]
    }
   ],
   "source": [
    "txt = \"     banana     \"\n",
    "\n",
    "x = txt.lstrip()\n",
    "\n",
    "print(\"of all fruits\", x, \"is my favorite\")"
   ]
  },
  {
   "cell_type": "code",
   "execution_count": 5,
   "id": "c81ea852",
   "metadata": {},
   "outputs": [
    {
     "name": "stdout",
     "output_type": "stream",
     "text": [
      "of all fruits banana is my favorite\n"
     ]
    }
   ],
   "source": [
    "txt = \"&&&&&&&&&&banana&&&&&\"\n",
    "\n",
    "x = txt.strip(\"&\")\n",
    "\n",
    "print(\"of all fruits\", x, \"is my favorite\")"
   ]
  },
  {
   "cell_type": "code",
   "execution_count": 6,
   "id": "da5e0e98",
   "metadata": {},
   "outputs": [
    {
     "name": "stdout",
     "output_type": "stream",
     "text": [
      "of all fruits banana is my favorite\n"
     ]
    }
   ],
   "source": [
    "txt = \"ppppppbananappp\"\n",
    "\n",
    "x = txt.strip(\"p\")\n",
    "\n",
    "print(\"of all fruits\", x, \"is my favorite\")"
   ]
  },
  {
   "cell_type": "markdown",
   "id": "78307357",
   "metadata": {},
   "source": [
    "Abbrivation of string"
   ]
  },
  {
   "cell_type": "code",
   "execution_count": 1,
   "id": "9b046f96",
   "metadata": {},
   "outputs": [
    {
     "name": "stdout",
     "output_type": "stream",
     "text": [
      "Input String :all india radio\n",
      "AIR\n"
     ]
    }
   ],
   "source": [
    "    stng=input(\"Input String :\")\n",
    "    oupt = stng[0]\n",
    "      \n",
    "    # iterate over string\n",
    "    for i in range(1, len(stng)):\n",
    "        if stng[i] == ' ':\n",
    "            \n",
    "            # add letter next to space\n",
    "            oupt += stng[i+1]\n",
    "              \n",
    "    # uppercase oupt\n",
    "    oupt = oupt.upper()\n",
    "    print(oupt)"
   ]
  },
  {
   "cell_type": "markdown",
   "id": "f05abfaa",
   "metadata": {},
   "source": [
    "Second Approach"
   ]
  },
  {
   "cell_type": "code",
   "execution_count": 2,
   "id": "9e3e90dc",
   "metadata": {},
   "outputs": [
    {
     "name": "stdout",
     "output_type": "stream",
     "text": [
      "Input String :chitkar university punjab\n",
      "CUP\n"
     ]
    }
   ],
   "source": [
    "stng=input(\"Input String :\")\n",
    "oupt = \"\"\n",
    "lw=stng.split()\n",
    "for word in lw :\n",
    "        # get first letter of each word\n",
    "    oupt += word[0]\n",
    "          \n",
    "    # uppercase oupt\n",
    "    oupt = oupt.upper()\n",
    "print(oupt)"
   ]
  },
  {
   "cell_type": "markdown",
   "id": "948ea716",
   "metadata": {},
   "source": [
    "Print the initials of a name with last name in full"
   ]
  },
  {
   "cell_type": "code",
   "execution_count": 4,
   "id": "6c4779e6",
   "metadata": {},
   "outputs": [
    {
     "name": "stdout",
     "output_type": "stream",
     "text": [
      "Input String :hardanhalli dodegoda dev gowda\n",
      "H.D.D.Gowda\n"
     ]
    }
   ],
   "source": [
    "    s=input(\"Input String :\")\n",
    "    l = s.split()\n",
    "    new = \"\"\n",
    "  \n",
    "    # traverse in the list \n",
    "    for i in range(len(l)-1):\n",
    "        s = l[i]\n",
    "          \n",
    "        # adds the capital first character \n",
    "        new += (s[0].upper()+'.')\n",
    "          \n",
    "    new += l[-1].title()\n",
    "    print(new)"
   ]
  },
  {
   "cell_type": "markdown",
   "id": "45ba80fd",
   "metadata": {},
   "source": [
    "Write a Python program to get a string made of the first 2 and the last 2 chars from a given a string. "
   ]
  },
  {
   "cell_type": "raw",
   "id": "a50ce63a",
   "metadata": {},
   "source": [
    "Write a Python program to get a string from a given string where all occurrences of its first char have been changed to '$', except the first char itself.\n",
    "Sample String : 'restart'\n",
    "Expected Result : 'resta$t'"
   ]
  },
  {
   "cell_type": "code",
   "execution_count": 9,
   "id": "05133d29",
   "metadata": {},
   "outputs": [
    {
     "name": "stdout",
     "output_type": "stream",
     "text": [
      "Input String :restart\n",
      "resta$t\n"
     ]
    }
   ],
   "source": [
    "str=input(\"Input String :\")\n",
    "c=str[0]\n",
    "nstr=c+str[1:].replace(c,\"$\")\n",
    "print(nstr)\n"
   ]
  },
  {
   "cell_type": "raw",
   "id": "b354f9b9",
   "metadata": {},
   "source": [
    "Write a Python program to change a given string to a new string where the first and last chars have been exchanged.\n"
   ]
  },
  {
   "cell_type": "code",
   "execution_count": 6,
   "id": "dac42c93",
   "metadata": {},
   "outputs": [
    {
     "name": "stdout",
     "output_type": "stream",
     "text": [
      "Input String :university\n",
      "yniversitu\n"
     ]
    }
   ],
   "source": [
    "str=input(\"Input String :\")\n",
    "f=str[0]\n",
    "l=str[-1]\n",
    "nstr=l+str[1:len(str)-1]+f\n",
    "print(nstr)"
   ]
  },
  {
   "cell_type": "raw",
   "id": "64428ca9",
   "metadata": {},
   "source": [
    "Write a Python program to remove the characters which have odd index values of a given string. "
   ]
  },
  {
   "cell_type": "code",
   "execution_count": 8,
   "id": "47993ed7",
   "metadata": {},
   "outputs": [
    {
     "name": "stdout",
     "output_type": "stream",
     "text": [
      "Input String :sadasssads\n",
      "sdssd\n"
     ]
    }
   ],
   "source": [
    "str=input(\"Input String :\")\n",
    "nstr=\"\"\n",
    "for i in range(0,len(str),2):\n",
    "    nstr=nstr+str[i]\n",
    "print(nstr)\n",
    "    "
   ]
  },
  {
   "cell_type": "code",
   "execution_count": 7,
   "id": "cc850853",
   "metadata": {},
   "outputs": [
    {
     "name": "stdout",
     "output_type": "stream",
     "text": [
      "[0, 2, 4, 6, 8]\n"
     ]
    }
   ],
   "source": [
    "print(list(range(0,10,2)))"
   ]
  },
  {
   "cell_type": "code",
   "execution_count": 56,
   "id": "b5f2fd06",
   "metadata": {},
   "outputs": [
    {
     "name": "stdout",
     "output_type": "stream",
     "text": [
      "21\n"
     ]
    }
   ],
   "source": [
    "a=[1,2,3,4,5,6]\n",
    "sum=0I am \n",
    "for x in a:\n",
    "    sum+=x\n",
    "print(sum)"
   ]
  },
  {
   "cell_type": "markdown",
   "id": "8ab1466c",
   "metadata": {},
   "source": [
    "Write a program which takes a string as input and prints the longest word of that"
   ]
  },
  {
   "cell_type": "code",
   "execution_count": 9,
   "id": "b3f2912b",
   "metadata": {},
   "outputs": [
    {
     "name": "stdout",
     "output_type": "stream",
     "text": [
      "Input String :I am Good Boy\n",
      "Good\n"
     ]
    }
   ],
   "source": [
    "str=input(\"Input String :\")\n",
    "words=str.split()\n",
    "l=0\n",
    "for w in words:\n",
    "    if(len(w)>l):\n",
    "        l=len(w)\n",
    "        lw=w\n",
    "print(lw)\n",
    "    "
   ]
  },
  {
   "cell_type": "markdown",
   "id": "87ae61dc",
   "metadata": {},
   "source": [
    "Write a Python program to count the occurrences of each word in a given sentence."
   ]
  },
  {
   "cell_type": "code",
   "execution_count": 27,
   "id": "b770392a",
   "metadata": {},
   "outputs": [
    {
     "name": "stdout",
     "output_type": "stream",
     "text": [
      "Input String :the sun is shining in the sky\n",
      "the 2\n",
      "sun 1\n",
      "is 1\n",
      "shining 1\n",
      "in 1\n",
      "sky 1\n"
     ]
    }
   ],
   "source": [
    "str=input(\"Input String :\")\n",
    "c_words=[]\n",
    "c=[]\n",
    "words=str.split()\n",
    "for w in words:\n",
    "    if w not in c_words:\n",
    "        c_words.append(w)\n",
    "        c.append(words.count(w))\n",
    "      \n",
    "for i in range(0,len(c_words)):\n",
    "              print(c_words[i],c[i])\n",
    "    "
   ]
  },
  {
   "cell_type": "code",
   "execution_count": 15,
   "id": "6257035b",
   "metadata": {},
   "outputs": [
    {
     "name": "stdout",
     "output_type": "stream",
     "text": [
      "3\n"
     ]
    }
   ],
   "source": [
    "x=[\"aa\",\"aa\",\"fsf\",\"aa\"]\n",
    "print(x.count(\"aa\"))"
   ]
  },
  {
   "cell_type": "code",
   "execution_count": null,
   "id": "4f3ad368",
   "metadata": {},
   "outputs": [],
   "source": []
  },
  {
   "cell_type": "code",
   "execution_count": null,
   "id": "03bc9ca5",
   "metadata": {},
   "outputs": [],
   "source": []
  }
 ],
 "metadata": {
  "kernelspec": {
   "display_name": "Python 3 (ipykernel)",
   "language": "python",
   "name": "python3"
  },
  "language_info": {
   "codemirror_mode": {
    "name": "ipython",
    "version": 3
   },
   "file_extension": ".py",
   "mimetype": "text/x-python",
   "name": "python",
   "nbconvert_exporter": "python",
   "pygments_lexer": "ipython3",
   "version": "3.9.7"
  }
 },
 "nbformat": 4,
 "nbformat_minor": 5
}
