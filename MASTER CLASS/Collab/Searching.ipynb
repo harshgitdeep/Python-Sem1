{
 "cells": [
  {
   "cell_type": "markdown",
   "id": "8b6b9843",
   "metadata": {},
   "source": [
    "# Linear Search\n"
   ]
  },
  {
   "cell_type": "code",
   "execution_count": 2,
   "id": "00657d5d",
   "metadata": {},
   "outputs": [
    {
     "name": "stdout",
     "output_type": "stream",
     "text": [
      "Enter list :11 22 33 34 55 67 11 56 33\n",
      "Input elemet to search :11\n",
      "11 Found at location 1\n",
      "11 Found at location 7\n"
     ]
    }
   ],
   "source": [
    "found=False\n",
    "list=input(\"Enter list :\").split()\n",
    "key=input(\"Input elemet to search :\")\n",
    "for i in range(len(list)):\n",
    "    if key==list[i]:\n",
    "        print(str(key)+\" Found at location \"+str(i))\n",
    "        found=True\n",
    "if(found==False):\n",
    "    print(str(key)+\" Not Found in list\")\n",
    "    \n",
    "        "
   ]
  },
  {
   "cell_type": "markdown",
   "id": "8cfa4a2b",
   "metadata": {},
   "source": [
    "Linear Search functon"
   ]
  },
  {
   "cell_type": "code",
   "execution_count": null,
   "id": "849e18ee",
   "metadata": {},
   "outputs": [],
   "source": []
  },
  {
   "cell_type": "markdown",
   "id": "1f18ff60",
   "metadata": {},
   "source": [
    "Linear search recursive function"
   ]
  },
  {
   "cell_type": "code",
   "execution_count": null,
   "id": "be39a242",
   "metadata": {},
   "outputs": [],
   "source": []
  },
  {
   "cell_type": "markdown",
   "id": "d2c26789",
   "metadata": {},
   "source": [
    "# Binary Search"
   ]
  },
  {
   "cell_type": "code",
   "execution_count": 12,
   "id": "0a9072eb",
   "metadata": {},
   "outputs": [
    {
     "name": "stdout",
     "output_type": "stream",
     "text": [
      "Enter list :23 45 67 69\n",
      "Input elemet to search :89\n",
      "89 Not Found in list\n"
     ]
    }
   ],
   "source": [
    "\n",
    "    list=input(\"Enter list :\").split()\n",
    "    key=input(\"Input elemet to search :\")\n",
    "    low = 0\n",
    "    high = len(list) - 1\n",
    "    mid = 0\n",
    " \n",
    "    while low <= high:\n",
    "            mid = (high + low) // 2\n",
    " \n",
    "        # If x is greater, ignore left half\n",
    "            if list[mid] < key:\n",
    "                low = mid + 1\n",
    " \n",
    "        # If x is smaller, ignore right half\n",
    "            elif list[mid] > key:\n",
    "                high = mid - 1\n",
    " \n",
    "        # means x is present at mid\n",
    "            else:\n",
    "                print(str(key)+\" Found at location \"+str(mid))\n",
    "                break\n",
    "    else:\n",
    "        print(str(key)+\" Not Found in list\")\n",
    "            "
   ]
  },
  {
   "cell_type": "code",
   "execution_count": 8,
   "id": "6c078483",
   "metadata": {},
   "outputs": [],
   "source": [
    "def binarySearch(list, key):\n",
    "    low = 0\n",
    "    high = len(list) - 1\n",
    "    mid = 0\n",
    " \n",
    "    while low <= high:\n",
    "            mid = (high + low) // 2\n",
    " \n",
    "        # If x is greater, ignore left half\n",
    "            if list[mid] < key:\n",
    "                low = mid + 1\n",
    " \n",
    "        # If x is smaller, ignore right half\n",
    "            elif list[mid] > key:\n",
    "                high = mid - 1\n",
    " \n",
    "        # means x is present at mid\n",
    "            else:\n",
    "                return(mid)\n",
    "    return(-1)"
   ]
  },
  {
   "cell_type": "code",
   "execution_count": 9,
   "id": "3b686ee0",
   "metadata": {},
   "outputs": [],
   "source": [
    "p=binarySearch([11,13,45,67,90],67)"
   ]
  },
  {
   "cell_type": "code",
   "execution_count": 10,
   "id": "2bf9c4db",
   "metadata": {},
   "outputs": [
    {
     "name": "stdout",
     "output_type": "stream",
     "text": [
      "3\n"
     ]
    }
   ],
   "source": [
    "print(p)"
   ]
  },
  {
   "cell_type": "code",
   "execution_count": null,
   "id": "872e6170",
   "metadata": {},
   "outputs": [],
   "source": []
  }
 ],
 "metadata": {
  "kernelspec": {
   "display_name": "Python 3 (ipykernel)",
   "language": "python",
   "name": "python3"
  },
  "language_info": {
   "codemirror_mode": {
    "name": "ipython",
    "version": 3
   },
   "file_extension": ".py",
   "mimetype": "text/x-python",
   "name": "python",
   "nbconvert_exporter": "python",
   "pygments_lexer": "ipython3",
   "version": "3.9.7"
  }
 },
 "nbformat": 4,
 "nbformat_minor": 5
}
