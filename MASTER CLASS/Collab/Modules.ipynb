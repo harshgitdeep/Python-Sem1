{
 "cells": [
  {
   "cell_type": "markdown",
   "id": "e66b3db2",
   "metadata": {},
   "source": [
    "# Modules"
   ]
  },
  {
   "cell_type": "markdown",
   "id": "036fe73d",
   "metadata": {},
   "source": [
    "Modules enable you to split parts of your program in different files for easier maintenance and better performance."
   ]
  },
  {
   "cell_type": "markdown",
   "id": "a40d8a08",
   "metadata": {},
   "source": [
    "A module is a file consisting of Python code. It can define functions, classes, and variables, and can also include runnable code. Any Python file can be referenced as a module. A file containing Python code, for example: test.py, is called a module, and its name would be test."
   ]
  },
  {
   "cell_type": "markdown",
   "id": "e9da3650",
   "metadata": {},
   "source": [
    "There are various methods of writing modules, but the simplest way is to create a file with a .py extension which contains functions and variables."
   ]
  },
  {
   "cell_type": "markdown",
   "id": "0f791e98",
   "metadata": {},
   "source": [
    "## Importing Module"
   ]
  },
  {
   "cell_type": "code",
   "execution_count": 3,
   "id": "c89ec893",
   "metadata": {},
   "outputs": [
    {
     "name": "stdout",
     "output_type": "stream",
     "text": [
      "2.0\n"
     ]
    }
   ],
   "source": [
    "import math             \n",
    "num = 4\n",
    "print(math.sqrt(num))"
   ]
  },
  {
   "cell_type": "markdown",
   "id": "79fd5821",
   "metadata": {},
   "source": [
    "## Writing Modules"
   ]
  },
  {
   "cell_type": "markdown",
   "id": "f88dd7cf",
   "metadata": {},
   "source": [
    "Writing a module is just like writing any other Python file. Let's start by writing a function to add/subtract two numbers in a file calculation.py"
   ]
  },
  {
   "cell_type": "code",
   "execution_count": 2,
   "id": "feb18973",
   "metadata": {},
   "outputs": [],
   "source": [
    "def add(x,y):\n",
    "    return (x+y)\n",
    "def sub(x,y):\n",
    "    return (x-y)"
   ]
  },
  {
   "cell_type": "code",
   "execution_count": 4,
   "id": "2dc24839",
   "metadata": {},
   "outputs": [],
   "source": [
    "import Calculator            #Importing calculation module\n"
   ]
  },
  {
   "cell_type": "code",
   "execution_count": 5,
   "id": "4190960d",
   "metadata": {},
   "outputs": [
    {
     "name": "stdout",
     "output_type": "stream",
     "text": [
      "13\n"
     ]
    }
   ],
   "source": [
    "x=Calculator.add(5,8)\n",
    "print(x)"
   ]
  },
  {
   "cell_type": "markdown",
   "id": "f65ff067",
   "metadata": {},
   "source": [
    "## More on Import Statements"
   ]
  },
  {
   "cell_type": "code",
   "execution_count": 6,
   "id": "9dd18ad8",
   "metadata": {},
   "outputs": [
    {
     "name": "stdout",
     "output_type": "stream",
     "text": [
      "3\n"
     ]
    }
   ],
   "source": [
    "from Calculator import add\n",
    "print(add(1,2))"
   ]
  },
  {
   "cell_type": "code",
   "execution_count": 10,
   "id": "80edb16a",
   "metadata": {},
   "outputs": [],
   "source": [
    "from Calculator import add, sub"
   ]
  },
  {
   "cell_type": "code",
   "execution_count": 11,
   "id": "49afdc8d",
   "metadata": {},
   "outputs": [
    {
     "name": "stdout",
     "output_type": "stream",
     "text": [
      "3\n",
      "1\n"
     ]
    }
   ],
   "source": [
    "print(add(1,2))\n",
    "print(sub(3,2))"
   ]
  },
  {
   "cell_type": "code",
   "execution_count": 33,
   "id": "15bc9780",
   "metadata": {},
   "outputs": [
    {
     "name": "stdout",
     "output_type": "stream",
     "text": [
      "1\n",
      "5\n",
      "6\n"
     ]
    }
   ],
   "source": [
    "from Calculator import *\n",
    "\n",
    "print(sub(3,2))\n",
    "print(add(3,2))\n",
    "print(multuply(3,2))"
   ]
  },
  {
   "cell_type": "markdown",
   "id": "513ad25d",
   "metadata": {},
   "source": [
    "Renaming the imported module"
   ]
  },
  {
   "cell_type": "code",
   "execution_count": 9,
   "id": "683cdbb0",
   "metadata": {},
   "outputs": [
    {
     "name": "stdout",
     "output_type": "stream",
     "text": [
      "3\n"
     ]
    }
   ],
   "source": [
    "import Calculator as cal\n",
    "print(cal.add(1,2))"
   ]
  },
  {
   "cell_type": "markdown",
   "id": "dcba3528",
   "metadata": {},
   "source": [
    "# Default Modules"
   ]
  },
  {
   "cell_type": "raw",
   "id": "41676e85",
   "metadata": {},
   "source": [
    "os module\n",
    "random module\n",
    "math module\n",
    "time module\n",
    "sys module\n",
    "collections module\n",
    "statistics module"
   ]
  },
  {
   "cell_type": "markdown",
   "id": "18e4c566",
   "metadata": {},
   "source": [
    "## random module"
   ]
  },
  {
   "cell_type": "markdown",
   "id": "77bdbdc4",
   "metadata": {},
   "source": [
    "random.random(): Returns a random float number between 0.0 to 1.0. The function doesn’t need any arguments"
   ]
  },
  {
   "cell_type": "code",
   "execution_count": 16,
   "id": "3c745abe",
   "metadata": {},
   "outputs": [
    {
     "data": {
      "text/plain": [
       "0.11635995838103719"
      ]
     },
     "execution_count": 16,
     "metadata": {},
     "output_type": "execute_result"
    }
   ],
   "source": [
    "import random \n",
    "random.random()"
   ]
  },
  {
   "cell_type": "raw",
   "id": "158ffa19",
   "metadata": {},
   "source": [
    "random.randint(): Returns a random integer between the specified integers"
   ]
  },
  {
   "cell_type": "code",
   "execution_count": 20,
   "id": "935e3871",
   "metadata": {},
   "outputs": [
    {
     "data": {
      "text/plain": [
       "12"
      ]
     },
     "execution_count": 20,
     "metadata": {},
     "output_type": "execute_result"
    }
   ],
   "source": [
    "random.randint(1,100)"
   ]
  },
  {
   "cell_type": "markdown",
   "id": "ba2fc223",
   "metadata": {},
   "source": [
    "random.randrange(): Returns a random element from the range created by start, stop and step arguments. The start , stop and step parameters behave similar to range() function."
   ]
  },
  {
   "cell_type": "code",
   "execution_count": 21,
   "id": "96de37a1",
   "metadata": {},
   "outputs": [
    {
     "data": {
      "text/plain": [
       "9"
      ]
     },
     "execution_count": 21,
     "metadata": {},
     "output_type": "execute_result"
    }
   ],
   "source": [
    "random.randrange(1,10)"
   ]
  },
  {
   "cell_type": "code",
   "execution_count": 25,
   "id": "8a840a3d",
   "metadata": {},
   "outputs": [
    {
     "data": {
      "text/plain": [
       "9"
      ]
     },
     "execution_count": 25,
     "metadata": {},
     "output_type": "execute_result"
    }
   ],
   "source": [
    "random.randrange(1,10,2)"
   ]
  },
  {
   "cell_type": "code",
   "execution_count": 16,
   "id": "03b96ea9",
   "metadata": {},
   "outputs": [
    {
     "data": {
      "text/plain": [
       "60"
      ]
     },
     "execution_count": 16,
     "metadata": {},
     "output_type": "execute_result"
    }
   ],
   "source": [
    "random.randrange(0,101,10)"
   ]
  },
  {
   "cell_type": "markdown",
   "id": "8064cc09",
   "metadata": {},
   "source": [
    "random.choice(): Returns a randomly selected element from a sequence object such as string, list or tuple."
   ]
  },
  {
   "cell_type": "code",
   "execution_count": 27,
   "id": "5b853c97",
   "metadata": {},
   "outputs": [
    {
     "data": {
      "text/plain": [
       "'p'"
      ]
     },
     "execution_count": 27,
     "metadata": {},
     "output_type": "execute_result"
    }
   ],
   "source": [
    "random.choice('computer')"
   ]
  },
  {
   "cell_type": "code",
   "execution_count": 29,
   "id": "99c7e9ce",
   "metadata": {},
   "outputs": [
    {
     "data": {
      "text/plain": [
       "45"
      ]
     },
     "execution_count": 29,
     "metadata": {},
     "output_type": "execute_result"
    }
   ],
   "source": [
    "random.choice([12,23,45,67,65,43])"
   ]
  },
  {
   "cell_type": "code",
   "execution_count": 31,
   "id": "404e1dd5",
   "metadata": {},
   "outputs": [
    {
     "data": {
      "text/plain": [
       "23"
      ]
     },
     "execution_count": 31,
     "metadata": {},
     "output_type": "execute_result"
    }
   ],
   "source": [
    "random.choice((12,23,45,67,65,43))"
   ]
  },
  {
   "cell_type": "markdown",
   "id": "fa3e24a3",
   "metadata": {},
   "source": [
    "random.shuffle(): This functions randomly reorders elements in a list."
   ]
  },
  {
   "cell_type": "code",
   "execution_count": 20,
   "id": "d33335aa",
   "metadata": {},
   "outputs": [
    {
     "name": "stdout",
     "output_type": "stream",
     "text": [
      "[45, 23, 65, 12, 43, 67]\n"
     ]
    }
   ],
   "source": [
    "numbers=[12,23,45,67,65,43]\n",
    "random.shuffle(numbers)\n",
    "print(numbers)"
   ]
  },
  {
   "cell_type": "markdown",
   "id": "f6264544",
   "metadata": {},
   "source": [
    "# math module"
   ]
  },
  {
   "cell_type": "code",
   "execution_count": 34,
   "id": "cba3f958",
   "metadata": {},
   "outputs": [
    {
     "name": "stdout",
     "output_type": "stream",
     "text": [
      "3.141592653589793\n"
     ]
    }
   ],
   "source": [
    "import math\n",
    "print(math.pi)\n"
   ]
  },
  {
   "cell_type": "code",
   "execution_count": 35,
   "id": "b76b663a",
   "metadata": {},
   "outputs": [
    {
     "name": "stdout",
     "output_type": "stream",
     "text": [
      "2.718281828459045\n"
     ]
    }
   ],
   "source": [
    "print(math.e)"
   ]
  },
  {
   "cell_type": "markdown",
   "id": "9f260b20",
   "metadata": {},
   "source": [
    "## Trigonometric functions"
   ]
  },
  {
   "cell_type": "markdown",
   "id": "70799fb8",
   "metadata": {},
   "source": [
    "radians(): converts angle in degrees to radians"
   ]
  },
  {
   "cell_type": "code",
   "execution_count": 36,
   "id": "173331d6",
   "metadata": {},
   "outputs": [
    {
     "data": {
      "text/plain": [
       "0.5235987755982988"
      ]
     },
     "execution_count": 36,
     "metadata": {},
     "output_type": "execute_result"
    }
   ],
   "source": [
    "math.radians(30)"
   ]
  },
  {
   "cell_type": "markdown",
   "id": "e4ae9537",
   "metadata": {},
   "source": [
    "degrees(): converts angle in radians to degree. (Note: π radians is equivalent to 180 degrees)"
   ]
  },
  {
   "cell_type": "code",
   "execution_count": 37,
   "id": "ed6b63a7",
   "metadata": {},
   "outputs": [
    {
     "data": {
      "text/plain": [
       "29.999999999999996"
      ]
     },
     "execution_count": 37,
     "metadata": {},
     "output_type": "execute_result"
    }
   ],
   "source": [
    "math.degrees(math.pi/6)"
   ]
  },
  {
   "cell_type": "markdown",
   "id": "e27fba15",
   "metadata": {},
   "source": [
    "math.log10(): returns base-10 logarithm or standard logarithm of given number."
   ]
  },
  {
   "cell_type": "code",
   "execution_count": 38,
   "id": "51e683d5",
   "metadata": {},
   "outputs": [
    {
     "data": {
      "text/plain": [
       "1.0"
      ]
     },
     "execution_count": 38,
     "metadata": {},
     "output_type": "execute_result"
    }
   ],
   "source": [
    "math.log10(10)"
   ]
  },
  {
   "cell_type": "markdown",
   "id": "66878d76",
   "metadata": {},
   "source": [
    "math.log(): returns natural logarithm of given number. Natural logarithm is calculated to the base e."
   ]
  },
  {
   "cell_type": "code",
   "execution_count": 39,
   "id": "eef9f570",
   "metadata": {},
   "outputs": [
    {
     "data": {
      "text/plain": [
       "2.302585092994046"
      ]
     },
     "execution_count": 39,
     "metadata": {},
     "output_type": "execute_result"
    }
   ],
   "source": [
    "math.log(10)"
   ]
  },
  {
   "cell_type": "markdown",
   "id": "e68a12fc",
   "metadata": {},
   "source": [
    "math.pow(): This function receives two float arguments, raises first to second and returns the result."
   ]
  },
  {
   "cell_type": "code",
   "execution_count": 41,
   "id": "840387c9",
   "metadata": {},
   "outputs": [
    {
     "data": {
      "text/plain": [
       "16.0"
      ]
     },
     "execution_count": 41,
     "metadata": {},
     "output_type": "execute_result"
    }
   ],
   "source": [
    "math.pow(2,4)"
   ]
  },
  {
   "cell_type": "markdown",
   "id": "27df29f1",
   "metadata": {},
   "source": [
    "math.sqrt(): This function computes square root of given number "
   ]
  },
  {
   "cell_type": "code",
   "execution_count": 42,
   "id": "cdfe96d8",
   "metadata": {},
   "outputs": [
    {
     "data": {
      "text/plain": [
       "31.622776601683793"
      ]
     },
     "execution_count": 42,
     "metadata": {},
     "output_type": "execute_result"
    }
   ],
   "source": [
    "math.sqrt(1000)"
   ]
  },
  {
   "cell_type": "markdown",
   "id": "9fe71485",
   "metadata": {},
   "source": [
    "## Representation functions"
   ]
  },
  {
   "cell_type": "raw",
   "id": "479b7179",
   "metadata": {},
   "source": [
    "The ceil() function approximates given number to smallest integer greater than or equal to given floating point number. The floor() function returns a largest integer less than or equal to given number"
   ]
  },
  {
   "cell_type": "code",
   "execution_count": 10,
   "id": "5637d1ba",
   "metadata": {},
   "outputs": [
    {
     "data": {
      "text/plain": [
       "5"
      ]
     },
     "execution_count": 10,
     "metadata": {},
     "output_type": "execute_result"
    }
   ],
   "source": [
    "math.ceil(4.5867)"
   ]
  },
  {
   "cell_type": "code",
   "execution_count": 43,
   "id": "a2c835be",
   "metadata": {},
   "outputs": [
    {
     "data": {
      "text/plain": [
       "5"
      ]
     },
     "execution_count": 43,
     "metadata": {},
     "output_type": "execute_result"
    }
   ],
   "source": [
    "math.ceil(4.0001)"
   ]
  },
  {
   "cell_type": "code",
   "execution_count": 44,
   "id": "d3278cff",
   "metadata": {},
   "outputs": [
    {
     "data": {
      "text/plain": [
       "4"
      ]
     },
     "execution_count": 44,
     "metadata": {},
     "output_type": "execute_result"
    }
   ],
   "source": [
    "math.floor(4.0001)"
   ]
  },
  {
   "cell_type": "markdown",
   "id": "bcfcdc69",
   "metadata": {},
   "source": [
    "## statistics module"
   ]
  },
  {
   "cell_type": "code",
   "execution_count": 15,
   "id": "12adc67c",
   "metadata": {},
   "outputs": [],
   "source": [
    "import statistics"
   ]
  },
  {
   "cell_type": "code",
   "execution_count": 16,
   "id": "cd65547c",
   "metadata": {},
   "outputs": [
    {
     "name": "stdout",
     "output_type": "stream",
     "text": [
      "5.5\n"
     ]
    }
   ],
   "source": [
    "print(statistics.mean([2,5,6,9]))"
   ]
  },
  {
   "cell_type": "code",
   "execution_count": 17,
   "id": "c6b70741",
   "metadata": {},
   "outputs": [
    {
     "data": {
      "text/plain": [
       "3"
      ]
     },
     "execution_count": 17,
     "metadata": {},
     "output_type": "execute_result"
    }
   ],
   "source": [
    "statistics.median([1,2,3,8,9])"
   ]
  },
  {
   "cell_type": "code",
   "execution_count": 18,
   "id": "14470069",
   "metadata": {},
   "outputs": [
    {
     "data": {
      "text/plain": [
       "2"
      ]
     },
     "execution_count": 18,
     "metadata": {},
     "output_type": "execute_result"
    }
   ],
   "source": [
    "statistics.mode([2,5,3,2,8,3,9,4,2,5,6])"
   ]
  },
  {
   "cell_type": "code",
   "execution_count": 19,
   "id": "1fd8b98e",
   "metadata": {},
   "outputs": [
    {
     "data": {
      "text/plain": [
       "1.3693063937629153"
      ]
     },
     "execution_count": 19,
     "metadata": {},
     "output_type": "execute_result"
    }
   ],
   "source": [
    "statistics.stdev([1,1.5,2,2.5,3,3.5,4,4.5,5])"
   ]
  },
  {
   "cell_type": "markdown",
   "id": "6063ab5e",
   "metadata": {},
   "source": [
    "## os module"
   ]
  },
  {
   "cell_type": "code",
   "execution_count": 46,
   "id": "734370bf",
   "metadata": {},
   "outputs": [],
   "source": [
    "import os"
   ]
  },
  {
   "cell_type": "code",
   "execution_count": 47,
   "id": "8bbe2ad5",
   "metadata": {},
   "outputs": [],
   "source": [
    "os.mkdir(\"d:\\\\tempd\")"
   ]
  },
  {
   "cell_type": "code",
   "execution_count": 48,
   "id": "c829b1ed",
   "metadata": {},
   "outputs": [],
   "source": [
    "os.chdir(\"d:\\\\tempd\")"
   ]
  },
  {
   "cell_type": "code",
   "execution_count": 49,
   "id": "92826276",
   "metadata": {},
   "outputs": [
    {
     "data": {
      "text/plain": [
       "'d:\\\\tempd'"
      ]
     },
     "execution_count": 49,
     "metadata": {},
     "output_type": "execute_result"
    }
   ],
   "source": [
    "os.getcwd()"
   ]
  },
  {
   "cell_type": "code",
   "execution_count": 51,
   "id": "0857df77",
   "metadata": {},
   "outputs": [],
   "source": [
    "os.chdir(\"..\")"
   ]
  },
  {
   "cell_type": "code",
   "execution_count": 52,
   "id": "c00af80a",
   "metadata": {},
   "outputs": [
    {
     "data": {
      "text/plain": [
       "'d:\\\\'"
      ]
     },
     "execution_count": 52,
     "metadata": {},
     "output_type": "execute_result"
    }
   ],
   "source": [
    "os.getcwd()"
   ]
  },
  {
   "cell_type": "code",
   "execution_count": 53,
   "id": "9c072ed2",
   "metadata": {},
   "outputs": [],
   "source": [
    "os.rmdir(\"tempd\")"
   ]
  },
  {
   "cell_type": "code",
   "execution_count": 27,
   "id": "4765fb94",
   "metadata": {},
   "outputs": [
    {
     "data": {
      "text/plain": [
       "['$RECYCLE.BIN',\n",
       " '.html',\n",
       " '1.jpg',\n",
       " '1.pdf',\n",
       " '1234.html',\n",
       " '12345.html',\n",
       " '2.jpg',\n",
       " '2.png',\n",
       " '3.jpg',\n",
       " '900.html',\n",
       " '909781.jpg',\n",
       " 'abc.cpp',\n",
       " 'abc.html',\n",
       " 'air_pollution_emissions_factory.jpg__1600x900_q85_crop_subsampling-2.jpg',\n",
       " 'AKKK.html',\n",
       " 'Alok Misra.docx',\n",
       " 'Amba cert.jpg',\n",
       " 'ard.html',\n",
       " 'arpita.singh.txt',\n",
       " 'Azad Cert.jpg',\n",
       " 'bday.png',\n",
       " 'blabla.html',\n",
       " 'boot',\n",
       " 'bootmgr',\n",
       " 'bootmgr.efi',\n",
       " 'bootTel.dat',\n",
       " 'bvd.html',\n",
       " 'c7e213baf6f1c5b70884289fac8c758e.jpg',\n",
       " 'Car-smoke.png',\n",
       " 'dashing saanvi.pptx',\n",
       " 'databackup.txt',\n",
       " 'Decrypted.txt',\n",
       " 'dfg.html',\n",
       " 'dhakad chori.png',\n",
       " 'download (1).jfif',\n",
       " 'download (1).jpg',\n",
       " 'download (2).jfif',\n",
       " 'download (2).jpg',\n",
       " 'download (3).jpg',\n",
       " 'download (4).jpg',\n",
       " 'download (5).jpg',\n",
       " 'download (6).jpg',\n",
       " 'download.jfif',\n",
       " 'download.jpg',\n",
       " 'EFI',\n",
       " 'file72b25wdpykn1f1okjb7k-1544470633.jpg',\n",
       " 'Happy_Birthday_Zoom_Background.jpg',\n",
       " 'hp',\n",
       " 'html.html',\n",
       " 'images (1).jpg',\n",
       " 'images (2).jpg',\n",
       " 'images (3).jpg',\n",
       " 'images (4).jpg',\n",
       " 'images (5).jpg',\n",
       " 'images (6).jpg',\n",
       " 'images.jpg',\n",
       " 'in.pinterest.com.html',\n",
       " 'in.pinterest.com_files',\n",
       " 'India Political Map in A3 Size.html',\n",
       " 'lavi ki dadi dada.png',\n",
       " 'Local Disk (F) - Shortcut.lnk',\n",
       " 'm.jpg',\n",
       " 'my desktop.png',\n",
       " 'My name is akshat tiwar1.docx',\n",
       " 'New folder',\n",
       " 'New Volume (E) - Shortcut.lnk',\n",
       " 'Offer letter 1.jpg',\n",
       " 'Offer letter 2.jpg',\n",
       " 'PAPA.png',\n",
       " 'Paper CM.doc',\n",
       " 'pollution.jpg',\n",
       " 'preload',\n",
       " 'Raj Gaurang Tiwari.docx',\n",
       " 'recovery',\n",
       " 'RM_Reserve',\n",
       " 'saanun.jpg',\n",
       " 'saanvi t.html',\n",
       " 'SAANVI TIWARI.pptx',\n",
       " 'saanvi.html',\n",
       " 'saanvi.html1234.txt',\n",
       " 'saanvi.htmlwww.txt',\n",
       " 'saanvi.png',\n",
       " 'saanvitiwari.html',\n",
       " 'SANU.jfif',\n",
       " 'sm.txt',\n",
       " 'sorting',\n",
       " 'System Volume Information',\n",
       " 'tulsi-plant-500x500.jpg',\n",
       " 'untitled.html',\n",
       " 'Untitled.jpg',\n",
       " 'Untitled.png',\n",
       " 'vika.txt',\n",
       " 'Windows (C) - Shortcut.lnk',\n",
       " 'work-space-comfortable-modern-workplace-260nw-1601091313.jpg']"
      ]
     },
     "execution_count": 27,
     "metadata": {},
     "output_type": "execute_result"
    }
   ],
   "source": [
    "os.listdir()"
   ]
  },
  {
   "cell_type": "code",
   "execution_count": null,
   "id": "ca97f8cd",
   "metadata": {},
   "outputs": [],
   "source": []
  }
 ],
 "metadata": {
  "kernelspec": {
   "display_name": "Python 3 (ipykernel)",
   "language": "python",
   "name": "python3"
  },
  "language_info": {
   "codemirror_mode": {
    "name": "ipython",
    "version": 3
   },
   "file_extension": ".py",
   "mimetype": "text/x-python",
   "name": "python",
   "nbconvert_exporter": "python",
   "pygments_lexer": "ipython3",
   "version": "3.9.7"
  }
 },
 "nbformat": 4,
 "nbformat_minor": 5
}
