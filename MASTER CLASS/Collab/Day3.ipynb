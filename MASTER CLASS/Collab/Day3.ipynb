{
  "nbformat": 4,
  "nbformat_minor": 0,
  "metadata": {
    "colab": {
      "name": "Day3.ipynb",
      "provenance": [],
      "collapsed_sections": []
    },
    "kernelspec": {
      "name": "python3",
      "display_name": "Python 3"
    },
    "language_info": {
      "name": "python"
    }
  },
  "cells": [
    {
      "cell_type": "code",
      "metadata": {
        "id": "Cty024Yhs3gt",
        "colab": {
          "base_uri": "https://localhost:8080/"
        },
        "outputId": "8501d461-509b-468e-ac17-a31d8aa69720"
      },
      "source": [
        "#Simple print statement\n",
        "print(\"Hello\")"
      ],
      "execution_count": null,
      "outputs": [
        {
          "output_type": "stream",
          "name": "stdout",
          "text": [
            "Hello\n"
          ]
        }
      ]
    },
    {
      "cell_type": "code",
      "metadata": {
        "colab": {
          "base_uri": "https://localhost:8080/"
        },
        "id": "tRvc2dkW2EDl",
        "outputId": "0516c7c0-1ce5-43fc-f010-4d91221c17dd"
      },
      "source": [
        "#My first Program\n",
        "#I am Exicted \n",
        "#Simple Print Statement\n",
        "print(\"Hello\")"
      ],
      "execution_count": null,
      "outputs": [
        {
          "output_type": "stream",
          "name": "stdout",
          "text": [
            "Hello\n"
          ]
        }
      ]
    },
    {
      "cell_type": "code",
      "metadata": {
        "colab": {
          "base_uri": "https://localhost:8080/"
        },
        "id": "0V-DguFz2eqD",
        "outputId": "4765e46f-c128-40ce-871e-4001ce20a5aa"
      },
      "source": [
        "\"\"\"My first Program\n",
        "I am Exicted \n",
        "Simple Print Statement\"\"\"\n",
        "print(\"Hello\")"
      ],
      "execution_count": null,
      "outputs": [
        {
          "output_type": "stream",
          "name": "stdout",
          "text": [
            "Hello\n"
          ]
        }
      ]
    },
    {
      "cell_type": "code",
      "metadata": {
        "colab": {
          "base_uri": "https://localhost:8080/"
        },
        "id": "qgzeahwT2ktv",
        "outputId": "69d58443-62d7-4d22-e3fe-0b61d6b1abb5"
      },
      "source": [
        "nm=input(\"Enter Your Name :\")\n",
        "l=len(nm)\n",
        "print(\"Hello Mr. \"+nm+\" Length of your name is \"+str(l))"
      ],
      "execution_count": null,
      "outputs": [
        {
          "output_type": "stream",
          "name": "stdout",
          "text": [
            "Enter Your Name :Rakesh\n",
            "Hello Mr. Rakesh Length of your name is 6\n"
          ]
        }
      ]
    },
    {
      "cell_type": "code",
      "metadata": {
        "colab": {
          "base_uri": "https://localhost:8080/"
        },
        "id": "1hI44AeG3vH9",
        "outputId": "816253c0-1188-411e-82d9-e59ca49e52ca"
      },
      "source": [
        "n=int(input(\"enter number :\"))\n",
        "if n>10 :\n",
        "    print(n*n)\n",
        "    print(\"Number was greater than 10\")\n",
        "print(\"Program Completed\")\n"
      ],
      "execution_count": null,
      "outputs": [
        {
          "output_type": "stream",
          "name": "stdout",
          "text": [
            "enter number :15\n",
            "225\n",
            "Number was greater than 10\n",
            "Program Completed\n"
          ]
        }
      ]
    },
    {
      "cell_type": "code",
      "metadata": {
        "colab": {
          "base_uri": "https://localhost:8080/"
        },
        "id": "e5KANehg665-",
        "outputId": "404170f4-2de6-4775-9329-0fc2a9080742"
      },
      "source": [
        "n=int(input(\"enter number :\"))\n",
        "if n>10 :\n",
        "    print(n*n)\n",
        "    print(\"Number was greater than 10\")\n",
        "else:\n",
        "    print(n*n*n)\n",
        "    print(\"Number was less than or equal to 10\")\n",
        "\n",
        "print(\"Program Completed\")"
      ],
      "execution_count": null,
      "outputs": [
        {
          "output_type": "stream",
          "name": "stdout",
          "text": [
            "enter number :10\n",
            "1000\n",
            "Number was less than or equal to 10\n",
            "Program Completed\n"
          ]
        }
      ]
    },
    {
      "cell_type": "code",
      "metadata": {
        "colab": {
          "base_uri": "https://localhost:8080/"
        },
        "id": "hGs_lw-g8ILR",
        "outputId": "b77ecf59-4ee7-4b0a-87ab-9ea8a125ffd6"
      },
      "source": [
        "n=int(input(\"enter number :\"))\n",
        "if n>10 :\n",
        "    print(n*n)\n",
        "    print(\"Number was greater than 10\")\n",
        "elif n>20 :\n",
        "    print(n*n*n)\n",
        "    print(\"Number is greater than 20\")\n",
        "else:\n",
        "    print(\"I have no Idea\")\n",
        "\n",
        "\n",
        "print(\"Program Completed\")"
      ],
      "execution_count": null,
      "outputs": [
        {
          "output_type": "stream",
          "name": "stdout",
          "text": [
            "enter number :35\n",
            "1225\n",
            "Number was greater than 10\n",
            "Program Completed\n"
          ]
        }
      ]
    },
    {
      "cell_type": "code",
      "metadata": {
        "id": "RMIcwbFV_8eW"
      },
      "source": [
        ""
      ],
      "execution_count": null,
      "outputs": []
    }
  ]
}