{
 "cells": [
  {
   "cell_type": "markdown",
   "id": "436732b3",
   "metadata": {},
   "source": [
    "# List Basics"
   ]
  },
  {
   "cell_type": "code",
   "execution_count": 1,
   "id": "a991f8de",
   "metadata": {},
   "outputs": [],
   "source": [
    "a=[1,2,3,4]"
   ]
  },
  {
   "cell_type": "code",
   "execution_count": null,
   "id": "b9eb73eb",
   "metadata": {},
   "outputs": [],
   "source": []
  },
  {
   "cell_type": "code",
   "execution_count": 2,
   "id": "631b0028",
   "metadata": {},
   "outputs": [
    {
     "data": {
      "text/plain": [
       "list"
      ]
     },
     "execution_count": 2,
     "metadata": {},
     "output_type": "execute_result"
    }
   ],
   "source": [
    "\n",
    "type(a)"
   ]
  },
  {
   "cell_type": "code",
   "execution_count": 3,
   "id": "8a6c4413",
   "metadata": {},
   "outputs": [],
   "source": [
    "b=[1,2.4,\"Chitkara\"]"
   ]
  },
  {
   "cell_type": "code",
   "execution_count": 4,
   "id": "6ba1f536",
   "metadata": {},
   "outputs": [
    {
     "name": "stdout",
     "output_type": "stream",
     "text": [
      "[1, 2.4, 'Chitkara']\n"
     ]
    }
   ],
   "source": [
    "print(b)"
   ]
  },
  {
   "cell_type": "code",
   "execution_count": 5,
   "id": "e7eb6a60",
   "metadata": {},
   "outputs": [],
   "source": [
    "c=[a,b,2,\"Ramesh\"]"
   ]
  },
  {
   "cell_type": "code",
   "execution_count": 6,
   "id": "fccf1ee2",
   "metadata": {},
   "outputs": [
    {
     "name": "stdout",
     "output_type": "stream",
     "text": [
      "2\n"
     ]
    }
   ],
   "source": [
    "print(c[2])"
   ]
  },
  {
   "cell_type": "code",
   "execution_count": 7,
   "id": "e3ad714d",
   "metadata": {},
   "outputs": [
    {
     "name": "stdout",
     "output_type": "stream",
     "text": [
      "[1, 2, 3, 4]\n"
     ]
    }
   ],
   "source": [
    "print(c[0])"
   ]
  },
  {
   "cell_type": "code",
   "execution_count": 9,
   "id": "ad74247d",
   "metadata": {},
   "outputs": [
    {
     "name": "stdout",
     "output_type": "stream",
     "text": [
      "[1, 2.4, 'Chitkara']\n"
     ]
    }
   ],
   "source": [
    "print(c[1])"
   ]
  },
  {
   "cell_type": "code",
   "execution_count": 11,
   "id": "3b3972b7",
   "metadata": {},
   "outputs": [
    {
     "name": "stdout",
     "output_type": "stream",
     "text": [
      "[1, 2.4, 'Chitkara']\n"
     ]
    }
   ],
   "source": [
    "print(c[-3])"
   ]
  },
  {
   "cell_type": "markdown",
   "id": "eff4b14b",
   "metadata": {},
   "source": [
    "# Range Function"
   ]
  },
  {
   "cell_type": "markdown",
   "id": "e9dbd5bb",
   "metadata": {},
   "source": [
    "Syntax\n",
    "\n",
    "range(start, stop, step_size)"
   ]
  },
  {
   "cell_type": "code",
   "execution_count": 12,
   "id": "f6e9acc8",
   "metadata": {},
   "outputs": [],
   "source": [
    "a=range(5)"
   ]
  },
  {
   "cell_type": "code",
   "execution_count": 14,
   "id": "b5837259",
   "metadata": {},
   "outputs": [
    {
     "data": {
      "text/plain": [
       "range"
      ]
     },
     "execution_count": 14,
     "metadata": {},
     "output_type": "execute_result"
    }
   ],
   "source": [
    "type(a)"
   ]
  },
  {
   "cell_type": "code",
   "execution_count": 16,
   "id": "f5053009",
   "metadata": {},
   "outputs": [
    {
     "name": "stdout",
     "output_type": "stream",
     "text": [
      "[0, 1, 2, 3, 4]\n"
     ]
    }
   ],
   "source": [
    "print(list(a))"
   ]
  },
  {
   "cell_type": "code",
   "execution_count": 17,
   "id": "cc669de4",
   "metadata": {},
   "outputs": [],
   "source": [
    "b=range(0,5)"
   ]
  },
  {
   "cell_type": "code",
   "execution_count": 18,
   "id": "90ee0c10",
   "metadata": {},
   "outputs": [
    {
     "name": "stdout",
     "output_type": "stream",
     "text": [
      "[0, 1, 2, 3, 4]\n"
     ]
    }
   ],
   "source": [
    "print(list(b))"
   ]
  },
  {
   "cell_type": "code",
   "execution_count": 19,
   "id": "ed0da7ac",
   "metadata": {},
   "outputs": [],
   "source": [
    "b=range(2,5)"
   ]
  },
  {
   "cell_type": "code",
   "execution_count": 20,
   "id": "7055aeb0",
   "metadata": {},
   "outputs": [
    {
     "name": "stdout",
     "output_type": "stream",
     "text": [
      "[2, 3, 4]\n"
     ]
    }
   ],
   "source": [
    "print(list(b))"
   ]
  },
  {
   "cell_type": "code",
   "execution_count": 21,
   "id": "d072d9d2",
   "metadata": {},
   "outputs": [],
   "source": [
    "b=range(2,15,3)"
   ]
  },
  {
   "cell_type": "code",
   "execution_count": 22,
   "id": "0b40d479",
   "metadata": {},
   "outputs": [
    {
     "name": "stdout",
     "output_type": "stream",
     "text": [
      "[2, 5, 8, 11, 14]\n"
     ]
    }
   ],
   "source": [
    "print(list(b))"
   ]
  },
  {
   "cell_type": "code",
   "execution_count": 23,
   "id": "45b5cd93",
   "metadata": {},
   "outputs": [],
   "source": [
    "b=range(15,3,-3)"
   ]
  },
  {
   "cell_type": "code",
   "execution_count": 24,
   "id": "8856c7fe",
   "metadata": {},
   "outputs": [
    {
     "name": "stdout",
     "output_type": "stream",
     "text": [
      "[15, 12, 9, 6]\n"
     ]
    }
   ],
   "source": [
    "print(list(b))"
   ]
  },
  {
   "cell_type": "markdown",
   "id": "ce7fb7ce",
   "metadata": {},
   "source": [
    "# For Loop"
   ]
  },
  {
   "cell_type": "code",
   "execution_count": 27,
   "id": "11ac7c12",
   "metadata": {},
   "outputs": [
    {
     "name": "stdout",
     "output_type": "stream",
     "text": [
      "Hello Mr.Ramesh\n",
      "Hello Mr.Suresh\n",
      "Hello Mr.Mohan\n",
      "Hello Mr.Gopal\n"
     ]
    }
   ],
   "source": [
    "l=[\"Ramesh\", \"Suresh\",\"Mohan\",\"Gopal\"]\n",
    "for name in l:\n",
    "    print(\"Hello Mr.\"+name)"
   ]
  },
  {
   "cell_type": "code",
   "execution_count": 32,
   "id": "08d0f8d3",
   "metadata": {},
   "outputs": [
    {
     "name": "stdout",
     "output_type": "stream",
     "text": [
      "5 10 15 20 25 30 35 40 45 50 "
     ]
    }
   ],
   "source": [
    "for i in range(1,11):\n",
    "    print(i*5, end=\" \")\n"
   ]
  },
  {
   "cell_type": "code",
   "execution_count": 34,
   "id": "a4dbc33f",
   "metadata": {},
   "outputs": [
    {
     "name": "stdout",
     "output_type": "stream",
     "text": [
      "1 2 3 4 5 6 7 8 9 10 \n",
      "2 4 6 8 10 12 14 16 18 20 \n",
      "3 6 9 12 15 18 21 24 27 30 \n",
      "4 8 12 16 20 24 28 32 36 40 \n",
      "5 10 15 20 25 30 35 40 45 50 \n",
      "6 12 18 24 30 36 42 48 54 60 \n",
      "7 14 21 28 35 42 49 56 63 70 \n",
      "8 16 24 32 40 48 56 64 72 80 \n",
      "9 18 27 36 45 54 63 72 81 90 \n",
      "10 20 30 40 50 60 70 80 90 100 \n"
     ]
    }
   ],
   "source": [
    "for n in range(1,11):\n",
    "    for i in range(1,11):\n",
    "        print(i*n, end=\" \")\n",
    "    print()"
   ]
  },
  {
   "cell_type": "raw",
   "id": "01910219",
   "metadata": {},
   "source": [
    "*\n",
    "**\n",
    "***\n",
    "****\n",
    "*****"
   ]
  },
  {
   "cell_type": "code",
   "execution_count": 35,
   "id": "7bd88916",
   "metadata": {},
   "outputs": [
    {
     "name": "stdout",
     "output_type": "stream",
     "text": [
      "*\n",
      "**\n",
      "***\n",
      "****\n",
      "*****\n"
     ]
    }
   ],
   "source": [
    "for n in range(1,6):\n",
    "    for i in range(1,n+1):\n",
    "        print(\"*\", end=\"\")\n",
    "    print()"
   ]
  },
  {
   "cell_type": "raw",
   "id": "628fb389",
   "metadata": {},
   "source": [
    "    *\n",
    "   **\n",
    "  ***\n",
    " ****\n",
    "*****"
   ]
  },
  {
   "cell_type": "code",
   "execution_count": 41,
   "id": "c019c386",
   "metadata": {},
   "outputs": [
    {
     "name": "stdout",
     "output_type": "stream",
     "text": [
      "    *\n",
      "   **\n",
      "  ***\n",
      " ****\n",
      "*****\n"
     ]
    }
   ],
   "source": [
    "for r in range(1,6):\n",
    "    for s in range(0,5-r):\n",
    "        print(\" \", end=\"\")\n",
    "        \n",
    "    for a in range(0,r):\n",
    "        print(\"*\", end=\"\")\n",
    "        \n",
    "    print()\n",
    "        "
   ]
  },
  {
   "cell_type": "code",
   "execution_count": null,
   "id": "b9d3a52f",
   "metadata": {},
   "outputs": [],
   "source": [
    "a=range(0, 5)"
   ]
  }
 ],
 "metadata": {
  "kernelspec": {
   "display_name": "Python 3 (ipykernel)",
   "language": "python",
   "name": "python3"
  },
  "language_info": {
   "codemirror_mode": {
    "name": "ipython",
    "version": 3
   },
   "file_extension": ".py",
   "mimetype": "text/x-python",
   "name": "python",
   "nbconvert_exporter": "python",
   "pygments_lexer": "ipython3",
   "version": "3.9.7"
  }
 },
 "nbformat": 4,
 "nbformat_minor": 5
}
