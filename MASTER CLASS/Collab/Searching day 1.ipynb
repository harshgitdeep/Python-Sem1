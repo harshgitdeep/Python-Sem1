{
 "cells": [
  {
   "cell_type": "markdown",
   "id": "1b24d890",
   "metadata": {},
   "source": [
    "# Linear Search"
   ]
  },
  {
   "cell_type": "code",
   "execution_count": 12,
   "id": "6aeaf75f",
   "metadata": {},
   "outputs": [
    {
     "name": "stdout",
     "output_type": "stream",
     "text": [
      "Enter list elements 11 23 45 67 78 \n",
      "Enter value to be searched :45\n",
      "45 Found at location 2\n",
      "45 Not Found in the list \n"
     ]
    }
   ],
   "source": [
    "list=input(\"Enter list elements \").split()\n",
    "key=input(\"Enter value to be searched :\")\n",
    "found=False\n",
    "\n",
    "for i in range(len(list)):\n",
    "    if(key==list[i]):\n",
    "        print(str(key)+\" Found at location \"+str(i))\n",
    "        found=True\n",
    "        \n",
    "if(found==False):\n",
    "    print(str(key)+\" Not Found in the list \")\n",
    "        \n",
    "\n"
   ]
  },
  {
   "cell_type": "markdown",
   "id": "23647691",
   "metadata": {},
   "source": [
    "Linear search function"
   ]
  },
  {
   "cell_type": "code",
   "execution_count": 6,
   "id": "d6d8665d",
   "metadata": {},
   "outputs": [],
   "source": [
    "def linear(list, key):\n",
    "    for i in range(len(list)):\n",
    "        if(key==list[i]):\n",
    "            return(i)\n",
    "    return(-1)\n",
    "\n",
    "        "
   ]
  },
  {
   "cell_type": "code",
   "execution_count": 8,
   "id": "ff23187a",
   "metadata": {},
   "outputs": [
    {
     "name": "stdout",
     "output_type": "stream",
     "text": [
      "Enter list elements 11 23 45 56 89\n",
      "Enter value to be searched :345\n",
      "-1\n"
     ]
    }
   ],
   "source": [
    "list=input(\"Enter list elements \").split()\n",
    "key=input(\"Enter value to be searched :\")\n",
    "x=linear(list,key)\n",
    "print(x)"
   ]
  },
  {
   "cell_type": "code",
   "execution_count": null,
   "id": "1ad0218b",
   "metadata": {},
   "outputs": [],
   "source": [
    "Recursive linear search function"
   ]
  },
  {
   "cell_type": "code",
   "execution_count": null,
   "id": "a046915f",
   "metadata": {},
   "outputs": [],
   "source": []
  },
  {
   "cell_type": "markdown",
   "id": "eccfb265",
   "metadata": {},
   "source": [
    "Replace"
   ]
  },
  {
   "cell_type": "code",
   "execution_count": 9,
   "id": "7fb4bffe",
   "metadata": {},
   "outputs": [
    {
     "name": "stdout",
     "output_type": "stream",
     "text": [
      "Enter list elements 11 23 45 67\n",
      "Enter value to be searched :45\n",
      "Replaced Value :450\n",
      "['11', '23', '450', '67']\n"
     ]
    }
   ],
   "source": [
    "list=input(\"Enter list elements \").split()\n",
    "key=input(\"Enter value to be searched :\")\n",
    "rep=input(\"Replaced Value :\")\n",
    "x=linear(list,key)\n",
    "if(x==-1):\n",
    "    print(\"Element not found. No replacement possible\")\n",
    "else:\n",
    "    list[x]=rep\n",
    "\n",
    "print(list)\n",
    "\n"
   ]
  },
  {
   "cell_type": "markdown",
   "id": "4aa7f54c",
   "metadata": {},
   "source": [
    "Write a python script which replaces all the negative numbers in the list with it squares and positive numbers with it cubes."
   ]
  },
  {
   "cell_type": "code",
   "execution_count": null,
   "id": "e462b706",
   "metadata": {},
   "outputs": [],
   "source": []
  }
 ],
 "metadata": {
  "kernelspec": {
   "display_name": "Python 3 (ipykernel)",
   "language": "python",
   "name": "python3"
  },
  "language_info": {
   "codemirror_mode": {
    "name": "ipython",
    "version": 3
   },
   "file_extension": ".py",
   "mimetype": "text/x-python",
   "name": "python",
   "nbconvert_exporter": "python",
   "pygments_lexer": "ipython3",
   "version": "3.9.7"
  }
 },
 "nbformat": 4,
 "nbformat_minor": 5
}
