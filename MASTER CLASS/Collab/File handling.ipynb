{
 "cells": [
  {
   "cell_type": "markdown",
   "id": "4f0054b0",
   "metadata": {},
   "source": [
    "# File Handeling"
   ]
  },
  {
   "cell_type": "markdown",
   "id": "d0414fbb",
   "metadata": {},
   "source": [
    "Python has several functions for creating, reading, updating, and deleting files."
   ]
  },
  {
   "cell_type": "markdown",
   "id": "0e10b10a",
   "metadata": {},
   "source": [
    "he key function for working with files in Python is the open() function.\n",
    "\n",
    "The open() function takes two parameters; filename, and mode.\n",
    "\n",
    "There are four different methods (modes) for opening a file:\n",
    "\n",
    "\"r\" - Read - Default value. Opens a file for reading, error if the file does not exist\n",
    "\n",
    "\"a\" - Append - Opens a file for appending, creates the file if it does not exist\n",
    "\n",
    "\"w\" - Write - Opens a file for writing, creates the file if it does not exist\n",
    "\n",
    "\"x\" - Create - Creates the specified file, returns an error if the file exists"
   ]
  },
  {
   "cell_type": "markdown",
   "id": "59bd9f3a",
   "metadata": {},
   "source": [
    "Write to an Existing File\n",
    "To write to an existing file, you must add a parameter to the open() function:\n",
    "\n",
    "\"a\" - Append - will append to the end of the file\n",
    "\n",
    "\"w\" - Write - will overwrite any existing content"
   ]
  },
  {
   "cell_type": "code",
   "execution_count": 3,
   "id": "16e571e2",
   "metadata": {},
   "outputs": [],
   "source": [
    "f = open(\"myfirstfile.txt\", \"w\")\n",
    "f.write(\"I study in Chitkara University\\n\")\n",
    "f.write(\"I live in punjab\")\n",
    "f.close()\n"
   ]
  },
  {
   "cell_type": "code",
   "execution_count": 5,
   "id": "c221ff97",
   "metadata": {},
   "outputs": [],
   "source": [
    "f = open(\"myfirstfile.txt\", \"w\")\n",
    "f.write(\"CCcacdcdscdavds\")\n",
    "f.close()"
   ]
  },
  {
   "cell_type": "code",
   "execution_count": 5,
   "id": "8e823742",
   "metadata": {},
   "outputs": [
    {
     "name": "stdout",
     "output_type": "stream",
     "text": [
      "I study in Chitkara University\n",
      "I live in punjab\n"
     ]
    }
   ],
   "source": [
    "#open and read the file after the appending:\n",
    "f = open(\"myfirstfile.txt\", \"r\")\n",
    "x=f.read()\n",
    "print(x)"
   ]
  },
  {
   "cell_type": "code",
   "execution_count": 8,
   "id": "14cd5dc4",
   "metadata": {},
   "outputs": [
    {
     "name": "stdout",
     "output_type": "stream",
     "text": [
      "I study in Chitkara University\n",
      "I live in punjabI love my indiadsvsvds\n",
      "I love my india\\dsvsvds\n",
      "I love my india\n",
      "dsvsvds\n"
     ]
    }
   ],
   "source": [
    "f = open(\"myfirstfile.txt\", \"a\")\n",
    "f.write(\"\\nI love my india\")\n",
    "f.write(\"\\ndsvsvds\")\n",
    "f.close()\n",
    "\n",
    "f = open(\"myfirstfile.txt\", \"r\")\n",
    "x=f.read()\n",
    "f.close()\n",
    "print(x)"
   ]
  },
  {
   "cell_type": "code",
   "execution_count": 10,
   "id": "a8f87f63",
   "metadata": {},
   "outputs": [
    {
     "name": "stdout",
     "output_type": "stream",
     "text": [
      "I stu\n"
     ]
    }
   ],
   "source": [
    "f = open(\"myfirstfile.txt\", \"r\")\n",
    "x=f.read(5)\n",
    "f.close()\n",
    "print(x)"
   ]
  },
  {
   "cell_type": "code",
   "execution_count": 4,
   "id": "3e10d5b6",
   "metadata": {},
   "outputs": [],
   "source": [
    "file = open('second.txt','w')\n",
    "file.write(\"This is the write command\")\n",
    "file.write(\"It allows us to write in a particular file\")\n",
    "file.close()"
   ]
  },
  {
   "cell_type": "code",
   "execution_count": 5,
   "id": "3d36da2f",
   "metadata": {},
   "outputs": [
    {
     "name": "stdout",
     "output_type": "stream",
     "text": [
      "This is the write commandIt allows us to write in a particular file\n"
     ]
    }
   ],
   "source": [
    "f = open(\"second.txt\", \"r\")\n",
    "x=f.read()\n",
    "f.close()\n",
    "print(x)"
   ]
  },
  {
   "cell_type": "code",
   "execution_count": 6,
   "id": "c189c79f",
   "metadata": {},
   "outputs": [],
   "source": [
    "file = open('second.txt','w')\n",
    "file.write(\"This is the write command\\n\")\n",
    "file.write(\"It allows us to write in a particular file\\n\")\n",
    "file.close()"
   ]
  },
  {
   "cell_type": "code",
   "execution_count": 7,
   "id": "0e4ef9e6",
   "metadata": {},
   "outputs": [
    {
     "name": "stdout",
     "output_type": "stream",
     "text": [
      "This is the write command\n",
      "It allows us to write in a particular file\n",
      "\n"
     ]
    }
   ],
   "source": [
    "f = open(\"second.txt\", \"r\")\n",
    "x=f.read()\n",
    "f.close()\n",
    "print(x)"
   ]
  },
  {
   "cell_type": "code",
   "execution_count": 10,
   "id": "aef7602e",
   "metadata": {},
   "outputs": [
    {
     "name": "stdout",
     "output_type": "stream",
     "text": [
      "This is the write command\n",
      "\n"
     ]
    }
   ],
   "source": [
    "f = open(\"second.txt\", \"r\")\n",
    "x=f.readline()\n",
    "f.close()\n",
    "print(x)"
   ]
  },
  {
   "cell_type": "markdown",
   "id": "520f17b2",
   "metadata": {},
   "source": [
    "# The with statement"
   ]
  },
  {
   "cell_type": "markdown",
   "id": "7a98d7b8",
   "metadata": {},
   "source": [
    "The syntax to open a file using with the statement is given below."
   ]
  },
  {
   "cell_type": "raw",
   "id": "142f2b05",
   "metadata": {},
   "source": [
    "with open(<file name>, <access mode>) as <file-pointer>:  "
   ]
  },
  {
   "cell_type": "code",
   "execution_count": 9,
   "id": "fbc726ce",
   "metadata": {},
   "outputs": [
    {
     "name": "stdout",
     "output_type": "stream",
     "text": [
      "I study in Chitkara University\n",
      "I live in punjabI love my indiadsvsvds\n",
      "I love my india\\dsvsvds\n",
      "I love my india\n",
      "dsvsvds\n"
     ]
    }
   ],
   "source": [
    "with open(\"myfirstfile.txt\",'r') as f:    \n",
    "    content = f.read();    \n",
    "    print(content)   "
   ]
  },
  {
   "cell_type": "markdown",
   "id": "3bd2b20f",
   "metadata": {},
   "source": [
    "# Read file through for loop"
   ]
  },
  {
   "cell_type": "code",
   "execution_count": 11,
   "id": "17bdac4b",
   "metadata": {},
   "outputs": [
    {
     "name": "stdout",
     "output_type": "stream",
     "text": [
      "I study in Chitkara University\n",
      "\n",
      "I live in punjabI love my indiadsvsvds\n",
      "\n",
      "I love my india\\dsvsvds\n",
      "\n",
      "I love my india\n",
      "\n",
      "dsvsvds\n"
     ]
    }
   ],
   "source": [
    "with open(\"myfirstfile.txt\",'r') as f:     \n",
    "#running a for loop     \n",
    "    for i in f:    \n",
    "        print(i)"
   ]
  },
  {
   "cell_type": "markdown",
   "id": "4619a194",
   "metadata": {},
   "source": [
    "# File Pointer positions"
   ]
  },
  {
   "cell_type": "markdown",
   "id": "c5fd0e3b",
   "metadata": {},
   "source": [
    "Python provides the tell() method which is used to print the byte number at which the file pointer currently exists. "
   ]
  },
  {
   "cell_type": "code",
   "execution_count": 12,
   "id": "e682f733",
   "metadata": {},
   "outputs": [
    {
     "name": "stdout",
     "output_type": "stream",
     "text": [
      " I love my india. India is a beautiful country\n"
     ]
    }
   ],
   "source": [
    "fp=open(\"myfile.txt\",\"w\")\n",
    "fp.write(\" I love my india. India is a beautiful country\")\n",
    "fp.close()\n",
    "fp=open(\"myfile.txt\",\"r\")\n",
    "t=fp.read()\n",
    "print(t)\n",
    "fp.close()"
   ]
  },
  {
   "cell_type": "code",
   "execution_count": 20,
   "id": "37c81da0",
   "metadata": {},
   "outputs": [
    {
     "name": "stdout",
     "output_type": "stream",
     "text": [
      "0\n",
      "5\n",
      "7\n",
      "46\n"
     ]
    }
   ],
   "source": [
    "fp=open(\"myfile.txt\",\"r\")\n",
    "print(fp.tell())\n",
    "fp.read(5)\n",
    "print(fp.tell())\n",
    "fp.read(2)\n",
    "print(fp.tell())\n",
    "fp.read()\n",
    "print(fp.tell())"
   ]
  },
  {
   "cell_type": "code",
   "execution_count": 17,
   "id": "7aa3af19",
   "metadata": {},
   "outputs": [
    {
     "name": "stdout",
     "output_type": "stream",
     "text": [
      "The filepointer is at byte : 0\n",
      "After reading, the filepointer is at: 10\n",
      "After reading, the filepointer is at: 71\n"
     ]
    }
   ],
   "source": [
    "fileptr = open(\"second.txt\",\"r\")    \n",
    "  \n",
    "#initially the filepointer is at 0     \n",
    "print(\"The filepointer is at byte :\",fileptr.tell()) \n",
    "\n",
    "content = fileptr.read(10);    \n",
    "    \n",
    "#after the read operation file pointer modifies. tell() returns the location of the fileptr.     \n",
    "    \n",
    "print(\"After reading, the filepointer is at:\",fileptr.tell()) \n",
    "    \n",
    "#reading the content of the file    \n",
    "content = fileptr.read();    \n",
    "    \n",
    "#after the read operation file pointer modifies. tell() returns the location of the fileptr.  \n",
    "   \n",
    "print(\"After reading, the filepointer is at:\",fileptr.tell()) "
   ]
  },
  {
   "cell_type": "markdown",
   "id": "a8daf609",
   "metadata": {},
   "source": [
    "# Modifying file pointer position"
   ]
  },
  {
   "cell_type": "raw",
   "id": "8ce18098",
   "metadata": {},
   "source": [
    "For this purpose, the Python provides us the seek() method which enables us to modify the file pointer position externally.\n",
    "\n",
    "The syntax to use the seek() method is given below.\n",
    "\n",
    "Syntax:\n",
    "\n",
    "<file-ptr>.seek(offset[, from]) "
   ]
  },
  {
   "cell_type": "raw",
   "id": "6c4d0057",
   "metadata": {},
   "source": [
    "offset: It refers to the new position of the file pointer within the file.\n",
    "\n",
    "from: It indicates the reference position from where the bytes are to be moved. If it is set to 0, the beginning of the file is used as the reference position. If it is set to 1, the current position of the file pointer is used as the reference position. If it is set to 2, the end of the file pointer is used as the reference position."
   ]
  },
  {
   "cell_type": "code",
   "execution_count": 25,
   "id": "53638ba3",
   "metadata": {},
   "outputs": [
    {
     "name": "stdout",
     "output_type": "stream",
     "text": [
      "The filepointer is at byte : 0\n",
      "After reading, the filepointer is at: 10\n",
      "5\n"
     ]
    }
   ],
   "source": [
    "fileptr = open(\"second.txt\",\"r\")    \n",
    "    \n",
    "#initially the filepointer is at 0     \n",
    "print(\"The filepointer is at byte :\",fileptr.tell())    \n",
    "    \n",
    "#changing the file pointer location to 10.    \n",
    "fileptr.seek(10);    \n",
    "    \n",
    "#tell() returns the location of the fileptr.     \n",
    "print(\"After reading, the filepointer is at:\",fileptr.tell()) \n",
    "fileptr.seek(5,0);\n",
    "print(fileptr.tell())\n"
   ]
  },
  {
   "cell_type": "code",
   "execution_count": 29,
   "id": "018c0b95",
   "metadata": {},
   "outputs": [
    {
     "name": "stdout",
     "output_type": "stream",
     "text": [
      "Read String is :  I study in\n",
      "Current file position :  10\n",
      " Chitkara University\n",
      "I live in punjabI love my indiadsvsvds\n",
      "I love my india\\dsvsvds\n",
      "I love my india\n",
      "dsvsvds\n"
     ]
    }
   ],
   "source": [
    "# Open a file\n",
    "fo = open(\"myfirstfile.txt\", \"r+\")\n",
    "str = fo.read(10)\n",
    "print (\"Read String is : \", str)\n",
    "\n",
    "# Check current position\n",
    "position = fo.tell()\n",
    "print( \"Current file position : \", position)\n",
    "\n",
    "t=fo.read()\n",
    "print(t)\n",
    "\n",
    "\n"
   ]
  },
  {
   "cell_type": "code",
   "execution_count": 7,
   "id": "1352f9b2",
   "metadata": {},
   "outputs": [
    {
     "name": "stdout",
     "output_type": "stream",
     "text": [
      "e write command\n",
      "It allows us to write in a particular file\n",
      "\n"
     ]
    }
   ],
   "source": [
    "str=fo.read()\n",
    "print(str)"
   ]
  },
  {
   "cell_type": "markdown",
   "id": "dbbeb855",
   "metadata": {},
   "source": [
    "Write a Python program to read the content of two files and merge them in third file."
   ]
  },
  {
   "cell_type": "code",
   "execution_count": 31,
   "id": "0791c8c6",
   "metadata": {},
   "outputs": [
    {
     "name": "stdout",
     "output_type": "stream",
     "text": [
      "Input content of fileChitkara\n",
      "Input content of fileUniversity\n"
     ]
    }
   ],
   "source": [
    "f=open(\"first.txt\",\"w\")\n",
    "str=input(\"Input content of file\")\n",
    "f.write(str)\n",
    "f.close()\n",
    "f=open(\"second.txt\",\"w\")\n",
    "str=input(\"Input content of file\")\n",
    "f.write(str)\n",
    "f.close()\n"
   ]
  },
  {
   "cell_type": "code",
   "execution_count": null,
   "id": "6968bcd5",
   "metadata": {},
   "outputs": [],
   "source": []
  },
  {
   "cell_type": "code",
   "execution_count": 32,
   "id": "28e46533",
   "metadata": {},
   "outputs": [
    {
     "name": "stdout",
     "output_type": "stream",
     "text": [
      "ChitkaraUniversity\n"
     ]
    }
   ],
   "source": [
    "f1=open(\"first.txt\",\"r\")\n",
    "f2=open(\"second.txt\",\"r\")\n",
    "f3=open(\"merge.txt\",\"w\")\n",
    "str=f1.read()\n",
    "#print(str)\n",
    "f3.write(str)\n",
    "str=f2.read()\n",
    "#print(str)\n",
    "f3.write(str)\n",
    "f3.close()\n",
    "f3=open(\"merge.txt\",\"r\")\n",
    "str=f3.read()\n",
    "print(str)\n",
    "f1.close()\n",
    "f2.close()\n",
    "f3.close()\n"
   ]
  },
  {
   "cell_type": "markdown",
   "id": "07100b24",
   "metadata": {},
   "source": [
    "Count the total number of upper case, lower case, and digits used in the text file “merge.txt”."
   ]
  },
  {
   "cell_type": "code",
   "execution_count": 33,
   "id": "0ed05271",
   "metadata": {},
   "outputs": [
    {
     "name": "stdout",
     "output_type": "stream",
     "text": [
      "Total Number of Upper Case letters are: 2\n",
      "Total Number of Lower Case letters are: 16\n",
      "Total Number of  digits are: 0\n"
     ]
    }
   ],
   "source": [
    "with open(\"merge.txt\",\"r\") as f1:\n",
    "    data=f1.read()\n",
    "    cnt_ucase =0\n",
    "    cnt_lcase=0\n",
    "    cnt_digits=0\n",
    "    for ch in data:\n",
    "        if ch.islower():\n",
    "            cnt_lcase+=1\n",
    "        if ch.isupper():\n",
    "            cnt_ucase+=1\n",
    "        if ch.isdigit():\n",
    "            cnt_digits+=1\n",
    "    print(\"Total Number of Upper Case letters are:\",cnt_ucase)\n",
    "    print(\"Total Number of Lower Case letters are:\",cnt_lcase)\n",
    "    print(\"Total Number of  digits are:\",cnt_digits)"
   ]
  },
  {
   "cell_type": "markdown",
   "id": "2bf4058c",
   "metadata": {},
   "source": [
    "Write a program to count a total number of lines and count the total number of lines starting with ‘A’, ‘B’, and ‘C’."
   ]
  },
  {
   "cell_type": "code",
   "execution_count": 35,
   "id": "527e7f6b",
   "metadata": {},
   "outputs": [
    {
     "name": "stdout",
     "output_type": "stream",
     "text": [
      "Total Number of lines are: 5\n",
      "Total Number of lines strating with I are: 4\n",
      "Total Number of lines strating with B are: 0\n",
      "Total Number of lines strating with C are: 0\n"
     ]
    }
   ],
   "source": [
    "with open(\"myfirstfile.txt\",\"r\") as f1:\n",
    "    data=f1.readlines()\n",
    "    cnt_lines=0\n",
    "    cnt_A=0\n",
    "    cnt_B=0\n",
    "    cnt_C=0\n",
    "    for lines in data:\n",
    "        cnt_lines+=1\n",
    "        if lines[0]=='I':\n",
    "            cnt_A+=1\n",
    "        if lines[0]=='B':\n",
    "            cnt_B+=1\n",
    "        if lines[0]=='C':\n",
    "            cnt_C+=1\n",
    "    print(\"Total Number of lines are:\",cnt_lines)\n",
    "    print(\"Total Number of lines strating with I are:\",cnt_A)\n",
    "    print(\"Total Number of lines strating with B are:\",cnt_B)\n",
    "    print(\"Total Number of lines strating with C are:\",cnt_C)"
   ]
  },
  {
   "cell_type": "markdown",
   "id": "71ea3de7",
   "metadata": {},
   "source": [
    "Find the total occurrences of a specific word from a text file"
   ]
  },
  {
   "cell_type": "code",
   "execution_count": 37,
   "id": "33178ceb",
   "metadata": {},
   "outputs": [
    {
     "name": "stdout",
     "output_type": "stream",
     "text": [
      "Enter the words to search:I\n",
      "I found  4  times from the file\n"
     ]
    }
   ],
   "source": [
    "    cnt = 0\n",
    "    word_search = input(\"Enter the words to search:\")\n",
    "    with open(\"myfirstfile.txt\",\"r\") as f1:\n",
    "        for data in f1:\n",
    "            words = data.split()\n",
    "            for word in words:\n",
    "                if (word == word_search):\n",
    "                    cnt+=1\n",
    "    print(word_search, \"found \", cnt, \" times from the file\")"
   ]
  },
  {
   "cell_type": "markdown",
   "id": "c66b5fbf",
   "metadata": {},
   "source": [
    "Replace all spaces from text with – (dash)."
   ]
  },
  {
   "cell_type": "code",
   "execution_count": 41,
   "id": "68ebab95",
   "metadata": {},
   "outputs": [],
   "source": [
    "    with open(\"merge.txt\",\"r\") as f1:\n",
    "       data = f1.read()\n",
    "       data=data.replace(' ','-')\n",
    "    with open(\"merge.txt\",\"w\") as f1:\n",
    "        f1.write(data)"
   ]
  },
  {
   "cell_type": "raw",
   "id": "154b58ce",
   "metadata": {},
   "source": [
    "Write a program to know the cursor position and print the text according to below-given specifications:\n",
    "\n",
    "Print the initial position\n",
    "Move the cursor to 4th position\n",
    "Display next 5 characters\n",
    "Move the cursor to the next 10 characters\n",
    "Print the current cursor position\n",
    "Print next 10 characters from the current cursor position"
   ]
  },
  {
   "cell_type": "code",
   "execution_count": 42,
   "id": "23426e96",
   "metadata": {},
   "outputs": [
    {
     "name": "stdout",
     "output_type": "stream",
     "text": [
      "0\n",
      "hyam\n",
      "10\n",
      "7\n",
      "m\n"
     ]
    }
   ],
   "source": [
    "    f = open(\"merge.txt\",\"r\")\n",
    "    print(f.tell())\n",
    "    f.seek(4,0)\n",
    "    print(f.read(5))\n",
    "    f.seek(10,0)\n",
    "    print(f.tell())\n",
    "    print(f.seek(7,0))\n",
    "    print(f.read(10))"
   ]
  },
  {
   "cell_type": "code",
   "execution_count": null,
   "id": "66db59cf",
   "metadata": {},
   "outputs": [],
   "source": []
  }
 ],
 "metadata": {
  "kernelspec": {
   "display_name": "Python 3 (ipykernel)",
   "language": "python",
   "name": "python3"
  },
  "language_info": {
   "codemirror_mode": {
    "name": "ipython",
    "version": 3
   },
   "file_extension": ".py",
   "mimetype": "text/x-python",
   "name": "python",
   "nbconvert_exporter": "python",
   "pygments_lexer": "ipython3",
   "version": "3.9.7"
  }
 },
 "nbformat": 4,
 "nbformat_minor": 5
}
