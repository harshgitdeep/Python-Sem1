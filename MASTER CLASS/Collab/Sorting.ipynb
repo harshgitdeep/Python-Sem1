{
 "cells": [
  {
   "cell_type": "markdown",
   "id": "a657d8e2",
   "metadata": {},
   "source": [
    "# Bubble Sort"
   ]
  },
  {
   "cell_type": "code",
   "execution_count": 1,
   "id": "e3857bb9",
   "metadata": {},
   "outputs": [],
   "source": [
    "a=[12,34,4,44,8]\n",
    "n=len(a)\n",
    "for i in range(n-1):\n",
    "    for j in range(0, n-i-1):\n",
    "        if a[j] > a[j + 1] :\n",
    "            a[j], a[j + 1] = a[j + 1], a[j]\n"
   ]
  },
  {
   "cell_type": "code",
   "execution_count": null,
   "id": "f3718fee",
   "metadata": {},
   "outputs": [],
   "source": []
  },
  {
   "cell_type": "code",
   "execution_count": 2,
   "id": "47320b01",
   "metadata": {},
   "outputs": [
    {
     "name": "stdout",
     "output_type": "stream",
     "text": [
      "[4, 8, 12, 34, 44]\n"
     ]
    }
   ],
   "source": [
    "print(a)\n"
   ]
  },
  {
   "cell_type": "code",
   "execution_count": 3,
   "id": "cf1a8456",
   "metadata": {},
   "outputs": [],
   "source": [
    "def bubble(a):\n",
    "    n=len(a)\n",
    "    for i in range(n-1):\n",
    "        for j in range(0, n-i-1):\n",
    "            if a[j] > a[j + 1] :\n",
    "                a[j], a[j + 1] = a[j + 1], a[j]\n",
    "    return(a)\n",
    "    \n",
    "    "
   ]
  },
  {
   "cell_type": "code",
   "execution_count": 4,
   "id": "c336b0d6",
   "metadata": {},
   "outputs": [
    {
     "name": "stdout",
     "output_type": "stream",
     "text": [
      "[2, 5, 45, 78, 90]\n"
     ]
    }
   ],
   "source": [
    "x=bubble([45,5,78,2,90])\n",
    "print(x)"
   ]
  },
  {
   "cell_type": "markdown",
   "id": "a51cc104",
   "metadata": {},
   "source": [
    "# Selection Sort"
   ]
  },
  {
   "cell_type": "code",
   "execution_count": 5,
   "id": "22dc71f3",
   "metadata": {},
   "outputs": [],
   "source": [
    "a=[12,34,4,44,8]\n",
    "n=len(a)\n",
    "for i in range(n-1):\n",
    "    for j in range(i+1, n):\n",
    "        if a[i] > a[j] :\n",
    "            a[i], a[j] = a[j], a[i]\n"
   ]
  },
  {
   "cell_type": "code",
   "execution_count": 6,
   "id": "4510684a",
   "metadata": {},
   "outputs": [
    {
     "name": "stdout",
     "output_type": "stream",
     "text": [
      "[4, 8, 12, 34, 44]\n"
     ]
    }
   ],
   "source": [
    "print(a)"
   ]
  },
  {
   "cell_type": "markdown",
   "id": "3f234dd2",
   "metadata": {},
   "source": [
    "# Insertion Sort"
   ]
  },
  {
   "cell_type": "code",
   "execution_count": 1,
   "id": "dcc807f0",
   "metadata": {},
   "outputs": [],
   "source": [
    "a=[12,34,4,44,8]\n",
    "n=len(a)\n",
    "for i in range(1, n):\n",
    "    key = a[i]\n",
    "    j = i-1\n",
    "    while j >= 0 and key < a[j] :\n",
    "        a[j+1] = a[j]\n",
    "        j -= 1\n",
    "    a[j+1] = key"
   ]
  },
  {
   "cell_type": "code",
   "execution_count": 2,
   "id": "f32afcbc",
   "metadata": {},
   "outputs": [
    {
     "name": "stdout",
     "output_type": "stream",
     "text": [
      "[4, 8, 12, 34, 44]\n"
     ]
    }
   ],
   "source": [
    "print(a)"
   ]
  },
  {
   "cell_type": "code",
   "execution_count": null,
   "id": "f440cc72",
   "metadata": {},
   "outputs": [],
   "source": []
  }
 ],
 "metadata": {
  "kernelspec": {
   "display_name": "Python 3 (ipykernel)",
   "language": "python",
   "name": "python3"
  },
  "language_info": {
   "codemirror_mode": {
    "name": "ipython",
    "version": 3
   },
   "file_extension": ".py",
   "mimetype": "text/x-python",
   "name": "python",
   "nbconvert_exporter": "python",
   "pygments_lexer": "ipython3",
   "version": "3.9.7"
  }
 },
 "nbformat": 4,
 "nbformat_minor": 5
}
