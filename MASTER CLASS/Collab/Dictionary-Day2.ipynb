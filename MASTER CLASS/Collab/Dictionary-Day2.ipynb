{
 "cells": [
  {
   "cell_type": "markdown",
   "id": "9dab76eb",
   "metadata": {},
   "source": [
    "# Dictionary"
   ]
  },
  {
   "cell_type": "raw",
   "id": "20cfd229",
   "metadata": {},
   "source": [
    "Python Dictionary is used to store the data in a key-value pair format. The dictionary is the data type in Python, which can simulate the real-life data arrangement where some specific value exists for some particular key. The dictionary is defined into element Keys and values.\n",
    "\n",
    "Keys must be a single element\n",
    "Value can be any type such as list, tuple, integer, etc."
   ]
  },
  {
   "cell_type": "markdown",
   "id": "ec239e71",
   "metadata": {},
   "source": [
    "In Python, a Dictionary can be created by placing a sequence of elements within curly {} braces, separated by ‘comma’. Dictionary holds a pair of values, one being the Key and the other corresponding pair element being its Key:value. Values in a dictionary can be of any data type and can be duplicated, whereas keys can’t be repeated and must be immutable. "
   ]
  },
  {
   "cell_type": "markdown",
   "id": "bab5a982",
   "metadata": {},
   "source": [
    "# Create and print a dictionary"
   ]
  },
  {
   "cell_type": "raw",
   "id": "df765a42",
   "metadata": {},
   "source": [
    "You can define a dictionary by enclosing a comma-separated list of key-value pairs in curly braces ({}). A colon (:) separates each key from its associated value:\n",
    "\n",
    "d = {\n",
    "    <key>: <value>,\n",
    "    <key>: <value>,\n",
    "      .\n",
    "      .\n",
    "      .\n",
    "    <key>: <value>\n",
    "}"
   ]
  },
  {
   "cell_type": "code",
   "execution_count": 1,
   "id": "aa68325f",
   "metadata": {},
   "outputs": [],
   "source": [
    "Dict = {\"Name\": \"Tom\", \"Age\": 22,\"salary\":50000}  "
   ]
  },
  {
   "cell_type": "code",
   "execution_count": 39,
   "id": "0c1d85c8",
   "metadata": {},
   "outputs": [
    {
     "name": "stdout",
     "output_type": "stream",
     "text": [
      "Enter Name :Ramesh\n",
      "Enter Age :45\n"
     ]
    }
   ],
   "source": [
    "p={}\n",
    "p[\"Name\"]=input(\"Enter Name :\")\n",
    "p[\"Age\"]=input(\"Enter Age :\")"
   ]
  },
  {
   "cell_type": "code",
   "execution_count": 40,
   "id": "f911ad2a",
   "metadata": {},
   "outputs": [
    {
     "name": "stdout",
     "output_type": "stream",
     "text": [
      "{'Name': 'Ramesh', 'Age': '45'}\n"
     ]
    }
   ],
   "source": [
    "print(p)"
   ]
  },
  {
   "cell_type": "code",
   "execution_count": 2,
   "id": "581c359e",
   "metadata": {},
   "outputs": [
    {
     "data": {
      "text/plain": [
       "dict"
      ]
     },
     "execution_count": 2,
     "metadata": {},
     "output_type": "execute_result"
    }
   ],
   "source": [
    "type(Dict)"
   ]
  },
  {
   "cell_type": "code",
   "execution_count": 3,
   "id": "ab795938",
   "metadata": {},
   "outputs": [
    {
     "name": "stdout",
     "output_type": "stream",
     "text": [
      "{'Name': 'Tom', 'Age': 22, 'salary': 50000}\n"
     ]
    }
   ],
   "source": [
    "print(Dict)"
   ]
  },
  {
   "cell_type": "code",
   "execution_count": 6,
   "id": "2eab5ff5",
   "metadata": {},
   "outputs": [],
   "source": [
    "Employee = {\"Name\": \"John\", \"Age\": 29, \"salary\":25000,\"Company\":\"GOOGLE\"}"
   ]
  },
  {
   "cell_type": "code",
   "execution_count": 5,
   "id": "78ecd27a",
   "metadata": {},
   "outputs": [
    {
     "name": "stdout",
     "output_type": "stream",
     "text": [
      "{'Name': 'John', 'Age': 29, 'salary': 25000, 'Company': 'GOOGLE'}\n"
     ]
    }
   ],
   "source": [
    "print(Employee)"
   ]
  },
  {
   "cell_type": "markdown",
   "id": "41252c55",
   "metadata": {},
   "source": [
    "# Accessing the dictionary values"
   ]
  },
  {
   "cell_type": "markdown",
   "id": "96bbf6dd",
   "metadata": {},
   "source": [
    "A value is retrieved from a dictionary by specifying its corresponding key in square brackets"
   ]
  },
  {
   "cell_type": "code",
   "execution_count": 7,
   "id": "e65117e6",
   "metadata": {},
   "outputs": [
    {
     "name": "stdout",
     "output_type": "stream",
     "text": [
      "John\n"
     ]
    }
   ],
   "source": [
    "print(Employee[\"Name\"])"
   ]
  },
  {
   "cell_type": "code",
   "execution_count": 7,
   "id": "0fc34853",
   "metadata": {},
   "outputs": [
    {
     "name": "stdout",
     "output_type": "stream",
     "text": [
      "GOOGLE 25000\n"
     ]
    }
   ],
   "source": [
    "print(Employee[\"Company\"],Employee[\"salary\"])"
   ]
  },
  {
   "cell_type": "code",
   "execution_count": 8,
   "id": "99684f7c",
   "metadata": {},
   "outputs": [
    {
     "name": "stdout",
     "output_type": "stream",
     "text": [
      "25000\n"
     ]
    }
   ],
   "source": [
    "print(Employee[\"salary\"])"
   ]
  },
  {
   "cell_type": "raw",
   "id": "02865c13",
   "metadata": {},
   "source": [
    "Duplicates Not Allowed\n",
    "The same key cannot appear more than once in a collection. If the key appears more than once, only the last will be retained. The value can be of any data type. One value can be assigned to more than one key."
   ]
  },
  {
   "cell_type": "code",
   "execution_count": 9,
   "id": "aa8a5fb1",
   "metadata": {},
   "outputs": [
    {
     "name": "stdout",
     "output_type": "stream",
     "text": [
      "{'brand': 'Ford', 'model': 'ABC', 'year': 2020}\n"
     ]
    }
   ],
   "source": [
    "thisdict = {\n",
    "  \"brand\": \"Ford\",\n",
    "  \"model\": \"Ford\",\n",
    "  \"model\": \"ABC\",\n",
    "  \"year\": 1964,\n",
    "  \"year\": 2020\n",
    "}\n",
    "print(thisdict)"
   ]
  },
  {
   "cell_type": "markdown",
   "id": "04c5c872",
   "metadata": {},
   "source": [
    "List as Dictionary Value"
   ]
  },
  {
   "cell_type": "code",
   "execution_count": 11,
   "id": "84cf9fc2",
   "metadata": {},
   "outputs": [],
   "source": [
    "d = {\"Fruit\":[\"Mango\",\"Banana\"], \"Color\":[\"Blue\", \"Red\"]}"
   ]
  },
  {
   "cell_type": "code",
   "execution_count": 12,
   "id": "68d01588",
   "metadata": {},
   "outputs": [
    {
     "name": "stdout",
     "output_type": "stream",
     "text": [
      "{'Fruit': ['Mango', 'Banana'], 'Color': ['Blue', 'Red']}\n"
     ]
    }
   ],
   "source": [
    "print(d)"
   ]
  },
  {
   "cell_type": "code",
   "execution_count": 13,
   "id": "5f7f728d",
   "metadata": {},
   "outputs": [
    {
     "name": "stdout",
     "output_type": "stream",
     "text": [
      "['Mango', 'Banana']\n"
     ]
    }
   ],
   "source": [
    "print(d[\"Fruit\"])"
   ]
  },
  {
   "cell_type": "code",
   "execution_count": 17,
   "id": "f0d1321c",
   "metadata": {},
   "outputs": [
    {
     "name": "stdout",
     "output_type": "stream",
     "text": [
      "['Blue', 'Red']\n"
     ]
    }
   ],
   "source": [
    "print(d[\"Color\"])"
   ]
  },
  {
   "cell_type": "raw",
   "id": "769af39d",
   "metadata": {},
   "source": [
    "A dictionary can also be created using the dict() constructor method."
   ]
  },
  {
   "cell_type": "code",
   "execution_count": 14,
   "id": "c9c9f97d",
   "metadata": {},
   "outputs": [],
   "source": [
    "Employee = dict(name=\"John\", Age=29, salary=25000,Company=\"GOOGLE\")"
   ]
  },
  {
   "cell_type": "code",
   "execution_count": 15,
   "id": "dbe7827f",
   "metadata": {},
   "outputs": [
    {
     "name": "stdout",
     "output_type": "stream",
     "text": [
      "{'name': 'John', 'Age': 29, 'salary': 25000, 'Company': 'GOOGLE'}\n"
     ]
    }
   ],
   "source": [
    "print(Employee)"
   ]
  },
  {
   "cell_type": "code",
   "execution_count": 22,
   "id": "dbcc8afc",
   "metadata": {},
   "outputs": [
    {
     "name": "stdout",
     "output_type": "stream",
     "text": [
      "{'I': 'one', 'II': 'two', 'III': 'three'}\n"
     ]
    }
   ],
   "source": [
    "numdict = dict(I='one', II='two', III='three')\n",
    "print(numdict)"
   ]
  },
  {
   "cell_type": "markdown",
   "id": "a16cbc2f",
   "metadata": {},
   "source": [
    "# Building a Dictionary Incrementally"
   ]
  },
  {
   "cell_type": "code",
   "execution_count": 16,
   "id": "1e57d1cb",
   "metadata": {},
   "outputs": [],
   "source": [
    "d={\"Name\":\"Suresh\"}"
   ]
  },
  {
   "cell_type": "code",
   "execution_count": 17,
   "id": "c4a4b967",
   "metadata": {},
   "outputs": [
    {
     "name": "stdout",
     "output_type": "stream",
     "text": [
      "{'Name': 'Suresh'}\n"
     ]
    }
   ],
   "source": [
    "print(d)"
   ]
  },
  {
   "cell_type": "code",
   "execution_count": 18,
   "id": "3fd05cc3",
   "metadata": {},
   "outputs": [],
   "source": [
    "d[\"fname\"]=\"Gopal\""
   ]
  },
  {
   "cell_type": "code",
   "execution_count": 19,
   "id": "4f19df73",
   "metadata": {},
   "outputs": [
    {
     "name": "stdout",
     "output_type": "stream",
     "text": [
      "{'Name': 'Suresh', 'fname': 'Gopal'}\n"
     ]
    }
   ],
   "source": [
    "print(d)"
   ]
  },
  {
   "cell_type": "code",
   "execution_count": 20,
   "id": "d215b352",
   "metadata": {},
   "outputs": [],
   "source": [
    "d[\"City\"]=\"Rajpura\""
   ]
  },
  {
   "cell_type": "code",
   "execution_count": 21,
   "id": "553156bc",
   "metadata": {},
   "outputs": [
    {
     "name": "stdout",
     "output_type": "stream",
     "text": [
      "{'Name': 'Suresh', 'fname': 'Gopal', 'City': 'Rajpura'}\n"
     ]
    }
   ],
   "source": [
    "print(d)\n"
   ]
  },
  {
   "cell_type": "code",
   "execution_count": 22,
   "id": "7a3a25e6",
   "metadata": {},
   "outputs": [],
   "source": [
    "d[\"City\"]=\"Mohali\""
   ]
  },
  {
   "cell_type": "code",
   "execution_count": 26,
   "id": "b27d67d8",
   "metadata": {},
   "outputs": [
    {
     "name": "stdout",
     "output_type": "stream",
     "text": [
      "{'Name': 'Suresh', 'fname': 'Gopal', 'City': 'Mohali'}\n"
     ]
    }
   ],
   "source": [
    "print(d)"
   ]
  },
  {
   "cell_type": "code",
   "execution_count": 27,
   "id": "2bdfe54d",
   "metadata": {},
   "outputs": [],
   "source": [
    "del d[\"City\"]"
   ]
  },
  {
   "cell_type": "code",
   "execution_count": 28,
   "id": "efdaec8a",
   "metadata": {},
   "outputs": [
    {
     "name": "stdout",
     "output_type": "stream",
     "text": [
      "{'Name': 'Suresh', 'fname': 'Gopal'}\n"
     ]
    }
   ],
   "source": [
    "print(d)"
   ]
  },
  {
   "cell_type": "code",
   "execution_count": 29,
   "id": "8451844f",
   "metadata": {},
   "outputs": [],
   "source": [
    "d.clear()"
   ]
  },
  {
   "cell_type": "code",
   "execution_count": 30,
   "id": "430b5c19",
   "metadata": {},
   "outputs": [
    {
     "name": "stdout",
     "output_type": "stream",
     "text": [
      "{}\n"
     ]
    }
   ],
   "source": [
    "print(d)"
   ]
  },
  {
   "cell_type": "code",
   "execution_count": 24,
   "id": "c3028e52",
   "metadata": {},
   "outputs": [],
   "source": [
    "person = {}\n",
    "\n",
    "person['fname'] = 'Ramesh'\n",
    "person['lname'] = 'Kumar'\n",
    "person['age'] = 51\n",
    "person['spouse'] = 'Sunita'\n",
    "person['children'] = ['Vivek', 'Mohan', 'Gopal']\n",
    "person['pets'] = {'dog': 'Fido', 'cat': 'Sox'}"
   ]
  },
  {
   "cell_type": "code",
   "execution_count": null,
   "id": "02f8bbbb",
   "metadata": {},
   "outputs": [],
   "source": []
  },
  {
   "cell_type": "code",
   "execution_count": 25,
   "id": "0eb25e1f",
   "metadata": {},
   "outputs": [
    {
     "name": "stdout",
     "output_type": "stream",
     "text": [
      "{'fname': 'Ramesh', 'lname': 'Kumar', 'age': 51, 'spouse': 'Sunita', 'children': ['Vivek', 'Mohan', 'Gopal'], 'pets': {'dog': 'Fido', 'cat': 'Sox'}}\n"
     ]
    }
   ],
   "source": [
    "print(person)"
   ]
  },
  {
   "cell_type": "markdown",
   "id": "1fcf11d5",
   "metadata": {},
   "source": [
    "# Updating Dictionary"
   ]
  },
  {
   "cell_type": "raw",
   "id": "661dc5d8",
   "metadata": {},
   "source": [
    "You can update a dictionary by adding a new entry or a key-value pair, modifying an existing entry, or deleting an existing entry"
   ]
  },
  {
   "cell_type": "code",
   "execution_count": 43,
   "id": "fd6a90b9",
   "metadata": {},
   "outputs": [
    {
     "name": "stdout",
     "output_type": "stream",
     "text": [
      "dict['Age']:  8\n",
      "dict['School']:  DPS School\n"
     ]
    }
   ],
   "source": [
    "dict = {'Name': 'Zara', 'Age': 7, 'Class': 'First'}\n",
    "dict['Age'] = 8; # update existing entry\n",
    "dict['School'] = \"DPS School\"; # Add new entry\n",
    "\n",
    "print (\"dict['Age']: \", dict['Age'])\n",
    "print (\"dict['School']: \", dict['School'])"
   ]
  },
  {
   "cell_type": "raw",
   "id": "20346722",
   "metadata": {},
   "source": [
    "Delete Dictionary Elements"
   ]
  },
  {
   "cell_type": "code",
   "execution_count": 44,
   "id": "07131f89",
   "metadata": {},
   "outputs": [
    {
     "name": "stdout",
     "output_type": "stream",
     "text": [
      "{'Age': 8, 'Class': 'First', 'School': 'DPS School'}\n"
     ]
    }
   ],
   "source": [
    "\n",
    "del dict['Name']; # remove entry with key 'Name'\n",
    "#dict.clear();     # remove all entries in dict\n",
    "#del dict ;        # delete entire dictionary\n",
    "print(dict)"
   ]
  },
  {
   "cell_type": "markdown",
   "id": "f742ae98",
   "metadata": {},
   "source": [
    "# Iterating Dictionary"
   ]
  },
  {
   "cell_type": "code",
   "execution_count": 31,
   "id": "a7125995",
   "metadata": {},
   "outputs": [],
   "source": [
    "Employee = {\"Name\": \"John\", \"Age\": 29, \"salary\":25000,\"Company\":\"GOOGLE\"} "
   ]
  },
  {
   "cell_type": "code",
   "execution_count": 32,
   "id": "c4e22218",
   "metadata": {},
   "outputs": [
    {
     "name": "stdout",
     "output_type": "stream",
     "text": [
      "dict_keys(['Name', 'Age', 'salary', 'Company'])\n"
     ]
    }
   ],
   "source": [
    "print(Employee.keys())"
   ]
  },
  {
   "cell_type": "code",
   "execution_count": 33,
   "id": "dafe5304",
   "metadata": {},
   "outputs": [
    {
     "name": "stdout",
     "output_type": "stream",
     "text": [
      "dict_values(['John', 29, 25000, 'GOOGLE'])\n"
     ]
    }
   ],
   "source": [
    "print(Employee.values())"
   ]
  },
  {
   "cell_type": "code",
   "execution_count": 34,
   "id": "3e766c34",
   "metadata": {},
   "outputs": [
    {
     "name": "stdout",
     "output_type": "stream",
     "text": [
      "dict_items([('Name', 'John'), ('Age', 29), ('salary', 25000), ('Company', 'GOOGLE')])\n"
     ]
    }
   ],
   "source": [
    "print(Employee.items())"
   ]
  },
  {
   "cell_type": "code",
   "execution_count": 35,
   "id": "30c93b7f",
   "metadata": {},
   "outputs": [
    {
     "name": "stdout",
     "output_type": "stream",
     "text": [
      "Name\n",
      "Age\n",
      "salary\n",
      "Company\n"
     ]
    }
   ],
   "source": [
    "# for loop to print all the keys of a dictionary\n",
    "for x in Employee:    \n",
    "    print(x)  "
   ]
  },
  {
   "cell_type": "code",
   "execution_count": null,
   "id": "23d18493",
   "metadata": {},
   "outputs": [],
   "source": []
  },
  {
   "cell_type": "code",
   "execution_count": 36,
   "id": "283777d1",
   "metadata": {},
   "outputs": [
    {
     "name": "stdout",
     "output_type": "stream",
     "text": [
      "John\n",
      "29\n",
      "25000\n",
      "GOOGLE\n"
     ]
    }
   ],
   "source": [
    "#for loop to print all the values of the dictionary\n",
    "for x in Employee:    \n",
    "    print(Employee[x]) "
   ]
  },
  {
   "cell_type": "code",
   "execution_count": 47,
   "id": "20bb5884",
   "metadata": {},
   "outputs": [
    {
     "name": "stdout",
     "output_type": "stream",
     "text": [
      "John\n",
      "29\n",
      "25000\n",
      "GOOGLE\n"
     ]
    }
   ],
   "source": [
    "#for loop to print the values of the dictionary by using values() method.\n",
    "for x in Employee.values():    \n",
    "    print(x) "
   ]
  },
  {
   "cell_type": "code",
   "execution_count": 48,
   "id": "993275f3",
   "metadata": {},
   "outputs": [
    {
     "name": "stdout",
     "output_type": "stream",
     "text": [
      "('Name', 'John')\n",
      "('Age', 29)\n",
      "('salary', 25000)\n",
      "('Company', 'GOOGLE')\n"
     ]
    }
   ],
   "source": [
    "#for loop to print the items of the dictionary by using items() method.\n",
    "for x in Employee.items():    \n",
    "    print(x) "
   ]
  },
  {
   "cell_type": "code",
   "execution_count": 37,
   "id": "86ce4978",
   "metadata": {},
   "outputs": [
    {
     "name": "stdout",
     "output_type": "stream",
     "text": [
      "Name John\n",
      "Age 29\n",
      "salary 25000\n",
      "Company GOOGLE\n"
     ]
    }
   ],
   "source": [
    "#for loop to print the items of the dictionary by using items() method.\n",
    "for (x,y) in Employee.items():    \n",
    "    print(x,y) "
   ]
  },
  {
   "cell_type": "markdown",
   "id": "6d63291c",
   "metadata": {},
   "source": [
    "# Built-in Dictionary methods"
   ]
  },
  {
   "cell_type": "raw",
   "id": "831ac4e6",
   "metadata": {},
   "source": [
    "clear()\tRemoves all items from the dictionary.\n",
    "copy()\tReturns a shallow copy of the dictionary.\n",
    "fromkeys(seq[, v])\tReturns a new dictionary with keys from seq and value equal to v (defaults to None).\n",
    "get(key[,d])\tReturns the value of the key. If the key does not exist, returns d (defaults to None).\n",
    "items()\tReturn a new object of the dictionary's items in (key, value) format.\n",
    "keys()\tReturns a new object of the dictionary's keys.\n",
    "pop(key[,d])\tRemoves the item with the key and returns its value or d if key is not found. If d is not provided and the key is not found, it raises KeyError.\n",
    "popitem()\tRemoves and returns an arbitrary item (key, value). Raises KeyError if the dictionary is empty.\n",
    "update([other])\tUpdates the dictionary with the key/value pairs from other, overwriting existing keys.\n",
    "values()\tReturns a new object of the dictionary's values\n",
    "sorted()  sort the dictioary"
   ]
  },
  {
   "cell_type": "code",
   "execution_count": 3,
   "id": "e47ee7e3",
   "metadata": {},
   "outputs": [
    {
     "name": "stdout",
     "output_type": "stream",
     "text": [
      "dict_values([34, 45, 23, 11])\n"
     ]
    }
   ],
   "source": [
    "d={\"a\":34,\"d\":45, \"b\":23,\"c\":11}\n",
    "print(d.values())"
   ]
  },
  {
   "cell_type": "code",
   "execution_count": 27,
   "id": "8714a344",
   "metadata": {},
   "outputs": [
    {
     "name": "stdout",
     "output_type": "stream",
     "text": [
      "{'a': 34, 'b': 23, 'c': 11}\n",
      "45\n"
     ]
    }
   ],
   "source": [
    "dt={\"a\":34,\"d\":45, \"b\":23,\"c\":11}\n",
    "p=dt.pop(\"d\")\n",
    "print(dt)\n",
    "print(p)"
   ]
  },
  {
   "cell_type": "code",
   "execution_count": 26,
   "id": "a4299095",
   "metadata": {},
   "outputs": [
    {
     "name": "stdout",
     "output_type": "stream",
     "text": [
      "{'a': 34, 'b': 23, 'c': 11}\n"
     ]
    }
   ],
   "source": [
    "dt={\"a\":34,\"d\":45, \"b\":23,\"c\":11}\n",
    "del dt[\"d\"]\n",
    "print(dt)"
   ]
  },
  {
   "cell_type": "code",
   "execution_count": 29,
   "id": "9666fb33",
   "metadata": {},
   "outputs": [
    {
     "name": "stdout",
     "output_type": "stream",
     "text": [
      "{'a': 34, 'd': 45, 'b': 23}\n",
      "('c', 11)\n"
     ]
    }
   ],
   "source": [
    "dt={\"a\":34,\"d\":45, \"b\":23,\"c\":11}\n",
    "p=dt.popitem()\n",
    "print(dt)\n",
    "print(p)\n"
   ]
  },
  {
   "cell_type": "code",
   "execution_count": 32,
   "id": "92899c62",
   "metadata": {},
   "outputs": [
    {
     "name": "stdout",
     "output_type": "stream",
     "text": [
      "{'name': 5, 'Roll': 5, 'Group': 5}\n"
     ]
    }
   ],
   "source": [
    "stu=[\"name\",\"Roll\",\"Group\"]\n",
    "d=dict.fromkeys(stu,5)\n",
    "print(d)"
   ]
  },
  {
   "cell_type": "code",
   "execution_count": 16,
   "id": "c4cce6a7",
   "metadata": {},
   "outputs": [
    {
     "name": "stdout",
     "output_type": "stream",
     "text": [
      "[45, 34, 23, 11]\n"
     ]
    }
   ],
   "source": [
    "d={\"a\":34,\"d\":45, \"b\":23,\"c\":11}\n",
    "print(sorted(d.values(),reverse=True))"
   ]
  },
  {
   "cell_type": "code",
   "execution_count": 4,
   "id": "36d9e66d",
   "metadata": {},
   "outputs": [],
   "source": [
    "e1 = {\"Name\": \"John\", \"Age\": 29, \"salary\":25000,\"Company\":\"GOOGLE\"} "
   ]
  },
  {
   "cell_type": "code",
   "execution_count": 5,
   "id": "70036175",
   "metadata": {},
   "outputs": [
    {
     "name": "stdout",
     "output_type": "stream",
     "text": [
      "{}\n"
     ]
    }
   ],
   "source": [
    "e1.clear()\n",
    "print(e1)"
   ]
  },
  {
   "cell_type": "code",
   "execution_count": 51,
   "id": "66b26be7",
   "metadata": {},
   "outputs": [],
   "source": [
    "e2=e1.copy()"
   ]
  },
  {
   "cell_type": "code",
   "execution_count": 52,
   "id": "c826833a",
   "metadata": {},
   "outputs": [
    {
     "name": "stdout",
     "output_type": "stream",
     "text": [
      "{'Name': 'John', 'Age': 29, 'salary': 25000, 'Company': 'GOOGLE'}\n"
     ]
    }
   ],
   "source": [
    "print(e2)"
   ]
  },
  {
   "cell_type": "markdown",
   "id": "5176a20d",
   "metadata": {},
   "source": [
    "Python dictionary fromkeys() function returns the dictionary with key mapped and specific value."
   ]
  },
  {
   "cell_type": "code",
   "execution_count": 10,
   "id": "f23a8edb",
   "metadata": {},
   "outputs": [],
   "source": [
    "e1 = [\"Name\", \"Age\", \"salary\",\"Company\"]\n",
    "d=dict.fromkeys(e1,\"do not know\")"
   ]
  },
  {
   "cell_type": "code",
   "execution_count": 11,
   "id": "8e9c1972",
   "metadata": {},
   "outputs": [
    {
     "name": "stdout",
     "output_type": "stream",
     "text": [
      "{'Name': 'do not know', 'Age': 'do not know', 'salary': 'do not know', 'Company': 'do not know'}\n"
     ]
    }
   ],
   "source": [
    "print(d)"
   ]
  },
  {
   "cell_type": "code",
   "execution_count": 61,
   "id": "ca7aa643",
   "metadata": {},
   "outputs": [],
   "source": [
    "d=dict.fromkeys(e1,5)"
   ]
  },
  {
   "cell_type": "code",
   "execution_count": 62,
   "id": "ee32b7ce",
   "metadata": {},
   "outputs": [
    {
     "name": "stdout",
     "output_type": "stream",
     "text": [
      "{'Company': 5, 'salary': 5, 'Age': 5, 'Name': 5}\n"
     ]
    }
   ],
   "source": [
    "print(d)"
   ]
  },
  {
   "cell_type": "code",
   "execution_count": 18,
   "id": "a7f58c86",
   "metadata": {},
   "outputs": [
    {
     "name": "stdout",
     "output_type": "stream",
     "text": [
      "87\n"
     ]
    }
   ],
   "source": [
    "#The get() method returns the value for the specified key if the key is in the dictionary.\n",
    "\n",
    "\n",
    "marks = {'Physics':67, 'Maths':87}\n",
    "\n",
    "print(marks.get('Maths',0))"
   ]
  },
  {
   "cell_type": "code",
   "execution_count": 15,
   "id": "de613649",
   "metadata": {},
   "outputs": [
    {
     "ename": "KeyError",
     "evalue": "'Hindi'",
     "output_type": "error",
     "traceback": [
      "\u001b[1;31m---------------------------------------------------------------------------\u001b[0m",
      "\u001b[1;31mKeyError\u001b[0m                                  Traceback (most recent call last)",
      "\u001b[1;32m~\\AppData\\Local\\Temp/ipykernel_12424/238698433.py\u001b[0m in \u001b[0;36m<module>\u001b[1;34m\u001b[0m\n\u001b[0;32m      1\u001b[0m \u001b[0mmarks\u001b[0m \u001b[1;33m=\u001b[0m \u001b[1;33m{\u001b[0m\u001b[1;34m'Physics'\u001b[0m\u001b[1;33m:\u001b[0m\u001b[1;36m67\u001b[0m\u001b[1;33m,\u001b[0m \u001b[1;34m'Maths'\u001b[0m\u001b[1;33m:\u001b[0m\u001b[1;36m87\u001b[0m\u001b[1;33m}\u001b[0m\u001b[1;33m\u001b[0m\u001b[1;33m\u001b[0m\u001b[0m\n\u001b[0;32m      2\u001b[0m \u001b[1;33m\u001b[0m\u001b[0m\n\u001b[1;32m----> 3\u001b[1;33m \u001b[0mprint\u001b[0m\u001b[1;33m(\u001b[0m\u001b[0mmarks\u001b[0m\u001b[1;33m[\u001b[0m\u001b[1;34m'Hindi'\u001b[0m\u001b[1;33m]\u001b[0m\u001b[1;33m)\u001b[0m\u001b[1;33m\u001b[0m\u001b[1;33m\u001b[0m\u001b[0m\n\u001b[0m",
      "\u001b[1;31mKeyError\u001b[0m: 'Hindi'"
     ]
    }
   ],
   "source": [
    "\n",
    "marks = {'Physics':67, 'Maths':87}\n",
    "\n",
    "print(marks['Hindi'])"
   ]
  },
  {
   "cell_type": "code",
   "execution_count": 19,
   "id": "9df012f7",
   "metadata": {},
   "outputs": [
    {
     "name": "stdout",
     "output_type": "stream",
     "text": [
      "Name:  Phill\n",
      "Age:  22\n",
      "Salary:  None\n",
      "Salary:  0.0\n"
     ]
    }
   ],
   "source": [
    "person = {'name': 'Phill', 'age': 22}\n",
    "\n",
    "print('Name: ', person.get('name'))\n",
    "print('Age: ', person.get('age'))\n",
    "\n",
    "# value is not provided\n",
    "print('Salary: ', person.get('salary'))\n",
    "\n",
    "\n",
    "# value is provided\n",
    "print('Salary: ', person.get('salary', 0.0))"
   ]
  },
  {
   "cell_type": "code",
   "execution_count": 21,
   "id": "600db4ab",
   "metadata": {},
   "outputs": [
    {
     "name": "stdout",
     "output_type": "stream",
     "text": [
      "Popped Marks: 0\n",
      "{'Physics': 67, 'Chemistry': 72, 'Math': 89}\n"
     ]
    }
   ],
   "source": [
    "#The pop() method removes and returns an element from a dictionary having the given key.\n",
    "marks = { 'Physics': 67, 'Chemistry': 72, 'Math': 89 }\n",
    "\n",
    "element = marks.pop('hindi',0)\n",
    "\n",
    "print('Popped Marks:', element)\n",
    "print(marks)"
   ]
  },
  {
   "cell_type": "code",
   "execution_count": 22,
   "id": "bca64741",
   "metadata": {},
   "outputs": [
    {
     "name": "stdout",
     "output_type": "stream",
     "text": [
      "Return Value =  ('salary', 3500.0)\n",
      "person =  {'name': 'Phill', 'age': 22}\n",
      "Return Value =  ('profession', 'Plumber')\n",
      "person =  {'name': 'Phill', 'age': 22}\n"
     ]
    }
   ],
   "source": [
    "#The Python popitem() method removes and returns the last element (key, value) pair inserted into the dictionary.\n",
    "person = {'name': 'Phill', 'age': 22, 'salary': 3500.0}\n",
    "\n",
    "result = person.popitem()\n",
    "\n",
    "print('Return Value = ', result)\n",
    "print('person = ', person)\n",
    "\n",
    "# inserting a new element pair\n",
    "person['profession'] = 'Plumber'\n",
    "\n",
    "result = person.popitem()\n",
    "\n",
    "print('Return Value = ', result)\n",
    "print('person = ', person)"
   ]
  },
  {
   "cell_type": "code",
   "execution_count": 23,
   "id": "76e4efc7",
   "metadata": {},
   "outputs": [
    {
     "name": "stdout",
     "output_type": "stream",
     "text": [
      "{'Physics': 67, 'Maths': 99, 'Practical': 48}\n"
     ]
    }
   ],
   "source": [
    "#The update() method updates the dictionary with the elements from another dictionary object or from an iterable of key/value pairs.\n",
    "marks = {'Physics':67, 'Maths':87}\n",
    "internal_marks = {'Practical':48, 'Maths':99}\n",
    "\n",
    "marks.update(internal_marks)\n",
    "\n",
    "\n",
    "print(marks)"
   ]
  },
  {
   "cell_type": "markdown",
   "id": "700413d9",
   "metadata": {},
   "source": [
    "# Examples"
   ]
  },
  {
   "cell_type": "raw",
   "id": "5117d704",
   "metadata": {},
   "source": [
    "Rename key city to location in the following dictionary\n",
    "\n",
    "sampleDict = {\n",
    "  \"name\": \"Kelly\",\n",
    "  \"age\":25,\n",
    "  \"salary\": 8000,\n",
    "  \"city\": \"New york\"\n",
    "}"
   ]
  },
  {
   "cell_type": "code",
   "execution_count": 1,
   "id": "2029e657",
   "metadata": {},
   "outputs": [
    {
     "name": "stdout",
     "output_type": "stream",
     "text": [
      "{'name': 'Kelly', 'age': 25, 'salary': 8000, 'location': 'New york'}\n"
     ]
    }
   ],
   "source": [
    "sampleDict = {\n",
    "  \"name\": \"Kelly\",\n",
    "  \"age\":25,\n",
    "  \"salary\": 8000,\n",
    "  \"city\": \"New york\"\n",
    "}\n",
    "x=sampleDict.pop('city')\n",
    "sampleDict['location'] = x\n",
    "print(sampleDict)"
   ]
  },
  {
   "cell_type": "code",
   "execution_count": 42,
   "id": "86a6b4b1",
   "metadata": {},
   "outputs": [
    {
     "name": "stdout",
     "output_type": "stream",
     "text": [
      "280\n"
     ]
    }
   ],
   "source": [
    "d={\"a\":10,\"b\":20, \"c\":50, \"d\":50, \"e\":50, \"f\":50, \"g\":50}\n",
    "print(sum(d.values()))"
   ]
  },
  {
   "cell_type": "markdown",
   "id": "2ee0df14",
   "metadata": {},
   "source": [
    "Write a Python script to generate and print a dictionary that contains a number (between 1 and n) in the form (x, x*x)."
   ]
  },
  {
   "cell_type": "code",
   "execution_count": 33,
   "id": "d8a9a7dc",
   "metadata": {},
   "outputs": [
    {
     "name": "stdout",
     "output_type": "stream",
     "text": [
      "Input a number 9\n",
      "{1: 1, 2: 4, 3: 9, 4: 16, 5: 25, 6: 36, 7: 49, 8: 64, 9: 81}\n"
     ]
    }
   ],
   "source": [
    "#[\"1\":1,\"2\":4,\"3\":9-------]\n",
    "\n",
    "\n",
    "\n",
    "n=int(input(\"Input a number \"))\n",
    "d = {}\n",
    "\n",
    "for x in range(1,n+1):\n",
    "    d[x]=x*x\n",
    "\n",
    "print(d)"
   ]
  },
  {
   "cell_type": "markdown",
   "id": "27ea1e30",
   "metadata": {},
   "source": [
    "Write a Python program to sum all the items in a dictionary. "
   ]
  },
  {
   "cell_type": "code",
   "execution_count": 3,
   "id": "cc889444",
   "metadata": {},
   "outputs": [
    {
     "name": "stdout",
     "output_type": "stream",
     "text": [
      "293\n"
     ]
    }
   ],
   "source": [
    "my_dict = {'data1':100,'data2':-54,'data3':247}\n",
    "print(sum(my_dict.values()))"
   ]
  },
  {
   "cell_type": "raw",
   "id": "ddac6b38",
   "metadata": {},
   "source": [
    "Remove Duplicate students\n",
    "student_data = {'id1': \n",
    "   {'name': ['Sara'], \n",
    "    'class': ['V'], \n",
    "    'subjects': ['english, math, science']\n",
    "   },\n",
    " 'id2': \n",
    "  {'name': ['David'], \n",
    "    'class': ['V'], \n",
    "    'subjects': ['english, math, science']\n",
    "   },\n",
    " 'id3': \n",
    "    {'name': ['Sara'], \n",
    "    'class': ['V'], \n",
    "    'subjects': ['english, math, science']\n",
    "   },\n",
    " 'id4': \n",
    "   {'name': ['Surya'], \n",
    "    'class': ['V'], \n",
    "    'subjects': ['english, math, science']\n",
    "   },\n",
    "}"
   ]
  },
  {
   "cell_type": "code",
   "execution_count": null,
   "id": "e6c9bbcf",
   "metadata": {},
   "outputs": [],
   "source": []
  },
  {
   "cell_type": "code",
   "execution_count": 34,
   "id": "2a8a7221",
   "metadata": {},
   "outputs": [],
   "source": [
    "student_data = {'id1': \n",
    "   {'name': ['Sara'], \n",
    "    'class': ['V'], \n",
    "    'subjects': ['english, math, science']\n",
    "   },\n",
    " 'id2': \n",
    "  {'name': ['David'], \n",
    "    'class': ['V'], \n",
    "    'subjects': ['english, math, science']\n",
    "   },\n",
    " 'id3': \n",
    "    {'name': ['Sara'], \n",
    "    'class': ['V'], \n",
    "    'subjects': ['english, math, science']\n",
    "   },\n",
    " 'id4': \n",
    "   {'name': ['Surya'], \n",
    "    'class': ['V'], \n",
    "    'subjects': ['english, math, science']\n",
    "   },\n",
    "}"
   ]
  },
  {
   "cell_type": "code",
   "execution_count": 37,
   "id": "31641060",
   "metadata": {},
   "outputs": [
    {
     "name": "stdout",
     "output_type": "stream",
     "text": [
      "dict_items([('id1', {'name': ['Sara'], 'class': ['V'], 'subjects': ['english, math, science']}), ('id2', {'name': ['David'], 'class': ['V'], 'subjects': ['english, math, science']}), ('id3', {'name': ['Sara'], 'class': ['V'], 'subjects': ['english, math, science']}), ('id4', {'name': ['Surya'], 'class': ['V'], 'subjects': ['english, math, science']})])\n"
     ]
    }
   ],
   "source": [
    "print(student_data.items())"
   ]
  },
  {
   "cell_type": "code",
   "execution_count": 39,
   "id": "66573a63",
   "metadata": {},
   "outputs": [
    {
     "name": "stdout",
     "output_type": "stream",
     "text": [
      "dict_items([('a', 10), ('b', 20), ('c', 10), ('d', 40)])\n",
      "{'a': 10, 'b': 20, 'd': 40}\n"
     ]
    }
   ],
   "source": [
    "d={\"a\":10,\"b\":20,\"c\":10,\"d\":40}\n",
    "r={}\n",
    "\n",
    "for k,v in d.items():\n",
    "    if v not in r.values():\n",
    "        r[k]=v\n",
    "print(r)\n",
    "    \n",
    "    "
   ]
  },
  {
   "cell_type": "code",
   "execution_count": 6,
   "id": "f2cab430",
   "metadata": {},
   "outputs": [
    {
     "name": "stdout",
     "output_type": "stream",
     "text": [
      "{'id1': {'name': ['Sara'], 'class': ['V'], 'subjects': ['english, math, science']}, 'id2': {'name': ['David'], 'class': ['V'], 'subjects': ['english, math, science']}, 'id4': {'name': ['Surya'], 'class': ['V'], 'subjects': ['english, math, science']}}\n"
     ]
    }
   ],
   "source": [
    "result = {}\n",
    "\n",
    "for key,value in student_data.items():\n",
    "    if value not in result.values():\n",
    "        result[key] = value\n",
    "\n",
    "print(result)"
   ]
  },
  {
   "cell_type": "code",
   "execution_count": null,
   "id": "83d10084",
   "metadata": {},
   "outputs": [],
   "source": []
  }
 ],
 "metadata": {
  "kernelspec": {
   "display_name": "Python 3 (ipykernel)",
   "language": "python",
   "name": "python3"
  },
  "language_info": {
   "codemirror_mode": {
    "name": "ipython",
    "version": 3
   },
   "file_extension": ".py",
   "mimetype": "text/x-python",
   "name": "python",
   "nbconvert_exporter": "python",
   "pygments_lexer": "ipython3",
   "version": "3.9.7"
  }
 },
 "nbformat": 4,
 "nbformat_minor": 5
}
