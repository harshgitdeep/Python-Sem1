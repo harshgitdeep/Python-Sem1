{
 "cells": [
  {
   "cell_type": "markdown",
   "id": "cb6a6c2a",
   "metadata": {},
   "source": [
    "# List\n"
   ]
  },
  {
   "cell_type": "code",
   "execution_count": 1,
   "id": "7cd61ac8",
   "metadata": {},
   "outputs": [],
   "source": [
    "a = ['Hello', 1, 4.63, True, \"World\", 2.0, \"False\"]"
   ]
  },
  {
   "cell_type": "code",
   "execution_count": 9,
   "id": "4c753f74",
   "metadata": {},
   "outputs": [],
   "source": [
    "b=[1,2,3,4.5,6,7,\"ABC\"]"
   ]
  },
  {
   "cell_type": "code",
   "execution_count": 10,
   "id": "91d3ad51",
   "metadata": {},
   "outputs": [
    {
     "data": {
      "text/plain": [
       "list"
      ]
     },
     "execution_count": 10,
     "metadata": {},
     "output_type": "execute_result"
    }
   ],
   "source": [
    "type(a)"
   ]
  },
  {
   "cell_type": "code",
   "execution_count": 11,
   "id": "ca70d2e2",
   "metadata": {},
   "outputs": [
    {
     "name": "stdout",
     "output_type": "stream",
     "text": [
      "[1, 2, 3, 4.5, 6, 7, 'ABC']\n"
     ]
    }
   ],
   "source": [
    "print(b)"
   ]
  },
  {
   "cell_type": "code",
   "execution_count": 12,
   "id": "be896464",
   "metadata": {},
   "outputs": [
    {
     "name": "stdout",
     "output_type": "stream",
     "text": [
      "['Hello', 1, 4.63, True, 'World', 2.0, 'False']\n"
     ]
    }
   ],
   "source": [
    "print(a)"
   ]
  },
  {
   "cell_type": "code",
   "execution_count": 15,
   "id": "d261bc39",
   "metadata": {},
   "outputs": [
    {
     "name": "stdout",
     "output_type": "stream",
     "text": [
      "4.63\n"
     ]
    }
   ],
   "source": [
    "print(a[-5])"
   ]
  },
  {
   "cell_type": "code",
   "execution_count": 17,
   "id": "5d2898ac",
   "metadata": {},
   "outputs": [
    {
     "name": "stdout",
     "output_type": "stream",
     "text": [
      "World\n"
     ]
    }
   ],
   "source": [
    "print(a[-3])"
   ]
  },
  {
   "cell_type": "raw",
   "id": "ce6b564d",
   "metadata": {},
   "source": [
    "Slicing"
   ]
  },
  {
   "cell_type": "code",
   "execution_count": 18,
   "id": "c2de0385",
   "metadata": {},
   "outputs": [
    {
     "data": {
      "text/plain": [
       "[4.63, True, 'World']"
      ]
     },
     "execution_count": 18,
     "metadata": {},
     "output_type": "execute_result"
    }
   ],
   "source": [
    "a[2 : 5]"
   ]
  },
  {
   "cell_type": "code",
   "execution_count": 19,
   "id": "f4431dd6",
   "metadata": {},
   "outputs": [
    {
     "data": {
      "text/plain": [
       "['Hello', 1, 4.63, True, 'World', 2.0, 'False']"
      ]
     },
     "execution_count": 19,
     "metadata": {},
     "output_type": "execute_result"
    }
   ],
   "source": [
    "a[ : ] "
   ]
  },
  {
   "cell_type": "code",
   "execution_count": 22,
   "id": "91cb5454",
   "metadata": {},
   "outputs": [
    {
     "data": {
      "text/plain": [
       "['False', 2.0]"
      ]
     },
     "execution_count": 22,
     "metadata": {},
     "output_type": "execute_result"
    }
   ],
   "source": [
    "a[-1: -3:-1]"
   ]
  },
  {
   "cell_type": "raw",
   "id": "62d64b94",
   "metadata": {},
   "source": [
    "Replace our existing data"
   ]
  },
  {
   "cell_type": "code",
   "execution_count": 23,
   "id": "13a65033",
   "metadata": {},
   "outputs": [],
   "source": [
    "thislist = [\"apple\", \"banana\", \"cherry\", \"orange\", \"kiwi\", \"mango\"]\n"
   ]
  },
  {
   "cell_type": "code",
   "execution_count": 24,
   "id": "6cb67b5c",
   "metadata": {},
   "outputs": [
    {
     "name": "stdout",
     "output_type": "stream",
     "text": [
      "['apple', 'banana', 'cherry', 'orange', 'kiwi', 'mango']\n"
     ]
    }
   ],
   "source": [
    "print(thislist)"
   ]
  },
  {
   "cell_type": "code",
   "execution_count": 25,
   "id": "e38dd95a",
   "metadata": {},
   "outputs": [],
   "source": [
    "thislist[2]=\"Chiku\""
   ]
  },
  {
   "cell_type": "code",
   "execution_count": 26,
   "id": "93d0e429",
   "metadata": {},
   "outputs": [
    {
     "name": "stdout",
     "output_type": "stream",
     "text": [
      "['apple', 'banana', 'Chiku', 'orange', 'kiwi', 'mango']\n"
     ]
    }
   ],
   "source": [
    "print(thislist)"
   ]
  },
  {
   "cell_type": "code",
   "execution_count": null,
   "id": "22bb4649",
   "metadata": {},
   "outputs": [],
   "source": []
  },
  {
   "cell_type": "code",
   "execution_count": 28,
   "id": "d2ecd402",
   "metadata": {},
   "outputs": [
    {
     "name": "stdout",
     "output_type": "stream",
     "text": [
      "['apple', 'blackcurrant', 'watermelon', 'orange', 'kiwi', 'mango']\n"
     ]
    }
   ],
   "source": [
    "thislist = [\"apple\", \"banana\", \"cherry\", \"orange\", \"kiwi\", \"mango\"]\n",
    "thislist[1:3] = [\"blackcurrant\", \"watermelon\"]\n",
    "print(thislist)"
   ]
  },
  {
   "cell_type": "code",
   "execution_count": null,
   "id": "62b21c97",
   "metadata": {},
   "outputs": [],
   "source": [
    "thislist = [\"apple\", \"banana\", \"cherry\"]\n",
    "thislist[1:3] = [\"watermelon\"]\n",
    "print(thislist)"
   ]
  },
  {
   "cell_type": "raw",
   "id": "820384e1",
   "metadata": {},
   "source": [
    "Insert Items"
   ]
  },
  {
   "cell_type": "code",
   "execution_count": 39,
   "id": "3d25ac57",
   "metadata": {},
   "outputs": [
    {
     "name": "stdout",
     "output_type": "stream",
     "text": [
      "['apple', 'banana', 'watermelon', 'cherry']\n"
     ]
    }
   ],
   "source": [
    "thislist = [\"apple\", \"banana\", \"cherry\"]\n",
    "thislist.insert(2, \"watermelon\")\n",
    "print(thislist)"
   ]
  },
  {
   "cell_type": "code",
   "execution_count": 46,
   "id": "6d04da2c",
   "metadata": {},
   "outputs": [
    {
     "name": "stdout",
     "output_type": "stream",
     "text": [
      "['apple', 'banana', 'cherry', 'orange']\n"
     ]
    }
   ],
   "source": [
    "thislist = [\"apple\", \"banana\", \"cherry\"]\n",
    "thislist.append(\"orange\")\n",
    "print(thislist)"
   ]
  },
  {
   "cell_type": "raw",
   "id": "2720162c",
   "metadata": {},
   "source": [
    "Extend List :To append elements from another list to the current list"
   ]
  },
  {
   "cell_type": "code",
   "execution_count": 53,
   "id": "74d255ae",
   "metadata": {},
   "outputs": [
    {
     "name": "stdout",
     "output_type": "stream",
     "text": [
      "['apple', 'banana', 'cherry', 'mango', 'pineapple', 'papaya']\n"
     ]
    }
   ],
   "source": [
    "thislist = [\"apple\", \"banana\", \"cherry\"]\n",
    "tropical = [\"mango\", \"pineapple\", \"papaya\"]\n",
    "thislist.extend(tropical)\n",
    "print(thislist)"
   ]
  },
  {
   "cell_type": "raw",
   "id": "0d2c1c9c",
   "metadata": {},
   "source": [
    "Remove Specified Item"
   ]
  },
  {
   "cell_type": "code",
   "execution_count": 54,
   "id": "2034205d",
   "metadata": {},
   "outputs": [
    {
     "name": "stdout",
     "output_type": "stream",
     "text": [
      "['apple', 'cherry']\n"
     ]
    }
   ],
   "source": [
    "thislist = [\"apple\", \"banana\", \"cherry\"]\n",
    "thislist.remove(\"banana\")\n",
    "print(thislist)"
   ]
  },
  {
   "cell_type": "code",
   "execution_count": 55,
   "id": "2bfc54a5",
   "metadata": {},
   "outputs": [
    {
     "name": "stdout",
     "output_type": "stream",
     "text": [
      "['apple', 'cherry']\n"
     ]
    }
   ],
   "source": [
    "thislist = [\"apple\", \"banana\", \"cherry\"]\n",
    "thislist.pop(1)\n",
    "print(thislist)"
   ]
  },
  {
   "cell_type": "code",
   "execution_count": 56,
   "id": "a5f7c1ad",
   "metadata": {},
   "outputs": [
    {
     "name": "stdout",
     "output_type": "stream",
     "text": [
      "['apple', 'cherry']\n"
     ]
    }
   ],
   "source": [
    "thislist = [\"apple\", \"banana\", \"cherry\"]\n",
    "del thislist[1]\n",
    "print(thislist)"
   ]
  },
  {
   "cell_type": "code",
   "execution_count": 8,
   "id": "d0c0b81f",
   "metadata": {},
   "outputs": [],
   "source": [
    "list1 = [1, 2, 3, 5, 4, 8, 7, 9]"
   ]
  },
  {
   "cell_type": "code",
   "execution_count": null,
   "id": "c692d813",
   "metadata": {},
   "outputs": [],
   "source": []
  },
  {
   "cell_type": "raw",
   "id": "3e045ec3",
   "metadata": {},
   "source": [
    "Program to Find Even Numbers From a List"
   ]
  },
  {
   "cell_type": "code",
   "execution_count": 58,
   "id": "172e0a78",
   "metadata": {},
   "outputs": [
    {
     "name": "stdout",
     "output_type": "stream",
     "text": [
      "2\n",
      "4\n",
      "8\n"
     ]
    }
   ],
   "source": [
    "list1 = [1, 2, 3, 5, 4, 8, 7, 9]\n",
    "for i in list1:\n",
    "    if (i%2==0):\n",
    "        print(i)"
   ]
  },
  {
   "cell_type": "raw",
   "id": "1cb40129",
   "metadata": {},
   "source": [
    "Program to Merge Two Lists"
   ]
  },
  {
   "cell_type": "code",
   "execution_count": 59,
   "id": "9f5522c9",
   "metadata": {},
   "outputs": [
    {
     "name": "stdout",
     "output_type": "stream",
     "text": [
      "[1, 2, 4, 6, 9, 3, 19, 7]\n"
     ]
    }
   ],
   "source": [
    "list3 = [1, 2, 4, 6]\n",
    "list4 = [9, 3, 19, 7]\n",
    "list3.extend(list4)\n",
    "print(list3)"
   ]
  },
  {
   "cell_type": "raw",
   "id": "950f4506",
   "metadata": {},
   "source": [
    "Interchange First and Last Element of a List"
   ]
  },
  {
   "cell_type": "code",
   "execution_count": 64,
   "id": "a0f5b359",
   "metadata": {},
   "outputs": [
    {
     "name": "stdout",
     "output_type": "stream",
     "text": [
      "[23, 29, 51, 9, 17, 6, 7, 1]\n"
     ]
    }
   ],
   "source": [
    "list5 = [1, 29, 51, 9, 17, 6, 7, 23]\n",
    "list5[0], list5[-1] = list5[-1], list5[0]\n",
    "print(list5)"
   ]
  },
  {
   "cell_type": "code",
   "execution_count": null,
   "id": "f1ab181b",
   "metadata": {},
   "outputs": [],
   "source": [
    "Program to Subtract a List from Another List"
   ]
  },
  {
   "cell_type": "code",
   "execution_count": 70,
   "id": "8e583561",
   "metadata": {},
   "outputs": [
    {
     "name": "stdout",
     "output_type": "stream",
     "text": [
      "[1, 2, 3, 5]\n"
     ]
    }
   ],
   "source": [
    "a = [1, 2, 3, 5]\n",
    "b = [10, 20]\n",
    "l1 = []\n",
    "for i in a:\n",
    "    if i not in b:\n",
    "        l1.append(i)\n",
    "print(l1)"
   ]
  },
  {
   "cell_type": "raw",
   "id": "42cccaac",
   "metadata": {},
   "source": [
    "Program to Get Data Items From a List Appearing Odd Number of Times"
   ]
  },
  {
   "cell_type": "code",
   "execution_count": 69,
   "id": "f71628a5",
   "metadata": {},
   "outputs": [
    {
     "name": "stdout",
     "output_type": "stream",
     "text": [
      "[2, 3, 5]\n"
     ]
    }
   ],
   "source": [
    "x = [1,2,3,4,5,1,3,3,4]\n",
    "l1 = []\n",
    "for i in x:\n",
    "    if x.count(i) % 2 != 0:\n",
    "        if i not in l1:\n",
    "            l1.append(i)\n",
    "print(l1)"
   ]
  },
  {
   "cell_type": "code",
   "execution_count": 29,
   "id": "cd24705f",
   "metadata": {},
   "outputs": [
    {
     "name": "stdout",
     "output_type": "stream",
     "text": [
      "['Hello', 1, 4.63, True, 'World', 2.0, 'False']\n"
     ]
    }
   ],
   "source": [
    "print(a)"
   ]
  },
  {
   "cell_type": "code",
   "execution_count": 30,
   "id": "6be1f32e",
   "metadata": {},
   "outputs": [],
   "source": [
    "a=[1,2,3,4,5,6,7,8]"
   ]
  },
  {
   "cell_type": "code",
   "execution_count": 31,
   "id": "c9aec104",
   "metadata": {},
   "outputs": [
    {
     "data": {
      "text/plain": [
       "[1, 2, 3, 4, 5, 6, 7, 8]"
      ]
     },
     "execution_count": 31,
     "metadata": {},
     "output_type": "execute_result"
    }
   ],
   "source": [
    "a\n"
   ]
  },
  {
   "cell_type": "code",
   "execution_count": 33,
   "id": "4aeda154",
   "metadata": {},
   "outputs": [],
   "source": [
    "a[2:4]=[20,30]"
   ]
  },
  {
   "cell_type": "code",
   "execution_count": 34,
   "id": "f446da19",
   "metadata": {},
   "outputs": [
    {
     "data": {
      "text/plain": [
       "[1, 2, 20, 30, 5, 6, 7, 8]"
      ]
     },
     "execution_count": 34,
     "metadata": {},
     "output_type": "execute_result"
    }
   ],
   "source": [
    "a"
   ]
  },
  {
   "cell_type": "code",
   "execution_count": 71,
   "id": "605bbf49",
   "metadata": {},
   "outputs": [],
   "source": [
    "a[2:5]=[20]"
   ]
  },
  {
   "cell_type": "code",
   "execution_count": 72,
   "id": "55e70105",
   "metadata": {},
   "outputs": [
    {
     "name": "stdout",
     "output_type": "stream",
     "text": [
      "[1, 2, 20]\n"
     ]
    }
   ],
   "source": [
    "print(a)"
   ]
  },
  {
   "cell_type": "code",
   "execution_count": 38,
   "id": "bdd7f604",
   "metadata": {},
   "outputs": [
    {
     "name": "stdout",
     "output_type": "stream",
     "text": [
      "[1, 2, 20, 8]\n"
     ]
    }
   ],
   "source": [
    "print(a)"
   ]
  },
  {
   "cell_type": "code",
   "execution_count": 40,
   "id": "c0fd0613",
   "metadata": {},
   "outputs": [],
   "source": [
    "a.insert(1,111)"
   ]
  },
  {
   "cell_type": "code",
   "execution_count": 41,
   "id": "e82d9644",
   "metadata": {},
   "outputs": [
    {
     "name": "stdout",
     "output_type": "stream",
     "text": [
      "[1, 111, 2, 20, 8]\n"
     ]
    }
   ],
   "source": [
    "print(a)"
   ]
  },
  {
   "cell_type": "code",
   "execution_count": 42,
   "id": "fcb0e311",
   "metadata": {},
   "outputs": [],
   "source": [
    "a.append(1000)"
   ]
  },
  {
   "cell_type": "code",
   "execution_count": 43,
   "id": "16858ced",
   "metadata": {},
   "outputs": [
    {
     "name": "stdout",
     "output_type": "stream",
     "text": [
      "[1, 111, 2, 20, 8, 1000]\n"
     ]
    }
   ],
   "source": [
    "print(a)"
   ]
  },
  {
   "cell_type": "code",
   "execution_count": 44,
   "id": "7d41a4a3",
   "metadata": {},
   "outputs": [],
   "source": [
    "a.sort()"
   ]
  },
  {
   "cell_type": "code",
   "execution_count": 45,
   "id": "81ca2279",
   "metadata": {},
   "outputs": [
    {
     "name": "stdout",
     "output_type": "stream",
     "text": [
      "[1, 2, 8, 20, 111, 1000]\n"
     ]
    }
   ],
   "source": [
    "print(a)"
   ]
  },
  {
   "cell_type": "code",
   "execution_count": 47,
   "id": "1390f36c",
   "metadata": {},
   "outputs": [],
   "source": [
    "a=[1,2,3]\n",
    "b=[4,5,6]\n"
   ]
  },
  {
   "cell_type": "code",
   "execution_count": 48,
   "id": "613844bf",
   "metadata": {},
   "outputs": [
    {
     "name": "stdout",
     "output_type": "stream",
     "text": [
      "[1, 2, 3]\n"
     ]
    }
   ],
   "source": [
    "print(a)"
   ]
  },
  {
   "cell_type": "code",
   "execution_count": 49,
   "id": "63d0b73d",
   "metadata": {},
   "outputs": [
    {
     "name": "stdout",
     "output_type": "stream",
     "text": [
      "[4, 5, 6]\n"
     ]
    }
   ],
   "source": [
    "print(b)"
   ]
  },
  {
   "cell_type": "code",
   "execution_count": 50,
   "id": "6a670414",
   "metadata": {},
   "outputs": [],
   "source": [
    "a.extend(b)"
   ]
  },
  {
   "cell_type": "code",
   "execution_count": 51,
   "id": "af1e068e",
   "metadata": {},
   "outputs": [
    {
     "name": "stdout",
     "output_type": "stream",
     "text": [
      "[1, 2, 3, 4, 5, 6]\n"
     ]
    }
   ],
   "source": [
    "print(a)"
   ]
  },
  {
   "cell_type": "code",
   "execution_count": 52,
   "id": "df24d05c",
   "metadata": {},
   "outputs": [
    {
     "name": "stdout",
     "output_type": "stream",
     "text": [
      "[4, 5, 6]\n"
     ]
    }
   ],
   "source": [
    "print(b)"
   ]
  },
  {
   "cell_type": "code",
   "execution_count": 60,
   "id": "52e7a7c3",
   "metadata": {},
   "outputs": [],
   "source": [
    "a=[1,2,3,4,5,6,7,8]"
   ]
  },
  {
   "cell_type": "code",
   "execution_count": 61,
   "id": "7c867a41",
   "metadata": {},
   "outputs": [
    {
     "name": "stdout",
     "output_type": "stream",
     "text": [
      "[1, 2, 3, 4, 5, 6, 7, 8]\n"
     ]
    }
   ],
   "source": [
    "print(a)"
   ]
  },
  {
   "cell_type": "code",
   "execution_count": 62,
   "id": "58c797b4",
   "metadata": {},
   "outputs": [],
   "source": [
    "a,b=10,15"
   ]
  },
  {
   "cell_type": "code",
   "execution_count": 63,
   "id": "da5fe7df",
   "metadata": {},
   "outputs": [
    {
     "name": "stdout",
     "output_type": "stream",
     "text": [
      "10 15\n"
     ]
    }
   ],
   "source": [
    "print(a,b)"
   ]
  },
  {
   "cell_type": "code",
   "execution_count": 66,
   "id": "a1b6f24e",
   "metadata": {},
   "outputs": [],
   "source": [
    "a=[1,1,1,2,3,4,2,3,4]"
   ]
  },
  {
   "cell_type": "code",
   "execution_count": 67,
   "id": "c195ee81",
   "metadata": {},
   "outputs": [
    {
     "name": "stdout",
     "output_type": "stream",
     "text": [
      "3\n"
     ]
    }
   ],
   "source": [
    "print(a.count(1))"
   ]
  },
  {
   "cell_type": "code",
   "execution_count": 68,
   "id": "8e813802",
   "metadata": {},
   "outputs": [
    {
     "name": "stdout",
     "output_type": "stream",
     "text": [
      "2\n"
     ]
    }
   ],
   "source": [
    "print(a.count(3))"
   ]
  },
  {
   "cell_type": "code",
   "execution_count": 73,
   "id": "d172aa48",
   "metadata": {},
   "outputs": [],
   "source": [
    "a=[1,2,3,4,5,6]"
   ]
  },
  {
   "cell_type": "code",
   "execution_count": 74,
   "id": "05618bb9",
   "metadata": {},
   "outputs": [
    {
     "name": "stdout",
     "output_type": "stream",
     "text": [
      "[1, 2, 3, 4, 5, 6]\n"
     ]
    }
   ],
   "source": [
    "print(a)"
   ]
  },
  {
   "cell_type": "code",
   "execution_count": 77,
   "id": "7a309bef",
   "metadata": {},
   "outputs": [],
   "source": [
    "a[1:4]=[100]"
   ]
  },
  {
   "cell_type": "code",
   "execution_count": 78,
   "id": "4c2b2556",
   "metadata": {},
   "outputs": [
    {
     "name": "stdout",
     "output_type": "stream",
     "text": [
      "[1, 100, 5, 6]\n"
     ]
    }
   ],
   "source": [
    "print(a)"
   ]
  },
  {
   "cell_type": "code",
   "execution_count": null,
   "id": "cb7edabc",
   "metadata": {},
   "outputs": [],
   "source": []
  }
 ],
 "metadata": {
  "kernelspec": {
   "display_name": "Python 3 (ipykernel)",
   "language": "python",
   "name": "python3"
  },
  "language_info": {
   "codemirror_mode": {
    "name": "ipython",
    "version": 3
   },
   "file_extension": ".py",
   "mimetype": "text/x-python",
   "name": "python",
   "nbconvert_exporter": "python",
   "pygments_lexer": "ipython3",
   "version": "3.9.7"
  }
 },
 "nbformat": 4,
 "nbformat_minor": 5
}
