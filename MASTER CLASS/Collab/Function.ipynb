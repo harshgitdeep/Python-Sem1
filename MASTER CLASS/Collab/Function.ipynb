{
 "cells": [
  {
   "cell_type": "markdown",
   "id": "9559cbf2",
   "metadata": {},
   "source": [
    "# Function"
   ]
  },
  {
   "cell_type": "code",
   "execution_count": 5,
   "id": "dc74afdb",
   "metadata": {},
   "outputs": [],
   "source": [
    "def greeting():\n",
    "    print(\"hello, How are you\")"
   ]
  },
  {
   "cell_type": "code",
   "execution_count": 6,
   "id": "7a4c74a9",
   "metadata": {},
   "outputs": [
    {
     "name": "stdout",
     "output_type": "stream",
     "text": [
      "hello, How are you\n"
     ]
    }
   ],
   "source": [
    "greeting()"
   ]
  },
  {
   "cell_type": "code",
   "execution_count": 8,
   "id": "2253b480",
   "metadata": {},
   "outputs": [
    {
     "name": "stdout",
     "output_type": "stream",
     "text": [
      "hello, How are you\n",
      "hello, How are you\n",
      "hello, How are you\n"
     ]
    }
   ],
   "source": [
    "greeting()\n",
    "greeting()\n",
    "greeting()"
   ]
  },
  {
   "cell_type": "code",
   "execution_count": 9,
   "id": "552ecad3",
   "metadata": {},
   "outputs": [],
   "source": [
    "def greeting(name):\n",
    "    print(\"hello Mr. \"+name +\" How are you\")"
   ]
  },
  {
   "cell_type": "code",
   "execution_count": 12,
   "id": "faa663f4",
   "metadata": {},
   "outputs": [
    {
     "name": "stdout",
     "output_type": "stream",
     "text": [
      "hello Mr. Ramesh How are you\n"
     ]
    }
   ],
   "source": [
    "greeting(\"Ramesh\")"
   ]
  },
  {
   "cell_type": "code",
   "execution_count": 13,
   "id": "494a79c9",
   "metadata": {},
   "outputs": [
    {
     "name": "stdout",
     "output_type": "stream",
     "text": [
      "hello Mr. Ramesh How are you\n",
      "hello Mr. Suresh How are you\n",
      "hello Mr. Mohan How are you\n"
     ]
    }
   ],
   "source": [
    "greeting(\"Ramesh\")\n",
    "greeting(\"Suresh\")\n",
    "greeting(\"Mohan\")"
   ]
  },
  {
   "cell_type": "code",
   "execution_count": 25,
   "id": "70777fef",
   "metadata": {},
   "outputs": [],
   "source": [
    "def add(a,b):\n",
    "    c=a+b\n",
    "    print(c)"
   ]
  },
  {
   "cell_type": "code",
   "execution_count": 26,
   "id": "1c19244f",
   "metadata": {},
   "outputs": [
    {
     "name": "stdout",
     "output_type": "stream",
     "text": [
      "8\n"
     ]
    }
   ],
   "source": [
    "x=add(5,3)"
   ]
  },
  {
   "cell_type": "code",
   "execution_count": 16,
   "id": "9020ff87",
   "metadata": {},
   "outputs": [
    {
     "name": "stdout",
     "output_type": "stream",
     "text": [
      "82\n"
     ]
    }
   ],
   "source": [
    "add(50,32)"
   ]
  },
  {
   "cell_type": "code",
   "execution_count": 17,
   "id": "af703ba7",
   "metadata": {},
   "outputs": [],
   "source": [
    "def add(a,b):\n",
    "    c=a+b\n",
    "    return(c)"
   ]
  },
  {
   "cell_type": "code",
   "execution_count": 19,
   "id": "db04e0ce",
   "metadata": {},
   "outputs": [],
   "source": [
    "x=add(40,37)"
   ]
  },
  {
   "cell_type": "code",
   "execution_count": 20,
   "id": "5d5afda5",
   "metadata": {},
   "outputs": [
    {
     "name": "stdout",
     "output_type": "stream",
     "text": [
      "77\n"
     ]
    }
   ],
   "source": [
    "print(x)"
   ]
  },
  {
   "cell_type": "code",
   "execution_count": 21,
   "id": "eeab0e87",
   "metadata": {},
   "outputs": [],
   "source": [
    "def count(n):\n",
    "    count=0\n",
    "    while(n>0):\n",
    "        count=count+1\n",
    "        n=n//10\n",
    "    return(count)\n",
    "    "
   ]
  },
  {
   "cell_type": "code",
   "execution_count": 22,
   "id": "002012d3",
   "metadata": {},
   "outputs": [
    {
     "data": {
      "text/plain": [
       "4"
      ]
     },
     "execution_count": 22,
     "metadata": {},
     "output_type": "execute_result"
    }
   ],
   "source": [
    "count(3456)"
   ]
  },
  {
   "cell_type": "code",
   "execution_count": 23,
   "id": "5cd57820",
   "metadata": {},
   "outputs": [],
   "source": [
    "y=count(23456745)"
   ]
  },
  {
   "cell_type": "code",
   "execution_count": 24,
   "id": "052738e1",
   "metadata": {},
   "outputs": [
    {
     "name": "stdout",
     "output_type": "stream",
     "text": [
      "8\n"
     ]
    }
   ],
   "source": [
    "print(y)\n"
   ]
  },
  {
   "cell_type": "code",
   "execution_count": 27,
   "id": "64c36929",
   "metadata": {},
   "outputs": [],
   "source": [
    "x\n"
   ]
  },
  {
   "cell_type": "code",
   "execution_count": null,
   "id": "b41be28c",
   "metadata": {},
   "outputs": [],
   "source": []
  }
 ],
 "metadata": {
  "kernelspec": {
   "display_name": "Python 3 (ipykernel)",
   "language": "python",
   "name": "python3"
  },
  "language_info": {
   "codemirror_mode": {
    "name": "ipython",
    "version": 3
   },
   "file_extension": ".py",
   "mimetype": "text/x-python",
   "name": "python",
   "nbconvert_exporter": "python",
   "pygments_lexer": "ipython3",
   "version": "3.9.7"
  }
 },
 "nbformat": 4,
 "nbformat_minor": 5
}
