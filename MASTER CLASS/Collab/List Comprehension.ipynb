{
 "cells": [
  {
   "cell_type": "markdown",
   "id": "01617a1e",
   "metadata": {},
   "source": [
    "# List Comprehension"
   ]
  },
  {
   "cell_type": "markdown",
   "id": "e3f9874e",
   "metadata": {},
   "source": [
    "List comprehension offers a shorter syntax when you want to create a new list based on the values of an existing list.\n",
    "\n",
    "List comprehension in Python is an easy and compact syntax for creating a list from a string or another list. It is a very concise way to create a new list by performing an operation on each item in the existing list. List comprehension is considerably faster than processing a list using the for loop."
   ]
  },
  {
   "cell_type": "raw",
   "id": "933f57f4",
   "metadata": {},
   "source": [
    "Advantages of List Comprehension\n",
    "\n",
    "1. More time efficient and space efficient than loops.\n",
    "2. Require fewer lines of code.\n",
    "3. Transforms iterative statement into a formula."
   ]
  },
  {
   "cell_type": "markdown",
   "id": "d30c6b6a",
   "metadata": {},
   "source": [
    "# Syntax of List Comprehension"
   ]
  },
  {
   "cell_type": "raw",
   "id": "a94d6803",
   "metadata": {},
   "source": [
    "newlist = [expression for item in iterable if condition]"
   ]
  },
  {
   "cell_type": "raw",
   "id": "eba8c521",
   "metadata": {},
   "source": [
    "Conventional Method"
   ]
  },
  {
   "cell_type": "code",
   "execution_count": 1,
   "id": "714da3f0",
   "metadata": {},
   "outputs": [
    {
     "name": "stdout",
     "output_type": "stream",
     "text": [
      "[1, 4, 9, 16, 25, 36, 49, 64, 81, 100]\n"
     ]
    }
   ],
   "source": [
    "squares = []\n",
    "n=[1,2,3,4,5,6,7,8,9,10]\n",
    "for x in n:\n",
    "     squares.append(x**2)\n",
    "\n",
    "print(squares)"
   ]
  },
  {
   "cell_type": "raw",
   "id": "2c73867a",
   "metadata": {},
   "source": [
    "Using map() function"
   ]
  },
  {
   "cell_type": "code",
   "execution_count": 2,
   "id": "0fb7512b",
   "metadata": {},
   "outputs": [
    {
     "name": "stdout",
     "output_type": "stream",
     "text": [
      "[1, 4, 9, 16, 25, 36, 49, 64, 81, 100]\n"
     ]
    }
   ],
   "source": [
    "n=[1,2,3,4,5,6,7,8,9,10]\n",
    "squares = list(map(lambda x: x**2, n))\n",
    "print(squares)"
   ]
  },
  {
   "cell_type": "raw",
   "id": "0ba8da75",
   "metadata": {},
   "source": [
    "Using List Comprehension"
   ]
  },
  {
   "cell_type": "code",
   "execution_count": 3,
   "id": "1ae09885",
   "metadata": {},
   "outputs": [
    {
     "name": "stdout",
     "output_type": "stream",
     "text": [
      "[1, 4, 9, 16, 25, 36, 49, 64, 81, 100]\n"
     ]
    }
   ],
   "source": [
    "n=[1,2,3,4,5,6,7,8,9,10]\n",
    "squares = [x**2 for x in n]\n",
    "print(squares)"
   ]
  },
  {
   "cell_type": "code",
   "execution_count": 4,
   "id": "a6d819a2",
   "metadata": {},
   "outputs": [
    {
     "name": "stdout",
     "output_type": "stream",
     "text": [
      "[1, 2, 3, 4, 5, 6, 7, 8, 9, 10]\n"
     ]
    }
   ],
   "source": [
    "squares = [x for x in n]\n",
    "print(squares)"
   ]
  },
  {
   "cell_type": "code",
   "execution_count": 5,
   "id": "e6812937",
   "metadata": {},
   "outputs": [
    {
     "name": "stdout",
     "output_type": "stream",
     "text": [
      "[0, 1, 2, 3, 4, 5, 6, 7, 8, 9]\n"
     ]
    }
   ],
   "source": [
    "squares = [x-1 for x in n]\n",
    "print(squares)"
   ]
  },
  {
   "cell_type": "code",
   "execution_count": 6,
   "id": "41b4b8ef",
   "metadata": {},
   "outputs": [
    {
     "name": "stdout",
     "output_type": "stream",
     "text": [
      "[4, 16, 36, 64, 100]\n"
     ]
    }
   ],
   "source": [
    "squares = [x**2 for x in n if x%2==0]\n",
    "print(squares)"
   ]
  },
  {
   "cell_type": "code",
   "execution_count": 7,
   "id": "ea6d3845",
   "metadata": {},
   "outputs": [
    {
     "name": "stdout",
     "output_type": "stream",
     "text": [
      "['apple', 'banana', 'mango']\n"
     ]
    }
   ],
   "source": [
    "fruits = [\"apple\", \"banana\", \"cherry\", \"kiwi\", \"mango\"]\n",
    "\n",
    "newlist = [x for x in fruits if \"a\" in x]\n",
    "\n",
    "print(newlist)"
   ]
  },
  {
   "cell_type": "code",
   "execution_count": 8,
   "id": "7786386d",
   "metadata": {},
   "outputs": [
    {
     "name": "stdout",
     "output_type": "stream",
     "text": [
      "['APPLE', 'BANANA', 'CHERRY', 'KIWI', 'MANGO']\n"
     ]
    }
   ],
   "source": [
    "newlist = [x.upper() for x in fruits]\n",
    "print(newlist)"
   ]
  },
  {
   "cell_type": "code",
   "execution_count": 10,
   "id": "c2c85474",
   "metadata": {},
   "outputs": [
    {
     "name": "stdout",
     "output_type": "stream",
     "text": [
      "['hello apple', 'hello banana', 'hello cherry', 'hello kiwi', 'hello mango']\n"
     ]
    }
   ],
   "source": [
    "newlist = ['hello '+x for x in fruits]\n",
    "print(newlist)"
   ]
  },
  {
   "cell_type": "code",
   "execution_count": 11,
   "id": "c17e9feb",
   "metadata": {},
   "outputs": [
    {
     "name": "stdout",
     "output_type": "stream",
     "text": [
      "['ch', 'un', 'pu', 'in']\n"
     ]
    }
   ],
   "source": [
    "li=['chitkara', 'university', 'punjab', 'india']\n",
    "List = [string[0:2] for string in li]\n",
    "\n",
    "print(List)"
   ]
  },
  {
   "cell_type": "code",
   "execution_count": 12,
   "id": "5097975e",
   "metadata": {},
   "outputs": [
    {
     "name": "stdout",
     "output_type": "stream",
     "text": [
      "['c', 'u', 'p', 'i']\n"
     ]
    }
   ],
   "source": [
    "li=['chitkara', 'university', 'punjab', 'india']\n",
    "List = [string[0] for string in li]\n",
    "\n",
    "print(List)"
   ]
  },
  {
   "cell_type": "code",
   "execution_count": 13,
   "id": "eaa7b3d8",
   "metadata": {},
   "outputs": [
    {
     "name": "stdout",
     "output_type": "stream",
     "text": [
      "['a', 'y', 'b', 'a']\n"
     ]
    }
   ],
   "source": [
    "li=['chitkara', 'university', 'punjab', 'india']\n",
    "List = [string[-1] for string in li]\n",
    "\n",
    "print(List)"
   ]
  },
  {
   "cell_type": "code",
   "execution_count": 17,
   "id": "842af0a8",
   "metadata": {},
   "outputs": [
    {
     "name": "stdout",
     "output_type": "stream",
     "text": [
      "['ar', 'it', 'ja', 'di']\n"
     ]
    }
   ],
   "source": [
    "li=['chitkara', 'university', 'punjab', 'india']\n",
    "List = [string[-3:-1] for string in li]\n",
    "\n",
    "print(List)"
   ]
  },
  {
   "cell_type": "code",
   "execution_count": 31,
   "id": "b2d484ab",
   "metadata": {},
   "outputs": [
    {
     "name": "stdout",
     "output_type": "stream",
     "text": [
      "['a', 'y', 'b', 'a']\n"
     ]
    }
   ],
   "source": [
    "li=['chitkara', 'university', 'punjab', 'india']\n",
    "List = [string[-1] for string in li]\n",
    "\n",
    "print(List)\n"
   ]
  },
  {
   "cell_type": "code",
   "execution_count": 25,
   "id": "1fb82acf",
   "metadata": {},
   "outputs": [
    {
     "name": "stdout",
     "output_type": "stream",
     "text": [
      "araktihC\n"
     ]
    }
   ],
   "source": [
    "s=\"Chitkara\"\n",
    "print(s[::-1])"
   ]
  },
  {
   "cell_type": "raw",
   "id": "95d39320",
   "metadata": {},
   "source": [
    "A list comprehension consists of brackets containing an expression followed by a for clause, then zero or more for or if clauses. The result will be a new list resulting from evaluating the expression in the context of the for and if clauses which follow it."
   ]
  },
  {
   "cell_type": "code",
   "execution_count": 19,
   "id": "789c9486",
   "metadata": {},
   "outputs": [
    {
     "name": "stdout",
     "output_type": "stream",
     "text": [
      "[[1, 3], [1, 1], [1, 4], [2, 3], [2, 1], [2, 4], [3, 3], [3, 1], [3, 4]]\n"
     ]
    }
   ],
   "source": [
    "z=[[x, y] for x in [1,2,3] for y in [3,1,4] ]\n",
    "print(z)"
   ]
  },
  {
   "cell_type": "code",
   "execution_count": 20,
   "id": "54770af1",
   "metadata": {},
   "outputs": [
    {
     "name": "stdout",
     "output_type": "stream",
     "text": [
      "[[1, 3], [1, 4], [2, 3], [2, 1], [2, 4], [3, 1], [3, 4]]\n"
     ]
    }
   ],
   "source": [
    "z=[[x, y] for x in [1,2,3] for y in [3,1,4] if x!=y ]\n",
    "print(z)"
   ]
  },
  {
   "cell_type": "markdown",
   "id": "72f5067c",
   "metadata": {},
   "source": [
    "*Nested IF with List Comprehension*"
   ]
  },
  {
   "cell_type": "code",
   "execution_count": 11,
   "id": "cc4daeec",
   "metadata": {},
   "outputs": [
    {
     "name": "stdout",
     "output_type": "stream",
     "text": [
      "[0, 10, 20, 30, 40, 50, 60, 70, 80, 90]\n"
     ]
    }
   ],
   "source": [
    "num_list = [y for y in range(100) if y % 2 == 0 if y % 5 == 0]\n",
    "print(num_list)"
   ]
  },
  {
   "cell_type": "raw",
   "id": "e59090ef",
   "metadata": {},
   "source": [
    "Here, list comprehension checks:\n",
    "\n",
    "Is y divisible by 2 or not?\n",
    "Is y divisible by 5 or not?\n",
    "If y satisfies both conditions, y is appended to num_list."
   ]
  },
  {
   "cell_type": "raw",
   "id": "595ff752",
   "metadata": {},
   "source": [
    "If..else in expression"
   ]
  },
  {
   "cell_type": "code",
   "execution_count": 12,
   "id": "aabb467e",
   "metadata": {},
   "outputs": [
    {
     "name": "stdout",
     "output_type": "stream",
     "text": [
      "['Even', 'Odd', 'Even', 'Odd', 'Even', 'Odd', 'Even', 'Odd', 'Even', 'Odd']\n"
     ]
    }
   ],
   "source": [
    "obj = [\"Even\" if i%2==0 else \"Odd\" for i in range(10)]\n",
    "print(obj)"
   ]
  },
  {
   "cell_type": "markdown",
   "id": "d786125b",
   "metadata": {},
   "source": [
    "*Key Points to Remember*\n",
    "1. List comprehension is an elegant way to define and create lists based on existing lists.\n",
    "2. List comprehension is generally more compact and faster than normal functions and loops for creating list.\n",
    "3. However, we should avoid writing very long list comprehensions in one line to ensure that code is user-friendly.\n",
    "4. Remember, every list comprehension can be rewritten in for loop, but every for loop can’t be rewritten in the form of list comprehension."
   ]
  },
  {
   "cell_type": "code",
   "execution_count": 23,
   "id": "490ec681",
   "metadata": {},
   "outputs": [
    {
     "name": "stdout",
     "output_type": "stream",
     "text": [
      "[0, 10, 20, 30, 40, 50, 60, 70, 80, 90]\n"
     ]
    }
   ],
   "source": [
    "num_list = [y for y in range(100) if y % 2 == 0 and y % 5 == 0]\n",
    "print(num_list)"
   ]
  },
  {
   "cell_type": "code",
   "execution_count": null,
   "id": "d7040f55",
   "metadata": {},
   "outputs": [],
   "source": []
  }
 ],
 "metadata": {
  "kernelspec": {
   "display_name": "Python 3 (ipykernel)",
   "language": "python",
   "name": "python3"
  },
  "language_info": {
   "codemirror_mode": {
    "name": "ipython",
    "version": 3
   },
   "file_extension": ".py",
   "mimetype": "text/x-python",
   "name": "python",
   "nbconvert_exporter": "python",
   "pygments_lexer": "ipython3",
   "version": "3.9.7"
  }
 },
 "nbformat": 4,
 "nbformat_minor": 5
}
