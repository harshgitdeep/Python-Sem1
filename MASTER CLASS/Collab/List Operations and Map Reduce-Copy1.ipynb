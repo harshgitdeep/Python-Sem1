{
 "cells": [
  {
   "cell_type": "markdown",
   "id": "289919ed",
   "metadata": {},
   "source": [
    "# List Operations"
   ]
  },
  {
   "cell_type": "raw",
   "id": "88fe908c",
   "metadata": {},
   "source": [
    "Mutable operations\n",
    "These operations allow us to work with lists, but altering or modifying their previous definition.\n",
    "\n",
    "append()\tAdds an element at the end of the list\n",
    "clear()\t    Removes all the elements from the list\n",
    "extend()\tAdd the elements of a list (or any iterable), to the end of the current list\n",
    "insert()\tAdds an element at the specified position\n",
    "pop()\t    Removes the element at the specified position\n",
    "remove()\tRemoves the first item with the specified value\n",
    "reverse()\tReverses the order of the list\n",
    "sort()\t    Sorts the list\n",
    "del         Deletes the element located in the specific index."
   ]
  },
  {
   "cell_type": "code",
   "execution_count": 27,
   "id": "28dbbb43",
   "metadata": {},
   "outputs": [],
   "source": [
    "a=[1,2,3,2]"
   ]
  },
  {
   "cell_type": "code",
   "execution_count": 24,
   "id": "4f7af7ce",
   "metadata": {},
   "outputs": [
    {
     "name": "stdout",
     "output_type": "stream",
     "text": [
      "[1, 2, 3, 2]\n"
     ]
    }
   ],
   "source": [
    "print(a)"
   ]
  },
  {
   "cell_type": "code",
   "execution_count": 25,
   "id": "7265ecb2",
   "metadata": {},
   "outputs": [],
   "source": [
    "a.clear()"
   ]
  },
  {
   "cell_type": "code",
   "execution_count": 26,
   "id": "5f932fee",
   "metadata": {},
   "outputs": [
    {
     "name": "stdout",
     "output_type": "stream",
     "text": [
      "[]\n"
     ]
    }
   ],
   "source": [
    "print(a)"
   ]
  },
  {
   "cell_type": "code",
   "execution_count": 28,
   "id": "c2c538e5",
   "metadata": {},
   "outputs": [
    {
     "name": "stdout",
     "output_type": "stream",
     "text": [
      "[2, 3, 2, 1]\n"
     ]
    }
   ],
   "source": [
    "a=[1,2,3,2]\n",
    "a.reverse()\n",
    "print(a)"
   ]
  },
  {
   "cell_type": "code",
   "execution_count": 29,
   "id": "20f048e4",
   "metadata": {},
   "outputs": [
    {
     "name": "stdout",
     "output_type": "stream",
     "text": [
      "[1, 2, 2, 3]\n"
     ]
    }
   ],
   "source": [
    "a=[1,2,3,2]\n",
    "a.sort()\n",
    "print(a)"
   ]
  },
  {
   "cell_type": "code",
   "execution_count": 30,
   "id": "c9b5988a",
   "metadata": {},
   "outputs": [
    {
     "name": "stdout",
     "output_type": "stream",
     "text": [
      "[3, 2, 2, 1]\n"
     ]
    }
   ],
   "source": [
    "a=[1,2,3,2]\n",
    "a.sort(reverse=True)\n",
    "print(a)"
   ]
  },
  {
   "cell_type": "code",
   "execution_count": 9,
   "id": "4cd93481",
   "metadata": {},
   "outputs": [
    {
     "name": "stdout",
     "output_type": "stream",
     "text": [
      "[1, 2, 3, 2]\n"
     ]
    }
   ],
   "source": [
    "print(b)"
   ]
  },
  {
   "cell_type": "code",
   "execution_count": 10,
   "id": "28f7eea1",
   "metadata": {},
   "outputs": [],
   "source": [
    "b.reverse()"
   ]
  },
  {
   "cell_type": "code",
   "execution_count": 11,
   "id": "53d44802",
   "metadata": {},
   "outputs": [
    {
     "name": "stdout",
     "output_type": "stream",
     "text": [
      "[2, 3, 2, 1]\n"
     ]
    }
   ],
   "source": [
    "print(b)"
   ]
  },
  {
   "cell_type": "code",
   "execution_count": null,
   "id": "4f08739e",
   "metadata": {},
   "outputs": [],
   "source": []
  },
  {
   "cell_type": "code",
   "execution_count": 16,
   "id": "3bd82c20",
   "metadata": {},
   "outputs": [],
   "source": [
    "x=[2,1,4,5,3]"
   ]
  },
  {
   "cell_type": "code",
   "execution_count": 17,
   "id": "d6bacf6a",
   "metadata": {},
   "outputs": [],
   "source": [
    "x.sort()"
   ]
  },
  {
   "cell_type": "code",
   "execution_count": 18,
   "id": "67d50fa5",
   "metadata": {},
   "outputs": [
    {
     "name": "stdout",
     "output_type": "stream",
     "text": [
      "[1, 2, 3, 4, 5]\n"
     ]
    }
   ],
   "source": [
    "print(x)"
   ]
  },
  {
   "cell_type": "code",
   "execution_count": 20,
   "id": "3775f946",
   "metadata": {},
   "outputs": [],
   "source": [
    "x.sort(reverse=True)"
   ]
  },
  {
   "cell_type": "code",
   "execution_count": 21,
   "id": "9f18c384",
   "metadata": {},
   "outputs": [
    {
     "name": "stdout",
     "output_type": "stream",
     "text": [
      "[5, 4, 3, 2, 1]\n"
     ]
    }
   ],
   "source": [
    "print(x)"
   ]
  },
  {
   "cell_type": "raw",
   "id": "3d5644e9",
   "metadata": {},
   "source": [
    "Immutable operations\n",
    "These operations allow us to work with lists without altering or modifying their previous definition."
   ]
  },
  {
   "cell_type": "raw",
   "id": "da6ef7d7",
   "metadata": {},
   "source": [
    "sorted\n",
    "This method sorts the elements of a list from smallest to largest, this is very similar to the sort method, but this behavior can be modified using the parameter reverse = True."
   ]
  },
  {
   "cell_type": "code",
   "execution_count": 32,
   "id": "3f0f8614",
   "metadata": {},
   "outputs": [
    {
     "name": "stdout",
     "output_type": "stream",
     "text": [
      "[0, 2, 5, 9]\n",
      "[5, 2, 9, 0]\n"
     ]
    }
   ],
   "source": [
    "x = [5, 2, 9, 0]\n",
    "y=sorted(x)\n",
    "print(y)\n",
    "print(x)\n"
   ]
  },
  {
   "cell_type": "raw",
   "id": "c0555790",
   "metadata": {},
   "source": [
    "+\n",
    "This operation allows us to concatenate or join two different lists in a new list."
   ]
  },
  {
   "cell_type": "code",
   "execution_count": 33,
   "id": "74b1aaed",
   "metadata": {},
   "outputs": [
    {
     "name": "stdout",
     "output_type": "stream",
     "text": [
      "[1, 2, 3, 4, 5, 6]\n",
      "[1, 2, 3]\n",
      "[4, 5, 6]\n"
     ]
    }
   ],
   "source": [
    "x = [1, 2, 3]\n",
    "y = [4, 5, 6]\n",
    "z=x+y\n",
    "print(z)\n",
    "print(x)\n",
    "print(y)"
   ]
  },
  {
   "cell_type": "raw",
   "id": "c06cd5f7",
   "metadata": {},
   "source": [
    "*\n",
    "This operation will replicate a list to the specified number of times."
   ]
  },
  {
   "cell_type": "code",
   "execution_count": 34,
   "id": "494f5796",
   "metadata": {},
   "outputs": [
    {
     "name": "stdout",
     "output_type": "stream",
     "text": [
      "[1, 2, 3, 1, 2, 3, 1, 2, 3]\n",
      "[1, 2, 3]\n"
     ]
    }
   ],
   "source": [
    "x = [1, 2, 3]\n",
    "y=x * 3\n",
    "print(y)\n",
    "print(x)"
   ]
  },
  {
   "cell_type": "raw",
   "id": "7ba740cf",
   "metadata": {},
   "source": [
    "min(): This method returns the smallest element in a list.\n",
    "max(): Unlike the min method, this returns the largest item in a list.\n",
    "index() Returns the position in the list of the specified element.\n",
    "count(): Returns the number of times the specified item occurs in the list.\n",
    "sum(): This method sums the items of the list, just if they can be summed. Sum is a widely used method with numeric type lists.\n",
    "len(): To determine how many items a list has, use the len() function\n",
    "copy() \treturns a shallow copy of the list"
   ]
  },
  {
   "cell_type": "code",
   "execution_count": 35,
   "id": "84c3497b",
   "metadata": {},
   "outputs": [
    {
     "name": "stdout",
     "output_type": "stream",
     "text": [
      "3\n",
      "[40, 100, 3, 9, 4]\n"
     ]
    }
   ],
   "source": [
    "x = [40, 100, 3, 9, 4]\n",
    "print(min(x))\n",
    "print(x)"
   ]
  },
  {
   "cell_type": "code",
   "execution_count": 36,
   "id": "fbe614bb",
   "metadata": {},
   "outputs": [
    {
     "name": "stdout",
     "output_type": "stream",
     "text": [
      "100\n",
      "[40, 100, 3, 9, 4]\n"
     ]
    }
   ],
   "source": [
    "print(max(x))\n",
    "print(x)"
   ]
  },
  {
   "cell_type": "code",
   "execution_count": 37,
   "id": "86d074d2",
   "metadata": {},
   "outputs": [
    {
     "name": "stdout",
     "output_type": "stream",
     "text": [
      "2\n"
     ]
    }
   ],
   "source": [
    "print(x.index(3))"
   ]
  },
  {
   "cell_type": "code",
   "execution_count": 38,
   "id": "225ec1ce",
   "metadata": {},
   "outputs": [
    {
     "name": "stdout",
     "output_type": "stream",
     "text": [
      "3\n",
      "[10, 30, 20, 30, 30]\n"
     ]
    }
   ],
   "source": [
    "x = [10, 30, 20, 30, 30]\n",
    "print(x.count(30))\n",
    "print(x)"
   ]
  },
  {
   "cell_type": "code",
   "execution_count": 39,
   "id": "6d0d8959",
   "metadata": {},
   "outputs": [
    {
     "name": "stdout",
     "output_type": "stream",
     "text": [
      "9.0\n",
      "[2.5, 3, 3.5]\n"
     ]
    }
   ],
   "source": [
    "x = [2.5, 3, 3.5]\n",
    "print(sum(x))\n",
    "print(x)"
   ]
  },
  {
   "cell_type": "code",
   "execution_count": 24,
   "id": "499f7682",
   "metadata": {},
   "outputs": [
    {
     "name": "stdout",
     "output_type": "stream",
     "text": [
      "[1, 2, 4, 8, 16, 32, 64, 128, 256, 512]\n"
     ]
    }
   ],
   "source": [
    "pow2 = []\n",
    "for x in range(10):\n",
    "   pow2.append(2 ** x)\n",
    "print(pow2)"
   ]
  },
  {
   "cell_type": "code",
   "execution_count": 40,
   "id": "c8d4a65d",
   "metadata": {},
   "outputs": [
    {
     "name": "stdout",
     "output_type": "stream",
     "text": [
      "3\n",
      "[2.5, 3, 3.5]\n"
     ]
    }
   ],
   "source": [
    "x = [2.5, 3, 3.5]\n",
    "print(len(x))\n",
    "print(x)"
   ]
  },
  {
   "cell_type": "code",
   "execution_count": 42,
   "id": "c4a11ae0",
   "metadata": {},
   "outputs": [
    {
     "name": "stdout",
     "output_type": "stream",
     "text": [
      "[2.5, 3, 3.5]\n",
      "[2.5, 3, 3.5]\n"
     ]
    }
   ],
   "source": [
    "x = [2.5, 3, 3.5]\n",
    "y=x.copy()\n",
    "print(x)\n",
    "print(y)"
   ]
  },
  {
   "cell_type": "markdown",
   "id": "f64c1730",
   "metadata": {},
   "source": [
    "# map, filter & reduce functions. "
   ]
  },
  {
   "cell_type": "raw",
   "id": "1c00c6e9",
   "metadata": {},
   "source": [
    "The map() Function\n",
    "The map() function iterates through all items in the given iterable and executes the function we passed as an argument on each of them."
   ]
  },
  {
   "cell_type": "raw",
   "id": "e57d7b85",
   "metadata": {},
   "source": [
    "The syntax is:\n",
    "\n",
    "map(function, iterable(s))"
   ]
  },
  {
   "cell_type": "code",
   "execution_count": 44,
   "id": "8a2f0341",
   "metadata": {},
   "outputs": [],
   "source": [
    "def fact(n):\n",
    "    f=1\n",
    "    for i in range(1,n+1):\n",
    "        f=f*i\n",
    "    return(f)"
   ]
  },
  {
   "cell_type": "code",
   "execution_count": 45,
   "id": "b6c63efd",
   "metadata": {},
   "outputs": [
    {
     "data": {
      "text/plain": [
       "120"
      ]
     },
     "execution_count": 45,
     "metadata": {},
     "output_type": "execute_result"
    }
   ],
   "source": [
    "fact()"
   ]
  },
  {
   "cell_type": "code",
   "execution_count": 46,
   "id": "df658fe7",
   "metadata": {},
   "outputs": [],
   "source": [
    "v=map(fact,[2,3,4])"
   ]
  },
  {
   "cell_type": "code",
   "execution_count": 47,
   "id": "cff1f7c2",
   "metadata": {},
   "outputs": [
    {
     "data": {
      "text/plain": [
       "map"
      ]
     },
     "execution_count": 47,
     "metadata": {},
     "output_type": "execute_result"
    }
   ],
   "source": [
    "type(v)"
   ]
  },
  {
   "cell_type": "code",
   "execution_count": 48,
   "id": "be6c0ff0",
   "metadata": {},
   "outputs": [
    {
     "name": "stdout",
     "output_type": "stream",
     "text": [
      "[2, 6, 24]\n"
     ]
    }
   ],
   "source": [
    "print(list(v))"
   ]
  },
  {
   "cell_type": "code",
   "execution_count": 49,
   "id": "5895ec8c",
   "metadata": {},
   "outputs": [],
   "source": [
    "v=map(fact,range(1,11))"
   ]
  },
  {
   "cell_type": "code",
   "execution_count": 50,
   "id": "bca0050e",
   "metadata": {},
   "outputs": [
    {
     "name": "stdout",
     "output_type": "stream",
     "text": [
      "[1, 2, 6, 24, 120, 720, 5040, 40320, 362880, 3628800]\n"
     ]
    }
   ],
   "source": [
    "print(list(v))"
   ]
  },
  {
   "cell_type": "code",
   "execution_count": 51,
   "id": "73744e5f",
   "metadata": {},
   "outputs": [],
   "source": [
    "def count_letters(x):\n",
    "    return len(list(x))\n",
    "\n",
    "\n"
   ]
  },
  {
   "cell_type": "code",
   "execution_count": 52,
   "id": "9b375631",
   "metadata": {},
   "outputs": [
    {
     "data": {
      "text/plain": [
       "8"
      ]
     },
     "execution_count": 52,
     "metadata": {},
     "output_type": "execute_result"
    }
   ],
   "source": [
    "count_letters(\"Chitkara\")"
   ]
  },
  {
   "cell_type": "code",
   "execution_count": 53,
   "id": "377d44af",
   "metadata": {},
   "outputs": [
    {
     "name": "stdout",
     "output_type": "stream",
     "text": [
      "[5, 5, 3]\n"
     ]
    }
   ],
   "source": [
    "map_obj = map(count_letters,['bacon','toast','egg'])\n",
    "print(list(map_obj))"
   ]
  },
  {
   "cell_type": "code",
   "execution_count": 55,
   "id": "b53831e5",
   "metadata": {},
   "outputs": [],
   "source": [
    "squares=map(lambda i:i**2,range(1,11))"
   ]
  },
  {
   "cell_type": "code",
   "execution_count": 56,
   "id": "114f2539",
   "metadata": {},
   "outputs": [
    {
     "name": "stdout",
     "output_type": "stream",
     "text": [
      "[1, 4, 9, 16, 25, 36, 49, 64, 81, 100]\n"
     ]
    }
   ],
   "source": [
    "print(list(squares))"
   ]
  },
  {
   "cell_type": "raw",
   "id": "435d0d99",
   "metadata": {},
   "source": [
    "The filter() Function\n",
    "As the name suggests, filter() forms a new list that contains only elements that satisfy a certain condition, i.e. the function we passed returns True.\n",
    "\n",
    "The syntax is:\n",
    "\n",
    "filter(function, iterable(s))"
   ]
  },
  {
   "cell_type": "code",
   "execution_count": 2,
   "id": "ec074428",
   "metadata": {},
   "outputs": [],
   "source": [
    "def check_odd(number):\n",
    "    if number % 2 != 0:\n",
    "          return True  \n",
    "    return False"
   ]
  },
  {
   "cell_type": "code",
   "execution_count": 61,
   "id": "f54c3ddf",
   "metadata": {},
   "outputs": [
    {
     "data": {
      "text/plain": [
       "True"
      ]
     },
     "execution_count": 61,
     "metadata": {},
     "output_type": "execute_result"
    }
   ],
   "source": [
    "check_odd(5)"
   ]
  },
  {
   "cell_type": "code",
   "execution_count": 4,
   "id": "f988ed5c",
   "metadata": {},
   "outputs": [
    {
     "name": "stdout",
     "output_type": "stream",
     "text": [
      "[1, 3, 5, 7, 9]\n"
     ]
    }
   ],
   "source": [
    "numbers = [1, 2, 3, 4, 5, 6, 7, 8, 9, 10]\n",
    "\n",
    "odds = filter(check_odd, numbers)\n",
    "\n",
    "print(list(odds))"
   ]
  },
  {
   "cell_type": "code",
   "execution_count": 64,
   "id": "2ac139ec",
   "metadata": {},
   "outputs": [
    {
     "name": "stdout",
     "output_type": "stream",
     "text": [
      "[5, 7, 97, 77, 23, 73, 61]\n"
     ]
    }
   ],
   "source": [
    "li = [5, 7, 22, 97, 54, 62, 77, 23, 73, 61]\n",
    " \n",
    "final_list = filter(lambda x: (x%2 != 0) , li)\n",
    "print(list(final_list))"
   ]
  },
  {
   "cell_type": "code",
   "execution_count": 65,
   "id": "45ee4f30",
   "metadata": {},
   "outputs": [
    {
     "name": "stdout",
     "output_type": "stream",
     "text": [
      "[3, 4]\n"
     ]
    }
   ],
   "source": [
    "y = filter(lambda x: (x>=3), [1,2,3,4])\n",
    "print(list(y))"
   ]
  },
  {
   "cell_type": "code",
   "execution_count": 6,
   "id": "ada8d045",
   "metadata": {},
   "outputs": [],
   "source": [
    "def filter_vowels(letter):\n",
    "    vowels = ['a', 'e', 'i', 'o', 'u']\n",
    "    if letter in vowels:\n",
    "        return True \n",
    "    else:\n",
    "        return False"
   ]
  },
  {
   "cell_type": "code",
   "execution_count": 68,
   "id": "b336df4f",
   "metadata": {},
   "outputs": [
    {
     "name": "stdout",
     "output_type": "stream",
     "text": [
      "['a', 'e', 'i', 'o']\n"
     ]
    }
   ],
   "source": [
    "letters = ['a', 'b', 'd', 'e', 'i', 'j', 'o']\n",
    "filtered_vowels = filter(filter_vowels, letters)\n",
    "print(list(filtered_vowels))"
   ]
  },
  {
   "cell_type": "code",
   "execution_count": 71,
   "id": "0cc51256",
   "metadata": {},
   "outputs": [
    {
     "name": "stdout",
     "output_type": "stream",
     "text": [
      "[55, 44, 9, 7, 3, 1]\n"
     ]
    }
   ],
   "source": [
    "x=[1,44,55,3,7,9]\n",
    "y=sorted(x,reverse=True)\n",
    "print(y)"
   ]
  },
  {
   "cell_type": "raw",
   "id": "10d22c4c",
   "metadata": {},
   "source": [
    "Python’s reduce() operates on any iterable—not just lists—and performs the following steps:\n",
    "\n",
    "Apply a function (or callable) to the first two items in an iterable and generate a partial result.\n",
    "Use that partial result, together with the third item in the iterable, to generate another partial result.\n",
    "Repeat the process until the iterable is exhausted and then return a single cumulative value.\n",
    "\n",
    "syntax\n",
    "reduce(function,list)"
   ]
  },
  {
   "cell_type": "raw",
   "id": "50e0ac5c",
   "metadata": {},
   "source": [
    "This function is defined in “functools” module."
   ]
  },
  {
   "cell_type": "code",
   "execution_count": 16,
   "id": "4f971d3d",
   "metadata": {},
   "outputs": [],
   "source": [
    "def my_add(a, b):\n",
    "     result = a + b\n",
    "#     print(f\"{a} + {b} = {result}\")\n",
    "     return result"
   ]
  },
  {
   "cell_type": "code",
   "execution_count": 6,
   "id": "3ee8c0fb",
   "metadata": {},
   "outputs": [
    {
     "data": {
      "text/plain": [
       "20"
      ]
     },
     "execution_count": 6,
     "metadata": {},
     "output_type": "execute_result"
    }
   ],
   "source": [
    "my_add(5, 15)"
   ]
  },
  {
   "cell_type": "code",
   "execution_count": 18,
   "id": "21c3b9e4",
   "metadata": {},
   "outputs": [],
   "source": [
    "numbers = [0, 1, 2, 3, 4,5,10,10,10]"
   ]
  },
  {
   "cell_type": "code",
   "execution_count": 19,
   "id": "78495e49",
   "metadata": {},
   "outputs": [
    {
     "name": "stdout",
     "output_type": "stream",
     "text": [
      "45\n"
     ]
    }
   ],
   "source": [
    "from functools import reduce\n",
    "\n",
    "\n",
    "x=reduce(my_add, numbers)\n",
    "print(x)"
   ]
  },
  {
   "cell_type": "code",
   "execution_count": 20,
   "id": "339d7d65",
   "metadata": {},
   "outputs": [
    {
     "name": "stdout",
     "output_type": "stream",
     "text": [
      "45\n"
     ]
    }
   ],
   "source": [
    "x=reduce(lambda a,b:a+b,numbers )\n",
    "print(x)"
   ]
  },
  {
   "cell_type": "code",
   "execution_count": 59,
   "id": "c9f5d35a",
   "metadata": {},
   "outputs": [
    {
     "name": "stdout",
     "output_type": "stream",
     "text": [
      "[0, 1, 2, 3, 4, 5, 6, 7, 8, 9]\n"
     ]
    }
   ],
   "source": [
    "a=5\n",
    "b=5\n",
    "print(list(range(a+b)))"
   ]
  },
  {
   "cell_type": "raw",
   "id": "60730f31",
   "metadata": {},
   "source": [
    "Using filter() within map():\n",
    "\n",
    "The code given below first checks for the condition (x>=3) to be true for the iterables. Then, the output is mapped using the map() function."
   ]
  },
  {
   "cell_type": "code",
   "execution_count": 21,
   "id": "423d92c6",
   "metadata": {},
   "outputs": [
    {
     "name": "stdout",
     "output_type": "stream",
     "text": [
      "[6, 8]\n"
     ]
    }
   ],
   "source": [
    "\t\n",
    "c = map(lambda x:x+x,filter(lambda x: (x>=3), [1,2,3,4]))\n",
    "print(list(c))"
   ]
  },
  {
   "cell_type": "raw",
   "id": "ce645b4c",
   "metadata": {},
   "source": [
    "Using map() within filter():\n",
    "\n",
    "When you use the map() function within filter() function, the iterables are first operated upon by the map function and then the condition of filter() is applied to them."
   ]
  },
  {
   "cell_type": "code",
   "execution_count": 22,
   "id": "447271cf",
   "metadata": {},
   "outputs": [
    {
     "name": "stdout",
     "output_type": "stream",
     "text": [
      "[4, 6, 8]\n"
     ]
    }
   ],
   "source": [
    "c = filter(lambda x: (x>=3),map(lambda x:x+x, [1,2,3,4]))  #lambda x: (x>=3)\n",
    "print(list(c))"
   ]
  },
  {
   "cell_type": "raw",
   "id": "bfbc55bd",
   "metadata": {},
   "source": [
    "Using map() and filter() within reduce():\n",
    "The output of the internal functions is reduced according to the condition supplied to the reduce() function."
   ]
  },
  {
   "cell_type": "code",
   "execution_count": 4,
   "id": "18e99004",
   "metadata": {},
   "outputs": [
    {
     "name": "stdout",
     "output_type": "stream",
     "text": [
      "14\n"
     ]
    }
   ],
   "source": [
    "from functools import reduce\n",
    "d = reduce(lambda x,y: x+y,map(lambda x:x+x,filter(lambda x: (x>=3), [1,2,3,4]))) \n",
    "print(d)"
   ]
  }
 ],
 "metadata": {
  "kernelspec": {
   "display_name": "Python 3 (ipykernel)",
   "language": "python",
   "name": "python3"
  },
  "language_info": {
   "codemirror_mode": {
    "name": "ipython",
    "version": 3
   },
   "file_extension": ".py",
   "mimetype": "text/x-python",
   "name": "python",
   "nbconvert_exporter": "python",
   "pygments_lexer": "ipython3",
   "version": "3.9.7"
  }
 },
 "nbformat": 4,
 "nbformat_minor": 5
}
