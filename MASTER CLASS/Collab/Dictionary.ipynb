{
 "cells": [
  {
   "cell_type": "markdown",
   "id": "9dab76eb",
   "metadata": {},
   "source": [
    "# Dictionary"
   ]
  },
  {
   "cell_type": "raw",
   "id": "20cfd229",
   "metadata": {},
   "source": [
    "Python Dictionary is used to store the data in a key-value pair format. The dictionary is the data type in Python, which can simulate the real-life data arrangement where some specific value exists for some particular key. The dictionary is defined into element Keys and values.\n",
    "\n",
    "Keys must be a single element\n",
    "Value can be any type such as list, tuple, integer, etc."
   ]
  },
  {
   "cell_type": "markdown",
   "id": "ec239e71",
   "metadata": {},
   "source": [
    "In Python, a Dictionary can be created by placing a sequence of elements within curly {} braces, separated by ‘comma’. Dictionary holds a pair of values, one being the Key and the other corresponding pair element being its Key:value. Values in a dictionary can be of any data type and can be duplicated, whereas keys can’t be repeated and must be immutable. "
   ]
  },
  {
   "cell_type": "markdown",
   "id": "bab5a982",
   "metadata": {},
   "source": [
    "# Create and print a dictionary"
   ]
  },
  {
   "cell_type": "raw",
   "id": "df765a42",
   "metadata": {},
   "source": [
    "You can define a dictionary by enclosing a comma-separated list of key-value pairs in curly braces ({}). A colon (:) separates each key from its associated value:\n",
    "\n",
    "d = {\n",
    "    <key>: <value>,\n",
    "    <key>: <value>,\n",
    "      .\n",
    "      .\n",
    "      .\n",
    "    <key>: <value>\n",
    "}"
   ]
  },
  {
   "cell_type": "code",
   "execution_count": 1,
   "id": "aa68325f",
   "metadata": {},
   "outputs": [],
   "source": [
    "Dict = {\"Name\": \"Tom\", \"Age\": 22,\"salary\":50000}  "
   ]
  },
  {
   "cell_type": "code",
   "execution_count": 39,
   "id": "f5ddec04",
   "metadata": {},
   "outputs": [
    {
     "name": "stdout",
     "output_type": "stream",
     "text": [
      "Enter Name :Ramesh\n",
      "Enter Age :45\n"
     ]
    }
   ],
   "source": [
    "p={}\n",
    "p[\"Name\"]=input(\"Enter Name :\")\n",
    "p[\"Age\"]=input(\"Enter Age :\")"
   ]
  },
  {
   "cell_type": "code",
   "execution_count": 40,
   "id": "af31a463",
   "metadata": {},
   "outputs": [
    {
     "name": "stdout",
     "output_type": "stream",
     "text": [
      "{'Name': 'Ramesh', 'Age': '45'}\n"
     ]
    }
   ],
   "source": [
    "print(p)"
   ]
  },
  {
   "cell_type": "code",
   "execution_count": 2,
   "id": "581c359e",
   "metadata": {},
   "outputs": [
    {
     "data": {
      "text/plain": [
       "dict"
      ]
     },
     "execution_count": 2,
     "metadata": {},
     "output_type": "execute_result"
    }
   ],
   "source": [
    "type(Dict)"
   ]
  },
  {
   "cell_type": "code",
   "execution_count": 3,
   "id": "ab795938",
   "metadata": {},
   "outputs": [
    {
     "name": "stdout",
     "output_type": "stream",
     "text": [
      "{'Name': 'Tom', 'Age': 22, 'salary': 50000}\n"
     ]
    }
   ],
   "source": [
    "print(Dict)"
   ]
  },
  {
   "cell_type": "code",
   "execution_count": 6,
   "id": "2eab5ff5",
   "metadata": {},
   "outputs": [],
   "source": [
    "Employee = {\"Name\": \"John\", \"Age\": 29, \"salary\":25000,\"Company\":\"GOOGLE\"}"
   ]
  },
  {
   "cell_type": "code",
   "execution_count": 5,
   "id": "78ecd27a",
   "metadata": {},
   "outputs": [
    {
     "name": "stdout",
     "output_type": "stream",
     "text": [
      "{'Name': 'John', 'Age': 29, 'salary': 25000, 'Company': 'GOOGLE'}\n"
     ]
    }
   ],
   "source": [
    "print(Employee)"
   ]
  },
  {
   "cell_type": "markdown",
   "id": "41252c55",
   "metadata": {},
   "source": [
    "# Accessing the dictionary values"
   ]
  },
  {
   "cell_type": "markdown",
   "id": "96bbf6dd",
   "metadata": {},
   "source": [
    "A value is retrieved from a dictionary by specifying its corresponding key in square brackets"
   ]
  },
  {
   "cell_type": "code",
   "execution_count": 7,
   "id": "e65117e6",
   "metadata": {},
   "outputs": [
    {
     "name": "stdout",
     "output_type": "stream",
     "text": [
      "John\n"
     ]
    }
   ],
   "source": [
    "print(Employee[\"Name\"])"
   ]
  },
  {
   "cell_type": "code",
   "execution_count": 7,
   "id": "d3ea859a",
   "metadata": {},
   "outputs": [
    {
     "name": "stdout",
     "output_type": "stream",
     "text": [
      "GOOGLE 25000\n"
     ]
    }
   ],
   "source": [
    "print(Employee[\"Company\"],Employee[\"salary\"])"
   ]
  },
  {
   "cell_type": "code",
   "execution_count": 8,
   "id": "99684f7c",
   "metadata": {},
   "outputs": [
    {
     "name": "stdout",
     "output_type": "stream",
     "text": [
      "25000\n"
     ]
    }
   ],
   "source": [
    "print(Employee[\"salary\"])"
   ]
  },
  {
   "cell_type": "raw",
   "id": "02865c13",
   "metadata": {},
   "source": [
    "Duplicates Not Allowed\n",
    "The same key cannot appear more than once in a collection. If the key appears more than once, only the last will be retained. The value can be of any data type. One value can be assigned to more than one key."
   ]
  },
  {
   "cell_type": "code",
   "execution_count": 9,
   "id": "aa8a5fb1",
   "metadata": {},
   "outputs": [
    {
     "name": "stdout",
     "output_type": "stream",
     "text": [
      "{'brand': 'Ford', 'model': 'ABC', 'year': 2020}\n"
     ]
    }
   ],
   "source": [
    "thisdict = {\n",
    "  \"brand\": \"Ford\",\n",
    "  \"model\": \"Ford\",\n",
    "  \"model\": \"ABC\",\n",
    "  \"year\": 1964,\n",
    "  \"year\": 2020\n",
    "}\n",
    "print(thisdict)"
   ]
  },
  {
   "cell_type": "markdown",
   "id": "04c5c872",
   "metadata": {},
   "source": [
    "List as Dictionary Value"
   ]
  },
  {
   "cell_type": "code",
   "execution_count": 11,
   "id": "84cf9fc2",
   "metadata": {},
   "outputs": [],
   "source": [
    "d = {\"Fruit\":[\"Mango\",\"Banana\"], \"Color\":[\"Blue\", \"Red\"]}"
   ]
  },
  {
   "cell_type": "code",
   "execution_count": 12,
   "id": "68d01588",
   "metadata": {},
   "outputs": [
    {
     "name": "stdout",
     "output_type": "stream",
     "text": [
      "{'Fruit': ['Mango', 'Banana'], 'Color': ['Blue', 'Red']}\n"
     ]
    }
   ],
   "source": [
    "print(d)"
   ]
  },
  {
   "cell_type": "code",
   "execution_count": 13,
   "id": "5f7f728d",
   "metadata": {},
   "outputs": [
    {
     "name": "stdout",
     "output_type": "stream",
     "text": [
      "['Mango', 'Banana']\n"
     ]
    }
   ],
   "source": [
    "print(d[\"Fruit\"])"
   ]
  },
  {
   "cell_type": "code",
   "execution_count": 17,
   "id": "f0d1321c",
   "metadata": {},
   "outputs": [
    {
     "name": "stdout",
     "output_type": "stream",
     "text": [
      "['Blue', 'Red']\n"
     ]
    }
   ],
   "source": [
    "print(d[\"Color\"])"
   ]
  },
  {
   "cell_type": "raw",
   "id": "769af39d",
   "metadata": {},
   "source": [
    "A dictionary can also be created using the dict() constructor method."
   ]
  },
  {
   "cell_type": "code",
   "execution_count": 14,
   "id": "c9c9f97d",
   "metadata": {},
   "outputs": [],
   "source": [
    "Employee = dict(name=\"John\", Age=29, salary=25000,Company=\"GOOGLE\")"
   ]
  },
  {
   "cell_type": "code",
   "execution_count": 15,
   "id": "dbe7827f",
   "metadata": {},
   "outputs": [
    {
     "name": "stdout",
     "output_type": "stream",
     "text": [
      "{'name': 'John', 'Age': 29, 'salary': 25000, 'Company': 'GOOGLE'}\n"
     ]
    }
   ],
   "source": [
    "print(Employee)"
   ]
  },
  {
   "cell_type": "code",
   "execution_count": 22,
   "id": "dbcc8afc",
   "metadata": {},
   "outputs": [
    {
     "name": "stdout",
     "output_type": "stream",
     "text": [
      "{'I': 'one', 'II': 'two', 'III': 'three'}\n"
     ]
    }
   ],
   "source": [
    "numdict = dict(I='one', II='two', III='three')\n",
    "print(numdict)"
   ]
  },
  {
   "cell_type": "markdown",
   "id": "a16cbc2f",
   "metadata": {},
   "source": [
    "# Building a Dictionary Incrementally"
   ]
  },
  {
   "cell_type": "code",
   "execution_count": 16,
   "id": "8d43fda6",
   "metadata": {},
   "outputs": [],
   "source": [
    "d={\"Name\":\"Suresh\"}"
   ]
  },
  {
   "cell_type": "code",
   "execution_count": 17,
   "id": "19dc739b",
   "metadata": {},
   "outputs": [
    {
     "name": "stdout",
     "output_type": "stream",
     "text": [
      "{'Name': 'Suresh'}\n"
     ]
    }
   ],
   "source": [
    "print(d)"
   ]
  },
  {
   "cell_type": "code",
   "execution_count": 18,
   "id": "81907f0c",
   "metadata": {},
   "outputs": [],
   "source": [
    "d[\"fname\"]=\"Gopal\""
   ]
  },
  {
   "cell_type": "code",
   "execution_count": 19,
   "id": "f74668f9",
   "metadata": {},
   "outputs": [
    {
     "name": "stdout",
     "output_type": "stream",
     "text": [
      "{'Name': 'Suresh', 'fname': 'Gopal'}\n"
     ]
    }
   ],
   "source": [
    "print(d)"
   ]
  },
  {
   "cell_type": "code",
   "execution_count": 20,
   "id": "08965832",
   "metadata": {},
   "outputs": [],
   "source": [
    "d[\"City\"]=\"Rajpura\""
   ]
  },
  {
   "cell_type": "code",
   "execution_count": 21,
   "id": "30253a02",
   "metadata": {},
   "outputs": [
    {
     "name": "stdout",
     "output_type": "stream",
     "text": [
      "{'Name': 'Suresh', 'fname': 'Gopal', 'City': 'Rajpura'}\n"
     ]
    }
   ],
   "source": [
    "print(d)\n"
   ]
  },
  {
   "cell_type": "code",
   "execution_count": 22,
   "id": "9cf92777",
   "metadata": {},
   "outputs": [],
   "source": [
    "d[\"City\"]=\"Mohali\""
   ]
  },
  {
   "cell_type": "code",
   "execution_count": 26,
   "id": "2422206a",
   "metadata": {},
   "outputs": [
    {
     "name": "stdout",
     "output_type": "stream",
     "text": [
      "{'Name': 'Suresh', 'fname': 'Gopal', 'City': 'Mohali'}\n"
     ]
    }
   ],
   "source": [
    "print(d)"
   ]
  },
  {
   "cell_type": "code",
   "execution_count": 27,
   "id": "b15c2374",
   "metadata": {},
   "outputs": [],
   "source": [
    "del d[\"City\"]"
   ]
  },
  {
   "cell_type": "code",
   "execution_count": 28,
   "id": "98263ec7",
   "metadata": {},
   "outputs": [
    {
     "name": "stdout",
     "output_type": "stream",
     "text": [
      "{'Name': 'Suresh', 'fname': 'Gopal'}\n"
     ]
    }
   ],
   "source": [
    "print(d)"
   ]
  },
  {
   "cell_type": "code",
   "execution_count": 29,
   "id": "f4e1765f",
   "metadata": {},
   "outputs": [],
   "source": [
    "d.clear()"
   ]
  },
  {
   "cell_type": "code",
   "execution_count": 30,
   "id": "3d5a2378",
   "metadata": {},
   "outputs": [
    {
     "name": "stdout",
     "output_type": "stream",
     "text": [
      "{}\n"
     ]
    }
   ],
   "source": [
    "print(d)"
   ]
  },
  {
   "cell_type": "code",
   "execution_count": 24,
   "id": "c3028e52",
   "metadata": {},
   "outputs": [],
   "source": [
    "person = {}\n",
    "\n",
    "person['fname'] = 'Ramesh'\n",
    "person['lname'] = 'Kumar'\n",
    "person['age'] = 51\n",
    "person['spouse'] = 'Sunita'\n",
    "person['children'] = ['Vivek', 'Mohan', 'Gopal']\n",
    "person['pets'] = {'dog': 'Fido', 'cat': 'Sox'}"
   ]
  },
  {
   "cell_type": "code",
   "execution_count": null,
   "id": "8ee63f37",
   "metadata": {},
   "outputs": [],
   "source": []
  },
  {
   "cell_type": "code",
   "execution_count": 25,
   "id": "0eb25e1f",
   "metadata": {},
   "outputs": [
    {
     "name": "stdout",
     "output_type": "stream",
     "text": [
      "{'fname': 'Ramesh', 'lname': 'Kumar', 'age': 51, 'spouse': 'Sunita', 'children': ['Vivek', 'Mohan', 'Gopal'], 'pets': {'dog': 'Fido', 'cat': 'Sox'}}\n"
     ]
    }
   ],
   "source": [
    "print(person)"
   ]
  },
  {
   "cell_type": "markdown",
   "id": "1fcf11d5",
   "metadata": {},
   "source": [
    "# Updating Dictionary"
   ]
  },
  {
   "cell_type": "raw",
   "id": "661dc5d8",
   "metadata": {},
   "source": [
    "You can update a dictionary by adding a new entry or a key-value pair, modifying an existing entry, or deleting an existing entry"
   ]
  },
  {
   "cell_type": "code",
   "execution_count": 43,
   "id": "fd6a90b9",
   "metadata": {},
   "outputs": [
    {
     "name": "stdout",
     "output_type": "stream",
     "text": [
      "dict['Age']:  8\n",
      "dict['School']:  DPS School\n"
     ]
    }
   ],
   "source": [
    "dict = {'Name': 'Zara', 'Age': 7, 'Class': 'First'}\n",
    "dict['Age'] = 8; # update existing entry\n",
    "dict['School'] = \"DPS School\"; # Add new entry\n",
    "\n",
    "print (\"dict['Age']: \", dict['Age'])\n",
    "print (\"dict['School']: \", dict['School'])"
   ]
  },
  {
   "cell_type": "raw",
   "id": "20346722",
   "metadata": {},
   "source": [
    "Delete Dictionary Elements"
   ]
  },
  {
   "cell_type": "code",
   "execution_count": 44,
   "id": "07131f89",
   "metadata": {},
   "outputs": [
    {
     "name": "stdout",
     "output_type": "stream",
     "text": [
      "{'Age': 8, 'Class': 'First', 'School': 'DPS School'}\n"
     ]
    }
   ],
   "source": [
    "\n",
    "del dict['Name']; # remove entry with key 'Name'\n",
    "#dict.clear();     # remove all entries in dict\n",
    "#del dict ;        # delete entire dictionary\n",
    "print(dict)"
   ]
  },
  {
   "cell_type": "markdown",
   "id": "0c7a0f60",
   "metadata": {},
   "source": [
    "# Iterating Dictionary"
   ]
  },
  {
   "cell_type": "code",
   "execution_count": 31,
   "id": "0565091d",
   "metadata": {},
   "outputs": [],
   "source": [
    "Employee = {\"Name\": \"John\", \"Age\": 29, \"salary\":25000,\"Company\":\"GOOGLE\"} "
   ]
  },
  {
   "cell_type": "code",
   "execution_count": 32,
   "id": "61fd67b7",
   "metadata": {},
   "outputs": [
    {
     "name": "stdout",
     "output_type": "stream",
     "text": [
      "dict_keys(['Name', 'Age', 'salary', 'Company'])\n"
     ]
    }
   ],
   "source": [
    "print(Employee.keys())"
   ]
  },
  {
   "cell_type": "code",
   "execution_count": 33,
   "id": "355bd5f4",
   "metadata": {},
   "outputs": [
    {
     "name": "stdout",
     "output_type": "stream",
     "text": [
      "dict_values(['John', 29, 25000, 'GOOGLE'])\n"
     ]
    }
   ],
   "source": [
    "print(Employee.values())"
   ]
  },
  {
   "cell_type": "code",
   "execution_count": 34,
   "id": "94fbdfae",
   "metadata": {},
   "outputs": [
    {
     "name": "stdout",
     "output_type": "stream",
     "text": [
      "dict_items([('Name', 'John'), ('Age', 29), ('salary', 25000), ('Company', 'GOOGLE')])\n"
     ]
    }
   ],
   "source": [
    "print(Employee.items())"
   ]
  },
  {
   "cell_type": "code",
   "execution_count": 35,
   "id": "30c93b7f",
   "metadata": {},
   "outputs": [
    {
     "name": "stdout",
     "output_type": "stream",
     "text": [
      "Name\n",
      "Age\n",
      "salary\n",
      "Company\n"
     ]
    }
   ],
   "source": [
    "# for loop to print all the keys of a dictionary\n",
    "for x in Employee:    \n",
    "    print(x)  "
   ]
  },
  {
   "cell_type": "code",
   "execution_count": null,
   "id": "54d0be63",
   "metadata": {},
   "outputs": [],
   "source": []
  },
  {
   "cell_type": "code",
   "execution_count": 36,
   "id": "283777d1",
   "metadata": {},
   "outputs": [
    {
     "name": "stdout",
     "output_type": "stream",
     "text": [
      "John\n",
      "29\n",
      "25000\n",
      "GOOGLE\n"
     ]
    }
   ],
   "source": [
    "#for loop to print all the values of the dictionary\n",
    "for x in Employee:    \n",
    "    print(Employee[x]) "
   ]
  },
  {
   "cell_type": "code",
   "execution_count": 47,
   "id": "20bb5884",
   "metadata": {},
   "outputs": [
    {
     "name": "stdout",
     "output_type": "stream",
     "text": [
      "John\n",
      "29\n",
      "25000\n",
      "GOOGLE\n"
     ]
    }
   ],
   "source": [
    "#for loop to print the values of the dictionary by using values() method.\n",
    "for x in Employee.values():    \n",
    "    print(x) "
   ]
  },
  {
   "cell_type": "code",
   "execution_count": 48,
   "id": "993275f3",
   "metadata": {},
   "outputs": [
    {
     "name": "stdout",
     "output_type": "stream",
     "text": [
      "('Name', 'John')\n",
      "('Age', 29)\n",
      "('salary', 25000)\n",
      "('Company', 'GOOGLE')\n"
     ]
    }
   ],
   "source": [
    "#for loop to print the items of the dictionary by using items() method.\n",
    "for x in Employee.items():    \n",
    "    print(x) "
   ]
  },
  {
   "cell_type": "code",
   "execution_count": 37,
   "id": "86ce4978",
   "metadata": {},
   "outputs": [
    {
     "name": "stdout",
     "output_type": "stream",
     "text": [
      "Name John\n",
      "Age 29\n",
      "salary 25000\n",
      "Company GOOGLE\n"
     ]
    }
   ],
   "source": [
    "#for loop to print the items of the dictionary by using items() method.\n",
    "for (x,y) in Employee.items():    \n",
    "    print(x,y) "
   ]
  }
 ],
 "metadata": {
  "kernelspec": {
   "display_name": "Python 3 (ipykernel)",
   "language": "python",
   "name": "python3"
  },
  "language_info": {
   "codemirror_mode": {
    "name": "ipython",
    "version": 3
   },
   "file_extension": ".py",
   "mimetype": "text/x-python",
   "name": "python",
   "nbconvert_exporter": "python",
   "pygments_lexer": "ipython3",
   "version": "3.9.7"
  }
 },
 "nbformat": 4,
 "nbformat_minor": 5
}
