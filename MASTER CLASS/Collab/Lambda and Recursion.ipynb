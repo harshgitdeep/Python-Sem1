{
 "cells": [
  {
   "cell_type": "markdown",
   "id": "16d2490b",
   "metadata": {},
   "source": [
    "# Lambda Function"
   ]
  },
  {
   "cell_type": "code",
   "execution_count": 3,
   "id": "98ce1a30",
   "metadata": {},
   "outputs": [],
   "source": [
    "sq=lambda x : x*x"
   ]
  },
  {
   "cell_type": "code",
   "execution_count": 4,
   "id": "95b4a697",
   "metadata": {},
   "outputs": [
    {
     "name": "stdout",
     "output_type": "stream",
     "text": [
      "36\n"
     ]
    }
   ],
   "source": [
    "print(sq(6))"
   ]
  },
  {
   "cell_type": "code",
   "execution_count": 5,
   "id": "4d993560",
   "metadata": {},
   "outputs": [],
   "source": [
    "sqr=sq"
   ]
  },
  {
   "cell_type": "code",
   "execution_count": 6,
   "id": "3d606867",
   "metadata": {},
   "outputs": [
    {
     "name": "stdout",
     "output_type": "stream",
     "text": [
      "36\n"
     ]
    }
   ],
   "source": [
    "print(sqr(6))"
   ]
  },
  {
   "cell_type": "code",
   "execution_count": 7,
   "id": "1ea46c76",
   "metadata": {},
   "outputs": [],
   "source": [
    "sum=lambda x,y:x+y"
   ]
  },
  {
   "cell_type": "code",
   "execution_count": 8,
   "id": "5a211f2e",
   "metadata": {},
   "outputs": [
    {
     "data": {
      "text/plain": [
       "11"
      ]
     },
     "execution_count": 8,
     "metadata": {},
     "output_type": "execute_result"
    }
   ],
   "source": [
    "p=10,q=20\n",
    "sum(p,q)"
   ]
  },
  {
   "cell_type": "code",
   "execution_count": 9,
   "id": "5d3ca9b9",
   "metadata": {},
   "outputs": [
    {
     "data": {
      "text/plain": [
       "11"
      ]
     },
     "execution_count": 9,
     "metadata": {},
     "output_type": "execute_result"
    }
   ],
   "source": [
    "(lambda x,y:x+y)(5,6)"
   ]
  },
  {
   "cell_type": "code",
   "execution_count": 10,
   "id": "bde0c596",
   "metadata": {},
   "outputs": [
    {
     "data": {
      "text/plain": [
       "105"
      ]
     },
     "execution_count": 10,
     "metadata": {},
     "output_type": "execute_result"
    }
   ],
   "source": [
    "(lambda x, y=3, z=5: x*y*z)(x=7)"
   ]
  },
  {
   "cell_type": "code",
   "execution_count": 11,
   "id": "8d94c727",
   "metadata": {},
   "outputs": [],
   "source": [
    "def sum(i, j):\n",
    "    return(i+j)"
   ]
  },
  {
   "cell_type": "code",
   "execution_count": 12,
   "id": "6a300898",
   "metadata": {},
   "outputs": [],
   "source": [
    "def sum3(x,y,z):\n",
    "    c=x+sum(y,z)\n",
    "    return(c)"
   ]
  },
  {
   "cell_type": "code",
   "execution_count": 13,
   "id": "5b827399",
   "metadata": {},
   "outputs": [
    {
     "data": {
      "text/plain": [
       "180"
      ]
     },
     "execution_count": 13,
     "metadata": {},
     "output_type": "execute_result"
    }
   ],
   "source": [
    "sum3(45,56,79)"
   ]
  },
  {
   "cell_type": "markdown",
   "id": "abf2b261",
   "metadata": {},
   "source": [
    "# Recursion"
   ]
  },
  {
   "cell_type": "code",
   "execution_count": 14,
   "id": "e614ca6e",
   "metadata": {},
   "outputs": [],
   "source": [
    "def fact(n):\n",
    "    if(n==1):\n",
    "        return(1)\n",
    "    else:\n",
    "        return(n*fact(n-1))"
   ]
  },
  {
   "cell_type": "code",
   "execution_count": 15,
   "id": "428bbd0d",
   "metadata": {},
   "outputs": [
    {
     "data": {
      "text/plain": [
       "120"
      ]
     },
     "execution_count": 15,
     "metadata": {},
     "output_type": "execute_result"
    }
   ],
   "source": [
    "fact(5)"
   ]
  },
  {
   "cell_type": "raw",
   "id": "6b78cf62",
   "metadata": {},
   "source": [
    "Sum of Digits\n",
    "sod(6893)=sod(698)+3\n",
    "          =sod(69)+8+3\n",
    "          =sod(6)+9+8+3\n",
    "          "
   ]
  },
  {
   "cell_type": "code",
   "execution_count": 16,
   "id": "219305ec",
   "metadata": {},
   "outputs": [],
   "source": [
    "def sod(n):\n",
    "    if n//10==0:\n",
    "        return n\n",
    "    else:\n",
    "        return(sod(n//10)+n%10)"
   ]
  },
  {
   "cell_type": "code",
   "execution_count": 17,
   "id": "f96e24f2",
   "metadata": {},
   "outputs": [
    {
     "data": {
      "text/plain": [
       "20"
      ]
     },
     "execution_count": 17,
     "metadata": {},
     "output_type": "execute_result"
    }
   ],
   "source": [
    "sod(5672)"
   ]
  },
  {
   "cell_type": "code",
   "execution_count": null,
   "id": "73eb7b0d",
   "metadata": {},
   "outputs": [],
   "source": [
    "febo(5)=febo(4)+febo(3)\n",
    "        =febo(3)+febo(2)+febo(2)+febo(1)\n",
    "        =febo(2)+febo(1)+1+1+1\n",
    "        =1+1+3\n",
    "        =5"
   ]
  },
  {
   "cell_type": "code",
   "execution_count": 18,
   "id": "f4683c0d",
   "metadata": {},
   "outputs": [],
   "source": [
    "def febo(n):\n",
    "    if(n==1):\n",
    "        return 1\n",
    "    elif(n==2):\n",
    "        return 1\n",
    "    else:\n",
    "        return(febo(n-1)+febo(n-2))"
   ]
  },
  {
   "cell_type": "code",
   "execution_count": 19,
   "id": "ce21d47e",
   "metadata": {},
   "outputs": [
    {
     "data": {
      "text/plain": [
       "5"
      ]
     },
     "execution_count": 19,
     "metadata": {},
     "output_type": "execute_result"
    }
   ],
   "source": [
    "febo(5)"
   ]
  },
  {
   "cell_type": "code",
   "execution_count": null,
   "id": "346f7d6c",
   "metadata": {},
   "outputs": [],
   "source": []
  }
 ],
 "metadata": {
  "kernelspec": {
   "display_name": "Python 3 (ipykernel)",
   "language": "python",
   "name": "python3"
  },
  "language_info": {
   "codemirror_mode": {
    "name": "ipython",
    "version": 3
   },
   "file_extension": ".py",
   "mimetype": "text/x-python",
   "name": "python",
   "nbconvert_exporter": "python",
   "pygments_lexer": "ipython3",
   "version": "3.9.7"
  }
 },
 "nbformat": 4,
 "nbformat_minor": 5
}
