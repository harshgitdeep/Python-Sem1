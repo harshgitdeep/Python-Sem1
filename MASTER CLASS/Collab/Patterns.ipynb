{
 "cells": [
  {
   "cell_type": "raw",
   "id": "3096bf73",
   "metadata": {},
   "source": [
    "Print the following pattern for the given number of rows.\n",
    "1111\n",
    "000\n",
    "11\n",
    "0"
   ]
  },
  {
   "cell_type": "code",
   "execution_count": 43,
   "id": "41274d80",
   "metadata": {},
   "outputs": [
    {
     "name": "stdout",
     "output_type": "stream",
     "text": [
      "No of rows6\n",
      "111111\n",
      "00000\n",
      "1111\n",
      "000\n",
      "11\n",
      "0\n"
     ]
    }
   ],
   "source": [
    "n=int(input(\"No of rows\"))\n",
    "for i in range(0,n):\n",
    "    for j in range(0,n-i):\n",
    "        if(i%2==0):\n",
    "            print(\"1\", end=\"\")\n",
    "        else:\n",
    "            print(\"0\", end=\"\")\n",
    "    print()\n",
    "        "
   ]
  },
  {
   "cell_type": "raw",
   "id": "1489f66f",
   "metadata": {},
   "source": [
    "Print the following pattern for the given number of rows.\n",
    "1010\n",
    "010\n",
    "10\n",
    "0"
   ]
  },
  {
   "cell_type": "code",
   "execution_count": 17,
   "id": "62e1374d",
   "metadata": {},
   "outputs": [
    {
     "name": "stdout",
     "output_type": "stream",
     "text": [
      "No of rows4\n",
      "1010\n",
      "010\n",
      "10\n",
      "0\n"
     ]
    }
   ],
   "source": [
    "n=int(input(\"No of rows\"))\n",
    "for i in range(0,n):\n",
    "    for j in range(0,n-i):\n",
    "        if((i+j)%2==0):\n",
    "            print(\"1\", end=\"\")\n",
    "        else:\n",
    "            print(\"0\", end=\"\")\n",
    "    print()"
   ]
  },
  {
   "cell_type": "code",
   "execution_count": null,
   "id": "fb160b1d",
   "metadata": {},
   "outputs": [],
   "source": []
  },
  {
   "cell_type": "raw",
   "id": "eac2d3fa",
   "metadata": {},
   "source": [
    "Print the following pattern for the given number of rows.\n",
    "123456\n",
    " 23456\n",
    "  3456\n",
    "   456\n",
    "    56\n",
    "     6"
   ]
  },
  {
   "cell_type": "code",
   "execution_count": 47,
   "id": "da51b954",
   "metadata": {},
   "outputs": [
    {
     "name": "stdout",
     "output_type": "stream",
     "text": [
      "No of rows6\n",
      " 123456\n",
      "  23456\n",
      "   3456\n",
      "    456\n",
      "     56\n",
      "      6\n"
     ]
    }
   ],
   "source": [
    "n=int(input(\"No of rows\"))\n",
    "for i in range(1,n+1):\n",
    "    for j in range(0,i):\n",
    "            print(\" \", end=\"\")\n",
    "            \n",
    "    for j in range(i,n+1):\n",
    "            print(j, end=\"\")\n",
    "    print()"
   ]
  },
  {
   "cell_type": "markdown",
   "id": "95eaef55",
   "metadata": {},
   "source": [
    "# "
   ]
  },
  {
   "cell_type": "code",
   "execution_count": 31,
   "id": "69830462",
   "metadata": {},
   "outputs": [
    {
     "name": "stdout",
     "output_type": "stream",
     "text": [
      "No of rows6\n",
      "      6\n",
      "     56\n",
      "    456\n",
      "   3456\n",
      "  23456\n",
      " 123456\n"
     ]
    }
   ],
   "source": [
    "n=int(input(\"No of rows\"))\n",
    "for i in range(n,0,-1):\n",
    "    for j in range(0,i):\n",
    "            print(\" \", end=\"\")\n",
    "            \n",
    "    for j in range(i,n+1):\n",
    "            print(j, end=\"\")\n",
    "    print()"
   ]
  },
  {
   "cell_type": "code",
   "execution_count": 32,
   "id": "87af6b3c",
   "metadata": {},
   "outputs": [
    {
     "name": "stdout",
     "output_type": "stream",
     "text": [
      "No of rows6\n",
      " 123456\n",
      "  23456\n",
      "   3456\n",
      "    456\n",
      "     56\n",
      "      6\n",
      "      6\n",
      "     56\n",
      "    456\n",
      "   3456\n",
      "  23456\n",
      " 123456\n"
     ]
    }
   ],
   "source": [
    "n=int(input(\"No of rows\"))\n",
    "for i in range(1,n+1):\n",
    "    for j in range(0,i):\n",
    "            print(\" \", end=\"\")\n",
    "            \n",
    "    for j in range(i,n+1):\n",
    "            print(j, end=\"\")\n",
    "    print()\n",
    "for i in range(n,0,-1):\n",
    "    for j in range(0,i):\n",
    "            print(\" \", end=\"\")\n",
    "            \n",
    "    for j in range(i,n+1):\n",
    "            print(j, end=\"\")\n",
    "    print()"
   ]
  },
  {
   "cell_type": "raw",
   "id": "ac24faec",
   "metadata": {},
   "source": [
    "    *\n",
    "   **\n",
    "  ***\n",
    " ****\n",
    "*****"
   ]
  },
  {
   "cell_type": "code",
   "execution_count": 50,
   "id": "4ff7517e",
   "metadata": {},
   "outputs": [
    {
     "name": "stdout",
     "output_type": "stream",
     "text": [
      "No of rows5\n",
      "    *\n",
      "   **\n",
      "  ***\n",
      " ****\n",
      "*****\n"
     ]
    }
   ],
   "source": [
    "n=int(input(\"No of rows\"))\n",
    "for r in range(1,n+1):\n",
    "    for s in range(0,n-r):\n",
    "        print(\" \", end=\"\")\n",
    "        \n",
    "    for a in range(0,r):\n",
    "        print(\"*\", end=\"\")\n",
    "        \n",
    "    print()"
   ]
  },
  {
   "cell_type": "code",
   "execution_count": null,
   "id": "5ac9fa98",
   "metadata": {},
   "outputs": [],
   "source": []
  },
  {
   "cell_type": "raw",
   "id": "9826569a",
   "metadata": {},
   "source": [
    "    *\n",
    "   ***\n",
    "  *****\n",
    " *******\n",
    "*********"
   ]
  },
  {
   "cell_type": "code",
   "execution_count": 51,
   "id": "1e898218",
   "metadata": {},
   "outputs": [
    {
     "name": "stdout",
     "output_type": "stream",
     "text": [
      "No of rows8\n",
      "       *\n",
      "      ***\n",
      "     *****\n",
      "    *******\n",
      "   *********\n",
      "  ***********\n",
      " *************\n",
      "***************\n"
     ]
    }
   ],
   "source": [
    "n=int(input(\"No of rows\"))\n",
    "for r in range(1,n+1):\n",
    "    for s in range(0,n-r):\n",
    "        print(\" \", end=\"\")\n",
    "        \n",
    "    for a in range(0,r):\n",
    "        print(\"*\", end=\"\")\n",
    "\n",
    "    for a in range(0,r-1):\n",
    "        print(\"*\", end=\"\")\n",
    "        \n",
    "    print()"
   ]
  },
  {
   "cell_type": "raw",
   "id": "b8b96c91",
   "metadata": {},
   "source": [
    "Homework\n",
    "\n",
    "Diamond of Stars\n",
    "  *\n",
    " ***    \n",
    "*****\n",
    " ***\n",
    "  *"
   ]
  },
  {
   "cell_type": "code",
   "execution_count": 53,
   "id": "1ed52a19",
   "metadata": {},
   "outputs": [
    {
     "name": "stdout",
     "output_type": "stream",
     "text": [
      "[0, 3, 6, 9]\n"
     ]
    }
   ],
   "source": [
    "print(list(range(0,10,3)))"
   ]
  },
  {
   "cell_type": "code",
   "execution_count": null,
   "id": "3d4da1d9",
   "metadata": {},
   "outputs": [],
   "source": []
  }
 ],
 "metadata": {
  "kernelspec": {
   "display_name": "Python 3 (ipykernel)",
   "language": "python",
   "name": "python3"
  },
  "language_info": {
   "codemirror_mode": {
    "name": "ipython",
    "version": 3
   },
   "file_extension": ".py",
   "mimetype": "text/x-python",
   "name": "python",
   "nbconvert_exporter": "python",
   "pygments_lexer": "ipython3",
   "version": "3.9.7"
  }
 },
 "nbformat": 4,
 "nbformat_minor": 5
}
