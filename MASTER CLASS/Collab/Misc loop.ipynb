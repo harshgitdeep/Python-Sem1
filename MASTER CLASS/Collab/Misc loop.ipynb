{
 "cells": [
  {
   "cell_type": "raw",
   "id": "32527e33",
   "metadata": {},
   "source": [
    "Prime number"
   ]
  },
  {
   "cell_type": "code",
   "execution_count": 35,
   "id": "e091a3f0",
   "metadata": {},
   "outputs": [
    {
     "name": "stdout",
     "output_type": "stream",
     "text": [
      "Enter a Number :17\n",
      "Prime Number\n"
     ]
    }
   ],
   "source": [
    "n=int(input(\"Enter a Number :\"))\n",
    "f=0\n",
    "for i in range(2,n):\n",
    "    if (n%i==0):\n",
    "        f=1\n",
    "        break\n",
    "\n",
    "if (f==1):\n",
    "    print(\"Not the prime Number\")\n",
    "else:\n",
    "    print(\"Prime Number\")\n",
    "    \n",
    "        \n",
    "    \n",
    "    "
   ]
  },
  {
   "cell_type": "markdown",
   "id": "be58f203",
   "metadata": {},
   "source": [
    "# Assignment: Find the prime numbers in an Interval"
   ]
  },
  {
   "cell_type": "raw",
   "id": "6ce9764c",
   "metadata": {},
   "source": [
    "Strong Number Example(145)"
   ]
  },
  {
   "cell_type": "code",
   "execution_count": 9,
   "id": "564338b3",
   "metadata": {},
   "outputs": [
    {
     "name": "stdout",
     "output_type": "stream",
     "text": [
      "Enter a Number :145\n",
      "Strong Number\n"
     ]
    }
   ],
   "source": [
    "\n",
    "sum=0\n",
    "n=int(input(\"Enter a Number :\"))\n",
    "a=n\n",
    "while(n>0):\n",
    "    fact=1\n",
    "    for i in range(1,x+1):\n",
    "        fact=fact*i\n",
    "    sum=sum+fact\n",
    "    n=n//10\n",
    "\n",
    "if(sum==a):\n",
    "    print(\"Strong Number\")\n",
    "else:\n",
    "    print(\"Not a Strong Number\")\n",
    "    \n",
    "    \n",
    "    \n",
    "\n",
    "\n",
    "    \n",
    "\n"
   ]
  },
  {
   "cell_type": "code",
   "execution_count": null,
   "id": "6b911497",
   "metadata": {},
   "outputs": [],
   "source": [
    "Perfect Number"
   ]
  },
  {
   "cell_type": "code",
   "execution_count": 13,
   "id": "c7584f2d",
   "metadata": {},
   "outputs": [
    {
     "name": "stdout",
     "output_type": "stream",
     "text": [
      "Enter a Number :12\n",
      "Not a Perfect Number\n"
     ]
    }
   ],
   "source": [
    "sum=0\n",
    "n=int(input(\"Enter a Number :\"))\n",
    "for i in range(1,n):\n",
    "    if(n%i==0):\n",
    "        sum=sum+i\n",
    "\n",
    "if(sum==n):\n",
    "    print(\"Perfect Number\")\n",
    "else:\n",
    "    print(\"Not a Perfect Number\")"
   ]
  },
  {
   "cell_type": "markdown",
   "id": "853964f9",
   "metadata": {},
   "source": [
    "# Alphabet Patterns"
   ]
  },
  {
   "cell_type": "raw",
   "id": "e618575f",
   "metadata": {},
   "source": [
    "    characters                                        ASCII value\n",
    "A-Z                                                      [65-90]\n",
    "a-z                                                      [97-122]\n",
    "0-9                                                      [48-57]\n"
   ]
  },
  {
   "cell_type": "code",
   "execution_count": 16,
   "id": "a182672e",
   "metadata": {},
   "outputs": [
    {
     "name": "stdout",
     "output_type": "stream",
     "text": [
      "a b c d e f g h i j k l m n o p q r s t u v w x y z "
     ]
    }
   ],
   "source": [
    "for i in range(97,123):\n",
    "    print(chr(i), end=\" \")\n",
    "    "
   ]
  },
  {
   "cell_type": "code",
   "execution_count": 20,
   "id": "81abe0d5",
   "metadata": {},
   "outputs": [
    {
     "name": "stdout",
     "output_type": "stream",
     "text": [
      "A \n",
      "A B \n",
      "A B C \n",
      "A B C D \n",
      "A B C D E \n"
     ]
    }
   ],
   "source": [
    "\n",
    "for i in range(5):\n",
    "    for j in range(0,i+1):\n",
    "        print(chr(65+j), end=\" \")\n",
    "    print()"
   ]
  },
  {
   "cell_type": "code",
   "execution_count": 22,
   "id": "cc83c409",
   "metadata": {},
   "outputs": [
    {
     "name": "stdout",
     "output_type": "stream",
     "text": [
      "A B C D E \n",
      "A B C D \n",
      "A B C \n",
      "A B \n",
      "A \n"
     ]
    }
   ],
   "source": [
    "\n",
    "for i in range(5,0,-1):\n",
    "    for j in range(0,i):\n",
    "        print(chr(65+j), end=\" \")\n",
    "    print()"
   ]
  },
  {
   "cell_type": "code",
   "execution_count": 22,
   "id": "00e92733",
   "metadata": {},
   "outputs": [
    {
     "name": "stdout",
     "output_type": "stream",
     "text": [
      "A\n",
      "AB\n",
      "ABC\n",
      "ABCD\n",
      "ABCDE\n",
      "ABCD\n",
      "ABC\n",
      "AB\n",
      "A\n"
     ]
    }
   ],
   "source": [
    "initial=65\n",
    "for i in range(5):\n",
    "    for j in range(0,i+1):\n",
    "        print(chr(initial+j), end=\"\")\n",
    "    print()\n",
    "for i in range(4,0,-1):\n",
    "    for j in range(0,i):\n",
    "        print(chr(initial+j), end=\"\")\n",
    "    print()"
   ]
  },
  {
   "cell_type": "code",
   "execution_count": 29,
   "id": "e886d26d",
   "metadata": {},
   "outputs": [
    {
     "name": "stdout",
     "output_type": "stream",
     "text": [
      "T\n"
     ]
    }
   ],
   "source": [
    "str=\"CHITKARA\"\n",
    "print(str[3])\n",
    "    "
   ]
  },
  {
   "cell_type": "code",
   "execution_count": 30,
   "id": "94204948",
   "metadata": {},
   "outputs": [
    {
     "name": "stdout",
     "output_type": "stream",
     "text": [
      "C\n",
      "CH\n",
      "CHI\n",
      "CHIT\n",
      "CHITK\n",
      "CHITKA\n",
      "CHITKAR\n",
      "CHITKARA\n"
     ]
    }
   ],
   "source": [
    "str= \"CHITKARA\"  \n",
    "l=len(str)\n",
    "for i in range(0,l):\n",
    "    for j in range(0,i+1):\n",
    "        print(str[j],end=\"\")\n",
    "    print()"
   ]
  },
  {
   "cell_type": "code",
   "execution_count": 32,
   "id": "31619530",
   "metadata": {},
   "outputs": [
    {
     "name": "stdout",
     "output_type": "stream",
     "text": [
      "CHITKARA\n",
      "CHITKAR\n",
      "CHITKA\n",
      "CHITK\n",
      "CHIT\n",
      "CHI\n",
      "CH\n",
      "C\n",
      "\n"
     ]
    }
   ],
   "source": [
    "str= \"CHITKARA\"  \n",
    "l=len(str)\n",
    "for i in range(l,-1,-1):\n",
    "    for j in range(0,i):\n",
    "        print(str[j],end=\"\")\n",
    "    print()"
   ]
  },
  {
   "cell_type": "code",
   "execution_count": 34,
   "id": "192dacfa",
   "metadata": {},
   "outputs": [
    {
     "name": "stdout",
     "output_type": "stream",
     "text": [
      "C\n",
      "CH\n",
      "CHI\n",
      "CHIT\n",
      "CHITK\n",
      "CHITKA\n",
      "CHITKAR\n",
      "CHITKARA\n",
      "CHITKA\n",
      "CHITK\n",
      "CHIT\n",
      "CHI\n",
      "CH\n",
      "C\n",
      "\n",
      "\n"
     ]
    }
   ],
   "source": [
    "str= \"CHITKARA\"  \n",
    "l=len(str)\n",
    "for i in range(0,l):\n",
    "    for j in range(0,i+1):\n",
    "        print(str[j],end=\"\")\n",
    "    print()\n",
    "for i in range(l-1,-1,-1):\n",
    "    for j in range(0,i-1):\n",
    "        print(str[j],end=\"\")\n",
    "    print()"
   ]
  },
  {
   "cell_type": "code",
   "execution_count": null,
   "id": "c2efbf15",
   "metadata": {},
   "outputs": [],
   "source": []
  }
 ],
 "metadata": {
  "kernelspec": {
   "display_name": "Python 3 (ipykernel)",
   "language": "python",
   "name": "python3"
  },
  "language_info": {
   "codemirror_mode": {
    "name": "ipython",
    "version": 3
   },
   "file_extension": ".py",
   "mimetype": "text/x-python",
   "name": "python",
   "nbconvert_exporter": "python",
   "pygments_lexer": "ipython3",
   "version": "3.9.7"
  }
 },
 "nbformat": 4,
 "nbformat_minor": 5
}
