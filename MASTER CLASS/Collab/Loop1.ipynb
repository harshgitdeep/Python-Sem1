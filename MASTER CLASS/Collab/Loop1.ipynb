{
 "cells": [
  {
   "cell_type": "markdown",
   "id": "ef57b1a0",
   "metadata": {},
   "source": [
    "# While Loop"
   ]
  },
  {
   "cell_type": "code",
   "execution_count": 2,
   "id": "42e7f7d6",
   "metadata": {},
   "outputs": [
    {
     "name": "stdout",
     "output_type": "stream",
     "text": [
      "Chitkara University\n",
      "Chitkara University\n",
      "Chitkara University\n",
      "Chitkara University\n",
      "Chitkara University\n"
     ]
    }
   ],
   "source": [
    "print(\"Chitkara University\")\n",
    "print(\"Chitkara University\")\n",
    "print(\"Chitkara University\")\n",
    "print(\"Chitkara University\")\n",
    "print(\"Chitkara University\")"
   ]
  },
  {
   "cell_type": "code",
   "execution_count": 3,
   "id": "a0557759",
   "metadata": {},
   "outputs": [
    {
     "name": "stdout",
     "output_type": "stream",
     "text": [
      "Chitkara University\n",
      "Chitkara University\n",
      "Chitkara University\n",
      "Chitkara University\n",
      "Chitkara University\n"
     ]
    }
   ],
   "source": [
    "i=1\n",
    "while (i<=5):\n",
    "    print(\"Chitkara University\")\n",
    "    i+=1        #i=i+1\n",
    "    "
   ]
  },
  {
   "cell_type": "markdown",
   "id": "ef7e534c",
   "metadata": {},
   "source": [
    "Program to find the sum of natural numbers upto N"
   ]
  },
  {
   "cell_type": "code",
   "execution_count": 5,
   "id": "afaf7184",
   "metadata": {},
   "outputs": [
    {
     "name": "stdout",
     "output_type": "stream",
     "text": [
      "Enter Vaue of N :10\n",
      "Sum of natural numbers upto 10 is 55\n"
     ]
    }
   ],
   "source": [
    "#1+2+3+4+5 if n=5\n",
    "sum=0\n",
    "i=1\n",
    "n=int(input(\"Enter Vaue of N :\"))\n",
    "while (i<=n):\n",
    "    sum=sum+i\n",
    "    i=i+1\n",
    "print(\"Sum of natural numbers upto {} is {}\".format(n,sum))\n",
    "\n"
   ]
  },
  {
   "cell_type": "markdown",
   "id": "38f314b0",
   "metadata": {},
   "source": [
    "Given a number N, print sum of all even numbers from 1 to N."
   ]
  },
  {
   "cell_type": "code",
   "execution_count": 7,
   "id": "d6336523",
   "metadata": {},
   "outputs": [
    {
     "name": "stdout",
     "output_type": "stream",
     "text": [
      "Enter Vaue of N :10\n",
      "30\n"
     ]
    }
   ],
   "source": [
    "sum=0\n",
    "i=1\n",
    "n=int(input(\"Enter Vaue of N :\"))\n",
    "while (i<=n):\n",
    "    if(i%2==0):\n",
    "        sum=sum+i\n",
    "    i=i+1\n",
    "print(sum)"
   ]
  },
  {
   "cell_type": "markdown",
   "id": "20db2f99",
   "metadata": {},
   "source": [
    "Sum of Digits of given number"
   ]
  },
  {
   "cell_type": "code",
   "execution_count": 14,
   "id": "bd7bf1a1",
   "metadata": {},
   "outputs": [
    {
     "name": "stdout",
     "output_type": "stream",
     "text": [
      "Enter Vaue of N :2345\n",
      "sum of digit= 14\n"
     ]
    }
   ],
   "source": [
    "sum=0\n",
    "n=int(input(\"Enter Vaue of N :\"))\n",
    "\n",
    "while (n>0):\n",
    "    sum=sum+n%10\n",
    "    n=n//10\n",
    "print(\"sum of digit=\",sum)"
   ]
  },
  {
   "cell_type": "markdown",
   "id": "7dd6fc77",
   "metadata": {},
   "source": [
    "Count of digits of given number"
   ]
  },
  {
   "cell_type": "code",
   "execution_count": 9,
   "id": "5a24ba0e",
   "metadata": {},
   "outputs": [
    {
     "name": "stdout",
     "output_type": "stream",
     "text": [
      "Enter Vaue of N :3456\n",
      "count of digit=  4\n"
     ]
    }
   ],
   "source": [
    "count=0\n",
    "n=int(input(\"Enter Vaue of N :\"))\n",
    "\n",
    "while (n>0):\n",
    "    count=count+1\n",
    "    n=n//10\n",
    "print(\"count of digit= \",count)\n"
   ]
  },
  {
   "cell_type": "markdown",
   "id": "b319626b",
   "metadata": {},
   "source": [
    "Write a program to generate the reverse of a given number N. Print the corresponding reverse number."
   ]
  },
  {
   "cell_type": "raw",
   "id": "d83a00b8",
   "metadata": {},
   "source": [
    "Algorithm\n",
    "Input Integer:  number  \n",
    "(1) Initialize variable revs_number = 0  \n",
    "(2) Loop while number > 0  \n",
    "     (a) Multiply revs_number by 10 and add remainder of number divide by 10 to revs_number  \n",
    "               revs_number = revs_number*10 + number%10;  \n",
    "     (b) Divide(floor) number by 10  \n",
    "(3) Print revs_number "
   ]
  },
  {
   "cell_type": "markdown",
   "id": "288c4c1c",
   "metadata": {},
   "source": [
    "Armstrong Number"
   ]
  },
  {
   "cell_type": "markdown",
   "id": "e0018642",
   "metadata": {},
   "source": [
    "Write a program to determine if given number is palindrome or not. Print true if it is palindrome, false otherwise."
   ]
  },
  {
   "cell_type": "markdown",
   "id": "9a10a41d",
   "metadata": {},
   "source": [
    "Nth term of Fibonacci series F(n), where F(n) is a function, is calculated using the following formula -\n",
    "    F(n) = F(n-1) + F(n-2), \n",
    "    Where, F(1) = F(2) = 1"
   ]
  },
  {
   "cell_type": "markdown",
   "id": "f0c2cdb0",
   "metadata": {},
   "source": [
    "# Patterns"
   ]
  },
  {
   "cell_type": "raw",
   "id": "8b7fe591",
   "metadata": {},
   "source": [
    "4444\n",
    "4444\n",
    "4444\n",
    "4444"
   ]
  },
  {
   "cell_type": "raw",
   "id": "972e2953",
   "metadata": {},
   "source": [
    "*\n",
    "**\n",
    "***\n",
    "****"
   ]
  },
  {
   "cell_type": "raw",
   "id": "6c930999",
   "metadata": {},
   "source": [
    "1\n",
    "22\n",
    "333\n",
    "4444"
   ]
  },
  {
   "cell_type": "raw",
   "id": "f453909f",
   "metadata": {},
   "source": [
    "1\n",
    "21\n",
    "321\n",
    "4321"
   ]
  },
  {
   "cell_type": "raw",
   "id": "ce40aa38",
   "metadata": {},
   "source": [
    "1\n",
    "11\n",
    "111\n",
    "1111"
   ]
  },
  {
   "cell_type": "raw",
   "id": "003a7346",
   "metadata": {},
   "source": [
    "1234\n",
    "123\n",
    "12\n",
    "1"
   ]
  },
  {
   "cell_type": "code",
   "execution_count": 11,
   "id": "366972c0",
   "metadata": {},
   "outputs": [],
   "source": []
  },
  {
   "cell_type": "code",
   "execution_count": null,
   "id": "bfd881db",
   "metadata": {},
   "outputs": [],
   "source": []
  },
  {
   "cell_type": "code",
   "execution_count": null,
   "id": "2efc70bc",
   "metadata": {},
   "outputs": [],
   "source": []
  },
  {
   "cell_type": "code",
   "execution_count": null,
   "id": "9cbded78",
   "metadata": {},
   "outputs": [],
   "source": []
  }
 ],
 "metadata": {
  "kernelspec": {
   "display_name": "Python 3 (ipykernel)",
   "language": "python",
   "name": "python3"
  },
  "language_info": {
   "codemirror_mode": {
    "name": "ipython",
    "version": 3
   },
   "file_extension": ".py",
   "mimetype": "text/x-python",
   "name": "python",
   "nbconvert_exporter": "python",
   "pygments_lexer": "ipython3",
   "version": "3.9.7"
  }
 },
 "nbformat": 4,
 "nbformat_minor": 5
}
