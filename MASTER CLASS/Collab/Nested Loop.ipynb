{
 "cells": [
  {
   "cell_type": "markdown",
   "id": "39dee51a",
   "metadata": {},
   "source": [
    "# Flow Control - break, continue"
   ]
  },
  {
   "cell_type": "raw",
   "id": "2b19356c",
   "metadata": {},
   "source": [
    "● Can you break out of a loop?\n",
    "    ● break keyword\n",
    "        ○ allows you to exit a while loop\n",
    "        ○ useful to get out of infinite loops\n",
    "    ● continue keyword\n",
    "        ○ allows you to skip execution of the rest of block\n",
    "        ○ takes execution back to condition evaluation"
   ]
  },
  {
   "cell_type": "code",
   "execution_count": 2,
   "id": "0e7ab0f6",
   "metadata": {},
   "outputs": [
    {
     "name": "stdout",
     "output_type": "stream",
     "text": [
      "1\n",
      "2\n",
      "3\n",
      "4\n",
      "5\n",
      "6\n",
      "7\n",
      "8\n",
      "9\n",
      "10\n",
      "11\n",
      "12\n",
      "13\n",
      "14\n",
      "15\n",
      "16\n",
      "17\n",
      "18\n",
      "19\n",
      "Loop End\n"
     ]
    }
   ],
   "source": [
    "i=1\n",
    "while (i<=50):\n",
    "    if (i==20):\n",
    "        break\n",
    "    print(i)\n",
    "    i=i+1\n",
    "print(\"Loop End\")"
   ]
  },
  {
   "cell_type": "code",
   "execution_count": 65,
   "id": "8b25d385",
   "metadata": {},
   "outputs": [
    {
     "name": "stdout",
     "output_type": "stream",
     "text": [
      "1\n",
      "2\n",
      "3\n",
      "4\n",
      "5\n",
      "8\n",
      "9\n",
      "10\n",
      "Loop End\n"
     ]
    }
   ],
   "source": [
    "i=0\n",
    "while (i<10):\n",
    "    i=i+1\n",
    "    if(i>5 and i<8):\n",
    "        continue\n",
    "    print(i)\n",
    "\n",
    "print(\"Loop End\")"
   ]
  },
  {
   "cell_type": "code",
   "execution_count": null,
   "id": "a311a06e",
   "metadata": {},
   "outputs": [],
   "source": [
    "Write a program that prints the table of a given number. The number is supplied by the user...so if a user types in 5, the program should print\n",
    "5x1=5\n",
    "5x2=10\n",
    "…..\n",
    "5x10=50\n"
   ]
  },
  {
   "cell_type": "markdown",
   "id": "f0c2cdb0",
   "metadata": {},
   "source": [
    "# Patterns"
   ]
  },
  {
   "cell_type": "raw",
   "id": "8b7fe591",
   "metadata": {},
   "source": [
    "4444\n",
    "4444\n",
    "4444\n",
    "4444"
   ]
  },
  {
   "cell_type": "code",
   "execution_count": 62,
   "id": "b5b6bc20",
   "metadata": {},
   "outputs": [
    {
     "name": "stdout",
     "output_type": "stream",
     "text": [
      "12345"
     ]
    }
   ],
   "source": [
    "i=1\n",
    "while(i<=5):\n",
    "    print(i,end=\"\")\n",
    "    i=i+1"
   ]
  },
  {
   "cell_type": "code",
   "execution_count": 67,
   "id": "67efdf8f",
   "metadata": {},
   "outputs": [
    {
     "name": "stdout",
     "output_type": "stream",
     "text": [
      "4444\n",
      "4444\n",
      "4444\n",
      "4444\n"
     ]
    }
   ],
   "source": [
    "j=1\n",
    "while(j<=4):\n",
    "    i=1\n",
    "    while(i<=4):\n",
    "        print(\"4\", end=\"\")\n",
    "        i=i+1\n",
    "    print()\n",
    "    j=j+1"
   ]
  },
  {
   "cell_type": "code",
   "execution_count": 40,
   "id": "7290e9fc",
   "metadata": {},
   "outputs": [
    {
     "name": "stdout",
     "output_type": "stream",
     "text": [
      "****\n",
      "****\n",
      "****\n",
      "****\n"
     ]
    }
   ],
   "source": [
    "j=1\n",
    "while(j<=4):\n",
    "    i=1\n",
    "    while(i<=4):\n",
    "        print(\"*\", end=\"\")\n",
    "        i=i+1\n",
    "    print()\n",
    "    j=j+1"
   ]
  },
  {
   "cell_type": "code",
   "execution_count": 41,
   "id": "74197345",
   "metadata": {},
   "outputs": [
    {
     "name": "stdout",
     "output_type": "stream",
     "text": [
      "1234\n",
      "1234\n",
      "1234\n",
      "1234\n"
     ]
    }
   ],
   "source": [
    "j=1\n",
    "while(j<=4):\n",
    "    i=1\n",
    "    while(i<=4):\n",
    "        print(i, end=\"\")\n",
    "        i=i+1\n",
    "    print()\n",
    "    j=j+1"
   ]
  },
  {
   "cell_type": "raw",
   "id": "972e2953",
   "metadata": {},
   "source": [
    "*\n",
    "**\n",
    "***\n",
    "****"
   ]
  },
  {
   "cell_type": "code",
   "execution_count": 42,
   "id": "c20ed5b1",
   "metadata": {},
   "outputs": [
    {
     "name": "stdout",
     "output_type": "stream",
     "text": [
      "1111\n",
      "2222\n",
      "3333\n",
      "4444\n"
     ]
    }
   ],
   "source": [
    "j=1\n",
    "while(j<=4):\n",
    "    i=1\n",
    "    while(i<=4):\n",
    "        print(j, end=\"\")\n",
    "        i=i+1\n",
    "    print()\n",
    "    j=j+1"
   ]
  },
  {
   "cell_type": "code",
   "execution_count": 48,
   "id": "9053f9ad",
   "metadata": {},
   "outputs": [
    {
     "name": "stdout",
     "output_type": "stream",
     "text": [
      "1\n",
      "12\n",
      "123\n",
      "1234\n",
      "12345\n",
      "123456\n",
      "1234567\n",
      "12345678\n",
      "123456789\n",
      "12345678910\n"
     ]
    }
   ],
   "source": [
    "j=1\n",
    "while(j<=10):\n",
    "    i=1\n",
    "    while(i<=j):\n",
    "        print(i, end=\"\")\n",
    "        i=i+1\n",
    "    print()\n",
    "    j=j+1"
   ]
  },
  {
   "cell_type": "code",
   "execution_count": 50,
   "id": "7150b6ea",
   "metadata": {},
   "outputs": [
    {
     "name": "stdout",
     "output_type": "stream",
     "text": [
      "1\n",
      "22\n",
      "333\n",
      "4444\n",
      "55555\n"
     ]
    }
   ],
   "source": [
    "j=1\n",
    "while(j<=5):\n",
    "    i=1\n",
    "    while(i<=j):\n",
    "        print(j, end=\"\")\n",
    "        i=i+1\n",
    "    print()\n",
    "    j=j+1"
   ]
  },
  {
   "cell_type": "code",
   "execution_count": 52,
   "id": "d80321bb",
   "metadata": {},
   "outputs": [
    {
     "name": "stdout",
     "output_type": "stream",
     "text": [
      "*\n",
      "**\n",
      "***\n",
      "****\n",
      "*****\n"
     ]
    }
   ],
   "source": [
    "j=1\n",
    "while(j<=5):\n",
    "    i=1\n",
    "    while(i<=j):\n",
    "        print(\"*\", end=\"\")\n",
    "        i=i+1\n",
    "    print()\n",
    "    j=j+1"
   ]
  },
  {
   "cell_type": "code",
   "execution_count": 58,
   "id": "984bcae7",
   "metadata": {},
   "outputs": [
    {
     "name": "stdout",
     "output_type": "stream",
     "text": [
      "*****\n",
      "****\n",
      "***\n",
      "**\n",
      "*\n"
     ]
    }
   ],
   "source": [
    "j=5\n",
    "while(j>=1):\n",
    "    i=1\n",
    "    while(i<=j):\n",
    "        print(\"*\", end=\"\")\n",
    "        i=i+1\n",
    "    print()\n",
    "    j=j-1"
   ]
  },
  {
   "cell_type": "code",
   "execution_count": 60,
   "id": "7dcb55e8",
   "metadata": {},
   "outputs": [
    {
     "name": "stdout",
     "output_type": "stream",
     "text": [
      "*\n",
      "**\n",
      "***\n",
      "****\n",
      "*****\n",
      "*****\n",
      "****\n",
      "***\n",
      "**\n",
      "*\n"
     ]
    }
   ],
   "source": [
    "j=1\n",
    "while(j<=5):\n",
    "    i=1\n",
    "    while(i<=j):\n",
    "        print(\"*\", end=\"\")\n",
    "        i=i+1\n",
    "    print()\n",
    "    j=j+1\n",
    "j=5\n",
    "while(j>=1):\n",
    "    i=1\n",
    "    while(i<=j):\n",
    "        print(\"*\", end=\"\")\n",
    "        i=i+1\n",
    "    print()\n",
    "    j=j-1"
   ]
  },
  {
   "cell_type": "code",
   "execution_count": null,
   "id": "72ea46fb",
   "metadata": {},
   "outputs": [],
   "source": [
    "1\n",
    "22\n",
    "333\n",
    "4444"
   ]
  },
  {
   "cell_type": "raw",
   "id": "f453909f",
   "metadata": {},
   "source": [
    "1\n",
    "21\n",
    "321\n",
    "4321"
   ]
  },
  {
   "cell_type": "raw",
   "id": "ce40aa38",
   "metadata": {},
   "source": [
    "1\n",
    "11\n",
    "111\n",
    "1111"
   ]
  },
  {
   "cell_type": "raw",
   "id": "003a7346",
   "metadata": {},
   "source": [
    "1234\n",
    "123\n",
    "12\n",
    "1"
   ]
  },
  {
   "cell_type": "markdown",
   "id": "20a5570c",
   "metadata": {},
   "source": [
    "# The range() function"
   ]
  },
  {
   "cell_type": "raw",
   "id": "3ecacb24",
   "metadata": {},
   "source": [
    "We can generate a sequence of numbers using range() function. range(10) will generate numbers from 0 to 9 (10 numbers).\n",
    "\n",
    "We can also define the start, stop and step size as range(start, stop, step_size). step_size defaults to 1 if not provided.\n"
   ]
  },
  {
   "cell_type": "code",
   "execution_count": 2,
   "id": "9cbded78",
   "metadata": {},
   "outputs": [
    {
     "data": {
      "text/plain": [
       "[0, 1, 2, 3, 4, 5, 6, 7, 8, 9]"
      ]
     },
     "execution_count": 2,
     "metadata": {},
     "output_type": "execute_result"
    }
   ],
   "source": [
    "list(range(10))"
   ]
  },
  {
   "cell_type": "code",
   "execution_count": null,
   "id": "0ab2ca77",
   "metadata": {},
   "outputs": [],
   "source": []
  }
 ],
 "metadata": {
  "kernelspec": {
   "display_name": "Python 3 (ipykernel)",
   "language": "python",
   "name": "python3"
  },
  "language_info": {
   "codemirror_mode": {
    "name": "ipython",
    "version": 3
   },
   "file_extension": ".py",
   "mimetype": "text/x-python",
   "name": "python",
   "nbconvert_exporter": "python",
   "pygments_lexer": "ipython3",
   "version": "3.9.7"
  }
 },
 "nbformat": 4,
 "nbformat_minor": 5
}
