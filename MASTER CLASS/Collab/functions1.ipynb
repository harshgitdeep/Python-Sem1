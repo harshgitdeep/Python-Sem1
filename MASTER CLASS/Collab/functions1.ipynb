{
 "cells": [
  {
   "cell_type": "markdown",
   "id": "eccf5361",
   "metadata": {},
   "source": [
    "# Function"
   ]
  },
  {
   "cell_type": "code",
   "execution_count": 5,
   "id": "edca9be5",
   "metadata": {},
   "outputs": [],
   "source": [
    "def greeting():\n",
    "    print(\"hello, How are you\")"
   ]
  },
  {
   "cell_type": "code",
   "execution_count": 6,
   "id": "c57a87bb",
   "metadata": {},
   "outputs": [
    {
     "name": "stdout",
     "output_type": "stream",
     "text": [
      "hello, How are you\n"
     ]
    }
   ],
   "source": [
    "greeting()"
   ]
  },
  {
   "cell_type": "code",
   "execution_count": 8,
   "id": "1c8d2c0c",
   "metadata": {},
   "outputs": [
    {
     "name": "stdout",
     "output_type": "stream",
     "text": [
      "hello, How are you\n",
      "hello, How are you\n",
      "hello, How are you\n"
     ]
    }
   ],
   "source": [
    "greeting()\n",
    "greeting()\n",
    "greeting()"
   ]
  },
  {
   "cell_type": "code",
   "execution_count": 9,
   "id": "dc2ebaa5",
   "metadata": {},
   "outputs": [],
   "source": [
    "def greeting(name):\n",
    "    print(\"hello Mr. \"+name +\" How are you\")"
   ]
  },
  {
   "cell_type": "code",
   "execution_count": 12,
   "id": "21779c93",
   "metadata": {},
   "outputs": [
    {
     "name": "stdout",
     "output_type": "stream",
     "text": [
      "hello Mr. Ramesh How are you\n"
     ]
    }
   ],
   "source": [
    "greeting(\"Ramesh\")"
   ]
  },
  {
   "cell_type": "code",
   "execution_count": 13,
   "id": "c7da5950",
   "metadata": {},
   "outputs": [
    {
     "name": "stdout",
     "output_type": "stream",
     "text": [
      "hello Mr. Ramesh How are you\n",
      "hello Mr. Suresh How are you\n",
      "hello Mr. Mohan How are you\n"
     ]
    }
   ],
   "source": [
    "greeting(\"Ramesh\")\n",
    "greeting(\"Suresh\")\n",
    "greeting(\"Mohan\")"
   ]
  },
  {
   "cell_type": "code",
   "execution_count": 25,
   "id": "fdbac5e8",
   "metadata": {},
   "outputs": [],
   "source": [
    "def add(a,b):\n",
    "    c=a+b\n",
    "    print(c)"
   ]
  },
  {
   "cell_type": "code",
   "execution_count": 26,
   "id": "f726c75e",
   "metadata": {},
   "outputs": [
    {
     "name": "stdout",
     "output_type": "stream",
     "text": [
      "8\n"
     ]
    }
   ],
   "source": [
    "x=add(5,3)"
   ]
  },
  {
   "cell_type": "code",
   "execution_count": 16,
   "id": "a84549db",
   "metadata": {},
   "outputs": [
    {
     "name": "stdout",
     "output_type": "stream",
     "text": [
      "82\n"
     ]
    }
   ],
   "source": [
    "add(50,32)"
   ]
  },
  {
   "cell_type": "code",
   "execution_count": 17,
   "id": "4a6a300e",
   "metadata": {},
   "outputs": [],
   "source": [
    "def add(a,b):\n",
    "    c=a+b\n",
    "    return(c)"
   ]
  },
  {
   "cell_type": "code",
   "execution_count": 19,
   "id": "5b359cff",
   "metadata": {},
   "outputs": [],
   "source": [
    "x=add(40,37)"
   ]
  },
  {
   "cell_type": "code",
   "execution_count": 20,
   "id": "6e78ab79",
   "metadata": {},
   "outputs": [
    {
     "name": "stdout",
     "output_type": "stream",
     "text": [
      "77\n"
     ]
    }
   ],
   "source": [
    "print(x)"
   ]
  },
  {
   "cell_type": "code",
   "execution_count": 36,
   "id": "cb4819b3",
   "metadata": {},
   "outputs": [],
   "source": [
    "def count(n):\n",
    "    count=0\n",
    "    while(n>0):\n",
    "        count=count+1\n",
    "        n=n//10\n",
    "    return(count)\n",
    "    "
   ]
  },
  {
   "cell_type": "code",
   "execution_count": 37,
   "id": "41cf698b",
   "metadata": {},
   "outputs": [],
   "source": [
    "x=count(3456)"
   ]
  },
  {
   "cell_type": "code",
   "execution_count": 23,
   "id": "a0507c14",
   "metadata": {},
   "outputs": [],
   "source": [
    "y=count(23456745)"
   ]
  },
  {
   "cell_type": "code",
   "execution_count": 24,
   "id": "66b0fee0",
   "metadata": {},
   "outputs": [
    {
     "name": "stdout",
     "output_type": "stream",
     "text": [
      "8\n"
     ]
    }
   ],
   "source": [
    "print(y)\n"
   ]
  },
  {
   "cell_type": "code",
   "execution_count": 38,
   "id": "3e5dc986",
   "metadata": {},
   "outputs": [
    {
     "name": "stdout",
     "output_type": "stream",
     "text": [
      "4\n"
     ]
    }
   ],
   "source": [
    "print(x)\n"
   ]
  },
  {
   "cell_type": "code",
   "execution_count": 4,
   "id": "27f48629",
   "metadata": {},
   "outputs": [],
   "source": [
    "def printstudent(name,roll,course):\n",
    "    print(\"Name            :\"+name)\n",
    "    print(\"Roll number     :\"+str(roll))\n",
    "    print(\"Enrolled Course :\"+course)"
   ]
  },
  {
   "cell_type": "code",
   "execution_count": 5,
   "id": "d98fc6db",
   "metadata": {},
   "outputs": [
    {
     "name": "stdout",
     "output_type": "stream",
     "text": [
      "Name            :Suresh\n",
      "Roll number     :35\n",
      "Enrolled Course :BE\n"
     ]
    }
   ],
   "source": [
    "printstudent(\"Suresh\",35,\"BE\")"
   ]
  },
  {
   "cell_type": "code",
   "execution_count": 7,
   "id": "d816b679",
   "metadata": {},
   "outputs": [
    {
     "name": "stdout",
     "output_type": "stream",
     "text": [
      "Name            :Suresh\n",
      "Roll number     :35\n",
      "Enrolled Course :BE\n"
     ]
    }
   ],
   "source": [
    "printstudent(roll=35,name=\"Suresh\",course=\"BE\")"
   ]
  },
  {
   "cell_type": "code",
   "execution_count": 49,
   "id": "75cb7af7",
   "metadata": {},
   "outputs": [],
   "source": [
    "def add3num(a=50,b=20,c=30):\n",
    "    print(\"Sum of three numbers :\",a+b+c)"
   ]
  },
  {
   "cell_type": "code",
   "execution_count": 37,
   "id": "594d84f4",
   "metadata": {},
   "outputs": [
    {
     "name": "stdout",
     "output_type": "stream",
     "text": [
      "Sum of three numbers :100\n"
     ]
    }
   ],
   "source": [
    "add3num()"
   ]
  },
  {
   "cell_type": "code",
   "execution_count": 50,
   "id": "a4d247ff",
   "metadata": {},
   "outputs": [
    {
     "name": "stdout",
     "output_type": "stream",
     "text": [
      "Sum of three numbers : 180\n"
     ]
    },
    {
     "data": {
      "text/plain": [
       "180"
      ]
     },
     "execution_count": 50,
     "metadata": {},
     "output_type": "execute_result"
    }
   ],
   "source": [
    "add3num(50,60,70)"
   ]
  },
  {
   "cell_type": "code",
   "execution_count": 11,
   "id": "97050434",
   "metadata": {},
   "outputs": [
    {
     "name": "stdout",
     "output_type": "stream",
     "text": [
      "Sum of three numbers :140\n"
     ]
    }
   ],
   "source": [
    "add3num(50,60)"
   ]
  },
  {
   "cell_type": "code",
   "execution_count": 12,
   "id": "37eb4c18",
   "metadata": {},
   "outputs": [
    {
     "name": "stdout",
     "output_type": "stream",
     "text": [
      "Sum of three numbers :100\n"
     ]
    }
   ],
   "source": [
    "add3num(50)"
   ]
  },
  {
   "cell_type": "code",
   "execution_count": 14,
   "id": "104f57ea",
   "metadata": {},
   "outputs": [
    {
     "name": "stdout",
     "output_type": "stream",
     "text": [
      "Sum of three numbers :55\n"
     ]
    }
   ],
   "source": [
    "add3num(5)"
   ]
  },
  {
   "cell_type": "code",
   "execution_count": 21,
   "id": "d83391f6",
   "metadata": {},
   "outputs": [],
   "source": [
    "def greetguest(host,*guest):\n",
    "    print(\"Hello Everyone, I am \"+host+ \" your host\")\n",
    "    for i in guest:\n",
    "        print(\"Hello Mr.\" +i+\" Welcome to Chitkara University\")"
   ]
  },
  {
   "cell_type": "code",
   "execution_count": 16,
   "id": "867db75f",
   "metadata": {},
   "outputs": [
    {
     "name": "stdout",
     "output_type": "stream",
     "text": [
      "Hello Mr.Ramesh Welcome to Chitkara University\n",
      "Hello Mr.Suresh Welcome to Chitkara University\n"
     ]
    }
   ],
   "source": [
    "greetguest(\"Ramesh\",\"Suresh\")"
   ]
  },
  {
   "cell_type": "code",
   "execution_count": 22,
   "id": "f41a0560",
   "metadata": {},
   "outputs": [
    {
     "name": "stdout",
     "output_type": "stream",
     "text": [
      "Hello Everyone, I am Raj your host\n",
      "Hello Mr.Ramesh Welcome to Chitkara University\n",
      "Hello Mr.Suresh Welcome to Chitkara University\n",
      "Hello Mr.Mohan Welcome to Chitkara University\n",
      "Hello Mr.Gopal Welcome to Chitkara University\n"
     ]
    }
   ],
   "source": [
    "greetguest(\"Raj\",\"Ramesh\",\"Suresh\",\"Mohan\",\"Gopal\")"
   ]
  },
  {
   "cell_type": "code",
   "execution_count": 23,
   "id": "7a679101",
   "metadata": {},
   "outputs": [],
   "source": [
    "def greetguest1(host, univ, *guest):\n",
    "    print(\"Hello Everyone, I am \"+host+ \" your host\")\n",
    "    for i in guest:\n",
    "        print(\"Hello Mr.\" +i+\" Welcome to \"+univ)"
   ]
  },
  {
   "cell_type": "code",
   "execution_count": 24,
   "id": "00c35803",
   "metadata": {},
   "outputs": [
    {
     "name": "stdout",
     "output_type": "stream",
     "text": [
      "Hello Everyone, I am Raj your host\n",
      "Hello Mr.Ramesh Welcome to ABC University\n",
      "Hello Mr.Suresh Welcome to ABC University\n",
      "Hello Mr.Mohan Welcome to ABC University\n",
      "Hello Mr.Gopal Welcome to ABC University\n"
     ]
    }
   ],
   "source": [
    "greetguest1(\"Raj\",\"ABC University\",\"Ramesh\",\"Suresh\",\"Mohan\",\"Gopal\")"
   ]
  },
  {
   "cell_type": "code",
   "execution_count": 25,
   "id": "70e7ffb0",
   "metadata": {},
   "outputs": [
    {
     "name": "stdout",
     "output_type": "stream",
     "text": [
      "Hello Everyone, I am Ajay your host\n",
      "Hello Mr.Ramesh Welcome to Oxford University\n",
      "Hello Mr.Suresh Welcome to Oxford University\n",
      "Hello Mr.Mohan Welcome to Oxford University\n",
      "Hello Mr.Gopal Welcome to Oxford University\n"
     ]
    }
   ],
   "source": [
    "greetguest1(\"Ajay\",\"Oxford University\",\"Ramesh\",\"Suresh\",\"Mohan\",\"Gopal\")"
   ]
  },
  {
   "cell_type": "code",
   "execution_count": 40,
   "id": "204ad01b",
   "metadata": {},
   "outputs": [],
   "source": [
    "def add(a,b):\n",
    "    return(a+b)"
   ]
  },
  {
   "cell_type": "code",
   "execution_count": 28,
   "id": "0caa337f",
   "metadata": {},
   "outputs": [
    {
     "name": "stdout",
     "output_type": "stream",
     "text": [
      "30\n"
     ]
    }
   ],
   "source": [
    "print(add(10,20))"
   ]
  },
  {
   "cell_type": "code",
   "execution_count": 29,
   "id": "b2485d10",
   "metadata": {},
   "outputs": [
    {
     "name": "stdout",
     "output_type": "stream",
     "text": [
      "30\n"
     ]
    }
   ],
   "source": [
    "print(30)"
   ]
  },
  {
   "cell_type": "code",
   "execution_count": 30,
   "id": "df9255fd",
   "metadata": {},
   "outputs": [
    {
     "name": "stdout",
     "output_type": "stream",
     "text": [
      "60\n"
     ]
    }
   ],
   "source": [
    "print(add(10,add(20,30)))"
   ]
  },
  {
   "cell_type": "code",
   "execution_count": 33,
   "id": "597c4e88",
   "metadata": {},
   "outputs": [],
   "source": [
    "def greetguest2(host, univ, *guest):\n",
    "    for i in guest:\n",
    "        print(\"Hello Mr.\" +i+\" i am \"+host+\" Welcome to \"+univ)"
   ]
  },
  {
   "cell_type": "code",
   "execution_count": 39,
   "id": "5cbc9b9a",
   "metadata": {},
   "outputs": [
    {
     "name": "stdout",
     "output_type": "stream",
     "text": [
      "Hello Mr.suresh i am Raj Welcome to Oxford University\n",
      "Hello Mr.Mohan i am Raj Welcome to Oxford University\n"
     ]
    }
   ],
   "source": [
    "greetguest2(\"Raj\", \"Oxford University\",\"suresh\",\"Mohan\")"
   ]
  },
  {
   "cell_type": "code",
   "execution_count": 41,
   "id": "5f252a73",
   "metadata": {},
   "outputs": [
    {
     "name": "stdout",
     "output_type": "stream",
     "text": [
      "60\n"
     ]
    }
   ],
   "source": [
    "print(add(add(20,30),10))"
   ]
  },
  {
   "cell_type": "code",
   "execution_count": 44,
   "id": "6acdd61a",
   "metadata": {},
   "outputs": [
    {
     "name": "stdout",
     "output_type": "stream",
     "text": [
      "100\n"
     ]
    }
   ],
   "source": [
    "print(add(add(10,20),add(30,40)))"
   ]
  },
  {
   "cell_type": "code",
   "execution_count": 46,
   "id": "55408ef7",
   "metadata": {},
   "outputs": [],
   "source": [
    "a=10\n",
    "b=20"
   ]
  },
  {
   "cell_type": "code",
   "execution_count": 47,
   "id": "77e8ef65",
   "metadata": {},
   "outputs": [
    {
     "name": "stdout",
     "output_type": "stream",
     "text": [
      "1020\n"
     ]
    }
   ],
   "source": [
    "print(str(10)+str(20))"
   ]
  },
  {
   "cell_type": "code",
   "execution_count": 48,
   "id": "1ec34b4e",
   "metadata": {},
   "outputs": [
    {
     "name": "stdout",
     "output_type": "stream",
     "text": [
      "10 20\n"
     ]
    }
   ],
   "source": [
    "print(a,b)"
   ]
  },
  {
   "cell_type": "code",
   "execution_count": null,
   "id": "73b48e57",
   "metadata": {},
   "outputs": [],
   "source": []
  }
 ],
 "metadata": {
  "kernelspec": {
   "display_name": "Python 3 (ipykernel)",
   "language": "python",
   "name": "python3"
  },
  "language_info": {
   "codemirror_mode": {
    "name": "ipython",
    "version": 3
   },
   "file_extension": ".py",
   "mimetype": "text/x-python",
   "name": "python",
   "nbconvert_exporter": "python",
   "pygments_lexer": "ipython3",
   "version": "3.9.7"
  }
 },
 "nbformat": 4,
 "nbformat_minor": 5
}
