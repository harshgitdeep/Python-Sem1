{
 "cells": [
  {
   "cell_type": "markdown",
   "id": "4f0054b0",
   "metadata": {},
   "source": [
    "# File Handeling"
   ]
  },
  {
   "cell_type": "markdown",
   "id": "d0414fbb",
   "metadata": {},
   "source": [
    "Python has several functions for creating, reading, updating, and deleting files."
   ]
  },
  {
   "cell_type": "markdown",
   "id": "0e10b10a",
   "metadata": {},
   "source": [
    "he key function for working with files in Python is the open() function.\n",
    "\n",
    "The open() function takes two parameters; filename, and mode.\n",
    "\n",
    "There are four different methods (modes) for opening a file:\n",
    "\n",
    "\"r\" - Read - Default value. Opens a file for reading, error if the file does not exist\n",
    "\n",
    "\"a\" - Append - Opens a file for appending, creates the file if it does not exist\n",
    "\n",
    "\"w\" - Write - Opens a file for writing, creates the file if it does not exist\n",
    "\n",
    "\"x\" - Create - Creates the specified file, returns an error if the file exists"
   ]
  },
  {
   "cell_type": "markdown",
   "id": "59bd9f3a",
   "metadata": {},
   "source": [
    "Write to an Existing File\n",
    "To write to an existing file, you must add a parameter to the open() function:\n",
    "\n",
    "\"a\" - Append - will append to the end of the file\n",
    "\n",
    "\"w\" - Write - will overwrite any existing content"
   ]
  },
  {
   "cell_type": "code",
   "execution_count": 7,
   "id": "16e571e2",
   "metadata": {},
   "outputs": [],
   "source": [
    "f = open(\"myfirstfile.txt\", \"w\")\n",
    "f.write(\"I study in Chitkara University\")\n",
    "f.close()\n"
   ]
  },
  {
   "cell_type": "code",
   "execution_count": 5,
   "id": "c221ff97",
   "metadata": {},
   "outputs": [],
   "source": [
    "f = open(\"myfirstfile.txt\", \"w\")\n",
    "f.write(\"CCcacdcdscdavds\")\n",
    "f.close()"
   ]
  },
  {
   "cell_type": "code",
   "execution_count": 6,
   "id": "8e823742",
   "metadata": {},
   "outputs": [
    {
     "name": "stdout",
     "output_type": "stream",
     "text": [
      "CCcacdcdscdavds\n"
     ]
    }
   ],
   "source": [
    "#open and read the file after the appending:\n",
    "f = open(\"myfirstfile.txt\", \"r\")\n",
    "x=f.read()\n",
    "print(x)"
   ]
  },
  {
   "cell_type": "code",
   "execution_count": 9,
   "id": "14cd5dc4",
   "metadata": {},
   "outputs": [
    {
     "name": "stdout",
     "output_type": "stream",
     "text": [
      "I study in Chitkara UniversityI live in ChandigarhI live in Chandigarhdsvsvds\n"
     ]
    }
   ],
   "source": [
    "f = open(\"myfirstfile.txt\", \"a\")\n",
    "f.write(\"I live in Chandigarh\")\n",
    "f.write(\"dsvsvds\")\n",
    "f.close()\n",
    "\n",
    "f = open(\"myfirstfile.txt\", \"r\")\n",
    "x=f.read()\n",
    "f.close()\n",
    "print(x)"
   ]
  },
  {
   "cell_type": "code",
   "execution_count": 10,
   "id": "a8f87f63",
   "metadata": {},
   "outputs": [
    {
     "name": "stdout",
     "output_type": "stream",
     "text": [
      "I stu\n"
     ]
    }
   ],
   "source": [
    "f = open(\"myfirstfile.txt\", \"r\")\n",
    "x=f.read(5)\n",
    "f.close()\n",
    "print(x)"
   ]
  },
  {
   "cell_type": "code",
   "execution_count": 4,
   "id": "3e10d5b6",
   "metadata": {},
   "outputs": [],
   "source": [
    "file = open('second.txt','w')\n",
    "file.write(\"This is the write command\")\n",
    "file.write(\"It allows us to write in a particular file\")\n",
    "file.close()"
   ]
  },
  {
   "cell_type": "code",
   "execution_count": 5,
   "id": "3d36da2f",
   "metadata": {},
   "outputs": [
    {
     "name": "stdout",
     "output_type": "stream",
     "text": [
      "This is the write commandIt allows us to write in a particular file\n"
     ]
    }
   ],
   "source": [
    "f = open(\"second.txt\", \"r\")\n",
    "x=f.read()\n",
    "f.close()\n",
    "print(x)"
   ]
  },
  {
   "cell_type": "code",
   "execution_count": 6,
   "id": "c189c79f",
   "metadata": {},
   "outputs": [],
   "source": [
    "file = open('second.txt','w')\n",
    "file.write(\"This is the write command\\n\")\n",
    "file.write(\"It allows us to write in a particular file\\n\")\n",
    "file.close()"
   ]
  },
  {
   "cell_type": "code",
   "execution_count": 7,
   "id": "0e4ef9e6",
   "metadata": {},
   "outputs": [
    {
     "name": "stdout",
     "output_type": "stream",
     "text": [
      "This is the write command\n",
      "It allows us to write in a particular file\n",
      "\n"
     ]
    }
   ],
   "source": [
    "f = open(\"second.txt\", \"r\")\n",
    "x=f.read()\n",
    "f.close()\n",
    "print(x)"
   ]
  },
  {
   "cell_type": "code",
   "execution_count": 10,
   "id": "aef7602e",
   "metadata": {},
   "outputs": [
    {
     "name": "stdout",
     "output_type": "stream",
     "text": [
      "This is the write command\n",
      "\n"
     ]
    }
   ],
   "source": [
    "f = open(\"second.txt\", \"r\")\n",
    "x=f.readline()\n",
    "f.close()\n",
    "print(x)"
   ]
  }
 ],
 "metadata": {
  "kernelspec": {
   "display_name": "Python 3 (ipykernel)",
   "language": "python",
   "name": "python3"
  },
  "language_info": {
   "codemirror_mode": {
    "name": "ipython",
    "version": 3
   },
   "file_extension": ".py",
   "mimetype": "text/x-python",
   "name": "python",
   "nbconvert_exporter": "python",
   "pygments_lexer": "ipython3",
   "version": "3.9.7"
  }
 },
 "nbformat": 4,
 "nbformat_minor": 5
}
