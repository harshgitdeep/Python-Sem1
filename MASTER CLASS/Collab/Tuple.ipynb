{
 "cells": [
  {
   "cell_type": "markdown",
   "id": "e10c6a98",
   "metadata": {},
   "source": [
    "# Tuple"
   ]
  },
  {
   "cell_type": "markdown",
   "id": "605dd357",
   "metadata": {},
   "source": [
    "A tuple is a collection of objects which ordered and immutable. Tuples are sequences, just like lists. The differences between tuples and lists are, the tuples cannot be changed unlike lists and tuples use parentheses, whereas lists use square brackets."
   ]
  },
  {
   "cell_type": "markdown",
   "id": "35d3ea2d",
   "metadata": {},
   "source": [
    "Example"
   ]
  },
  {
   "cell_type": "code",
   "execution_count": 38,
   "id": "5fe885ba",
   "metadata": {},
   "outputs": [],
   "source": [
    "tup1 = ('physics', 'chemistry', 1997, 2000)\n",
    "tup2 = (1, 2, 3, 4, 5 )\n",
    "tup3 = \"a\", \"b\", \"c\", \"d\""
   ]
  },
  {
   "cell_type": "code",
   "execution_count": 39,
   "id": "40b92178",
   "metadata": {},
   "outputs": [],
   "source": [
    "del tup3"
   ]
  },
  {
   "cell_type": "markdown",
   "id": "8db952c9",
   "metadata": {},
   "source": [
    "The empty tuple is written as two parentheses containing nothing −"
   ]
  },
  {
   "cell_type": "markdown",
   "id": "3ae0d012",
   "metadata": {},
   "source": [
    "The empty tuple is written as two parentheses containing nothing −"
   ]
  },
  {
   "cell_type": "code",
   "execution_count": 3,
   "id": "ab755465",
   "metadata": {},
   "outputs": [],
   "source": [
    "tup1 = ();\n"
   ]
  },
  {
   "cell_type": "markdown",
   "id": "4e2dfcdf",
   "metadata": {},
   "source": [
    "# Updating Tuples"
   ]
  },
  {
   "cell_type": "markdown",
   "id": "3da16e28",
   "metadata": {},
   "source": [
    "Tuples are immutable which means you cannot update or change the values of tuple elements. You are able to take portions of existing tuples to create new tuples"
   ]
  },
  {
   "cell_type": "code",
   "execution_count": 4,
   "id": "42f55fa3",
   "metadata": {},
   "outputs": [
    {
     "name": "stdout",
     "output_type": "stream",
     "text": [
      "(12, 34.56, 'abc', 'xyz')\n"
     ]
    }
   ],
   "source": [
    "tup1 = (12, 34.56)\n",
    "tup2 = ('abc', 'xyz')\n",
    "\n",
    "tup3=tup1+tup2\n",
    "print(tup3)"
   ]
  },
  {
   "cell_type": "code",
   "execution_count": 7,
   "id": "0a733b32",
   "metadata": {},
   "outputs": [
    {
     "name": "stdout",
     "output_type": "stream",
     "text": [
      "(12, 34.56, 12, 34.56, 12, 34.56, 12, 34.56)\n"
     ]
    }
   ],
   "source": [
    "tup1 = (12, 34.56)\n",
    "tup2=tup1*4\n",
    "print(tup2)"
   ]
  },
  {
   "cell_type": "code",
   "execution_count": 9,
   "id": "9c56256e",
   "metadata": {},
   "outputs": [
    {
     "name": "stdout",
     "output_type": "stream",
     "text": [
      "34.56\n"
     ]
    },
    {
     "ename": "TypeError",
     "evalue": "'tuple' object does not support item assignment",
     "output_type": "error",
     "traceback": [
      "\u001b[1;31m---------------------------------------------------------------------------\u001b[0m",
      "\u001b[1;31mTypeError\u001b[0m                                 Traceback (most recent call last)",
      "\u001b[1;32m~\\AppData\\Local\\Temp/ipykernel_7232/2231244955.py\u001b[0m in \u001b[0;36m<module>\u001b[1;34m\u001b[0m\n\u001b[0;32m      1\u001b[0m \u001b[0mprint\u001b[0m\u001b[1;33m(\u001b[0m\u001b[0mtup2\u001b[0m\u001b[1;33m[\u001b[0m\u001b[1;36m3\u001b[0m\u001b[1;33m]\u001b[0m\u001b[1;33m)\u001b[0m\u001b[1;33m\u001b[0m\u001b[1;33m\u001b[0m\u001b[0m\n\u001b[1;32m----> 2\u001b[1;33m \u001b[0mtup2\u001b[0m\u001b[1;33m[\u001b[0m\u001b[1;36m3\u001b[0m\u001b[1;33m]\u001b[0m\u001b[1;33m=\u001b[0m\u001b[1;36m12.34\u001b[0m\u001b[1;33m\u001b[0m\u001b[1;33m\u001b[0m\u001b[0m\n\u001b[0m",
      "\u001b[1;31mTypeError\u001b[0m: 'tuple' object does not support item assignment"
     ]
    }
   ],
   "source": [
    "print(tup2[3])\n",
    "tup2[3]=12.34"
   ]
  },
  {
   "cell_type": "markdown",
   "id": "903cad21",
   "metadata": {},
   "source": [
    "# Nesting of Tuples"
   ]
  },
  {
   "cell_type": "code",
   "execution_count": 11,
   "id": "79c1b571",
   "metadata": {},
   "outputs": [
    {
     "name": "stdout",
     "output_type": "stream",
     "text": [
      "((0, 1, 2, 3), ('chitkara', 'university'), 3, 'sfds')\n"
     ]
    }
   ],
   "source": [
    "tuple1 = (0, 1, 2, 3)\n",
    "tuple2 = ('chitkara', 'university')\n",
    "tuple3 = (tuple1, tuple2,3,\"sfds\")\n",
    "print(tuple3)"
   ]
  },
  {
   "cell_type": "markdown",
   "id": "bb05386b",
   "metadata": {},
   "source": [
    "# Repetition in Tuples"
   ]
  },
  {
   "cell_type": "code",
   "execution_count": 7,
   "id": "5b42e01d",
   "metadata": {},
   "outputs": [
    {
     "name": "stdout",
     "output_type": "stream",
     "text": [
      "('python', 'python', 'python')\n"
     ]
    }
   ],
   "source": [
    "tuple3 = ('python',)*3\n",
    "print(tuple3)"
   ]
  },
  {
   "cell_type": "markdown",
   "id": "c8d2dda2",
   "metadata": {},
   "source": [
    "# Immutable Tuples"
   ]
  },
  {
   "cell_type": "code",
   "execution_count": 8,
   "id": "1b111cca",
   "metadata": {},
   "outputs": [
    {
     "ename": "TypeError",
     "evalue": "'tuple' object does not support item assignment",
     "output_type": "error",
     "traceback": [
      "\u001b[1;31m---------------------------------------------------------------------------\u001b[0m",
      "\u001b[1;31mTypeError\u001b[0m                                 Traceback (most recent call last)",
      "\u001b[1;32m~\\AppData\\Local\\Temp/ipykernel_9780/3347452399.py\u001b[0m in \u001b[0;36m<module>\u001b[1;34m\u001b[0m\n\u001b[0;32m      1\u001b[0m \u001b[0mtuple1\u001b[0m \u001b[1;33m=\u001b[0m \u001b[1;33m(\u001b[0m\u001b[1;36m0\u001b[0m\u001b[1;33m,\u001b[0m \u001b[1;36m1\u001b[0m\u001b[1;33m,\u001b[0m \u001b[1;36m2\u001b[0m\u001b[1;33m,\u001b[0m \u001b[1;36m3\u001b[0m\u001b[1;33m)\u001b[0m\u001b[1;33m\u001b[0m\u001b[1;33m\u001b[0m\u001b[0m\n\u001b[1;32m----> 2\u001b[1;33m \u001b[0mtuple1\u001b[0m\u001b[1;33m[\u001b[0m\u001b[1;36m0\u001b[0m\u001b[1;33m]\u001b[0m \u001b[1;33m=\u001b[0m \u001b[1;36m4\u001b[0m\u001b[1;33m\u001b[0m\u001b[1;33m\u001b[0m\u001b[0m\n\u001b[0m\u001b[0;32m      3\u001b[0m \u001b[0mprint\u001b[0m\u001b[1;33m(\u001b[0m\u001b[0mtuple1\u001b[0m\u001b[1;33m)\u001b[0m\u001b[1;33m\u001b[0m\u001b[1;33m\u001b[0m\u001b[0m\n",
      "\u001b[1;31mTypeError\u001b[0m: 'tuple' object does not support item assignment"
     ]
    }
   ],
   "source": [
    "tuple1 = (0, 1, 2, 3)\n",
    "tuple1[0] = 4\n",
    "print(tuple1)"
   ]
  },
  {
   "cell_type": "markdown",
   "id": "3bab7d76",
   "metadata": {},
   "source": [
    "# Slicing in Tuples"
   ]
  },
  {
   "cell_type": "code",
   "execution_count": 17,
   "id": "9131e1ab",
   "metadata": {},
   "outputs": [
    {
     "name": "stdout",
     "output_type": "stream",
     "text": [
      "(2, 3, 4)\n",
      "(3, 4, 5, 6, 7, 8)\n",
      "(0, 1, 2, 3, 4)\n"
     ]
    }
   ],
   "source": [
    "tuple1 = (0 ,1, 2, 3,4,5,6,7,8)\n",
    "print(tuple1[2:5])\n",
    "tuple1[::-1]\n",
    "tuple1[-1]\n",
    "print(tuple1[3:])\n",
    "print(tuple1[:5])"
   ]
  },
  {
   "cell_type": "markdown",
   "id": "b77aef2b",
   "metadata": {},
   "source": [
    "# Deleting a Tuple"
   ]
  },
  {
   "cell_type": "code",
   "execution_count": 18,
   "id": "a5683b34",
   "metadata": {},
   "outputs": [
    {
     "ename": "NameError",
     "evalue": "name 'tuple3' is not defined",
     "output_type": "error",
     "traceback": [
      "\u001b[1;31m---------------------------------------------------------------------------\u001b[0m",
      "\u001b[1;31mNameError\u001b[0m                                 Traceback (most recent call last)",
      "\u001b[1;32m~\\AppData\\Local\\Temp/ipykernel_7232/1786558111.py\u001b[0m in \u001b[0;36m<module>\u001b[1;34m\u001b[0m\n\u001b[0;32m      1\u001b[0m \u001b[0mtuple3\u001b[0m \u001b[1;33m=\u001b[0m \u001b[1;33m(\u001b[0m \u001b[1;36m0\u001b[0m\u001b[1;33m,\u001b[0m \u001b[1;36m1\u001b[0m\u001b[1;33m)\u001b[0m\u001b[1;33m\u001b[0m\u001b[1;33m\u001b[0m\u001b[0m\n\u001b[0;32m      2\u001b[0m \u001b[1;32mdel\u001b[0m \u001b[0mtuple3\u001b[0m\u001b[1;33m\u001b[0m\u001b[1;33m\u001b[0m\u001b[0m\n\u001b[1;32m----> 3\u001b[1;33m \u001b[0mprint\u001b[0m\u001b[1;33m(\u001b[0m\u001b[0mtuple3\u001b[0m\u001b[1;33m)\u001b[0m\u001b[1;33m\u001b[0m\u001b[1;33m\u001b[0m\u001b[0m\n\u001b[0m",
      "\u001b[1;31mNameError\u001b[0m: name 'tuple3' is not defined"
     ]
    }
   ],
   "source": [
    "tuple3 = ( 0, 1)\n",
    "del tuple3\n",
    "print(tuple3)"
   ]
  },
  {
   "cell_type": "markdown",
   "id": "d3c78a8f",
   "metadata": {},
   "source": [
    "# Converting list/set to a Tuple by tuple()"
   ]
  },
  {
   "cell_type": "code",
   "execution_count": 22,
   "id": "2fbe4fa7",
   "metadata": {},
   "outputs": [
    {
     "name": "stdout",
     "output_type": "stream",
     "text": [
      "<class 'list'>\n",
      "<class 'tuple'>\n",
      "<class 'tuple'>\n"
     ]
    }
   ],
   "source": [
    "list1 = [0, 1, 2]\n",
    "s={1,2,3,3,3,4}\n",
    "t1=tuple(list1)\n",
    "t2=tuple(s)\n",
    "print(type(list1))\n",
    "print(type(t1))\n",
    "print(type(t2))"
   ]
  },
  {
   "cell_type": "code",
   "execution_count": 24,
   "id": "eb63d328",
   "metadata": {},
   "outputs": [
    {
     "name": "stdout",
     "output_type": "stream",
     "text": [
      "(1, 2, 3, 4, 5, 6, 7)\n"
     ]
    }
   ],
   "source": [
    "t1=(1,2,2,3,4,3,2,1,5,6,5,7,4,3,1)\n",
    "t2=tuple(set(t1))\n",
    "print(t2)"
   ]
  },
  {
   "cell_type": "markdown",
   "id": "3775a0f8",
   "metadata": {},
   "source": [
    "# Built in tuple functions"
   ]
  },
  {
   "cell_type": "raw",
   "id": "9670dc13",
   "metadata": {},
   "source": [
    "1\tlen(tuple) Gives the total length of the tuple.\n",
    "2\tmax(tuple) Returns item from the tuple with max value.\n",
    "3\tmin(tuple) Returns item from the tuple with min value.\n",
    "4\ttuple(seq) Converts a list into tuple.\n",
    "5.  sum()\tReturns addition of all elements in list/tuple\n",
    "6.  sorted()\tsorts the elements in list/tuple"
   ]
  },
  {
   "cell_type": "code",
   "execution_count": 21,
   "id": "c2143d01",
   "metadata": {},
   "outputs": [
    {
     "name": "stdout",
     "output_type": "stream",
     "text": [
      "3\n"
     ]
    }
   ],
   "source": [
    "t=(1,2,3)\n",
    "print(len(t))"
   ]
  },
  {
   "cell_type": "code",
   "execution_count": 25,
   "id": "1cdf1f97",
   "metadata": {},
   "outputs": [
    {
     "name": "stdout",
     "output_type": "stream",
     "text": [
      "5\n",
      "5\n",
      "max of L1 50\n",
      "max of T1 50\n",
      "min of L1 10\n",
      "min of T1 10\n",
      "sum of L1 150\n",
      "sum of T1 150\n",
      "L1 in sorted order [10, 20, 30, 40, 50]\n",
      "T1 in sorted order [10, 20, 30, 40, 50]\n"
     ]
    }
   ],
   "source": [
    "L1=[10,30,50,20,40]\n",
    "T1=(10,50,30,40,20)\n",
    "print (len(L1))\n",
    "print (len(T1))\n",
    "print ('max of L1', max(L1))\n",
    "print ('max of T1', max(T1))\n",
    "print ('min of L1', min(L1))\n",
    "print ('min of T1', min(T1))\n",
    "print ('sum of L1', sum(L1))\n",
    "print ('sum of T1', sum(T1))\n",
    "print ('L1 in sorted order', sorted(L1))\n",
    "print ('T1 in sorted order', sorted(T1))"
   ]
  },
  {
   "cell_type": "markdown",
   "id": "9764fb9b",
   "metadata": {},
   "source": [
    "A comparison operator in Python can work with tuples. The comparison starts with a first element of each tuple."
   ]
  },
  {
   "cell_type": "code",
   "execution_count": 25,
   "id": "9cea072f",
   "metadata": {},
   "outputs": [
    {
     "name": "stdout",
     "output_type": "stream",
     "text": [
      "a is bigger\n"
     ]
    }
   ],
   "source": [
    "a=(5,6)\n",
    "b=(1,4,500)\n",
    "if (a>b):\n",
    "    print(\"a is bigger\")\n",
    "else: \n",
    "    print(\"b is bigger\")"
   ]
  },
  {
   "cell_type": "code",
   "execution_count": 26,
   "id": "e9882764",
   "metadata": {},
   "outputs": [
    {
     "name": "stdout",
     "output_type": "stream",
     "text": [
      "a is bigger\n"
     ]
    }
   ],
   "source": [
    "a=(5,6)\n",
    "b=(5,4)\n",
    "if (a>b):print(\"a is bigger\")\n",
    "else: print (\"b is bigger\")"
   ]
  },
  {
   "cell_type": "code",
   "execution_count": 27,
   "id": "d233b7fb",
   "metadata": {},
   "outputs": [
    {
     "name": "stdout",
     "output_type": "stream",
     "text": [
      "b is bigger\n"
     ]
    }
   ],
   "source": [
    "a=(5,6)\n",
    "b=(6,4)\n",
    "if (a>b):print(\"a is bigger\")\n",
    "else: print(\"b is bigger\")"
   ]
  },
  {
   "cell_type": "markdown",
   "id": "c89c2eb0",
   "metadata": {},
   "source": [
    "# Packing and Unpacking a Tuple"
   ]
  },
  {
   "cell_type": "markdown",
   "id": "71bf1b89",
   "metadata": {},
   "source": [
    "n Python, there is a very powerful tuple assignment feature that assigns the right-hand side of values into the left-hand side. In another way, it is called unpacking of a tuple of values into a variable. In packing, we put values into a new tuple while in unpacking we extract those values into a single variable."
   ]
  },
  {
   "cell_type": "code",
   "execution_count": 26,
   "id": "28a6d9b8",
   "metadata": {},
   "outputs": [
    {
     "name": "stdout",
     "output_type": "stream",
     "text": [
      "Chitkara University\n",
      "10000\n",
      "Engineering\n"
     ]
    }
   ],
   "source": [
    "# this lines PACKS values into variable a\n",
    "a = (\"Chitkara University\",10000, \"Engineering\") \n",
    " \n",
    "# this lines UNPACKS values of variable a\n",
    "(college, student, type_ofcollege) = a \n",
    " \n",
    "# print college name\n",
    "print(college)\n",
    " \n",
    "# print no of student\n",
    "print(student)\n",
    " \n",
    "# print type of college\n",
    "print(type_ofcollege)"
   ]
  },
  {
   "cell_type": "code",
   "execution_count": 29,
   "id": "97ce3210",
   "metadata": {},
   "outputs": [
    {
     "name": "stdout",
     "output_type": "stream",
     "text": [
      "Ramesh 2119876\n"
     ]
    }
   ],
   "source": [
    "student=(\"Ramesh\",\"I year\", \"G16\", 2119876)\n",
    "(name,year,group,roll)=student\n",
    "\n",
    "print(name,roll)"
   ]
  },
  {
   "cell_type": "markdown",
   "id": "206bef42",
   "metadata": {},
   "source": [
    "NOTE : In unpacking of tuple number of variables on left-hand side should be equal to number of values in given tuple a.\n",
    "Python uses a special syntax to pass optional arguments (*args) for tuple unpacking. This means that there can be many number of arguments in place of (*args) in python. All values will be assigned to every variable on the left-hand side and all remaining values will be assigned to *args ."
   ]
  },
  {
   "cell_type": "code",
   "execution_count": 31,
   "id": "5df76439",
   "metadata": {},
   "outputs": [
    {
     "name": "stdout",
     "output_type": "stream",
     "text": [
      "10\n",
      "['Chitkara ', ' University ', 'Punjab ']\n",
      "50\n"
     ]
    }
   ],
   "source": [
    "# first and last will be assigned to x and z remaining will be assigned to y\n",
    "x, *y, z = (10, \"Chitkara \",\" University \", \"Punjab \",  50)\n",
    " \n",
    "# print details\n",
    "print(x)\n",
    "print(y)\n",
    "print(z)\n",
    " "
   ]
  },
  {
   "cell_type": "code",
   "execution_count": 32,
   "id": "a5f1c6f5",
   "metadata": {},
   "outputs": [
    {
     "name": "stdout",
     "output_type": "stream",
     "text": [
      "10\n",
      "['Chitkara ', ' University ', 'Punjab ', 50]\n"
     ]
    }
   ],
   "source": [
    "x, *y = (10, \"Chitkara \",\" University \", \"Punjab \",  50)\n",
    " \n",
    "# print details\n",
    "print(x)\n",
    "print(y)\n"
   ]
  },
  {
   "cell_type": "code",
   "execution_count": 30,
   "id": "1df8da18",
   "metadata": {},
   "outputs": [
    {
     "name": "stdout",
     "output_type": "stream",
     "text": [
      "10\n",
      "Chitkara \n",
      "[' University ', 'Punjab ', 50]\n"
     ]
    }
   ],
   "source": [
    "# first and second will be assigned to x and y remaining will be assigned to z\n",
    "x, y, *z = (10, \"Chitkara \", \" University \", \"Punjab \", 50)\n",
    "print(x)\n",
    "print(y)\n",
    "print(z)"
   ]
  },
  {
   "cell_type": "raw",
   "id": "d521aae0",
   "metadata": {},
   "source": [
    "Write a Python program to compute element-wise sum of given tuples.\n",
    "Original tuples:\n",
    "(1, 2, 3, 4)\n",
    "(3, 5, 2, 1)\n",
    "(2, 2, 3, 1)\n",
    "Element-wise sum of the said tuples:\n",
    "(6, 9, 8, 6)"
   ]
  },
  {
   "cell_type": "code",
   "execution_count": 35,
   "id": "f8e7695b",
   "metadata": {},
   "outputs": [
    {
     "name": "stdout",
     "output_type": "stream",
     "text": [
      "Original tuples:\n",
      "(1, 2, 3, 4)\n",
      "(3, 5, 2, 1)\n",
      "(2, 2, 3, 1)\n",
      "\n",
      "Element-wise sum of the said tuples:\n",
      "(6, 9, 8, 6)\n"
     ]
    }
   ],
   "source": [
    "x = (1,2,3,4)\n",
    "y = (3,5,2,1)\n",
    "z = (2,2,3,1)\n",
    "print(\"Original tuples:\")\n",
    "print(x)\n",
    "print(y)\n",
    "print(z)\n",
    "print(\"\\nElement-wise sum of the said tuples:\")\n",
    "result = tuple(x[i]+y[i]+z[i] for i in range(0,4))\n",
    "print(result)"
   ]
  },
  {
   "cell_type": "raw",
   "id": "329af7a5",
   "metadata": {},
   "source": [
    "Write a Python program to compute the sum of all the elements of each tuple stored inside a list of tuples.\n",
    "Original list of tuples:\n",
    "[(1, 2), (2, 3), (3, 4)]\n",
    "Sum of all the elements of each tuple stored inside the said list of tuples:\n",
    "[3, 5, 7]"
   ]
  },
  {
   "cell_type": "code",
   "execution_count": 33,
   "id": "18a4f2a6",
   "metadata": {},
   "outputs": [
    {
     "name": "stdout",
     "output_type": "stream",
     "text": [
      "Original list of tuples:\n",
      "[(1, 2), (2, 3), (3, 4)]\n",
      "\n",
      "Sum of all the elements of each tuple stored inside the said list of tuples:\n",
      "[3, 5, 7]\n"
     ]
    }
   ],
   "source": [
    "def test(lst):\n",
    "    result =  map(sum, lst)\n",
    "    return list(result)\n",
    "\n",
    "nums = [(1,2), (2,3), (3,4)]\n",
    "print(\"Original list of tuples:\")\n",
    "print(nums)\n",
    "print(\"\\nSum of all the elements of each tuple stored inside the said list of tuples:\")\n",
    "print(test(nums))"
   ]
  },
  {
   "cell_type": "raw",
   "id": "a1424629",
   "metadata": {},
   "source": [
    "Write a Python program to convert a given list of tuples to a list of lists.\n",
    "Original list of tuples: [(1, 2), (2, 3), (3, 4)]\n",
    "Convert the said list of tuples to a list of lists: [[1, 2], [2, 3], [3, 4]]"
   ]
  },
  {
   "cell_type": "code",
   "execution_count": 34,
   "id": "c9b3204a",
   "metadata": {},
   "outputs": [
    {
     "name": "stdout",
     "output_type": "stream",
     "text": [
      "Original list of tuples:\n",
      "[(1, 2), (2, 3), (3, 4)]\n",
      "Convert the said list of tuples to a list of lists:\n",
      "[[1, 2], [2, 3], [3, 4]]\n"
     ]
    }
   ],
   "source": [
    "def abc(lst_tuples):\n",
    "    result = [list(el) for el in lst_tuples]\n",
    "    return result\n",
    "lst_tuples = [(1,2), (2,3), (3,4)]\n",
    "print(\"Original list of tuples:\")\n",
    "print(lst_tuples)\n",
    "print(\"Convert the said list of tuples to a list of lists:\")\n",
    "print(abc(lst_tuples))"
   ]
  },
  {
   "cell_type": "code",
   "execution_count": 36,
   "id": "6a7bbc3d",
   "metadata": {},
   "outputs": [
    {
     "name": "stdout",
     "output_type": "stream",
     "text": [
      "x*x*x\n",
      "3\n",
      "27\n"
     ]
    }
   ],
   "source": [
    "s=input()\n",
    "x=int(input())\n",
    "print(eval(s))"
   ]
  },
  {
   "cell_type": "code",
   "execution_count": 37,
   "id": "2d0e242b",
   "metadata": {},
   "outputs": [
    {
     "name": "stdout",
     "output_type": "stream",
     "text": [
      "1,2,3,4\n",
      "1,2,3,4\n"
     ]
    }
   ],
   "source": [
    "l=input()\n",
    "print(l)"
   ]
  },
  {
   "cell_type": "code",
   "execution_count": null,
   "id": "8b807753",
   "metadata": {},
   "outputs": [],
   "source": []
  }
 ],
 "metadata": {
  "kernelspec": {
   "display_name": "Python 3 (ipykernel)",
   "language": "python",
   "name": "python3"
  },
  "language_info": {
   "codemirror_mode": {
    "name": "ipython",
    "version": 3
   },
   "file_extension": ".py",
   "mimetype": "text/x-python",
   "name": "python",
   "nbconvert_exporter": "python",
   "pygments_lexer": "ipython3",
   "version": "3.9.7"
  }
 },
 "nbformat": 4,
 "nbformat_minor": 5
}
