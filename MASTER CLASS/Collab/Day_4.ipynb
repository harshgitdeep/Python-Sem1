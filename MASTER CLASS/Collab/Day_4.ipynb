{
  "nbformat": 4,
  "nbformat_minor": 0,
  "metadata": {
    "colab": {
      "name": "Day 4.ipynb",
      "provenance": [],
      "collapsed_sections": []
    },
    "kernelspec": {
      "name": "python3",
      "display_name": "Python 3"
    },
    "language_info": {
      "name": "python"
    }
  },
  "cells": [
    {
      "cell_type": "markdown",
      "metadata": {
        "id": "ZvRIrMHbehWW"
      },
      "source": [
        "**Operators Revisited**\n",
        "\n",
        "\n",
        "\n",
        "*   Arithmetic Operators\n",
        "*   Comparison (Relational) Operators\n",
        "*   Logical Operators\n",
        "*   Membership Operators\n",
        "*   Identity Operators\n",
        "\n"
      ]
    },
    {
      "cell_type": "code",
      "metadata": {
        "colab": {
          "base_uri": "https://localhost:8080/"
        },
        "id": "GH1j19L56xk-",
        "outputId": "69e0e3f2-7e27-4267-da76-13c5919d890c"
      },
      "source": [
        "11/3"
      ],
      "execution_count": null,
      "outputs": [
        {
          "output_type": "execute_result",
          "data": {
            "text/plain": [
              "3.6666666666666665"
            ]
          },
          "metadata": {},
          "execution_count": 22
        }
      ]
    },
    {
      "cell_type": "code",
      "metadata": {
        "colab": {
          "base_uri": "https://localhost:8080/"
        },
        "id": "dXOKbY7ROcV9",
        "outputId": "c194dbaa-7a57-4354-a7ea-4754ed67df47"
      },
      "source": [
        "c=11/3\n",
        "d=15/9\n",
        "print(\"Result up to 2 decimal Places %8.2f  %5.3f %5d\" %(c,d, c) )     "
      ],
      "execution_count": null,
      "outputs": [
        {
          "output_type": "stream",
          "name": "stdout",
          "text": [
            "Result up to 2 decimal Places     3.67  1.667     3\n"
          ]
        }
      ]
    },
    {
      "cell_type": "code",
      "metadata": {
        "colab": {
          "base_uri": "https://localhost:8080/"
        },
        "id": "yDcv_btJeMK0",
        "outputId": "e924e8d9-085f-45a3-d585-26998c109fbd"
      },
      "source": [
        "print (\"11/3= %6f  %6.4f\" %(11/3,11/3))"
      ],
      "execution_count": null,
      "outputs": [
        {
          "output_type": "stream",
          "name": "stdout",
          "text": [
            "11/3= 3.666667  3.6667\n"
          ]
        }
      ]
    },
    {
      "cell_type": "markdown",
      "metadata": {
        "id": "ZhHBwP1Q_ydA"
      },
      "source": [
        "**The Placeholders**"
      ]
    },
    {
      "cell_type": "code",
      "metadata": {
        "colab": {
          "base_uri": "https://localhost:8080/"
        },
        "id": "pW2U9n1K-8P8",
        "outputId": "aadedfa5-a1b0-47f0-de42-85bf09849834"
      },
      "source": [
        "txt1 = \"My name is {fname}, I'm {age}\".format(fname = \"John\", age = 36)\n",
        "txt2 = \"My name is {0}, I'm {1}\".format(\"John\",36)\n",
        "txt3 = \"My name is {}, I'm {}\".format(\"John\",36)\n",
        "print(txt1)\n",
        "print(txt2)\n",
        "print(txt3)"
      ],
      "execution_count": null,
      "outputs": [
        {
          "output_type": "stream",
          "name": "stdout",
          "text": [
            "My name is John, I'm 36\n",
            "My name is John, I'm 36\n",
            "My name is John, I'm 36\n"
          ]
        }
      ]
    },
    {
      "cell_type": "code",
      "metadata": {
        "id": "dNst_vPDACH5"
      },
      "source": [
        "txt = \"The price is {:.2f} dollars.\"\n",
        "print(txt.format(45))\n",
        "\n",
        "\n",
        "\n",
        "txt = \"The price is {:f} dollars.\"\n",
        "print(txt.format(45))"
      ],
      "execution_count": null,
      "outputs": []
    },
    {
      "cell_type": "code",
      "metadata": {
        "colab": {
          "base_uri": "https://localhost:8080/"
        },
        "id": "poIyxxlygZxI",
        "outputId": "23a79c48-fd1d-4853-b512-dd0ae2f32aaf"
      },
      "source": [
        "11//3"
      ],
      "execution_count": null,
      "outputs": [
        {
          "output_type": "execute_result",
          "data": {
            "text/plain": [
              "3"
            ]
          },
          "metadata": {},
          "execution_count": 3
        }
      ]
    },
    {
      "cell_type": "code",
      "metadata": {
        "colab": {
          "base_uri": "https://localhost:8080/"
        },
        "id": "8oNZuvsKgfJj",
        "outputId": "620a9de7-318b-4e45-9b8c-9f9434ed9ef6"
      },
      "source": [
        "-11/3"
      ],
      "execution_count": null,
      "outputs": [
        {
          "output_type": "execute_result",
          "data": {
            "text/plain": [
              "-3.6666666666666665"
            ]
          },
          "metadata": {},
          "execution_count": 4
        }
      ]
    },
    {
      "cell_type": "code",
      "metadata": {
        "colab": {
          "base_uri": "https://localhost:8080/"
        },
        "id": "OF7CcosPghh8",
        "outputId": "3b82020e-d2df-4a36-e17d-1682939957c8"
      },
      "source": [
        "-11//3"
      ],
      "execution_count": null,
      "outputs": [
        {
          "output_type": "execute_result",
          "data": {
            "text/plain": [
              "-4"
            ]
          },
          "metadata": {},
          "execution_count": 29
        }
      ]
    },
    {
      "cell_type": "code",
      "metadata": {
        "colab": {
          "base_uri": "https://localhost:8080/"
        },
        "id": "Ff7yhBA1gl4F",
        "outputId": "75e91949-771a-498a-926c-d1a3ec3b24fc"
      },
      "source": [
        "11//-3"
      ],
      "execution_count": null,
      "outputs": [
        {
          "output_type": "execute_result",
          "data": {
            "text/plain": [
              "-4"
            ]
          },
          "metadata": {},
          "execution_count": 6
        }
      ]
    },
    {
      "cell_type": "code",
      "metadata": {
        "colab": {
          "base_uri": "https://localhost:8080/"
        },
        "id": "Qd_iDbufguco",
        "outputId": "62ac793f-0d98-49b0-96a5-663aef05957a"
      },
      "source": [
        "-11//-3"
      ],
      "execution_count": null,
      "outputs": [
        {
          "output_type": "execute_result",
          "data": {
            "text/plain": [
              "3"
            ]
          },
          "metadata": {},
          "execution_count": 7
        }
      ]
    },
    {
      "cell_type": "code",
      "metadata": {
        "colab": {
          "base_uri": "https://localhost:8080/"
        },
        "id": "QDgGdtQlgw1x",
        "outputId": "b733b16b-cd60-4007-c4f0-712b84cbd631"
      },
      "source": [
        "11.5//3\n"
      ],
      "execution_count": null,
      "outputs": [
        {
          "output_type": "execute_result",
          "data": {
            "text/plain": [
              "3.0"
            ]
          },
          "metadata": {},
          "execution_count": 8
        }
      ]
    },
    {
      "cell_type": "code",
      "metadata": {
        "colab": {
          "base_uri": "https://localhost:8080/"
        },
        "id": "RmD90hdkhFaE",
        "outputId": "bf1804bc-6cda-4dd6-ec8b-57169b0074fd"
      },
      "source": [
        "15.5//3.5"
      ],
      "execution_count": null,
      "outputs": [
        {
          "output_type": "execute_result",
          "data": {
            "text/plain": [
              "4.0"
            ]
          },
          "metadata": {},
          "execution_count": 10
        }
      ]
    },
    {
      "cell_type": "markdown",
      "metadata": {
        "id": "TWFKJxH_k4Dc"
      },
      "source": [
        "**Comparison (Relational) Operators**"
      ]
    },
    {
      "cell_type": "code",
      "metadata": {
        "id": "TbUCTgnohNWz"
      },
      "source": [
        "x = 10\n",
        "y = 12"
      ],
      "execution_count": null,
      "outputs": []
    },
    {
      "cell_type": "code",
      "metadata": {
        "colab": {
          "base_uri": "https://localhost:8080/"
        },
        "id": "uHnzUYszmXQ1",
        "outputId": "592fb3d9-cc46-49b2-b501-c9ef826dd27f"
      },
      "source": [
        "print(x,y)"
      ],
      "execution_count": null,
      "outputs": [
        {
          "output_type": "stream",
          "name": "stdout",
          "text": [
            "10 12\n"
          ]
        }
      ]
    },
    {
      "cell_type": "code",
      "metadata": {
        "colab": {
          "base_uri": "https://localhost:8080/"
        },
        "id": "Rmxy-qfplYN6",
        "outputId": "6c9c1083-03c5-43b3-adf9-1579b6551d7a"
      },
      "source": [
        "print('x > y is',x>y)"
      ],
      "execution_count": null,
      "outputs": [
        {
          "output_type": "stream",
          "name": "stdout",
          "text": [
            "x > y is False\n"
          ]
        }
      ]
    },
    {
      "cell_type": "code",
      "metadata": {
        "colab": {
          "base_uri": "https://localhost:8080/"
        },
        "id": "4JRYPJ0clZ56",
        "outputId": "92a67db5-14c4-4822-b6c7-9298b646f933"
      },
      "source": [
        "print('x < y is',x<y)"
      ],
      "execution_count": null,
      "outputs": [
        {
          "output_type": "stream",
          "name": "stdout",
          "text": [
            "x < y is True\n"
          ]
        }
      ]
    },
    {
      "cell_type": "code",
      "metadata": {
        "colab": {
          "base_uri": "https://localhost:8080/"
        },
        "id": "Mw0Rn63qldiL",
        "outputId": "c53aeb54-ceb7-4b54-b0c3-bc090dba4c73"
      },
      "source": [
        "print('x == y is',x==y)"
      ],
      "execution_count": null,
      "outputs": [
        {
          "output_type": "stream",
          "name": "stdout",
          "text": [
            "x == y is False\n"
          ]
        }
      ]
    },
    {
      "cell_type": "code",
      "metadata": {
        "colab": {
          "base_uri": "https://localhost:8080/"
        },
        "id": "AU-mcyRdlmed",
        "outputId": "b8ef70c8-0f1d-48b1-b29f-a58bab8f81b5"
      },
      "source": [
        "print('x != y is',x!=y)"
      ],
      "execution_count": null,
      "outputs": [
        {
          "output_type": "stream",
          "name": "stdout",
          "text": [
            "x != y is True\n"
          ]
        }
      ]
    },
    {
      "cell_type": "code",
      "metadata": {
        "colab": {
          "base_uri": "https://localhost:8080/"
        },
        "id": "xse_tj7ylqKe",
        "outputId": "cc0ab315-f3de-4ef6-d77b-039f8b207586"
      },
      "source": [
        "print('x >= y is',x>=y)"
      ],
      "execution_count": null,
      "outputs": [
        {
          "output_type": "stream",
          "name": "stdout",
          "text": [
            "x >= y is False\n"
          ]
        }
      ]
    },
    {
      "cell_type": "code",
      "metadata": {
        "colab": {
          "base_uri": "https://localhost:8080/"
        },
        "id": "53EBIPmmlvAQ",
        "outputId": "85702a38-42ec-4dec-9f22-4de8da861031"
      },
      "source": [
        "print('x <= y is',x<=y)"
      ],
      "execution_count": null,
      "outputs": [
        {
          "output_type": "stream",
          "name": "stdout",
          "text": [
            "x <= y is True\n"
          ]
        }
      ]
    },
    {
      "cell_type": "markdown",
      "metadata": {
        "id": "ekopPmiJmLLT"
      },
      "source": [
        "**Logical Operators**"
      ]
    },
    {
      "cell_type": "code",
      "metadata": {
        "colab": {
          "base_uri": "https://localhost:8080/"
        },
        "id": "JnZt6ZI8l9al",
        "outputId": "c7493989-3943-4fb8-e91d-8ef204fc5d57"
      },
      "source": [
        "x = True\n",
        "y = False\n",
        "\n",
        "print('x and y is',x and y)\n",
        "\n",
        "print('x or y is',x or y)\n",
        "\n",
        "print('not x is',not x)"
      ],
      "execution_count": null,
      "outputs": [
        {
          "output_type": "stream",
          "name": "stdout",
          "text": [
            "x and y is False\n",
            "x or y is True\n",
            "not x is False\n"
          ]
        }
      ]
    },
    {
      "cell_type": "markdown",
      "metadata": {
        "id": "JHIJu5xHmv6o"
      },
      "source": [
        "**Identity operators**"
      ]
    },
    {
      "cell_type": "code",
      "metadata": {
        "colab": {
          "base_uri": "https://localhost:8080/"
        },
        "id": "mMQZi8lNmviL",
        "outputId": "596bec7b-e534-4748-afbb-cd462d5c7123"
      },
      "source": [
        "x1 = 5\n",
        "y1 = 5\n",
        "x2 = 'Hello'\n",
        "y2 = 'Hello'\n",
        "x3 = [1,2,3]\n",
        "y3 = [1,2,3]\n",
        "\n",
        "\n",
        "print(x1 is not y1)\n",
        "\n",
        "\n",
        "print(x2 is y2)\n",
        "\n",
        "\n",
        "print(x3 == y3)"
      ],
      "execution_count": null,
      "outputs": [
        {
          "output_type": "stream",
          "name": "stdout",
          "text": [
            "False\n",
            "True\n",
            "True\n"
          ]
        }
      ]
    },
    {
      "cell_type": "markdown",
      "metadata": {
        "id": "Szo5bhmzoD_g"
      },
      "source": [
        "Here, we see that x1 and y1 are integers of the same values, so they are equal as well as identical. Same is the case with x2 and y2 (strings). x3 and y3 are lists. They are equal but not identical. It is because the interpreter locates them separately in memory although they are equal."
      ]
    },
    {
      "cell_type": "code",
      "metadata": {
        "id": "XsrwOaaHprux"
      },
      "source": [
        ""
      ],
      "execution_count": null,
      "outputs": []
    },
    {
      "cell_type": "markdown",
      "metadata": {
        "id": "8M8g-HAuo5Ni"
      },
      "source": [
        "**Operators Precedence**\n",
        "\n",
        "\n",
        "Sr.No.          \t    Operator & Description\n",
        "1\t                      **    Exponentiation (raise to the power)\n",
        "\n",
        "2\t            - unary minus \n",
        "\n",
        "3\t* / % //   Multiply, divide, modulo and floor division\n",
        "\n",
        "4\t+ -   Addition and subtraction\n",
        "\n",
        "\t\n",
        "5 <= < > >=   Comparison operators\n",
        "\n",
        "6\t== != Equality operators\n",
        "\n",
        "7 = %= /= //= -= += *= **= Assignment operators\n",
        "\n",
        "8 is is not Identity operators\n",
        "\n",
        "9\tin not in Membership operators\n",
        "\n",
        "10\tnot or and Logical operators"
      ]
    },
    {
      "cell_type": "markdown",
      "metadata": {
        "id": "lyurKFqDFqtJ"
      },
      "source": [
        "***Expression Examples***"
      ]
    },
    {
      "cell_type": "code",
      "metadata": {
        "colab": {
          "base_uri": "https://localhost:8080/"
        },
        "id": "442_dADSFv4B",
        "outputId": "b0eeaf61-66e9-4d29-a557-2d757a8f73f0"
      },
      "source": [
        "2**3**2\n"
      ],
      "execution_count": null,
      "outputs": [
        {
          "output_type": "execute_result",
          "data": {
            "text/plain": [
              "512"
            ]
          },
          "metadata": {},
          "execution_count": 17
        }
      ]
    },
    {
      "cell_type": "code",
      "metadata": {
        "id": "FEkwQhWpG3mA"
      },
      "source": [
        ""
      ],
      "execution_count": null,
      "outputs": []
    },
    {
      "cell_type": "markdown",
      "metadata": {
        "id": "yQxTg_qV_ZFC"
      },
      "source": [
        "**Type Conversion**\n",
        "The process of converting the value of one data type (integer, string, float, etc.) to another data type is called type conversion. Python has two types of type conversion.\n",
        "\n",
        "\n",
        "*   Implicit Type Conversion\n",
        "*   Explicit Type Conversion\n",
        "\n",
        "\n",
        "\n"
      ]
    },
    {
      "cell_type": "markdown",
      "metadata": {
        "id": "6EDS_dbFBmYg"
      },
      "source": [
        "**Implicit Type Conversion**\n",
        "In Implicit type conversion, Python automatically converts one data type to another data type. This process doesn't need any user involvement. Python always converts smaller data types to larger data types to avoid the loss of data."
      ]
    },
    {
      "cell_type": "code",
      "metadata": {
        "colab": {
          "base_uri": "https://localhost:8080/"
        },
        "id": "KRL2NV5qBtC4",
        "outputId": "cc8cc44d-78f4-462b-8aed-8f62eea119ab"
      },
      "source": [
        "num_int = 123\n",
        "num_flo = 1.23\n",
        "\n",
        "num_new = num_int + num_flo\n",
        "\n",
        "print(\"datatype of num_int:\",type(num_int))\n",
        "print(\"datatype of num_flo:\",type(num_flo))\n",
        "\n",
        "print(\"Value of num_new:\",num_new)\n",
        "print(\"datatype of num_new:\",type(num_new))"
      ],
      "execution_count": null,
      "outputs": [
        {
          "output_type": "stream",
          "name": "stdout",
          "text": [
            "datatype of num_int: <class 'int'>\n",
            "datatype of num_flo: <class 'float'>\n",
            "Value of num_new: 124.23\n",
            "datatype of num_new: <class 'float'>\n"
          ]
        }
      ]
    },
    {
      "cell_type": "code",
      "metadata": {
        "id": "MFW5CTfwmRBf",
        "colab": {
          "base_uri": "https://localhost:8080/",
          "height": 244
        },
        "outputId": "3916bbe7-3b42-4602-bf67-751ca1bee461"
      },
      "source": [
        "num_int = 123\n",
        "num_str = \"456\"\n",
        "\n",
        "print(\"Data type of num_int:\",type(num_int))\n",
        "print(\"Data type of num_str:\",type(num_str))\n",
        "\n",
        "print(num_int+num_str)"
      ],
      "execution_count": null,
      "outputs": [
        {
          "output_type": "stream",
          "name": "stdout",
          "text": [
            "Data type of num_int: <class 'int'>\n",
            "Data type of num_str: <class 'str'>\n"
          ]
        },
        {
          "output_type": "error",
          "ename": "TypeError",
          "evalue": "ignored",
          "traceback": [
            "\u001b[0;31m---------------------------------------------------------------------------\u001b[0m",
            "\u001b[0;31mTypeError\u001b[0m                                 Traceback (most recent call last)",
            "\u001b[0;32m<ipython-input-7-6e3c0f0ba491>\u001b[0m in \u001b[0;36m<module>\u001b[0;34m()\u001b[0m\n\u001b[1;32m      5\u001b[0m \u001b[0mprint\u001b[0m\u001b[0;34m(\u001b[0m\u001b[0;34m\"Data type of num_str:\"\u001b[0m\u001b[0;34m,\u001b[0m\u001b[0mtype\u001b[0m\u001b[0;34m(\u001b[0m\u001b[0mnum_str\u001b[0m\u001b[0;34m)\u001b[0m\u001b[0;34m)\u001b[0m\u001b[0;34m\u001b[0m\u001b[0;34m\u001b[0m\u001b[0m\n\u001b[1;32m      6\u001b[0m \u001b[0;34m\u001b[0m\u001b[0m\n\u001b[0;32m----> 7\u001b[0;31m \u001b[0mprint\u001b[0m\u001b[0;34m(\u001b[0m\u001b[0mnum_int\u001b[0m\u001b[0;34m+\u001b[0m\u001b[0mnum_str\u001b[0m\u001b[0;34m)\u001b[0m\u001b[0;34m\u001b[0m\u001b[0;34m\u001b[0m\u001b[0m\n\u001b[0m",
            "\u001b[0;31mTypeError\u001b[0m: unsupported operand type(s) for +: 'int' and 'str'"
          ]
        }
      ]
    },
    {
      "cell_type": "markdown",
      "metadata": {
        "id": "ZH1igPVECcnD"
      },
      "source": [
        "**Explicit Type Conversion**\n",
        "In Explicit Type Conversion, users convert the data type of an object to required data type. We use the predefined functions like int(), float(), str(), etc to perform explicit type conversion.\n",
        "\n",
        "1. int(a): This function converts any data type to integer. \n",
        "2. float(): This function is used to convert any data type to a floating-point number "
      ]
    },
    {
      "cell_type": "code",
      "metadata": {
        "id": "QXdk7jo5pbDq",
        "colab": {
          "base_uri": "https://localhost:8080/"
        },
        "outputId": "31758aca-f790-4218-f5cc-b1b0c3c1ff1c"
      },
      "source": [
        "s = \"10010\"\n",
        " \n",
        "# printing string converting to int\n",
        "c = int(s)\n",
        "print (\"After converting to integer\")\n",
        "print (c, \"Its type is \",type(c))\n",
        " \n",
        "# printing string converting to float\n",
        "e = float(s)\n",
        "print (\"After converting to float : \")\n",
        "print (e, \"Its type is \",type(e))"
      ],
      "execution_count": null,
      "outputs": [
        {
          "output_type": "stream",
          "name": "stdout",
          "text": [
            "After converting to integer\n",
            "10010 Its type is  <class 'int'>\n",
            "After converting to float : \n",
            "10010.0 Its type is  <class 'float'>\n"
          ]
        }
      ]
    },
    {
      "cell_type": "code",
      "metadata": {
        "colab": {
          "base_uri": "https://localhost:8080/"
        },
        "id": "ApKJUmIk_-sZ",
        "outputId": "199e8ad0-6a42-47b6-a3ef-f4c14f3af1ab"
      },
      "source": [
        "# Convert ASCII value to characters\n",
        "a = chr(76)\n",
        "b = chr(77)\n",
        " \n",
        "print(a)\n",
        "print(b)"
      ],
      "execution_count": null,
      "outputs": [
        {
          "output_type": "stream",
          "name": "stdout",
          "text": [
            "L\n",
            "M\n"
          ]
        }
      ]
    },
    {
      "cell_type": "code",
      "metadata": {
        "id": "CufCjQoMA8-k",
        "colab": {
          "base_uri": "https://localhost:8080/"
        },
        "outputId": "cbb8028e-7393-4829-f9d9-d3d5bc7052fb"
      },
      "source": [
        "17/5"
      ],
      "execution_count": null,
      "outputs": [
        {
          "output_type": "execute_result",
          "data": {
            "text/plain": [
              "3.4"
            ]
          },
          "metadata": {},
          "execution_count": 30
        }
      ]
    },
    {
      "cell_type": "code",
      "metadata": {
        "colab": {
          "base_uri": "https://localhost:8080/"
        },
        "id": "0S2My-v4Q2Qe",
        "outputId": "986a9ce4-0b82-4bdd-ef90-fdf2077159ec"
      },
      "source": [
        "-17/5"
      ],
      "execution_count": null,
      "outputs": [
        {
          "output_type": "execute_result",
          "data": {
            "text/plain": [
              "-3.4"
            ]
          },
          "metadata": {},
          "execution_count": 31
        }
      ]
    },
    {
      "cell_type": "code",
      "metadata": {
        "colab": {
          "base_uri": "https://localhost:8080/"
        },
        "id": "29Bms_7OQ5Ly",
        "outputId": "11a848b5-1c62-4432-bdf8-f63c7217263a"
      },
      "source": [
        "17//5"
      ],
      "execution_count": null,
      "outputs": [
        {
          "output_type": "execute_result",
          "data": {
            "text/plain": [
              "3"
            ]
          },
          "metadata": {},
          "execution_count": 32
        }
      ]
    },
    {
      "cell_type": "code",
      "metadata": {
        "colab": {
          "base_uri": "https://localhost:8080/"
        },
        "id": "R0JeAuOfRFpS",
        "outputId": "29674b8f-9383-444b-ec19-690a8b679d7a"
      },
      "source": [
        "-17//5"
      ],
      "execution_count": null,
      "outputs": [
        {
          "output_type": "execute_result",
          "data": {
            "text/plain": [
              "-4"
            ]
          },
          "metadata": {},
          "execution_count": 33
        }
      ]
    },
    {
      "cell_type": "code",
      "metadata": {
        "id": "X8WBJN_SRT7s"
      },
      "source": [
        "a=10"
      ],
      "execution_count": null,
      "outputs": []
    },
    {
      "cell_type": "code",
      "metadata": {
        "colab": {
          "base_uri": "https://localhost:8080/"
        },
        "id": "3YLstNaGRoaN",
        "outputId": "638999d2-22f0-4306-e18c-777d54604d1e"
      },
      "source": [
        "print(a)"
      ],
      "execution_count": null,
      "outputs": [
        {
          "output_type": "stream",
          "name": "stdout",
          "text": [
            "10\n"
          ]
        }
      ]
    },
    {
      "cell_type": "code",
      "metadata": {
        "id": "5dRudXSVRqLX"
      },
      "source": [
        "a,b,c=10,20,30"
      ],
      "execution_count": null,
      "outputs": []
    },
    {
      "cell_type": "code",
      "metadata": {
        "colab": {
          "base_uri": "https://localhost:8080/"
        },
        "id": "tDhf8T5XSBbZ",
        "outputId": "a3189c92-544a-4ce7-ed67-1688d8764954"
      },
      "source": [
        "print(a,b,c)"
      ],
      "execution_count": null,
      "outputs": [
        {
          "output_type": "stream",
          "name": "stdout",
          "text": [
            "10 20 30\n"
          ]
        }
      ]
    },
    {
      "cell_type": "code",
      "metadata": {
        "colab": {
          "base_uri": "https://localhost:8080/"
        },
        "id": "m6fEcbNwSOPl",
        "outputId": "002a0225-2392-4a6d-d8c9-e189db4550c6"
      },
      "source": [
        "(5>6)"
      ],
      "execution_count": null,
      "outputs": [
        {
          "output_type": "execute_result",
          "data": {
            "text/plain": [
              "False"
            ]
          },
          "metadata": {},
          "execution_count": 39
        }
      ]
    },
    {
      "cell_type": "code",
      "metadata": {
        "colab": {
          "base_uri": "https://localhost:8080/"
        },
        "id": "8C_kWRSWSgDo",
        "outputId": "a280ba59-7939-4ddc-ed50-371232b7f29c"
      },
      "source": [
        "(5>4)*6"
      ],
      "execution_count": null,
      "outputs": [
        {
          "output_type": "execute_result",
          "data": {
            "text/plain": [
              "6"
            ]
          },
          "metadata": {},
          "execution_count": 40
        }
      ]
    },
    {
      "cell_type": "code",
      "metadata": {
        "id": "FEc90G3tSrzM"
      },
      "source": [
        "x=10-5\n",
        "y=-7"
      ],
      "execution_count": null,
      "outputs": []
    },
    {
      "cell_type": "code",
      "metadata": {
        "colab": {
          "base_uri": "https://localhost:8080/"
        },
        "id": "I1cQXsN3TYvf",
        "outputId": "7c0d044b-aa84-4a60-98a3-0a01d2808245"
      },
      "source": [
        "x=5*3**2%3+5\n",
        "print(x)"
      ],
      "execution_count": null,
      "outputs": [
        {
          "output_type": "stream",
          "name": "stdout",
          "text": [
            "5\n"
          ]
        }
      ]
    },
    {
      "cell_type": "code",
      "metadata": {
        "colab": {
          "base_uri": "https://localhost:8080/"
        },
        "id": "I3Ra9DluT_BX",
        "outputId": "ad25d3bb-9e44-4820-9db0-5a02f6a0b494"
      },
      "source": [
        "x=5*9%3+5\n",
        "print(x)"
      ],
      "execution_count": null,
      "outputs": [
        {
          "output_type": "stream",
          "name": "stdout",
          "text": [
            "5\n"
          ]
        }
      ]
    },
    {
      "cell_type": "code",
      "metadata": {
        "id": "pb8m3EMSUhSV"
      },
      "source": [
        "x=45%3+5  #x=0+5"
      ],
      "execution_count": null,
      "outputs": []
    },
    {
      "cell_type": "markdown",
      "metadata": {
        "id": "0wtY64pFUKDT"
      },
      "source": [
        "Associvity  Left to Right   Right to left"
      ]
    }
  ]
}