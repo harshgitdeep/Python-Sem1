{
 "cells": [
  {
   "cell_type": "markdown",
   "id": "4fd8d8a2",
   "metadata": {},
   "source": [
    "# Content"
   ]
  },
  {
   "cell_type": "markdown",
   "id": "09a32a77",
   "metadata": {},
   "source": [
    "1. Place Holders\n",
    "2. Formating inside Place holders\n",
    "3. Type Conversion\n",
    "4. Decision Making Excercises"
   ]
  },
  {
   "cell_type": "markdown",
   "id": "6a32b512",
   "metadata": {},
   "source": [
    "# Place Holders\n",
    "templatestring.format(val1, val2...)\n",
    "val1, val2 … : The values that need to replace in the given template string that has placeholders in the form of curly brackets {}. The placeholders can be a string, key/value pair, integers, floating-point numbers, characters, etc."
   ]
  },
  {
   "cell_type": "code",
   "execution_count": 5,
   "id": "9b1828ff",
   "metadata": {},
   "outputs": [
    {
     "name": "stdout",
     "output_type": "stream",
     "text": [
      "enter NameSuresh\n",
      "enter your age45\n",
      "Hello Mr. Suresh, You are 45 years old\n"
     ]
    }
   ],
   "source": [
    "st=input(\"enter Name\")\n",
    "age=input(\"enter your age\")\n",
    "print(\"Hello Mr. {}, You are {} years old\".format(st,age))"
   ]
  },
  {
   "cell_type": "code",
   "execution_count": 3,
   "id": "1ec40822",
   "metadata": {},
   "outputs": [
    {
     "name": "stdout",
     "output_type": "stream",
     "text": [
      "This is my Raj\n"
     ]
    }
   ],
   "source": [
    "\n",
    "print(\"This is my {fname}\".format(fname=\"Raj\"))"
   ]
  },
  {
   "cell_type": "code",
   "execution_count": 6,
   "id": "99df7ccf",
   "metadata": {},
   "outputs": [
    {
     "name": "stdout",
     "output_type": "stream",
     "text": [
      "Dr. Raj You are 45 years old\n"
     ]
    }
   ],
   "source": [
    "Firstname=\"Raj\"\n",
    "Age=45\n",
    "print(\"Dr. {name} You are {age} years old\".format(age=Age, name=Firstname))"
   ]
  },
  {
   "cell_type": "code",
   "execution_count": 7,
   "id": "bc36873c",
   "metadata": {},
   "outputs": [
    {
     "name": "stdout",
     "output_type": "stream",
     "text": [
      "Dr. Raj You are 45 years old\n"
     ]
    }
   ],
   "source": [
    "Firstname=\"Raj\"\n",
    "Age=45\n",
    "print(\"Dr. {0} You are {1} years old\".format(Firstname, Age))"
   ]
  },
  {
   "cell_type": "code",
   "execution_count": 10,
   "id": "7365ac45",
   "metadata": {},
   "outputs": [
    {
     "name": "stdout",
     "output_type": "stream",
     "text": [
      "Dr. Raj You are 45 years old\n"
     ]
    }
   ],
   "source": [
    "Firstname=\"Raj\"\n",
    "Age=45\n",
    "print(\"Dr. {} You are {} years old\".format(Firstname, Age))"
   ]
  },
  {
   "cell_type": "markdown",
   "id": "db8755e7",
   "metadata": {},
   "source": [
    "print(\"Dr. {} You are {} years old\".format(\"Raj\", 45))"
   ]
  },
  {
   "cell_type": "markdown",
   "id": "d59cc438",
   "metadata": {},
   "source": [
    "# Formatting inside Placeholders"
   ]
  },
  {
   "cell_type": "markdown",
   "id": "d9ff2573",
   "metadata": {},
   "source": [
    ":f\tThis will output a fixed-point number format. By default, you will get the output of any number with six decimal places. "
   ]
  },
  {
   "cell_type": "code",
   "execution_count": 10,
   "id": "b82f2c51",
   "metadata": {},
   "outputs": [
    {
     "name": "stdout",
     "output_type": "stream",
     "text": [
      "Value = 90.00\n"
     ]
    }
   ],
   "source": [
    "print(\"Value = {:.2f}\".format(90))"
   ]
  },
  {
   "cell_type": "code",
   "execution_count": 12,
   "id": "cb72000b",
   "metadata": {},
   "outputs": [
    {
     "name": "stdout",
     "output_type": "stream",
     "text": [
      "The value is : 40.000000\n"
     ]
    }
   ],
   "source": [
    "print(\"The value is : {:f}\".format(40))"
   ]
  },
  {
   "cell_type": "code",
   "execution_count": 11,
   "id": "c031659c",
   "metadata": {},
   "outputs": [
    {
     "name": "stdout",
     "output_type": "stream",
     "text": [
      "The value is : 40.000\n"
     ]
    }
   ],
   "source": [
    "print(\"The value is : {:.3f}\".format(40))"
   ]
  },
  {
   "cell_type": "code",
   "execution_count": 15,
   "id": "1aef6d30",
   "metadata": {},
   "outputs": [
    {
     "name": "stdout",
     "output_type": "stream",
     "text": [
      "The value is :          40.000\n"
     ]
    }
   ],
   "source": [
    "print(\"The value is : {:15.3f}\".format(40))"
   ]
  },
  {
   "cell_type": "markdown",
   "id": "14a053e3",
   "metadata": {},
   "source": [
    ":n\tThis will output number format."
   ]
  },
  {
   "cell_type": "code",
   "execution_count": 19,
   "id": "856a8f4c",
   "metadata": {},
   "outputs": [
    {
     "name": "stdout",
     "output_type": "stream",
     "text": [
      "The value is : 500\n"
     ]
    }
   ],
   "source": [
    "print(\"The value is : {:n}\".format(500.00))"
   ]
  },
  {
   "cell_type": "code",
   "execution_count": 20,
   "id": "a6341cf3",
   "metadata": {},
   "outputs": [
    {
     "name": "stdout",
     "output_type": "stream",
     "text": [
      "The value is :        500\n"
     ]
    }
   ],
   "source": [
    "print(\"The value is : {:10n}\".format(500.00))"
   ]
  },
  {
   "cell_type": "markdown",
   "id": "0d46df5a",
   "metadata": {},
   "source": [
    ":%\tThis will give the output in a percentage format."
   ]
  },
  {
   "cell_type": "code",
   "execution_count": 21,
   "id": "2dd49576",
   "metadata": {},
   "outputs": [
    {
     "name": "stdout",
     "output_type": "stream",
     "text": [
      "The value is : 80.000000%\n"
     ]
    }
   ],
   "source": [
    "print(\"The value is : {:%}\".format(0.80))"
   ]
  },
  {
   "cell_type": "markdown",
   "id": "9b00b98e",
   "metadata": {},
   "source": [
    ":,\tThis will output an , as a thousand separator."
   ]
  },
  {
   "cell_type": "code",
   "execution_count": 22,
   "id": "53d43eb9",
   "metadata": {},
   "outputs": [
    {
     "name": "stdout",
     "output_type": "stream",
     "text": [
      "The value is : 1,000,000\n"
     ]
    }
   ],
   "source": [
    "print(\"The value is : {:,}\".format(1000000))"
   ]
  },
  {
   "cell_type": "markdown",
   "id": "ddd2c3db",
   "metadata": {},
   "source": [
    ":+\tYou can use plus sign to indicate the number is positive"
   ]
  },
  {
   "cell_type": "code",
   "execution_count": 23,
   "id": "1f2cf1df",
   "metadata": {},
   "outputs": [
    {
     "name": "stdout",
     "output_type": "stream",
     "text": [
      "The value is: +40\n"
     ]
    }
   ],
   "source": [
    "print(\"The value is: {:+}\".format(40))"
   ]
  },
  {
   "cell_type": "code",
   "execution_count": 24,
   "id": "121f75d2",
   "metadata": {},
   "outputs": [
    {
     "name": "stdout",
     "output_type": "stream",
     "text": [
      "The value is: -40\n"
     ]
    }
   ],
   "source": [
    "print(\"The value is: {:-}\".format(-40))"
   ]
  },
  {
   "cell_type": "markdown",
   "id": "7234bf8f",
   "metadata": {},
   "source": [
    ":\tThis will add a space before any positive numbers"
   ]
  },
  {
   "cell_type": "code",
   "execution_count": 26,
   "id": "afe364b0",
   "metadata": {},
   "outputs": [
    {
     "name": "stdout",
     "output_type": "stream",
     "text": [
      "The value is:         40\n"
     ]
    }
   ],
   "source": [
    "print(\"The value is: {:10}\".format(40))"
   ]
  },
  {
   "cell_type": "markdown",
   "id": "d812ea01",
   "metadata": {},
   "source": [
    ":^\tThis will center align the final result\n",
    ":<\tThis will left align the final result"
   ]
  },
  {
   "cell_type": "code",
   "execution_count": 28,
   "id": "75476740",
   "metadata": {},
   "outputs": [
    {
     "name": "stdout",
     "output_type": "stream",
     "text": [
      "The value     40     is positive value\n"
     ]
    }
   ],
   "source": [
    "print(\"The value {:^10} is positive value\".format(40))"
   ]
  },
  {
   "cell_type": "code",
   "execution_count": 29,
   "id": "41b8a756",
   "metadata": {},
   "outputs": [
    {
     "name": "stdout",
     "output_type": "stream",
     "text": [
      "The value 40         is positive value\n"
     ]
    }
   ],
   "source": [
    "print(\"The value {:<10} is positive value\".format(40))"
   ]
  },
  {
   "cell_type": "markdown",
   "id": "043c572d",
   "metadata": {},
   "source": [
    ":>\tThis will right-align the final result"
   ]
  },
  {
   "cell_type": "code",
   "execution_count": 31,
   "id": "7c581653",
   "metadata": {},
   "outputs": [
    {
     "name": "stdout",
     "output_type": "stream",
     "text": [
      "The value         40 is positive value\n"
     ]
    }
   ],
   "source": [
    "print(\"The value {:>10} is positive value\".format(40))"
   ]
  },
  {
   "cell_type": "code",
   "execution_count": 31,
   "id": "e661d256",
   "metadata": {},
   "outputs": [
    {
     "name": "stdout",
     "output_type": "stream",
     "text": [
      "The value 40         is positive value\n"
     ]
    }
   ],
   "source": [
    "print(\"The value {:<10} is positive value\".format(40))"
   ]
  },
  {
   "cell_type": "markdown",
   "id": "111f2282",
   "metadata": {},
   "source": [
    "# Type Conversion "
   ]
  },
  {
   "cell_type": "markdown",
   "id": "34d005f1",
   "metadata": {},
   "source": [
    "The process of converting the value of one data type (integer, string, float, etc.) to another data type is called type conversion. Python has two types of type conversion.\n",
    "\n",
    "\n",
    "*   Implicit Type Conversion\n",
    "*   Explicit Type Conversion"
   ]
  },
  {
   "cell_type": "markdown",
   "id": "b225dc5d",
   "metadata": {},
   "source": [
    "**Implicit Type Conversion**\n",
    "In Implicit type conversion, Python automatically converts one data type to another data type. This process doesn't need any user involvement. Python always converts smaller data types to larger data types to avoid the loss of data."
   ]
  },
  {
   "cell_type": "code",
   "execution_count": 32,
   "id": "7f3213e0",
   "metadata": {},
   "outputs": [
    {
     "name": "stdout",
     "output_type": "stream",
     "text": [
      "datatype of num_int: <class 'int'>\n",
      "datatype of num_flo: <class 'float'>\n",
      "Value of num_new: 124.23\n",
      "datatype of num_new: <class 'float'>\n"
     ]
    }
   ],
   "source": [
    "num_int = 123\n",
    "num_flo = 1.23\n",
    "\n",
    "num_new = num_int + num_flo\n",
    "\n",
    "print(\"datatype of num_int:\",type(num_int))\n",
    "print(\"datatype of num_flo:\",type(num_flo))\n",
    "\n",
    "print(\"Value of num_new:\",num_new)\n",
    "print(\"datatype of num_new:\",type(num_new))"
   ]
  },
  {
   "cell_type": "code",
   "execution_count": null,
   "id": "89661e1f",
   "metadata": {},
   "outputs": [],
   "source": []
  },
  {
   "cell_type": "code",
   "execution_count": 36,
   "id": "636acbcd",
   "metadata": {},
   "outputs": [
    {
     "name": "stdout",
     "output_type": "stream",
     "text": [
      "Data type of num_int: <class 'int'>\n",
      "Data type of num_str: <class 'str'>\n",
      "579.0\n"
     ]
    }
   ],
   "source": [
    "num_int = 123\n",
    "num_str = \"456\"\n",
    "\n",
    "print(\"Data type of num_int:\",type(num_int))\n",
    "print(\"Data type of num_str:\",type(num_str))\n",
    "\n",
    "x=num_int+float(num_str)\n",
    "print(x)"
   ]
  },
  {
   "cell_type": "markdown",
   "id": "d38efbba",
   "metadata": {},
   "source": [
    "**Explicit Type Conversion**\n",
    "In Explicit Type Conversion, users convert the data type of an object to required data type. We use the predefined functions like int(), float(), str(), etc to perform explicit type conversion.\n",
    "\n",
    "1. int(a): This function converts any data type to integer. \n",
    "2. float(): This function is used to convert any data type to a floating-point number "
   ]
  },
  {
   "cell_type": "code",
   "execution_count": 36,
   "id": "529f86e8",
   "metadata": {},
   "outputs": [
    {
     "name": "stdout",
     "output_type": "stream",
     "text": [
      "After converting to integer\n",
      "10010 Its type is  <class 'int'>\n",
      "After converting to float : \n",
      "10010.0 Its type is  <class 'float'>\n"
     ]
    }
   ],
   "source": [
    "s = \"10010\"\n",
    " \n",
    "# printing string converting to int\n",
    "c = int(s)\n",
    "print (\"After converting to integer\")\n",
    "print (c, \"Its type is \",type(c))\n",
    " \n",
    "# printing string converting to float\n",
    "e = float(s)\n",
    "print (\"After converting to float : \")\n",
    "print (e, \"Its type is \",type(e))"
   ]
  },
  {
   "cell_type": "code",
   "execution_count": 38,
   "id": "6d584d6c",
   "metadata": {},
   "outputs": [
    {
     "name": "stdout",
     "output_type": "stream",
     "text": [
      "Ramesh10\n"
     ]
    }
   ],
   "source": [
    "a=\"Ramesh\"\n",
    "b=10\n",
    "print(a+str(b))"
   ]
  },
  {
   "cell_type": "code",
   "execution_count": 42,
   "id": "b07398a5",
   "metadata": {},
   "outputs": [
    {
     "name": "stdout",
     "output_type": "stream",
     "text": [
      "A\n",
      "M\n",
      "[\n"
     ]
    }
   ],
   "source": [
    "# Convert ASCII value to characters\n",
    "a = chr(65)\n",
    "b = chr(77)\n",
    "c=chr(91)\n",
    " \n",
    "print(a)\n",
    "print(b)\n",
    "print(c)"
   ]
  },
  {
   "cell_type": "markdown",
   "id": "da9faf19",
   "metadata": {},
   "source": [
    "# Decision Making Excercise"
   ]
  },
  {
   "cell_type": "markdown",
   "id": "275c33f0",
   "metadata": {},
   "source": [
    "**Question: Write a program to check whether the last digit of a number( entered by user ) is \n",
    "divisible by 3 or not.**"
   ]
  },
  {
   "cell_type": "code",
   "execution_count": 43,
   "id": "b336af00",
   "metadata": {},
   "outputs": [
    {
     "name": "stdout",
     "output_type": "stream",
     "text": [
      "Enter the number:34\n",
      "34 is not divisible by 3\n"
     ]
    }
   ],
   "source": [
    "n=int(input(\"Enter the number:\"))\n",
    "last=n%10\n",
    "\n",
    "if(last%3==0):\n",
    "    print(\"{} is divisible by 3\".format(n))\n",
    "else:\n",
    "    print(\"{} is not divisible by 3\".format(n))"
   ]
  },
  {
   "cell_type": "markdown",
   "id": "b3117195",
   "metadata": {},
   "source": [
    "**Question:Write a program to whether a number (accepted from user) is divisible by 2 and 3 both.**"
   ]
  },
  {
   "cell_type": "code",
   "execution_count": 46,
   "id": "a3c2fe22",
   "metadata": {},
   "outputs": [
    {
     "name": "stdout",
     "output_type": "stream",
     "text": [
      "Enter the number:21\n",
      "21 is not divisible by 2 and 3 both\n"
     ]
    }
   ],
   "source": [
    "n=int(input(\"Enter the number:\"))\n",
    "\n",
    "\n",
    "if(n%2==0 and n%3==0):\n",
    "    print(\"{} is divisible by 2 and 3 both\".format(n))\n",
    "else:\n",
    "    print(\"{} is not divisible by 2 and 3 both\".format(n))"
   ]
  },
  {
   "cell_type": "markdown",
   "id": "a68f18a8",
   "metadata": {},
   "source": [
    "**Question: Write a program to check a character is vowel or not.**"
   ]
  },
  {
   "cell_type": "code",
   "execution_count": 48,
   "id": "8f712079",
   "metadata": {},
   "outputs": [
    {
     "name": "stdout",
     "output_type": "stream",
     "text": [
      "Enter the Character:A\n",
      "A is a vowel\n"
     ]
    }
   ],
   "source": [
    "ch=input(\"Enter the Character:\")\n",
    "vowel=\"aeiouAEIOU\"\n",
    "if(ch in vowel):\n",
    "    print(\"{} is a vowel\".format(ch))\n",
    "else:\n",
    "     print(\"{} is not a vowel\".format(ch))\n",
    "    \n"
   ]
  },
  {
   "cell_type": "code",
   "execution_count": 51,
   "id": "41164b68",
   "metadata": {},
   "outputs": [
    {
     "name": "stdout",
     "output_type": "stream",
     "text": [
      "5\n"
     ]
    }
   ],
   "source": [
    "a=45567\n",
    "print(len(str(a)))\n"
   ]
  },
  {
   "cell_type": "markdown",
   "id": "870ebc74",
   "metadata": {},
   "source": [
    "**Question: Write a program to test whether the inputted positive integer is automarphic or not**"
   ]
  },
  {
   "cell_type": "markdown",
   "id": "e5de7daa",
   "metadata": {},
   "source": [
    "The first step will be to take the number from the user and calculate its square.\n",
    "We can calculate the number of digits by using the len function.\n",
    "The next thing is to calculate the square of a number.\n",
    "Now, we will make use of the power function and modulus operator to obtain the last digits.\n",
    "Finally, we will compare the last digit with the input number.\n",
    "On executing the program, the desired output will be displayed."
   ]
  },
  {
   "cell_type": "code",
   "execution_count": 53,
   "id": "22739792",
   "metadata": {},
   "outputs": [
    {
     "name": "stdout",
     "output_type": "stream",
     "text": [
      "Enter a number you want to check:23\n",
      "No, 23 is not an automorphic number\n"
     ]
    }
   ],
   "source": [
    "num = int(input(\"Enter a number you want to check:\"))  \n",
    "  \n",
    "#calculating the number of digits  \n",
    "num_of_digits = len(str(num))  \n",
    "  \n",
    "#computing the square of a number  \n",
    "square = num**2  \n",
    "  \n",
    "#obtaining the last digits   \n",
    "last_digits = square%10**num_of_digits\n",
    "  \n",
    "#comparing the digits of number with input  \n",
    "if last_digits == num:  \n",
    "  print(\"Yes, {} is an automorphic number\".format(num))  \n",
    "else:  \n",
    "  print(\"No, {} is not an automorphic number\".format(num))  "
   ]
  },
  {
   "cell_type": "markdown",
   "id": "7494f00a",
   "metadata": {},
   "source": [
    "**Question: Input a number and check whether  the thousands place digit is odd or even**"
   ]
  },
  {
   "cell_type": "code",
   "execution_count": 48,
   "id": "933566cc",
   "metadata": {},
   "outputs": [
    {
     "name": "stdout",
     "output_type": "stream",
     "text": [
      "Enter a number you want to check:24324242\n",
      "4\n"
     ]
    }
   ],
   "source": [
    "num = int(input(\"Enter a number you want to check:\"))  \n",
    "\n",
    "#find number at thousand place\n",
    "th=num%10000\n",
    "th_num=th//1000\n",
    "print(th_num)"
   ]
  },
  {
   "cell_type": "markdown",
   "id": "707973f8",
   "metadata": {
    "raw_mimetype": "text/markdown"
   },
   "source": [
    "**Question: Write a program that checks whether the number is divisible by 16 or not. Program checks the divisibility by 16 considering following rule:\n",
    "If the thousands place digit is even, take the last three digits. If the thousands place digit is odd, add 8 to the last three digits. With this 3-digit multiply hundreds place digit by 4, then add it to the last two digits.\n",
    "If the resulting number is divisible by 16, the given number is divisible by 16 otherwise not.**\n",
    " \n",
    "For Example:\n",
    "If the number is 254176, the thousand digit is 4(Even) so take 176\n",
    "(1 × 4) + 76 = 80 (Divisible by 16)\n",
    "If the number is 693408, the thousand digit is 3(odd) so take 408+8 =416\n",
    " (4 x 4) + 16 = 32 (Divisible by 16)                                                                             "
   ]
  },
  {
   "cell_type": "markdown",
   "id": "9ec9b350",
   "metadata": {},
   "source": [
    "**Question: Given the coordinates (x,y) of a center of a circle and its radius, write a program  which will determine whether a point lies inside the circle, on the circle or outside the circle.**"
   ]
  },
  {
   "cell_type": "markdown",
   "id": "24299c0f",
   "metadata": {},
   "source": [
    "**Write a Python program which accepts a character and checks whether it is in small case or capital case. Also display its reverse case (i.e. if inputted character is ‘a’, program should display ‘A’).**"
   ]
  },
  {
   "cell_type": "code",
   "execution_count": 51,
   "id": "1ffd1f37",
   "metadata": {},
   "outputs": [
    {
     "name": "stdout",
     "output_type": "stream",
     "text": [
      "Please Enter Your Own Character : e\n",
      "The Given Character  e is a Lowercase Alphabet\n"
     ]
    }
   ],
   "source": [
    "ch = input(\"Please Enter Your Own Character : \")\n",
    "\n",
    "if(ch.isupper()):\n",
    "    print(\"The Given Character \", ch, \"is an Uppercase Alphabet\")\n",
    "elif(ch.islower()):\n",
    "    print(\"The Given Character \", ch, \"is a Lowercase Alphabet\")\n",
    "else:\n",
    "    print(\"The Given Character \", ch, \"is Not a Lower or Uppercase Alphabet\")"
   ]
  },
  {
   "cell_type": "markdown",
   "id": "98639adf",
   "metadata": {},
   "source": [
    "# Practice Questions"
   ]
  },
  {
   "cell_type": "markdown",
   "id": "75a454e5",
   "metadata": {},
   "source": [
    "**Accept the percentage from the user and display the  grade according to the following criteria:**\n",
    "\n",
    "    Below 25 —- D\n",
    "    25 to 45 —- C\n",
    "    45 to 50 —- B\n",
    "    50 to 60 –– B+\n",
    "    60 to 80 — A\n",
    "    Above 80 –- A+"
   ]
  },
  {
   "cell_type": "markdown",
   "id": "b8d759a5",
   "metadata": {},
   "source": [
    ". A company decided to give bonus to employee according to following criteria:\n",
    "\n",
    "    Time period of Service                Bonus\n",
    "\n",
    "    More than 10 years             10%\n",
    "\n",
    "    >=6 and <=10                   8%\n",
    "\n",
    "    Less than 6 years              5%\n",
    "\n",
    "    Ask user for their salary and years of service and print the net bonus amount."
   ]
  },
  {
   "cell_type": "markdown",
   "id": "a15fbb1f",
   "metadata": {},
   "source": [
    "Accept the marked price from the user and  calculate the Net amount as(Marked Price –    Discount) to pay according to following criteria:\n",
    "\n",
    "Marked Price\t    Discount\n",
    ">10000          \t20%\n",
    ">7000 and <=10000\t15%\n",
    "<=7000          \t10%"
   ]
  },
  {
   "cell_type": "code",
   "execution_count": null,
   "id": "5903be22",
   "metadata": {},
   "outputs": [],
   "source": []
  }
 ],
 "metadata": {
  "celltoolbar": "Raw Cell Format",
  "kernelspec": {
   "display_name": "Python 3 (ipykernel)",
   "language": "python",
   "name": "python3"
  },
  "language_info": {
   "codemirror_mode": {
    "name": "ipython",
    "version": 3
   },
   "file_extension": ".py",
   "mimetype": "text/x-python",
   "name": "python",
   "nbconvert_exporter": "python",
   "pygments_lexer": "ipython3",
   "version": "3.9.7"
  }
 },
 "nbformat": 4,
 "nbformat_minor": 5
}
