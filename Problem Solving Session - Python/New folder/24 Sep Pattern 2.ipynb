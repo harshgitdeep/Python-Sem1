{
 "cells": [
  {
   "cell_type": "markdown",
   "metadata": {},
   "source": [
    "Code : Inverted Number Pattern\n",
    "Send Feedback\n",
    "Print the following pattern for the given N number of rows.\n",
    "Pattern for N = 4\n",
    "4444\n",
    "333\n",
    "22\n",
    "1\n",
    "Input format :"
   ]
  },
  {
   "cell_type": "code",
   "execution_count": 1,
   "metadata": {},
   "outputs": [
    {
     "name": "stdout",
     "output_type": "stream",
     "text": [
      "4\n",
      "4444\n",
      "333\n",
      "22\n",
      "1\n"
     ]
    }
   ],
   "source": [
    "n=int(input())\n",
    "row=1\n",
    "while row<=n:\n",
    "    col=1\n",
    "    while col<=n-row+1:\n",
    "        print(n-row+1,end=\"\")\n",
    "        col=col+1\n",
    "    print()\n",
    "    row=row+1"
   ]
  },
  {
   "cell_type": "markdown",
   "metadata": {},
   "source": [
    "Code : Mirror Number Pattern\n",
    "Send Feedback\n",
    "Print the following pattern for the given N number of rows.\n",
    "Pattern for N = 4\n",
    "\n",
    "...1\n",
    "..12\n",
    ".123\n",
    "1234\n",
    "The dots represent spaces."
   ]
  },
  {
   "cell_type": "code",
   "execution_count": 2,
   "metadata": {},
   "outputs": [
    {
     "name": "stdout",
     "output_type": "stream",
     "text": [
      "4\n",
      "   1\n",
      "  12\n",
      " 123\n",
      "1234\n"
     ]
    }
   ],
   "source": [
    "n = int(input())\n",
    "row=1\n",
    "while row<=n:\n",
    "    col=1\n",
    "    space=1\n",
    "    while space<=n-row:\n",
    "        print(\" \",end=\"\")\n",
    "        space=space+1\n",
    "    while col<=row:\n",
    "        print(col,end='')\n",
    "        col=col+1\n",
    "    print()\n",
    "    row=row+1"
   ]
  },
  {
   "cell_type": "code",
   "execution_count": 1,
   "metadata": {},
   "outputs": [
    {
     "name": "stdout",
     "output_type": "stream",
     "text": [
      "3\n",
      "  *\n",
      " **\n",
      "***\n"
     ]
    }
   ],
   "source": [
    "N=int(input()) \n",
    "row= 1 ; \n",
    "while row<=N: \n",
    "    col= 1 ; \n",
    "    while col<=N: \n",
    "        if (col<=N-row):\n",
    "            print( \" \" ,end= \"\" ) \n",
    "        else :\n",
    "            print( \"*\" ,end= \"\" ) \n",
    "        col=col+ 1 \n",
    "    row=row+ 1 \n",
    "    print() "
   ]
  },
  {
   "cell_type": "code",
   "execution_count": 5,
   "metadata": {},
   "outputs": [
    {
     "name": "stdout",
     "output_type": "stream",
     "text": [
      "4\n",
      "   *\n",
      "  **\n",
      " ***\n",
      "****\n"
     ]
    }
   ],
   "source": [
    "# other Method Reversed * pattern\n",
    "n = int(input())\n",
    "row=1\n",
    "while row<=n:\n",
    "    col=1\n",
    "    space=1\n",
    "    while space<=n-row:\n",
    "        print(\" \",end=\"\")\n",
    "        space=space+1\n",
    "    while col<=row:\n",
    "        print(\"*\",end='')\n",
    "        col=col+1\n",
    "    print()\n",
    "    row=row+1"
   ]
  },
  {
   "cell_type": "markdown",
   "metadata": {},
   "source": [
    "     1\n",
    "    121\n",
    "   12321\n",
    "  1234321\n",
    "    Isosceles Pattern Triangle"
   ]
  },
  {
   "cell_type": "code",
   "execution_count": 15,
   "metadata": {},
   "outputs": [
    {
     "name": "stdout",
     "output_type": "stream",
     "text": [
      "5\n",
      "    1\n",
      "   12\n",
      "  123\n",
      " 1234\n",
      "12345\n"
     ]
    }
   ],
   "source": [
    "n = int(input())\n",
    "i=1\n",
    "while i<=n:\n",
    "    space=1\n",
    "    while space<=n-i:     # spaces\n",
    "        print(\" \",end=\"\")\n",
    "        space=space+1\n",
    "    p=1 # incresing no. pattern   starts from p=1 and goes p=1, 2 , p=1 , 2, 3, and so on\n",
    "    j=1\n",
    "    while j<=i:\n",
    "        print(p,end=\"\")\n",
    "        j=j+1\n",
    "        p=p+1\n",
    "    print()\n",
    "    i=i+1"
   ]
  },
  {
   "cell_type": "code",
   "execution_count": 14,
   "metadata": {},
   "outputs": [
    {
     "name": "stdout",
     "output_type": "stream",
     "text": [
      "5\n",
      "    1\n",
      "   12\n",
      "  123\n",
      " 1234\n",
      "12345\n"
     ]
    }
   ],
   "source": [
    "n = int(input())\n",
    "row=1\n",
    "while row<=n:\n",
    "    space=1\n",
    "    while space<=n-row:     # spaces\n",
    "        print(\" \",end=\"\")\n",
    "        space=space+1\n",
    "    p=1 # incresing no. pattern   starts from p=1 and goes p=1, 2 , p=1 , 2, 3, and so on\n",
    "    col=1\n",
    "    while col<=row:\n",
    "        print(p,end=\"\")\n",
    "        col=col+1\n",
    "        p=p+1\n",
    "    print()\n",
    "    row=row+1"
   ]
  },
  {
   "cell_type": "code",
   "execution_count": 13,
   "metadata": {},
   "outputs": [
    {
     "name": "stdout",
     "output_type": "stream",
     "text": [
      "5\n",
      "    1\n",
      "   121\n",
      "  12321\n",
      " 1234321\n",
      "123454321\n"
     ]
    }
   ],
   "source": [
    "n = int(input())\n",
    "i=1\n",
    "while i<=n:\n",
    "    space=1\n",
    "    while space<=n-i:     # spaces\n",
    "        print(\" \",end=\"\")\n",
    "        space=space+1\n",
    "    p=1 # incresing no. pattern   starts from p=1 and goes p=1, 2 , p=1 , 2, 3, and so on\n",
    "    j=1\n",
    "    while j<=i:\n",
    "        print(p,end=\"\")\n",
    "        j=j+1\n",
    "        p=p+1\n",
    "    p=i-1  # decresing no. pattern starts from nothing will be printed when row=1, row2 will have 1, row 3 will have 2, 1 etc...\n",
    "    while p>=1:\n",
    "        print(p,end=\"\")\n",
    "        p=p-1\n",
    "    print()\n",
    "    i=i+1\n",
    "    "
   ]
  },
  {
   "cell_type": "code",
   "execution_count": 16,
   "metadata": {},
   "outputs": [
    {
     "name": "stdout",
     "output_type": "stream",
     "text": [
      "5\n",
      "    1\n",
      "   121\n",
      "  12321\n",
      " 1234321\n",
      "123454321\n"
     ]
    }
   ],
   "source": [
    "n = int(input())\n",
    "row=1\n",
    "while row<=n:\n",
    "   # col=1\n",
    "    space=1\n",
    "    while space<=n-row:     # spaces\n",
    "        print(\" \",end=\"\")\n",
    "        space=space+1\n",
    "    p=1 # incresing no. pattern   starts from p=1 and goes p=1, 2 , p=1 , 2, 3, and so on\n",
    "    col=1\n",
    "    while col<=row:\n",
    "        print(p,end=\"\")\n",
    "        col=col+1\n",
    "        p=p+1\n",
    "    p=row-1  # decresing no. pattern starts from nothing will be printed when row=1, row2 will have 1, row 3 will have 2, 1 etc...\n",
    "    while p>=1:\n",
    "        print(p,end=\"\")\n",
    "        p=p-1\n",
    "    print()\n",
    "    row=row+1\n",
    "    \n",
    "        "
   ]
  },
  {
   "cell_type": "markdown",
   "metadata": {},
   "source": [
    "Code : Star Pattern\n",
    "Send Feedback\n",
    "Print the following pattern\n",
    "Pattern for N = 4\n",
    "\n",
    "   *\n",
    "  ***\n",
    " *****\n",
    "*******\n",
    "\n",
    "The dots represent spaces."
   ]
  },
  {
   "cell_type": "code",
   "execution_count": 18,
   "metadata": {},
   "outputs": [
    {
     "name": "stdout",
     "output_type": "stream",
     "text": [
      "4\n",
      "   *\n",
      "  ***\n",
      " *****\n",
      "*******\n"
     ]
    }
   ],
   "source": [
    "n=int(input())\n",
    "row=1\n",
    "while row<=n:\n",
    "    space=1\n",
    "    while space<=n-row:  # add spaces , 1st row 3 , 2nd row  has 2 , 3rd row has 1 , etc means n-rowno. spaces \n",
    "        print(\" \",end=\"\")\n",
    "        space+=1\n",
    "    col=1\n",
    "    while col<=(2*row)-1:  # add Stars , 1st row has 1 star , 2nd row has 3 and 3rd has 5 etc row value 1 will get 1,row val 2 will get 3 star printed.\n",
    "        print(\"*\",end='')\n",
    "        col=col+1\n",
    "    print()                 # due to newline no space required to be added on right side, its automatically done.\n",
    "    row=row+1"
   ]
  },
  {
   "cell_type": "markdown",
   "metadata": {},
   "source": [
    "Code : Triangle of Numbers\n",
    "Send Feedback\n",
    "Print the following pattern for the given number of rows.\n",
    "Pattern for N = 4\n"
   ]
  },
  {
   "cell_type": "code",
   "execution_count": 20,
   "metadata": {},
   "outputs": [
    {
     "name": "stdout",
     "output_type": "stream",
     "text": [
      "5\n",
      "    1\n",
      "   232\n",
      "  34543\n",
      " 4567654\n",
      "567898765\n"
     ]
    }
   ],
   "source": [
    "n=int(input())\n",
    "row=1\n",
    "while row<=n:\n",
    "    space=1\n",
    "    while space<=n-row: # add spaces , 1st row 3 , 2nd row  has 2 , 3rd row has 1 , etc means n-rowno. spaces \n",
    "        print(\" \",end=\"\")\n",
    "        space+=1\n",
    "    p=row               # increasing number pattern\n",
    "    col=1\n",
    "    while (col<=row):\n",
    "        print(p,end='')\n",
    "        p=p+1\n",
    "        col=col+1\n",
    "    col=1        # Decreasing no. pattern, no number  at row 1, 2 at row 2 etc. \n",
    "    p=2*row-2          \n",
    "    while col<=row-1:\n",
    "        print(p,end='')\n",
    "        p=p-1\n",
    "        col=col+1\n",
    "    print()\n",
    "    row=row+1"
   ]
  },
  {
   "cell_type": "code",
   "execution_count": null,
   "metadata": {},
   "outputs": [],
   "source": [
    "Code : Diamond of stars\n",
    "\n",
    "Print the following pattern for the given number of rows.\n",
    "Note: N is always odd.\n",
    "\n",
    "\n",
    "Pattern for N = 5\n",
    "\n"
   ]
  },
  {
   "cell_type": "code",
   "execution_count": 22,
   "metadata": {},
   "outputs": [
    {
     "name": "stdout",
     "output_type": "stream",
     "text": [
      "5\n",
      "  *\n",
      " ***\n",
      "*****\n",
      " ***\n",
      "  *\n"
     ]
    }
   ],
   "source": [
    "n=int(input())\n",
    "fh=(n+1)//2    # first half  5+1//2 = 3\n",
    "sh=n//2        # second half 5//2= 2\n",
    "cr=1           # building first half\n",
    "while cr<=fh:\n",
    "    space=1\n",
    "    while space<=(fh-cr):   # space\n",
    "        print(\" \",end=\"\")\n",
    "        space=space+1\n",
    "    cl=1\n",
    "    while cl<=(2*cr)-1:      # star\n",
    "        print(\"*\",end=\"\")\n",
    "        cl+=1\n",
    "    print()\n",
    "    cr=cr+1\n",
    "cr=sh                    # Building second half\n",
    "while cr>=1:\n",
    "    space=1\n",
    "    while space<=(sh-cr+1):    # Space\n",
    "        print(\" \",end=\"\")\n",
    "        space=space+1\n",
    "    cl=1\n",
    "    while cl<=(2*cr)-1:       # star\n",
    "        print(\"*\",end=\"\")\n",
    "        cl=cl+1\n",
    "    print()\n",
    "    cr=cr-1\n"
   ]
  },
  {
   "cell_type": "code",
   "execution_count": 30,
   "metadata": {},
   "outputs": [
    {
     "name": "stdout",
     "output_type": "stream",
     "text": [
      "5\n",
      "  *\n",
      " ***\n",
      "*****\n"
     ]
    }
   ],
   "source": [
    "n=int(input())\n",
    "fh=(n+1)//2    # first half  5+1//2 = 3\n",
    "sh=n//2        # second half 5//2= 2\n",
    "cr=1           # building first half\n",
    "while cr<=fh:\n",
    "    space=1\n",
    "    while space<=(fh-cr):   # space\n",
    "        print(\" \",end=\"\")\n",
    "        space=space+1\n",
    "    cl=1\n",
    "    while cl<=(2*cr)-1:      # star\n",
    "        print(\"*\",end=\"\")\n",
    "        cl+=1\n",
    "    print()\n",
    "    cr=cr+1"
   ]
  },
  {
   "cell_type": "code",
   "execution_count": 32,
   "metadata": {},
   "outputs": [
    {
     "name": "stdout",
     "output_type": "stream",
     "text": [
      " ***\n",
      "  *\n"
     ]
    }
   ],
   "source": [
    "#n=int(input())\n",
    "#fh=(n+1)//2    # first half  5+1//2 = 3\n",
    "#sh=n//2 \n",
    "\n",
    "cr=sh                    # Building second half\n",
    "while cr>=1:\n",
    "    space=1\n",
    "    while space<=(sh-cr+1):    # Space\n",
    "        print(\" \",end=\"\")\n",
    "        space=space+1\n",
    "    cl=1\n",
    "    while cl<=(2*cr)-1:       # star\n",
    "        print(\"*\",end=\"\")\n",
    "        cl=cl+1\n",
    "    print()\n",
    "    cr=cr-1"
   ]
  },
  {
   "cell_type": "code",
   "execution_count": 34,
   "metadata": {},
   "outputs": [
    {
     "name": "stdout",
     "output_type": "stream",
     "text": [
      "5\n",
      "1        1\n",
      "12      21\n",
      "123    321\n",
      "1234  4321\n",
      "1234554321\n"
     ]
    }
   ],
   "source": [
    "n=int(input())\n",
    "ts=n*2-2    # total spaces if n= 5 , is 8  \n",
    "rw=1\n",
    "while rw<=n:   # print nos. \n",
    "    cl=1\n",
    "    while cl<=rw:          \n",
    "        print(cl,end=\"\")\n",
    "        cl+=1\n",
    "    space=1\n",
    "    while space<=ts:        # print  spaces  \n",
    "        print(\" \",end=\"\")\n",
    "        space+=1\n",
    "    ts=ts-2                # spaces is decreseing by 2 next time\n",
    "    cl=rw\n",
    "    while cl>0:     # print  other end no.s \n",
    "        print(cl,end=\"\")\n",
    "        cl=cl-1\n",
    "    rw=rw+1\n",
    "    print()\n",
    "    "
   ]
  },
  {
   "cell_type": "code",
   "execution_count": 26,
   "metadata": {},
   "outputs": [
    {
     "name": "stdout",
     "output_type": "stream",
     "text": [
      "5\n",
      "*0000*0000*\n",
      "0*000*000*0\n",
      "00*00*00*00\n",
      "000*0*0*000\n",
      "0000***0000\n"
     ]
    }
   ],
   "source": [
    "n=int(input())\n",
    "st=1\n",
    "end=2*n+1\n",
    "mid=n+1\n",
    "rw=1\n",
    "while rw<=n:\n",
    "    cl=1\n",
    "    while cl<=2*n+1:\n",
    "        if cl==st or cl==end or cl==mid:\n",
    "            print (\"*\",end=\"\")\n",
    "        else:\n",
    "            print(\"0\",end=\"\")\n",
    "        cl+=1\n",
    "    st=st+1\n",
    "    end=end-1\n",
    "    rw=rw+1\n",
    "    print()"
   ]
  },
  {
   "cell_type": "code",
   "execution_count": 25,
   "metadata": {},
   "outputs": [
    {
     "name": "stdout",
     "output_type": "stream",
     "text": [
      "5\n",
      "    1\n",
      "   212\n",
      "  32123\n",
      " 4321234\n",
      "543212345\n"
     ]
    }
   ],
   "source": [
    "n=int(input())\n",
    "rw=1\n",
    "while rw<=n:\n",
    "    space=n-rw\n",
    "    while space>0:\n",
    "        print(\" \", end=\"\")\n",
    "        space-=1\n",
    "    value=rw\n",
    "    while value>0:\n",
    "        print (value,end=\"\")\n",
    "        value-=1\n",
    "    value+=2\n",
    "    while value<=rw:\n",
    "        print (value, end=\"\")\n",
    "        value=value+1;\n",
    "    print()\n",
    "    rw+=1\n",
    "    "
   ]
  },
  {
   "cell_type": "code",
   "execution_count": 27,
   "metadata": {},
   "outputs": [
    {
     "name": "stdout",
     "output_type": "stream",
     "text": [
      "5\n",
      "* \n",
      " * * \n",
      "  * * * \n",
      " * * \n",
      "* \n"
     ]
    }
   ],
   "source": [
    "n=int(input())\n",
    "inc=(n+1)//2\n",
    "dec=n-inc\n",
    "i=1\n",
    "while i<=inc:\n",
    "    s=1\n",
    "    while s<=i-1:\n",
    "        print(\" \", end=\"\")\n",
    "        s=s+1\n",
    "    j=1\n",
    "    while j<=i:\n",
    "        print(\"* \",end=\"\")\n",
    "        j=j+1\n",
    "    print()\n",
    "    i=i+1\n",
    "    \n",
    "i=1\n",
    "while i<=dec:\n",
    "    s=1\n",
    "    while s<=dec-i:\n",
    "        print(\" \", end=\"\")\n",
    "        s+=1\n",
    "    j=1\n",
    "    while j<=dec-i+1:\n",
    "        print(\"* \",end=\"\")\n",
    "        j+=1\n",
    "    print()\n",
    "    i+=1"
   ]
  },
  {
   "cell_type": "code",
   "execution_count": null,
   "metadata": {},
   "outputs": [],
   "source": []
  }
 ],
 "metadata": {
  "kernelspec": {
   "display_name": "Python 3",
   "language": "python",
   "name": "python3"
  },
  "language_info": {
   "codemirror_mode": {
    "name": "ipython",
    "version": 3
   },
   "file_extension": ".py",
   "mimetype": "text/x-python",
   "name": "python",
   "nbconvert_exporter": "python",
   "pygments_lexer": "ipython3",
   "version": "3.7.6"
  }
 },
 "nbformat": 4,
 "nbformat_minor": 4
}
