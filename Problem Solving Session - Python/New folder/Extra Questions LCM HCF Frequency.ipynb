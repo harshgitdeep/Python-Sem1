{
 "cells": [
  {
   "cell_type": "code",
   "execution_count": 1,
   "metadata": {},
   "outputs": [
    {
     "name": "stdout",
     "output_type": "stream",
     "text": [
      "1234033\n",
      "0 1\n",
      "1 1\n",
      "2 1\n",
      "3 3\n",
      "4 1\n"
     ]
    }
   ],
   "source": [
    "#Program to find frequency of a digit in a number\n",
    "\n",
    "n = int(input())\n",
    "for i in range(0,10):\n",
    "    count = 0\n",
    "    n1 = n\n",
    "    while n1 > 0:\n",
    "        digit = n1 % 10\n",
    "        if digit == i:\n",
    "            count = count + 1\n",
    "        n1 = n1 // 10\n",
    "    if count > 0:\n",
    "        print(i, count)"
   ]
  },
  {
   "cell_type": "code",
   "execution_count": 2,
   "metadata": {},
   "outputs": [
    {
     "name": "stdout",
     "output_type": "stream",
     "text": [
      "4\n",
      "6\n",
      "2\n"
     ]
    }
   ],
   "source": [
    "#Program to find HCF/GCD of given numbers\n",
    "\n",
    "x = int(input())\n",
    "y = int(input())\n",
    "i = 1\n",
    "while i <= x and i <= y:\n",
    "    if x % i == 0 and y % i == 0:\n",
    "        HCF = i\n",
    "    i += 1\n",
    "print(HCF)"
   ]
  },
  {
   "cell_type": "code",
   "execution_count": 3,
   "metadata": {},
   "outputs": [
    {
     "name": "stdout",
     "output_type": "stream",
     "text": [
      "4\n",
      "6\n",
      "12\n"
     ]
    }
   ],
   "source": [
    "#Program to find LCM of given numbers\n",
    "\n",
    "x = int(input())\n",
    "y = int(input())\n",
    "i = 1\n",
    "while i <= x and i <= y:\n",
    "    if x % i == 0 and y % i == 0:\n",
    "        HCF = i\n",
    "    i += 1\n",
    "LCM = ((x * y) // HCF) #LCM = Product of numbers divided by HCF\n",
    "print(LCM)"
   ]
  },
  {
   "cell_type": "code",
   "execution_count": null,
   "metadata": {},
   "outputs": [],
   "source": []
  }
 ],
 "metadata": {
  "kernelspec": {
   "display_name": "Python 3",
   "language": "python",
   "name": "python3"
  },
  "language_info": {
   "codemirror_mode": {
    "name": "ipython",
    "version": 3
   },
   "file_extension": ".py",
   "mimetype": "text/x-python",
   "name": "python",
   "nbconvert_exporter": "python",
   "pygments_lexer": "ipython3",
   "version": "3.7.6"
  }
 },
 "nbformat": 4,
 "nbformat_minor": 4
}
