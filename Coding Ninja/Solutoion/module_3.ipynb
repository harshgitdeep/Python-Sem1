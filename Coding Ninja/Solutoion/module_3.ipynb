{
 "cells": [
  {
   "cell_type": "markdown",
   "id": "e1857103",
   "metadata": {},
   "source": [
    "# Patterns 1:Module"
   ]
  },
  {
   "cell_type": "markdown",
   "id": "cac03c87",
   "metadata": {},
   "source": [
    "**Code : Square Pattern**\n",
    "\n",
    "Print the following pattern for the given N number of rows.\n",
    "Pattern for N = 4\n",
    "\n",
    "4444<br>\n",
    "4444<br>\n",
    "4444<br>\n",
    "4444<br>"
   ]
  },
  {
   "cell_type": "code",
   "execution_count": null,
   "id": "0e0158bc",
   "metadata": {},
   "outputs": [],
   "source": [
    "N=int(input())\n",
    "i=1\n",
    "while i<=N:\n",
    "    j=1\n",
    "    while j<=N:\n",
    "        print(N,end=\"\")\n",
    "        j=j+1\n",
    "    print()\n",
    "    i=i+1"
   ]
  },
  {
   "cell_type": "markdown",
   "id": "28399092",
   "metadata": {},
   "source": [
    "**Code : Triangular Star Pattern**\n",
    "\n",
    "Print the following pattern for the given N number of rows.\n",
    "Pattern for N = 4\n",
    "<blockquote>\n",
    "*<br>\n",
    "**<br>\n",
    "***<br>\n",
    "****<br>\n",
    "</blockquote>"
   ]
  },
  {
   "cell_type": "code",
   "execution_count": null,
   "id": "b1b4d880",
   "metadata": {},
   "outputs": [],
   "source": [
    "N=int(input())\n",
    "i=1\n",
    "while i<=N:\n",
    "    j=1\n",
    "    while j<=i:\n",
    "        print(\"*\",end=\"\")\n",
    "        j=j+1\n",
    "    print()\n",
    "    i=i+1"
   ]
  },
  {
   "cell_type": "markdown",
   "id": "ced50e98",
   "metadata": {},
   "source": [
    "**Code : Triangle Number Pattern**\n",
    "\n",
    "Print the following pattern for the given N number of rows.\n",
    "Pattern for N = 4<br>\n",
    "1<br>\n",
    "22<br>\n",
    "333<br>\n",
    "4444<br>"
   ]
  },
  {
   "cell_type": "code",
   "execution_count": null,
   "id": "1cea40f6",
   "metadata": {},
   "outputs": [],
   "source": [
    "N=int(input())\n",
    "i=1\n",
    "while i<=N:\n",
    "    j=1\n",
    "    while j<=i:\n",
    "        print(i,end=\"\")\n",
    "        j=j+1\n",
    "    print()\n",
    "    i=i+1"
   ]
  },
  {
   "cell_type": "markdown",
   "id": "d88cbcfb",
   "metadata": {},
   "source": [
    "**Code : Reverse Number Pattern**\n",
    "\n",
    "Print the following pattern for the given N number of rows.\n",
    "Pattern for N = 4<br>\n",
    "1<br>\n",
    "21<br>\n",
    "321<br>\n",
    "4321<br>"
   ]
  },
  {
   "cell_type": "code",
   "execution_count": null,
   "id": "c66e4976",
   "metadata": {},
   "outputs": [],
   "source": [
    "N=int(input())\n",
    "i=1\n",
    "while i<=N:\n",
    "    j=1\n",
    "    while j<=i:\n",
    "        print(i-j+1,end=\"\")\n",
    "        j=j+1\n",
    "    print()\n",
    "    i=i+1"
   ]
  },
  {
   "cell_type": "markdown",
   "id": "184e1221",
   "metadata": {},
   "source": [
    "**Code : Character Pattern**\n",
    "\n",
    "Print the following pattern for the given N number of rows.\n",
    "Pattern for N = 4<br>\n",
    "A<br>\n",
    "BC<br>\n",
    "CDE<br>\n",
    "DEFG<br>"
   ]
  },
  {
   "cell_type": "code",
   "execution_count": null,
   "id": "b1502f7a",
   "metadata": {},
   "outputs": [],
   "source": [
    "N=int(input())\n",
    "i=1\n",
    "while i<=N:\n",
    "    j=1\n",
    "    while j<=i:\n",
    "        print(chr(64+i+j-1),end=\"\")\n",
    "        j=j+1\n",
    "    print()\n",
    "    i=i+1"
   ]
  },
  {
   "cell_type": "markdown",
   "id": "ba42e67f",
   "metadata": {},
   "source": [
    "**Code : Interesting Alphabets**\n",
    "\n",
    "Print the following pattern for the given number of rows.\n",
    "Pattern for N = 5<br>\n",
    "E<br>\n",
    "DE<br>\n",
    "CDE<br>\n",
    "BCDE<br>\n",
    "ABCDE<br>"
   ]
  },
  {
   "cell_type": "code",
   "execution_count": null,
   "id": "3b63cc53",
   "metadata": {},
   "outputs": [],
   "source": [
    "N=int(input())\n",
    "i=1\n",
    "while i<=N:\n",
    "    j=1\n",
    "    z=1\n",
    "    while j<=i:\n",
    "        print(chr(64+N-i+z),end=\"\")\n",
    "        z=z+1\n",
    "        j=j+1\n",
    "    print()\n",
    "    i=i+1"
   ]
  },
  {
   "cell_type": "markdown",
   "id": "9beb110b",
   "metadata": {},
   "source": [
    "**Number Pattern 1**\n",
    "\n",
    "Print the following pattern for the given N number of rows.\n",
    "Pattern for N = 4<br>\n",
    "1<br>\n",
    "11<br>\n",
    "111<br>\n",
    "1111<br>\n",
    "Input format :<br>\n",
    "Integer N (Total no. of rows)"
   ]
  },
  {
   "cell_type": "code",
   "execution_count": null,
   "id": "286f281f",
   "metadata": {},
   "outputs": [],
   "source": [
    "N=int(input())\n",
    "i=1\n",
    "while i<=N:\n",
    "    j=1\n",
    "    while j<=i:\n",
    "        print(1,end=\"\")\n",
    "        j=j+1\n",
    "    print()\n",
    "    i=i+1"
   ]
  },
  {
   "cell_type": "markdown",
   "id": "434768ba",
   "metadata": {},
   "source": [
    "**Number Pattern 2**\n",
    "\n",
    "Print the following pattern for the given N number of rows.\n",
    "Pattern for N = 4<br>\n",
    "1<br>\n",
    "11<br>\n",
    "202<br>\n",
    "3003<br>"
   ]
  },
  {
   "cell_type": "code",
   "execution_count": null,
   "id": "6026518d",
   "metadata": {},
   "outputs": [],
   "source": [
    "N=int(input())\n",
    "i=1\n",
    "while i<=N:\n",
    "    j=1\n",
    "    while j<=i:\n",
    "        if i==1:\n",
    "            print(1,end=\"\")\n",
    "        else:\n",
    "            print(str(i-1)+(i-2)*\"0\",end=\"\")\n",
    "        j=j+i\n",
    "    if i==1:\n",
    "        print()\n",
    "    else:\n",
    "        print(i-1)\n",
    "    i=i+1"
   ]
  },
  {
   "cell_type": "markdown",
   "id": "43075ac7",
   "metadata": {},
   "source": [
    "**Number Pattern 3**\n",
    "\n",
    "Print the following pattern for the given N number of rows.\n",
    "Pattern for N = 4<br>\n",
    "1<br>\n",
    "11<br>\n",
    "121<br>\n",
    "1221<br>"
   ]
  },
  {
   "cell_type": "code",
   "execution_count": null,
   "id": "c5ee90ec",
   "metadata": {},
   "outputs": [],
   "source": [
    "N=int(input())\n",
    "i=1\n",
    "while i<=N:\n",
    "    j=1\n",
    "    while j<=i:\n",
    "        print(\"1\"+(i-2)*\"2\",end=\"\")\n",
    "        j=j+i\n",
    "    if i==1:\n",
    "        print()\n",
    "    else:\n",
    "        print(1)\n",
    "    i=i+1"
   ]
  },
  {
   "cell_type": "markdown",
   "id": "1b1d91f2",
   "metadata": {},
   "source": [
    "**Number Pattern**\n",
    "\n",
    "Print the following pattern for the given N number of rows.\n",
    "Pattern for N = 4<br>\n",
    "1234<br>\n",
    "123<br>\n",
    "12<br>\n",
    "1<br>"
   ]
  },
  {
   "cell_type": "code",
   "execution_count": null,
   "id": "e1c146f0",
   "metadata": {},
   "outputs": [],
   "source": [
    "N=int(input())\n",
    "i=1\n",
    "row=N\n",
    "while i<=row:\n",
    "    j=1\n",
    "    while j<=N:\n",
    "        print(j,end=\"\")\n",
    "        j=j+1\n",
    "    N=N-1\n",
    "    print()\n",
    "    i=i+1"
   ]
  },
  {
   "cell_type": "markdown",
   "id": "e76e9580",
   "metadata": {},
   "source": [
    "**Alpha Pattern**\n",
    "\n",
    "Print the following pattern for the given N number of rows.\n",
    "Pattern for N = 3<br>\n",
    "A<br>\n",
    "BB<br>\n",
    "CCC<br>"
   ]
  },
  {
   "cell_type": "code",
   "execution_count": null,
   "id": "5a2c4921",
   "metadata": {},
   "outputs": [],
   "source": [
    "N=int(input())\n",
    "i=1\n",
    "while i<=N:\n",
    "    j=1\n",
    "    z=1\n",
    "    while j<=i:\n",
    "        print(chr(64+i),end=\"\")\n",
    "        j=j+1\n",
    "    print()\n",
    "    i=i+1"
   ]
  }
 ],
 "metadata": {
  "kernelspec": {
   "display_name": "Python 3 (ipykernel)",
   "language": "python",
   "name": "python3"
  },
  "language_info": {
   "codemirror_mode": {
    "name": "ipython",
    "version": 3
   },
   "file_extension": ".py",
   "mimetype": "text/x-python",
   "name": "python",
   "nbconvert_exporter": "python",
   "pygments_lexer": "ipython3",
   "version": "3.9.7"
  }
 },
 "nbformat": 4,
 "nbformat_minor": 5
}
