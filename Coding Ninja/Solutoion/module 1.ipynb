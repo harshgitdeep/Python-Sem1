{
 "cells": [
  {
   "cell_type": "markdown",
   "id": "408ae948",
   "metadata": {},
   "source": [
    "# Module:Introduction to Python\n"
   ]
  },
  {
   "cell_type": "markdown",
   "id": "96c9ff7a",
   "metadata": {},
   "source": [
    "** 1:Find average Marks**\n",
    "\n",
    "Write a program to input marks of three tests of a student (all integers). Then calculate and print the average of all test marks."
   ]
  },
  {
   "cell_type": "code",
   "execution_count": null,
   "id": "d4806406",
   "metadata": {},
   "outputs": [],
   "source": [
    "a=int(input())\n",
    "b=int(input())\n",
    "c=int(input())\n",
    "sum=a+b+c\n",
    "avg=sum/3\n",
    "print(avg)"
   ]
  },
  {
   "cell_type": "markdown",
   "id": "4c97b19a",
   "metadata": {},
   "source": [
    "**2 :Find X raised to power N**\n",
    "\n",
    "You are given two integers: X and N. You have to calculate X raised to power N and print it."
   ]
  },
  {
   "cell_type": "code",
   "execution_count": null,
   "id": "115ecaf2",
   "metadata": {},
   "outputs": [],
   "source": [
    "x=int(input())\n",
    "n=int(input())\n",
    "print(x**n)"
   ]
  },
  {
   "cell_type": "markdown",
   "id": "9f488510",
   "metadata": {},
   "source": [
    "**3:Arithmetic Progression:** \n",
    "\n",
    "You are given first three entries of an arithmetic progression. You have to calculate the common difference and print it."
   ]
  },
  {
   "cell_type": "code",
   "execution_count": null,
   "id": "01fe1451",
   "metadata": {},
   "outputs": [],
   "source": [
    "a=int(input())\n",
    "b=int(input())\n",
    "c=int(input())\n",
    "print(b-a)"
   ]
  },
  {
   "cell_type": "markdown",
   "id": "c1a48da7",
   "metadata": {},
   "source": [
    "**4:Rectangular Area**\n",
    "\n",
    "You are given a rectangle in a plane. The coordinates of one of its diagonals are provided to you. You have to print the total area of the rectangle.\n",
    "The coordinates of the rectangle are provided as four integral values: x1, y1, x2, y2. It is given that x1 < x2 and y1 < y2."
   ]
  },
  {
   "cell_type": "code",
   "execution_count": null,
   "id": "89d2d30f",
   "metadata": {},
   "outputs": [],
   "source": [
    "x1=int(input())\n",
    "y1=int(input())\n",
    "x2=int(input())\n",
    "y2=int(input())\n",
    "a=x2-x1\n",
    "b=y2-y1\n",
    "print(a*b)"
   ]
  }
 ],
 "metadata": {
  "kernelspec": {
   "display_name": "Python 3 (ipykernel)",
   "language": "python",
   "name": "python3"
  },
  "language_info": {
   "codemirror_mode": {
    "name": "ipython",
    "version": 3
   },
   "file_extension": ".py",
   "mimetype": "text/x-python",
   "name": "python",
   "nbconvert_exporter": "python",
   "pygments_lexer": "ipython3",
   "version": "3.9.7"
  }
 },
 "nbformat": 4,
 "nbformat_minor": 5
}
