{
 "cells": [
  {
   "cell_type": "markdown",
   "id": "155f11c7",
   "metadata": {},
   "source": [
    "# Module2:Conditionals and Loops"
   ]
  },
  {
   "cell_type": "markdown",
   "id": "e76c25dc",
   "metadata": {},
   "source": [
    "**Check number**\n",
    "\n",
    "Given an integer n, find if n is positive, negative or 0.\n",
    "If n is positive, print \"Positive\"\n",
    "If n is negative, print \"Negative\"\n",
    "And if n is equal to 0, print \"Zero\""
   ]
  },
  {
   "cell_type": "code",
   "execution_count": null,
   "id": "09048132",
   "metadata": {},
   "outputs": [],
   "source": [
    "n=int(input())\n",
    "if n>0:\n",
    "    print(\"Positive\")\n",
    "elif n<0:\n",
    "    print(\"Negative\")\n",
    "else:\n",
    "    print(\"Zero\")"
   ]
  },
  {
   "cell_type": "markdown",
   "id": "744e3692",
   "metadata": {},
   "source": [
    "**Sum of n numbers**\n",
    "\n",
    "Given an integer n, find and print the sum of numbers from 1 to n.\n",
    "Note : Use while loop only"
   ]
  },
  {
   "cell_type": "code",
   "execution_count": null,
   "id": "93a630dd",
   "metadata": {},
   "outputs": [],
   "source": [
    "n=int(input())\n",
    "i=0\n",
    "sum=0\n",
    "while i<=n:\n",
    "    sum=sum+i\n",
    "    i=i+1\n",
    "print(sum)"
   ]
  },
  {
   "cell_type": "markdown",
   "id": "e9d87825",
   "metadata": {},
   "source": [
    "**Sum of Even Numbers**\n",
    "\n",
    "Given a number N, print sum of all even numbers from 1 to N."
   ]
  },
  {
   "cell_type": "code",
   "execution_count": null,
   "id": "5c64646a",
   "metadata": {},
   "outputs": [],
   "source": [
    "n=int(input())\n",
    "Sum=0\n",
    "i=1\n",
    "while i<=n:\n",
    "    if i%2==0:\n",
    "        Sum=Sum+i\n",
    "        i=i+1\n",
    "    i=i+1\n",
    "print(Sum)"
   ]
  },
  {
   "cell_type": "markdown",
   "id": "ef32bd0c",
   "metadata": {},
   "source": [
    "**Fahrenheit to Celsius**\n",
    "\n",
    "Given three values - Start Fahrenheit Value (S), End Fahrenheit value (E) and Step Size (W), you need to convert all Fahrenheit values from Start to End at the gap of W, into their corresponding Celsius values and print the table."
   ]
  },
  {
   "cell_type": "code",
   "execution_count": null,
   "id": "1928068a",
   "metadata": {},
   "outputs": [],
   "source": [
    "S=int(input())\n",
    "E=int(input())\n",
    "W=int(input())\n",
    "x=0\n",
    "while S<=E:\n",
    "    x=(S - 32)*(5/9)\n",
    "    #int(x) because we want answer in whole no not decimals\n",
    "    print(S,int(x),sep='\\t')#sep is for seperating S and int(x) with a tab space\n",
    "    S=S+W"
   ]
  },
  {
   "cell_type": "markdown",
   "id": "6e5cfb00",
   "metadata": {},
   "source": [
    "**Calculator**\n",
    "\n",
    "Write a program that performs the tasks of a simple calculator. The program should first take an integer as input and then based on that integer perform the task as given below."
   ]
  },
  {
   "cell_type": "code",
   "execution_count": null,
   "id": "577174dd",
   "metadata": {},
   "outputs": [],
   "source": [
    "while True:\n",
    "    num=int(input())\n",
    "    if num==1:\n",
    "        x=int(input())\n",
    "        y=int(input())\n",
    "        sun=x+y\n",
    "        print(sun)\n",
    "    elif num==2:\n",
    "        x=int(input())\n",
    "        y=int(input())\n",
    "        sun=x-y\n",
    "        print(sun)\n",
    "    elif num==3:\n",
    "        x=int(input())\n",
    "        y=int(input())\n",
    "        sun=x*y\n",
    "        print(sun)\n",
    "    elif num==4:\n",
    "        x=int(input())\n",
    "        y=int(input())\n",
    "        sun=x//y\n",
    "        print(sun)\n",
    "    elif num==5:\n",
    "        x=int(input())\n",
    "        y=int(input())\n",
    "        sun=x%y\n",
    "        print(sun)\n",
    "    elif num==6:\n",
    "        quit()#break and exit() will alse work\n",
    "    else:\n",
    "        print(\"Invalid Operation\")\n"
   ]
  },
  {
   "cell_type": "markdown",
   "id": "3b92d5e8",
   "metadata": {},
   "source": [
    "**Reverse of a number**\n",
    "\n",
    "Write a program to generate the reverse of a given number N. Print the corresponding reverse number.\n",
    "Note : If a number has trailing zeros, then its reverse will not include them. For e.g., reverse of 10400 will be 401 instead of 00401."
   ]
  },
  {
   "cell_type": "code",
   "execution_count": null,
   "id": "af060a96",
   "metadata": {},
   "outputs": [],
   "source": [
    "n=int(input())\n",
    "r=0\n",
    "while n>0:\n",
    "    r=(r*10)+n%10\n",
    "    n=n//10\n",
    "print(r)"
   ]
  },
  {
   "cell_type": "markdown",
   "id": "2138d315",
   "metadata": {},
   "source": [
    "**Palindrome number**\n",
    "\n",
    "Write a program to determine if given number is palindrome or not. Print true if it is palindrome, false otherwise.\n",
    "Palindrome are the numbers for which reverse is exactly same as the original one. For eg. 121"
   ]
  },
  {
   "cell_type": "code",
   "execution_count": null,
   "id": "46404dbf",
   "metadata": {},
   "outputs": [],
   "source": [
    "n=int(input())\n",
    "r=0\n",
    "d=n\n",
    "while n>0:\n",
    "    r=(r*10)+n%10\n",
    "    n=n//10\n",
    "if d==r:\n",
    "    print(\"true\")\n",
    "else:\n",
    "    print(\"false\")"
   ]
  },
  {
   "cell_type": "markdown",
   "id": "92e66e9c",
   "metadata": {},
   "source": [
    "**Sum of even & odd**\n",
    "\n",
    "Write a program to input an integer N and print the sum of all its even digits and sum of all its odd digits separately.\n",
    "Digits mean numbers, not the places! That is, if the given integer is \"13245\", even digits are 2 & 4 and odd digits are 1, 3 & 5."
   ]
  },
  {
   "cell_type": "code",
   "execution_count": null,
   "id": "e2f313e6",
   "metadata": {},
   "outputs": [],
   "source": [
    "N=int(input())\n",
    "sum_e=0\n",
    "sum_o=0\n",
    "while N>0:\n",
    "    x=N%10\n",
    "    if x%2==0:\n",
    "        sum_e=sum_e+x\n",
    "        N=N//10\n",
    "    else:\n",
    "        sum_o=sum_o+x\n",
    "        N=N//10      \n",
    "print(sum_e, sum_o)"
   ]
  },
  {
   "cell_type": "markdown",
   "id": "807dc863",
   "metadata": {},
   "source": [
    "**Nth Fibonacci Number**\n",
    "\n",
    "Nth term of Fibonacci series F(n), where F(n) is a function, is calculated using the following formula -\n",
    "    F(n) = F(n-1) + F(n-2), \n",
    "    Where, F(1) = F(2) = 1"
   ]
  },
  {
   "cell_type": "code",
   "execution_count": null,
   "id": "8da99fb9",
   "metadata": {},
   "outputs": [],
   "source": [
    "N=int(input())\n",
    "l=2\n",
    "y=0\n",
    "z=1\n",
    "if N<=0:\n",
    "    print(\"Incorrect input\")\n",
    "elif N==1:\n",
    "    print(1)\n",
    "elif N==2:\n",
    "    print(1)\n",
    "else:\n",
    "    while l<=N:\n",
    "        x=y+z\n",
    "        y=z\n",
    "        z=x\n",
    "        l=l+1\n",
    "    print(x)"
   ]
  }
 ],
 "metadata": {
  "kernelspec": {
   "display_name": "Python 3 (ipykernel)",
   "language": "python",
   "name": "python3"
  },
  "language_info": {
   "codemirror_mode": {
    "name": "ipython",
    "version": 3
   },
   "file_extension": ".py",
   "mimetype": "text/x-python",
   "name": "python",
   "nbconvert_exporter": "python",
   "pygments_lexer": "ipython3",
   "version": "3.9.7"
  }
 },
 "nbformat": 4,
 "nbformat_minor": 5
}
